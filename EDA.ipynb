{
 "cells": [
  {
   "cell_type": "code",
   "execution_count": 1,
   "metadata": {},
   "outputs": [],
   "source": [
    "import numpy as np\n",
    "import matplotlib.pyplot as plt\n",
    "import pandas as pd"
   ]
  },
  {
   "cell_type": "code",
   "execution_count": 2,
   "metadata": {},
   "outputs": [
    {
     "name": "stderr",
     "output_type": "stream",
     "text": [
      "/var/folders/55/j0v2zlbn1575rkmztsycxlfw0000gn/T/ipykernel_7020/3239213054.py:1: DtypeWarning: Columns (3) have mixed types. Specify dtype option on import or set low_memory=False.\n",
      "  df = pd.read_csv('PPR-2010-2023.csv')\n"
     ]
    }
   ],
   "source": [
    "df = pd.read_csv('PPR-2010-2023.csv')"
   ]
  },
  {
   "cell_type": "code",
   "execution_count": 3,
   "metadata": {},
   "outputs": [
    {
     "data": {
      "text/plain": [
       "array([nan,\n",
       "       'greater than or equal to 38 sq metres and less than 125 sq metres',\n",
       "       'greater than 125 sq metres', 'less than 38 sq metres',\n",
       "       'greater than or equal to 125 sq metres',\n",
       "       'níos mó ná nó cothrom le 38 méadar cearnach agus níos lú ná 125 méadar cearnach',\n",
       "       'n?os l? n? 38 m?adar cearnach'], dtype=object)"
      ]
     },
     "execution_count": 3,
     "metadata": {},
     "output_type": "execute_result"
    }
   ],
   "source": [
    "df['Property Size Description'].unique()"
   ]
  },
  {
   "cell_type": "code",
   "execution_count": 4,
   "metadata": {},
   "outputs": [
    {
     "data": {
      "text/html": [
       "<div>\n",
       "<style scoped>\n",
       "    .dataframe tbody tr th:only-of-type {\n",
       "        vertical-align: middle;\n",
       "    }\n",
       "\n",
       "    .dataframe tbody tr th {\n",
       "        vertical-align: top;\n",
       "    }\n",
       "\n",
       "    .dataframe thead th {\n",
       "        text-align: right;\n",
       "    }\n",
       "</style>\n",
       "<table border=\"1\" class=\"dataframe\">\n",
       "  <thead>\n",
       "    <tr style=\"text-align: right;\">\n",
       "      <th></th>\n",
       "      <th>Date of Sale (dd/mm/yyyy)</th>\n",
       "      <th>Address</th>\n",
       "      <th>County</th>\n",
       "      <th>Eircode</th>\n",
       "      <th>Price ()</th>\n",
       "      <th>Not Full Market Price</th>\n",
       "      <th>VAT Exclusive</th>\n",
       "      <th>Description of Property</th>\n",
       "      <th>Property Size Description</th>\n",
       "    </tr>\n",
       "  </thead>\n",
       "  <tbody>\n",
       "    <tr>\n",
       "      <th>73089</th>\n",
       "      <td>24/05/2013</td>\n",
       "      <td>70 CHARLESTOWN PARK, ST MARGARETS RD, DUBLIN 11</td>\n",
       "      <td>Dublin</td>\n",
       "      <td>D11TX45</td>\n",
       "      <td>216,000.00</td>\n",
       "      <td>No</td>\n",
       "      <td>No</td>\n",
       "      <td>Second-Hand Dwelling house /Apartment</td>\n",
       "      <td>NaN</td>\n",
       "    </tr>\n",
       "    <tr>\n",
       "      <th>74788</th>\n",
       "      <td>17/06/2013</td>\n",
       "      <td>CASTLENUGENT, LISRYAN, CO. LONGFORD</td>\n",
       "      <td>Longford</td>\n",
       "      <td>N39TP27</td>\n",
       "      <td>35,000.00</td>\n",
       "      <td>No</td>\n",
       "      <td>No</td>\n",
       "      <td>Second-Hand Dwelling house /Apartment</td>\n",
       "      <td>NaN</td>\n",
       "    </tr>\n",
       "    <tr>\n",
       "      <th>75132</th>\n",
       "      <td>21/06/2013</td>\n",
       "      <td>15 ROWAN TERRACE, NEWBRIDGE, KILDARE</td>\n",
       "      <td>Kildare</td>\n",
       "      <td>W12FX56</td>\n",
       "      <td>120,000.00</td>\n",
       "      <td>No</td>\n",
       "      <td>No</td>\n",
       "      <td>Second-Hand Dwelling house /Apartment</td>\n",
       "      <td>NaN</td>\n",
       "    </tr>\n",
       "    <tr>\n",
       "      <th>75941</th>\n",
       "      <td>28/06/2013</td>\n",
       "      <td>MONEEN, WILLIAMSTOWN, CO GALWAY</td>\n",
       "      <td>Galway</td>\n",
       "      <td>F45CX85</td>\n",
       "      <td>13,750.00</td>\n",
       "      <td>Yes</td>\n",
       "      <td>No</td>\n",
       "      <td>Second-Hand Dwelling house /Apartment</td>\n",
       "      <td>NaN</td>\n",
       "    </tr>\n",
       "    <tr>\n",
       "      <th>84319</th>\n",
       "      <td>03/10/2013</td>\n",
       "      <td>55 HARRISONS PLACE, CHALEVILLE, CORK</td>\n",
       "      <td>Cork</td>\n",
       "      <td>P56PN22</td>\n",
       "      <td>30,000.00</td>\n",
       "      <td>No</td>\n",
       "      <td>No</td>\n",
       "      <td>Second-Hand Dwelling house /Apartment</td>\n",
       "      <td>NaN</td>\n",
       "    </tr>\n",
       "    <tr>\n",
       "      <th>...</th>\n",
       "      <td>...</td>\n",
       "      <td>...</td>\n",
       "      <td>...</td>\n",
       "      <td>...</td>\n",
       "      <td>...</td>\n",
       "      <td>...</td>\n",
       "      <td>...</td>\n",
       "      <td>...</td>\n",
       "      <td>...</td>\n",
       "    </tr>\n",
       "    <tr>\n",
       "      <th>589017</th>\n",
       "      <td>16/03/2023</td>\n",
       "      <td>CRAGBEG, CLARINA, LIMERICK</td>\n",
       "      <td>Limerick</td>\n",
       "      <td>V94NFT9</td>\n",
       "      <td>76,000.00</td>\n",
       "      <td>Yes</td>\n",
       "      <td>No</td>\n",
       "      <td>Second-Hand Dwelling house /Apartment</td>\n",
       "      <td>NaN</td>\n",
       "    </tr>\n",
       "    <tr>\n",
       "      <th>589019</th>\n",
       "      <td>16/03/2023</td>\n",
       "      <td>NO 1 PRIORY HALL, BALLAGHADERREEN, CO ROSCOMMON</td>\n",
       "      <td>Roscommon</td>\n",
       "      <td>F45Y029</td>\n",
       "      <td>135,000.00</td>\n",
       "      <td>No</td>\n",
       "      <td>No</td>\n",
       "      <td>Second-Hand Dwelling house /Apartment</td>\n",
       "      <td>NaN</td>\n",
       "    </tr>\n",
       "    <tr>\n",
       "      <th>589020</th>\n",
       "      <td>16/03/2023</td>\n",
       "      <td>RAMPARK, JENKINSTOWN, DUNDALK</td>\n",
       "      <td>Louth</td>\n",
       "      <td>A91CD86</td>\n",
       "      <td>305,000.00</td>\n",
       "      <td>No</td>\n",
       "      <td>No</td>\n",
       "      <td>Second-Hand Dwelling house /Apartment</td>\n",
       "      <td>NaN</td>\n",
       "    </tr>\n",
       "    <tr>\n",
       "      <th>589021</th>\n",
       "      <td>16/03/2023</td>\n",
       "      <td>ROSSNAPARTEN, LOW ROAD SHROOVE, GREENCASTLE</td>\n",
       "      <td>Donegal</td>\n",
       "      <td>F93NVW5</td>\n",
       "      <td>430,000.00</td>\n",
       "      <td>No</td>\n",
       "      <td>No</td>\n",
       "      <td>Second-Hand Dwelling house /Apartment</td>\n",
       "      <td>NaN</td>\n",
       "    </tr>\n",
       "    <tr>\n",
       "      <th>589023</th>\n",
       "      <td>16/03/2023</td>\n",
       "      <td>TOSCANA, BALDWINSTOWN, WEXFORD</td>\n",
       "      <td>Wexford</td>\n",
       "      <td>Y35HH92</td>\n",
       "      <td>325,000.00</td>\n",
       "      <td>No</td>\n",
       "      <td>No</td>\n",
       "      <td>Second-Hand Dwelling house /Apartment</td>\n",
       "      <td>NaN</td>\n",
       "    </tr>\n",
       "  </tbody>\n",
       "</table>\n",
       "<p>85967 rows × 9 columns</p>\n",
       "</div>"
      ],
      "text/plain": [
       "       Date of Sale (dd/mm/yyyy)  \\\n",
       "73089                 24/05/2013   \n",
       "74788                 17/06/2013   \n",
       "75132                 21/06/2013   \n",
       "75941                 28/06/2013   \n",
       "84319                 03/10/2013   \n",
       "...                          ...   \n",
       "589017                16/03/2023   \n",
       "589019                16/03/2023   \n",
       "589020                16/03/2023   \n",
       "589021                16/03/2023   \n",
       "589023                16/03/2023   \n",
       "\n",
       "                                                Address     County  Eircode  \\\n",
       "73089   70 CHARLESTOWN PARK, ST MARGARETS RD, DUBLIN 11     Dublin  D11TX45   \n",
       "74788               CASTLENUGENT, LISRYAN, CO. LONGFORD   Longford  N39TP27   \n",
       "75132              15 ROWAN TERRACE, NEWBRIDGE, KILDARE    Kildare  W12FX56   \n",
       "75941                   MONEEN, WILLIAMSTOWN, CO GALWAY     Galway  F45CX85   \n",
       "84319              55 HARRISONS PLACE, CHALEVILLE, CORK       Cork  P56PN22   \n",
       "...                                                 ...        ...      ...   \n",
       "589017                       CRAGBEG, CLARINA, LIMERICK   Limerick  V94NFT9   \n",
       "589019  NO 1 PRIORY HALL, BALLAGHADERREEN, CO ROSCOMMON  Roscommon  F45Y029   \n",
       "589020                    RAMPARK, JENKINSTOWN, DUNDALK      Louth  A91CD86   \n",
       "589021      ROSSNAPARTEN, LOW ROAD SHROOVE, GREENCASTLE    Donegal  F93NVW5   \n",
       "589023                   TOSCANA, BALDWINSTOWN, WEXFORD    Wexford  Y35HH92   \n",
       "\n",
       "          Price () Not Full Market Price VAT Exclusive  \\\n",
       "73089   216,000.00                    No            No   \n",
       "74788    35,000.00                    No            No   \n",
       "75132   120,000.00                    No            No   \n",
       "75941    13,750.00                   Yes            No   \n",
       "84319    30,000.00                    No            No   \n",
       "...             ...                   ...           ...   \n",
       "589017   76,000.00                   Yes            No   \n",
       "589019  135,000.00                    No            No   \n",
       "589020  305,000.00                    No            No   \n",
       "589021  430,000.00                    No            No   \n",
       "589023  325,000.00                    No            No   \n",
       "\n",
       "                      Description of Property Property Size Description  \n",
       "73089   Second-Hand Dwelling house /Apartment                       NaN  \n",
       "74788   Second-Hand Dwelling house /Apartment                       NaN  \n",
       "75132   Second-Hand Dwelling house /Apartment                       NaN  \n",
       "75941   Second-Hand Dwelling house /Apartment                       NaN  \n",
       "84319   Second-Hand Dwelling house /Apartment                       NaN  \n",
       "...                                       ...                       ...  \n",
       "589017  Second-Hand Dwelling house /Apartment                       NaN  \n",
       "589019  Second-Hand Dwelling house /Apartment                       NaN  \n",
       "589020  Second-Hand Dwelling house /Apartment                       NaN  \n",
       "589021  Second-Hand Dwelling house /Apartment                       NaN  \n",
       "589023  Second-Hand Dwelling house /Apartment                       NaN  \n",
       "\n",
       "[85967 rows x 9 columns]"
      ]
     },
     "execution_count": 4,
     "metadata": {},
     "output_type": "execute_result"
    }
   ],
   "source": [
    "df[df['Eircode'].notna()]"
   ]
  },
  {
   "cell_type": "code",
   "execution_count": 5,
   "metadata": {},
   "outputs": [
    {
     "data": {
      "text/plain": [
       "array(['Second-Hand Dwelling house /Apartment',\n",
       "       'New Dwelling house /Apartment', 'Teach/Árasán Cónaithe Atháimhe',\n",
       "       'Teach/Árasán Cónaithe Nua', 'Teach/?ras?n C?naithe Nua'],\n",
       "      dtype=object)"
      ]
     },
     "execution_count": 5,
     "metadata": {},
     "output_type": "execute_result"
    }
   ],
   "source": [
    "df['Description of Property'].unique()"
   ]
  },
  {
   "cell_type": "code",
   "execution_count": 6,
   "metadata": {},
   "outputs": [
    {
     "data": {
      "text/plain": [
       "array(['Dublin', 'Laois', 'Meath', 'Kilkenny', 'Limerick', 'Carlow',\n",
       "       'Cork', 'Clare', 'Sligo', 'Cavan', 'Tipperary', 'Wicklow',\n",
       "       'Roscommon', 'Wexford', 'Mayo', 'Donegal', 'Longford', 'Galway',\n",
       "       'Offaly', 'Kildare', 'Waterford', 'Louth', 'Kerry', 'Westmeath',\n",
       "       'Monaghan', 'Leitrim'], dtype=object)"
      ]
     },
     "execution_count": 6,
     "metadata": {},
     "output_type": "execute_result"
    }
   ],
   "source": [
    "county = df['County'].unique()\n",
    "county"
   ]
  },
  {
   "cell_type": "code",
   "execution_count": 7,
   "metadata": {},
   "outputs": [
    {
     "data": {
      "text/plain": [
       "Index(['Date of Sale (dd/mm/yyyy)', 'Address', 'County', 'Eircode',\n",
       "       'Price ()', 'Not Full Market Price', 'VAT Exclusive',\n",
       "       'Description of Property', 'Property Size Description'],\n",
       "      dtype='object')"
      ]
     },
     "execution_count": 7,
     "metadata": {},
     "output_type": "execute_result"
    }
   ],
   "source": [
    "df.columns"
   ]
  },
  {
   "cell_type": "code",
   "execution_count": 8,
   "metadata": {},
   "outputs": [],
   "source": [
    "l = []\n",
    "for column in df.columns:\n",
    "    l.append(len(df[df[column].isna()]))"
   ]
  },
  {
   "cell_type": "code",
   "execution_count": 9,
   "metadata": {},
   "outputs": [
    {
     "data": {
      "text/plain": [
       "[0, 0, 0, 503057, 0, 0, 0, 0, 536210]"
      ]
     },
     "execution_count": 9,
     "metadata": {},
     "output_type": "execute_result"
    }
   ],
   "source": [
    "l"
   ]
  },
  {
   "attachments": {},
   "cell_type": "markdown",
   "metadata": {},
   "source": [
    "$\\therefore$ Eircode and Property Size Descriptions have a lot of NA values so we will ignore those 2 columns"
   ]
  },
  {
   "cell_type": "code",
   "execution_count": 10,
   "metadata": {},
   "outputs": [
    {
     "name": "stdout",
     "output_type": "stream",
     "text": [
      "<class 'pandas.core.frame.DataFrame'>\n",
      "RangeIndex: 589024 entries, 0 to 589023\n",
      "Data columns (total 9 columns):\n",
      " #   Column                     Non-Null Count   Dtype \n",
      "---  ------                     --------------   ----- \n",
      " 0   Date of Sale (dd/mm/yyyy)  589024 non-null  object\n",
      " 1   Address                    589024 non-null  object\n",
      " 2   County                     589024 non-null  object\n",
      " 3   Eircode                    85967 non-null   object\n",
      " 4   Price ()                  589024 non-null  object\n",
      " 5   Not Full Market Price      589024 non-null  object\n",
      " 6   VAT Exclusive              589024 non-null  object\n",
      " 7   Description of Property    589024 non-null  object\n",
      " 8   Property Size Description  52814 non-null   object\n",
      "dtypes: object(9)\n",
      "memory usage: 40.4+ MB\n"
     ]
    }
   ],
   "source": [
    "df.info()"
   ]
  },
  {
   "attachments": {},
   "cell_type": "markdown",
   "metadata": {},
   "source": [
    "for every row in address\n",
    "split string and choose the last index\n",
    "if \" \" in last index\n",
    "split(\" \")[-1]\n",
    "if the last index == county\n",
    "delete the last index\n",
    "else\n",
    "pass\n",
    "index[-2] is the town name"
   ]
  },
  {
   "cell_type": "code",
   "execution_count": 11,
   "metadata": {},
   "outputs": [],
   "source": [
    "df = df.drop('Property Size Description', axis=1)"
   ]
  },
  {
   "cell_type": "code",
   "execution_count": 12,
   "metadata": {},
   "outputs": [],
   "source": [
    "df = df.drop('Eircode',axis=1)"
   ]
  },
  {
   "cell_type": "code",
   "execution_count": 13,
   "metadata": {},
   "outputs": [
    {
     "name": "stdout",
     "output_type": "stream",
     "text": [
      "<class 'pandas.core.frame.DataFrame'>\n",
      "RangeIndex: 589024 entries, 0 to 589023\n",
      "Data columns (total 7 columns):\n",
      " #   Column                     Non-Null Count   Dtype \n",
      "---  ------                     --------------   ----- \n",
      " 0   Date of Sale (dd/mm/yyyy)  589024 non-null  object\n",
      " 1   Address                    589024 non-null  object\n",
      " 2   County                     589024 non-null  object\n",
      " 3   Price ()                  589024 non-null  object\n",
      " 4   Not Full Market Price      589024 non-null  object\n",
      " 5   VAT Exclusive              589024 non-null  object\n",
      " 6   Description of Property    589024 non-null  object\n",
      "dtypes: object(7)\n",
      "memory usage: 31.5+ MB\n"
     ]
    }
   ],
   "source": [
    "df.info()"
   ]
  },
  {
   "cell_type": "code",
   "execution_count": 14,
   "metadata": {},
   "outputs": [],
   "source": [
    "def clean_price(string):\n",
    "    string = string.replace(\",\",\"\")\n",
    "    return float(string[1:])\n",
    "Price = df['Price ()'].apply(clean_price)"
   ]
  },
  {
   "cell_type": "code",
   "execution_count": 15,
   "metadata": {},
   "outputs": [],
   "source": [
    "df = df.drop('Price ()',axis=1)"
   ]
  },
  {
   "cell_type": "code",
   "execution_count": 16,
   "metadata": {},
   "outputs": [],
   "source": [
    "df['Price'] = Price"
   ]
  },
  {
   "cell_type": "code",
   "execution_count": 17,
   "metadata": {},
   "outputs": [
    {
     "name": "stdout",
     "output_type": "stream",
     "text": [
      "<class 'pandas.core.frame.DataFrame'>\n",
      "RangeIndex: 589024 entries, 0 to 589023\n",
      "Data columns (total 7 columns):\n",
      " #   Column                     Non-Null Count   Dtype  \n",
      "---  ------                     --------------   -----  \n",
      " 0   Date of Sale (dd/mm/yyyy)  589024 non-null  object \n",
      " 1   Address                    589024 non-null  object \n",
      " 2   County                     589024 non-null  object \n",
      " 3   Not Full Market Price      589024 non-null  object \n",
      " 4   VAT Exclusive              589024 non-null  object \n",
      " 5   Description of Property    589024 non-null  object \n",
      " 6   Price                      589024 non-null  float64\n",
      "dtypes: float64(1), object(6)\n",
      "memory usage: 31.5+ MB\n"
     ]
    }
   ],
   "source": [
    "df.info()"
   ]
  },
  {
   "cell_type": "code",
   "execution_count": 18,
   "metadata": {},
   "outputs": [
    {
     "data": {
      "text/plain": [
       "array([494042,  94982])"
      ]
     },
     "execution_count": 18,
     "metadata": {},
     "output_type": "execute_result"
    }
   ],
   "source": [
    "df[\"VAT Exclusive\"].value_counts().unique()"
   ]
  },
  {
   "cell_type": "code",
   "execution_count": 19,
   "metadata": {},
   "outputs": [],
   "source": [
    "df['Not Full Market Price'] = df['Not Full Market Price'].apply(lambda x: 0 if x == \"No\" else 1)"
   ]
  },
  {
   "cell_type": "code",
   "execution_count": 20,
   "metadata": {},
   "outputs": [
    {
     "data": {
      "text/html": [
       "<div>\n",
       "<style scoped>\n",
       "    .dataframe tbody tr th:only-of-type {\n",
       "        vertical-align: middle;\n",
       "    }\n",
       "\n",
       "    .dataframe tbody tr th {\n",
       "        vertical-align: top;\n",
       "    }\n",
       "\n",
       "    .dataframe thead th {\n",
       "        text-align: right;\n",
       "    }\n",
       "</style>\n",
       "<table border=\"1\" class=\"dataframe\">\n",
       "  <thead>\n",
       "    <tr style=\"text-align: right;\">\n",
       "      <th></th>\n",
       "      <th>Date of Sale (dd/mm/yyyy)</th>\n",
       "      <th>Address</th>\n",
       "      <th>County</th>\n",
       "      <th>Not Full Market Price</th>\n",
       "      <th>VAT Exclusive</th>\n",
       "      <th>Description of Property</th>\n",
       "      <th>Price</th>\n",
       "    </tr>\n",
       "  </thead>\n",
       "  <tbody>\n",
       "    <tr>\n",
       "      <th>0</th>\n",
       "      <td>01/01/2010</td>\n",
       "      <td>5 Braemor Drive, Churchtown, Co.Dublin</td>\n",
       "      <td>Dublin</td>\n",
       "      <td>0</td>\n",
       "      <td>No</td>\n",
       "      <td>Second-Hand Dwelling house /Apartment</td>\n",
       "      <td>343000.0</td>\n",
       "    </tr>\n",
       "    <tr>\n",
       "      <th>1</th>\n",
       "      <td>03/01/2010</td>\n",
       "      <td>134 Ashewood Walk, Summerhill Lane, Portlaoise</td>\n",
       "      <td>Laois</td>\n",
       "      <td>0</td>\n",
       "      <td>Yes</td>\n",
       "      <td>New Dwelling house /Apartment</td>\n",
       "      <td>185000.0</td>\n",
       "    </tr>\n",
       "    <tr>\n",
       "      <th>2</th>\n",
       "      <td>04/01/2010</td>\n",
       "      <td>1 Meadow Avenue, Dundrum, Dublin 14</td>\n",
       "      <td>Dublin</td>\n",
       "      <td>0</td>\n",
       "      <td>No</td>\n",
       "      <td>Second-Hand Dwelling house /Apartment</td>\n",
       "      <td>438500.0</td>\n",
       "    </tr>\n",
       "    <tr>\n",
       "      <th>3</th>\n",
       "      <td>04/01/2010</td>\n",
       "      <td>1 The Haven, Mornington</td>\n",
       "      <td>Meath</td>\n",
       "      <td>0</td>\n",
       "      <td>No</td>\n",
       "      <td>Second-Hand Dwelling house /Apartment</td>\n",
       "      <td>400000.0</td>\n",
       "    </tr>\n",
       "    <tr>\n",
       "      <th>4</th>\n",
       "      <td>04/01/2010</td>\n",
       "      <td>11 Melville Heights, Kilkenny</td>\n",
       "      <td>Kilkenny</td>\n",
       "      <td>0</td>\n",
       "      <td>No</td>\n",
       "      <td>Second-Hand Dwelling house /Apartment</td>\n",
       "      <td>160000.0</td>\n",
       "    </tr>\n",
       "  </tbody>\n",
       "</table>\n",
       "</div>"
      ],
      "text/plain": [
       "  Date of Sale (dd/mm/yyyy)                                         Address  \\\n",
       "0                01/01/2010          5 Braemor Drive, Churchtown, Co.Dublin   \n",
       "1                03/01/2010  134 Ashewood Walk, Summerhill Lane, Portlaoise   \n",
       "2                04/01/2010             1 Meadow Avenue, Dundrum, Dublin 14   \n",
       "3                04/01/2010                         1 The Haven, Mornington   \n",
       "4                04/01/2010                   11 Melville Heights, Kilkenny   \n",
       "\n",
       "     County  Not Full Market Price VAT Exclusive  \\\n",
       "0    Dublin                      0            No   \n",
       "1     Laois                      0           Yes   \n",
       "2    Dublin                      0            No   \n",
       "3     Meath                      0            No   \n",
       "4  Kilkenny                      0            No   \n",
       "\n",
       "                 Description of Property     Price  \n",
       "0  Second-Hand Dwelling house /Apartment  343000.0  \n",
       "1          New Dwelling house /Apartment  185000.0  \n",
       "2  Second-Hand Dwelling house /Apartment  438500.0  \n",
       "3  Second-Hand Dwelling house /Apartment  400000.0  \n",
       "4  Second-Hand Dwelling house /Apartment  160000.0  "
      ]
     },
     "execution_count": 20,
     "metadata": {},
     "output_type": "execute_result"
    }
   ],
   "source": [
    "df.head()"
   ]
  },
  {
   "cell_type": "code",
   "execution_count": 21,
   "metadata": {},
   "outputs": [],
   "source": [
    "df['VAT Exclusive'] = df['VAT Exclusive'].apply(lambda x: 0 if x == \"No\" else 1)"
   ]
  },
  {
   "cell_type": "code",
   "execution_count": 22,
   "metadata": {},
   "outputs": [
    {
     "data": {
      "text/html": [
       "<div>\n",
       "<style scoped>\n",
       "    .dataframe tbody tr th:only-of-type {\n",
       "        vertical-align: middle;\n",
       "    }\n",
       "\n",
       "    .dataframe tbody tr th {\n",
       "        vertical-align: top;\n",
       "    }\n",
       "\n",
       "    .dataframe thead th {\n",
       "        text-align: right;\n",
       "    }\n",
       "</style>\n",
       "<table border=\"1\" class=\"dataframe\">\n",
       "  <thead>\n",
       "    <tr style=\"text-align: right;\">\n",
       "      <th></th>\n",
       "      <th>Date of Sale (dd/mm/yyyy)</th>\n",
       "      <th>Address</th>\n",
       "      <th>County</th>\n",
       "      <th>Not Full Market Price</th>\n",
       "      <th>VAT Exclusive</th>\n",
       "      <th>Description of Property</th>\n",
       "      <th>Price</th>\n",
       "    </tr>\n",
       "  </thead>\n",
       "  <tbody>\n",
       "    <tr>\n",
       "      <th>0</th>\n",
       "      <td>01/01/2010</td>\n",
       "      <td>5 Braemor Drive, Churchtown, Co.Dublin</td>\n",
       "      <td>Dublin</td>\n",
       "      <td>0</td>\n",
       "      <td>0</td>\n",
       "      <td>Second-Hand Dwelling house /Apartment</td>\n",
       "      <td>343000.0</td>\n",
       "    </tr>\n",
       "    <tr>\n",
       "      <th>1</th>\n",
       "      <td>03/01/2010</td>\n",
       "      <td>134 Ashewood Walk, Summerhill Lane, Portlaoise</td>\n",
       "      <td>Laois</td>\n",
       "      <td>0</td>\n",
       "      <td>1</td>\n",
       "      <td>New Dwelling house /Apartment</td>\n",
       "      <td>185000.0</td>\n",
       "    </tr>\n",
       "    <tr>\n",
       "      <th>2</th>\n",
       "      <td>04/01/2010</td>\n",
       "      <td>1 Meadow Avenue, Dundrum, Dublin 14</td>\n",
       "      <td>Dublin</td>\n",
       "      <td>0</td>\n",
       "      <td>0</td>\n",
       "      <td>Second-Hand Dwelling house /Apartment</td>\n",
       "      <td>438500.0</td>\n",
       "    </tr>\n",
       "    <tr>\n",
       "      <th>3</th>\n",
       "      <td>04/01/2010</td>\n",
       "      <td>1 The Haven, Mornington</td>\n",
       "      <td>Meath</td>\n",
       "      <td>0</td>\n",
       "      <td>0</td>\n",
       "      <td>Second-Hand Dwelling house /Apartment</td>\n",
       "      <td>400000.0</td>\n",
       "    </tr>\n",
       "    <tr>\n",
       "      <th>4</th>\n",
       "      <td>04/01/2010</td>\n",
       "      <td>11 Melville Heights, Kilkenny</td>\n",
       "      <td>Kilkenny</td>\n",
       "      <td>0</td>\n",
       "      <td>0</td>\n",
       "      <td>Second-Hand Dwelling house /Apartment</td>\n",
       "      <td>160000.0</td>\n",
       "    </tr>\n",
       "  </tbody>\n",
       "</table>\n",
       "</div>"
      ],
      "text/plain": [
       "  Date of Sale (dd/mm/yyyy)                                         Address  \\\n",
       "0                01/01/2010          5 Braemor Drive, Churchtown, Co.Dublin   \n",
       "1                03/01/2010  134 Ashewood Walk, Summerhill Lane, Portlaoise   \n",
       "2                04/01/2010             1 Meadow Avenue, Dundrum, Dublin 14   \n",
       "3                04/01/2010                         1 The Haven, Mornington   \n",
       "4                04/01/2010                   11 Melville Heights, Kilkenny   \n",
       "\n",
       "     County  Not Full Market Price  VAT Exclusive  \\\n",
       "0    Dublin                      0              0   \n",
       "1     Laois                      0              1   \n",
       "2    Dublin                      0              0   \n",
       "3     Meath                      0              0   \n",
       "4  Kilkenny                      0              0   \n",
       "\n",
       "                 Description of Property     Price  \n",
       "0  Second-Hand Dwelling house /Apartment  343000.0  \n",
       "1          New Dwelling house /Apartment  185000.0  \n",
       "2  Second-Hand Dwelling house /Apartment  438500.0  \n",
       "3  Second-Hand Dwelling house /Apartment  400000.0  \n",
       "4  Second-Hand Dwelling house /Apartment  160000.0  "
      ]
     },
     "execution_count": 22,
     "metadata": {},
     "output_type": "execute_result"
    }
   ],
   "source": [
    "df.head()"
   ]
  },
  {
   "cell_type": "code",
   "execution_count": 23,
   "metadata": {},
   "outputs": [],
   "source": [
    "df['Date'] = df['Date of Sale (dd/mm/yyyy)']"
   ]
  },
  {
   "cell_type": "code",
   "execution_count": 24,
   "metadata": {},
   "outputs": [],
   "source": [
    "df = df.drop('Date of Sale (dd/mm/yyyy)',axis=1)"
   ]
  },
  {
   "cell_type": "code",
   "execution_count": 25,
   "metadata": {},
   "outputs": [
    {
     "name": "stdout",
     "output_type": "stream",
     "text": [
      "<class 'pandas.core.frame.DataFrame'>\n",
      "RangeIndex: 589024 entries, 0 to 589023\n",
      "Data columns (total 7 columns):\n",
      " #   Column                   Non-Null Count   Dtype  \n",
      "---  ------                   --------------   -----  \n",
      " 0   Address                  589024 non-null  object \n",
      " 1   County                   589024 non-null  object \n",
      " 2   Not Full Market Price    589024 non-null  int64  \n",
      " 3   VAT Exclusive            589024 non-null  int64  \n",
      " 4   Description of Property  589024 non-null  object \n",
      " 5   Price                    589024 non-null  float64\n",
      " 6   Date                     589024 non-null  object \n",
      "dtypes: float64(1), int64(2), object(4)\n",
      "memory usage: 31.5+ MB\n"
     ]
    }
   ],
   "source": [
    "df.info()"
   ]
  },
  {
   "cell_type": "code",
   "execution_count": 26,
   "metadata": {},
   "outputs": [
    {
     "name": "stderr",
     "output_type": "stream",
     "text": [
      "/var/folders/55/j0v2zlbn1575rkmztsycxlfw0000gn/T/ipykernel_7020/2394721818.py:1: UserWarning: Parsing dates in DD/MM/YYYY format when dayfirst=False (the default) was specified. This may lead to inconsistently parsed dates! Specify a format to ensure consistent parsing.\n",
      "  df['Date'] = pd.to_datetime(df['Date'])\n"
     ]
    }
   ],
   "source": [
    "df['Date'] = pd.to_datetime(df['Date'])"
   ]
  },
  {
   "cell_type": "code",
   "execution_count": 27,
   "metadata": {},
   "outputs": [
    {
     "name": "stdout",
     "output_type": "stream",
     "text": [
      "<class 'pandas.core.frame.DataFrame'>\n",
      "RangeIndex: 589024 entries, 0 to 589023\n",
      "Data columns (total 7 columns):\n",
      " #   Column                   Non-Null Count   Dtype         \n",
      "---  ------                   --------------   -----         \n",
      " 0   Address                  589024 non-null  object        \n",
      " 1   County                   589024 non-null  object        \n",
      " 2   Not Full Market Price    589024 non-null  int64         \n",
      " 3   VAT Exclusive            589024 non-null  int64         \n",
      " 4   Description of Property  589024 non-null  object        \n",
      " 5   Price                    589024 non-null  float64       \n",
      " 6   Date                     589024 non-null  datetime64[ns]\n",
      "dtypes: datetime64[ns](1), float64(1), int64(2), object(3)\n",
      "memory usage: 31.5+ MB\n"
     ]
    }
   ],
   "source": [
    "df.info()"
   ]
  },
  {
   "cell_type": "code",
   "execution_count": 28,
   "metadata": {},
   "outputs": [
    {
     "data": {
      "text/plain": [
       "array(['Second-Hand Dwelling house /Apartment',\n",
       "       'New Dwelling house /Apartment', 'Teach/Árasán Cónaithe Atháimhe',\n",
       "       'Teach/Árasán Cónaithe Nua', 'Teach/?ras?n C?naithe Nua'],\n",
       "      dtype=object)"
      ]
     },
     "execution_count": 28,
     "metadata": {},
     "output_type": "execute_result"
    }
   ],
   "source": [
    "df['Description of Property'].unique()"
   ]
  },
  {
   "cell_type": "markdown",
   "metadata": {},
   "source": [
    "'Teach/Árasán Cónaithe Atháimhe' = 'Second hand House/Apartment'  \n",
    "\n",
    "'Teach/Árasán Cónaithe Nua' = 'New House/Apartment'  \n",
    "\n",
    "'Teach/?ras?n C?naithe Nua' = 'New House/Apartment'  \n",
    "\n",
    "'New Dwelling house /Apartment' = 'New House/Apartment'  \n",
    "\n",
    "'Second-Hand Dwelling house /Apartment' = 'Second Hand House/Apartment'"
   ]
  },
  {
   "cell_type": "code",
   "execution_count": 29,
   "metadata": {},
   "outputs": [],
   "source": [
    "replacement_dict = {\n",
    "    'Second-Hand Dwelling house /Apartment':'Second-Hand',\n",
    "    'New Dwelling house /Apartment':'New',\n",
    "    'Teach/Árasán Cónaithe Atháimhe':'Second-Hand',\n",
    "    'Teach/Árasán Cónaithe Nua':'New',\n",
    "    'Teach/?ras?n C?naithe Nua':'New'\n",
    "}"
   ]
  },
  {
   "cell_type": "code",
   "execution_count": 30,
   "metadata": {},
   "outputs": [],
   "source": [
    "df['Description of Property'] = df['Description of Property'].replace(replacement_dict)"
   ]
  },
  {
   "cell_type": "code",
   "execution_count": 31,
   "metadata": {},
   "outputs": [
    {
     "data": {
      "text/html": [
       "<div>\n",
       "<style scoped>\n",
       "    .dataframe tbody tr th:only-of-type {\n",
       "        vertical-align: middle;\n",
       "    }\n",
       "\n",
       "    .dataframe tbody tr th {\n",
       "        vertical-align: top;\n",
       "    }\n",
       "\n",
       "    .dataframe thead th {\n",
       "        text-align: right;\n",
       "    }\n",
       "</style>\n",
       "<table border=\"1\" class=\"dataframe\">\n",
       "  <thead>\n",
       "    <tr style=\"text-align: right;\">\n",
       "      <th></th>\n",
       "      <th>Address</th>\n",
       "      <th>County</th>\n",
       "      <th>Not Full Market Price</th>\n",
       "      <th>VAT Exclusive</th>\n",
       "      <th>Description of Property</th>\n",
       "      <th>Price</th>\n",
       "      <th>Date</th>\n",
       "    </tr>\n",
       "  </thead>\n",
       "  <tbody>\n",
       "    <tr>\n",
       "      <th>0</th>\n",
       "      <td>5 Braemor Drive, Churchtown, Co.Dublin</td>\n",
       "      <td>Dublin</td>\n",
       "      <td>0</td>\n",
       "      <td>0</td>\n",
       "      <td>Second-Hand</td>\n",
       "      <td>343000.0</td>\n",
       "      <td>2010-01-01</td>\n",
       "    </tr>\n",
       "    <tr>\n",
       "      <th>1</th>\n",
       "      <td>134 Ashewood Walk, Summerhill Lane, Portlaoise</td>\n",
       "      <td>Laois</td>\n",
       "      <td>0</td>\n",
       "      <td>1</td>\n",
       "      <td>New</td>\n",
       "      <td>185000.0</td>\n",
       "      <td>2010-03-01</td>\n",
       "    </tr>\n",
       "    <tr>\n",
       "      <th>2</th>\n",
       "      <td>1 Meadow Avenue, Dundrum, Dublin 14</td>\n",
       "      <td>Dublin</td>\n",
       "      <td>0</td>\n",
       "      <td>0</td>\n",
       "      <td>Second-Hand</td>\n",
       "      <td>438500.0</td>\n",
       "      <td>2010-04-01</td>\n",
       "    </tr>\n",
       "    <tr>\n",
       "      <th>3</th>\n",
       "      <td>1 The Haven, Mornington</td>\n",
       "      <td>Meath</td>\n",
       "      <td>0</td>\n",
       "      <td>0</td>\n",
       "      <td>Second-Hand</td>\n",
       "      <td>400000.0</td>\n",
       "      <td>2010-04-01</td>\n",
       "    </tr>\n",
       "    <tr>\n",
       "      <th>4</th>\n",
       "      <td>11 Melville Heights, Kilkenny</td>\n",
       "      <td>Kilkenny</td>\n",
       "      <td>0</td>\n",
       "      <td>0</td>\n",
       "      <td>Second-Hand</td>\n",
       "      <td>160000.0</td>\n",
       "      <td>2010-04-01</td>\n",
       "    </tr>\n",
       "  </tbody>\n",
       "</table>\n",
       "</div>"
      ],
      "text/plain": [
       "                                          Address    County  \\\n",
       "0          5 Braemor Drive, Churchtown, Co.Dublin    Dublin   \n",
       "1  134 Ashewood Walk, Summerhill Lane, Portlaoise     Laois   \n",
       "2             1 Meadow Avenue, Dundrum, Dublin 14    Dublin   \n",
       "3                         1 The Haven, Mornington     Meath   \n",
       "4                   11 Melville Heights, Kilkenny  Kilkenny   \n",
       "\n",
       "   Not Full Market Price  VAT Exclusive Description of Property     Price  \\\n",
       "0                      0              0             Second-Hand  343000.0   \n",
       "1                      0              1                     New  185000.0   \n",
       "2                      0              0             Second-Hand  438500.0   \n",
       "3                      0              0             Second-Hand  400000.0   \n",
       "4                      0              0             Second-Hand  160000.0   \n",
       "\n",
       "        Date  \n",
       "0 2010-01-01  \n",
       "1 2010-03-01  \n",
       "2 2010-04-01  \n",
       "3 2010-04-01  \n",
       "4 2010-04-01  "
      ]
     },
     "execution_count": 31,
     "metadata": {},
     "output_type": "execute_result"
    }
   ],
   "source": [
    "df.head()"
   ]
  },
  {
   "cell_type": "code",
   "execution_count": 32,
   "metadata": {},
   "outputs": [],
   "source": [
    "df = df[['Date','Address','County','Price','Not Full Market Price','VAT Exclusive','Description of Property']]"
   ]
  },
  {
   "cell_type": "code",
   "execution_count": 33,
   "metadata": {},
   "outputs": [
    {
     "data": {
      "text/html": [
       "<div>\n",
       "<style scoped>\n",
       "    .dataframe tbody tr th:only-of-type {\n",
       "        vertical-align: middle;\n",
       "    }\n",
       "\n",
       "    .dataframe tbody tr th {\n",
       "        vertical-align: top;\n",
       "    }\n",
       "\n",
       "    .dataframe thead th {\n",
       "        text-align: right;\n",
       "    }\n",
       "</style>\n",
       "<table border=\"1\" class=\"dataframe\">\n",
       "  <thead>\n",
       "    <tr style=\"text-align: right;\">\n",
       "      <th></th>\n",
       "      <th>Date</th>\n",
       "      <th>Address</th>\n",
       "      <th>County</th>\n",
       "      <th>Price</th>\n",
       "      <th>Not Full Market Price</th>\n",
       "      <th>VAT Exclusive</th>\n",
       "      <th>Description of Property</th>\n",
       "    </tr>\n",
       "  </thead>\n",
       "  <tbody>\n",
       "    <tr>\n",
       "      <th>0</th>\n",
       "      <td>2010-01-01</td>\n",
       "      <td>5 Braemor Drive, Churchtown, Co.Dublin</td>\n",
       "      <td>Dublin</td>\n",
       "      <td>343000.0</td>\n",
       "      <td>0</td>\n",
       "      <td>0</td>\n",
       "      <td>Second-Hand</td>\n",
       "    </tr>\n",
       "    <tr>\n",
       "      <th>1</th>\n",
       "      <td>2010-03-01</td>\n",
       "      <td>134 Ashewood Walk, Summerhill Lane, Portlaoise</td>\n",
       "      <td>Laois</td>\n",
       "      <td>185000.0</td>\n",
       "      <td>0</td>\n",
       "      <td>1</td>\n",
       "      <td>New</td>\n",
       "    </tr>\n",
       "    <tr>\n",
       "      <th>2</th>\n",
       "      <td>2010-04-01</td>\n",
       "      <td>1 Meadow Avenue, Dundrum, Dublin 14</td>\n",
       "      <td>Dublin</td>\n",
       "      <td>438500.0</td>\n",
       "      <td>0</td>\n",
       "      <td>0</td>\n",
       "      <td>Second-Hand</td>\n",
       "    </tr>\n",
       "    <tr>\n",
       "      <th>3</th>\n",
       "      <td>2010-04-01</td>\n",
       "      <td>1 The Haven, Mornington</td>\n",
       "      <td>Meath</td>\n",
       "      <td>400000.0</td>\n",
       "      <td>0</td>\n",
       "      <td>0</td>\n",
       "      <td>Second-Hand</td>\n",
       "    </tr>\n",
       "    <tr>\n",
       "      <th>4</th>\n",
       "      <td>2010-04-01</td>\n",
       "      <td>11 Melville Heights, Kilkenny</td>\n",
       "      <td>Kilkenny</td>\n",
       "      <td>160000.0</td>\n",
       "      <td>0</td>\n",
       "      <td>0</td>\n",
       "      <td>Second-Hand</td>\n",
       "    </tr>\n",
       "  </tbody>\n",
       "</table>\n",
       "</div>"
      ],
      "text/plain": [
       "        Date                                         Address    County  \\\n",
       "0 2010-01-01          5 Braemor Drive, Churchtown, Co.Dublin    Dublin   \n",
       "1 2010-03-01  134 Ashewood Walk, Summerhill Lane, Portlaoise     Laois   \n",
       "2 2010-04-01             1 Meadow Avenue, Dundrum, Dublin 14    Dublin   \n",
       "3 2010-04-01                         1 The Haven, Mornington     Meath   \n",
       "4 2010-04-01                   11 Melville Heights, Kilkenny  Kilkenny   \n",
       "\n",
       "      Price  Not Full Market Price  VAT Exclusive Description of Property  \n",
       "0  343000.0                      0              0             Second-Hand  \n",
       "1  185000.0                      0              1                     New  \n",
       "2  438500.0                      0              0             Second-Hand  \n",
       "3  400000.0                      0              0             Second-Hand  \n",
       "4  160000.0                      0              0             Second-Hand  "
      ]
     },
     "execution_count": 33,
     "metadata": {},
     "output_type": "execute_result"
    }
   ],
   "source": [
    "df.head()"
   ]
  },
  {
   "cell_type": "code",
   "execution_count": 34,
   "metadata": {},
   "outputs": [],
   "source": [
    "address = df['Address']"
   ]
  },
  {
   "cell_type": "code",
   "execution_count": 35,
   "metadata": {},
   "outputs": [
    {
     "data": {
      "text/plain": [
       "' Co.Dublin'"
      ]
     },
     "execution_count": 35,
     "metadata": {},
     "output_type": "execute_result"
    }
   ],
   "source": [
    "address[0].split(',')[-1]"
   ]
  },
  {
   "cell_type": "code",
   "execution_count": 36,
   "metadata": {},
   "outputs": [
    {
     "data": {
      "text/plain": [
       "'5 Braemor Drive, Churchtown, Co.Dublin'"
      ]
     },
     "metadata": {},
     "output_type": "display_data"
    },
    {
     "data": {
      "text/plain": [
       "'134 Ashewood Walk, Summerhill Lane, Portlaoise'"
      ]
     },
     "metadata": {},
     "output_type": "display_data"
    },
    {
     "data": {
      "text/plain": [
       "'1 Meadow Avenue, Dundrum, Dublin 14'"
      ]
     },
     "metadata": {},
     "output_type": "display_data"
    },
    {
     "data": {
      "text/plain": [
       "'1 The Haven, Mornington'"
      ]
     },
     "metadata": {},
     "output_type": "display_data"
    },
    {
     "data": {
      "text/plain": [
       "'11 Melville Heights, Kilkenny'"
      ]
     },
     "metadata": {},
     "output_type": "display_data"
    },
    {
     "data": {
      "text/plain": [
       "'12 Sallymount Avenue, Ranelagh'"
      ]
     },
     "metadata": {},
     "output_type": "display_data"
    },
    {
     "data": {
      "text/plain": [
       "'13  Oakleigh Wood, Dooradoyle, Limerick'"
      ]
     },
     "metadata": {},
     "output_type": "display_data"
    },
    {
     "data": {
      "text/plain": [
       "'13 The Drive, Chapelstown Gate, Tullow Road'"
      ]
     },
     "metadata": {},
     "output_type": "display_data"
    },
    {
     "data": {
      "text/plain": [
       "'15 Carriglawn, Waterpark, Carrigaline'"
      ]
     },
     "metadata": {},
     "output_type": "display_data"
    },
    {
     "data": {
      "text/plain": [
       "'15a Moore Bay, Kilkee'"
      ]
     },
     "metadata": {},
     "output_type": "display_data"
    }
   ],
   "source": [
    "for i in range(10):\n",
    "    display(df['Address'].loc[i])"
   ]
  },
  {
   "cell_type": "code",
   "execution_count": 37,
   "metadata": {},
   "outputs": [
    {
     "data": {
      "text/plain": [
       "'Mornington'"
      ]
     },
     "execution_count": 37,
     "metadata": {},
     "output_type": "execute_result"
    }
   ],
   "source": [
    "df['Address'].loc[3].split(',')[-1][1:]"
   ]
  },
  {
   "cell_type": "code",
   "execution_count": 38,
   "metadata": {},
   "outputs": [
    {
     "data": {
      "text/plain": [
       "'Churchtown'"
      ]
     },
     "execution_count": 38,
     "metadata": {},
     "output_type": "execute_result"
    }
   ],
   "source": [
    "df['Address'].loc[0].split(',')[:-1][-1].strip()"
   ]
  },
  {
   "cell_type": "code",
   "execution_count": 39,
   "metadata": {},
   "outputs": [],
   "source": [
    "# for i in range(len(df)):\n",
    "#     if df['Address'].loc[i].split(',')[-1][1:] == df['County'].loc[i]:\n",
    "#         df['Address'].loc[i] = df['Address'].loc[i].split(',')[:-1][-1].strip()\n",
    "#     else:\n",
    "#         continue"
   ]
  },
  {
   "cell_type": "code",
   "execution_count": 41,
   "metadata": {},
   "outputs": [
    {
     "data": {
      "text/plain": [
       "'dublin'"
      ]
     },
     "execution_count": 41,
     "metadata": {},
     "output_type": "execute_result"
    }
   ],
   "source": [
    "df['County'].loc[0].lower()"
   ]
  },
  {
   "cell_type": "code",
   "execution_count": 47,
   "metadata": {},
   "outputs": [
    {
     "data": {
      "text/plain": [
       "'dublin'"
      ]
     },
     "execution_count": 47,
     "metadata": {},
     "output_type": "execute_result"
    }
   ],
   "source": [
    "df['Address'].loc[0].split(',')[-1][1:].split('.')[-1].lower()"
   ]
  },
  {
   "cell_type": "code",
   "execution_count": 49,
   "metadata": {},
   "outputs": [
    {
     "data": {
      "text/plain": [
       "'Churchtown'"
      ]
     },
     "execution_count": 49,
     "metadata": {},
     "output_type": "execute_result"
    }
   ],
   "source": [
    "df['Address'].loc[0].split(',')[-2][1:]"
   ]
  },
  {
   "cell_type": "code",
   "execution_count": 55,
   "metadata": {},
   "outputs": [],
   "source": [
    "Town = []\n",
    "for i in range(len(df)):\n",
    "    if df['Address'].loc[i].split(',')[-1][1:].split('.')[-1].lower() == df['County'].loc[i].lower():\n",
    "        Town.append(df['Address'].loc[i].split(',')[-2][1:])\n",
    "    else:\n",
    "        Town.append(df['Address'].loc[i].split(',')[-1][1:])\n"
   ]
  },
  {
   "cell_type": "code",
   "execution_count": 56,
   "metadata": {},
   "outputs": [
    {
     "data": {
      "text/plain": [
       "589024"
      ]
     },
     "execution_count": 56,
     "metadata": {},
     "output_type": "execute_result"
    }
   ],
   "source": [
    "len(Town)"
   ]
  },
  {
   "cell_type": "code",
   "execution_count": 57,
   "metadata": {},
   "outputs": [],
   "source": [
    "df['Town'] = Town"
   ]
  },
  {
   "cell_type": "code",
   "execution_count": 58,
   "metadata": {},
   "outputs": [
    {
     "data": {
      "text/html": [
       "<div>\n",
       "<style scoped>\n",
       "    .dataframe tbody tr th:only-of-type {\n",
       "        vertical-align: middle;\n",
       "    }\n",
       "\n",
       "    .dataframe tbody tr th {\n",
       "        vertical-align: top;\n",
       "    }\n",
       "\n",
       "    .dataframe thead th {\n",
       "        text-align: right;\n",
       "    }\n",
       "</style>\n",
       "<table border=\"1\" class=\"dataframe\">\n",
       "  <thead>\n",
       "    <tr style=\"text-align: right;\">\n",
       "      <th></th>\n",
       "      <th>Date</th>\n",
       "      <th>Address</th>\n",
       "      <th>County</th>\n",
       "      <th>Price</th>\n",
       "      <th>Not Full Market Price</th>\n",
       "      <th>VAT Exclusive</th>\n",
       "      <th>Description of Property</th>\n",
       "      <th>Town</th>\n",
       "    </tr>\n",
       "  </thead>\n",
       "  <tbody>\n",
       "    <tr>\n",
       "      <th>0</th>\n",
       "      <td>2010-01-01</td>\n",
       "      <td>5 Braemor Drive, Churchtown, Co.Dublin</td>\n",
       "      <td>Dublin</td>\n",
       "      <td>343000.0</td>\n",
       "      <td>0</td>\n",
       "      <td>0</td>\n",
       "      <td>Second-Hand</td>\n",
       "      <td>Churchtown</td>\n",
       "    </tr>\n",
       "    <tr>\n",
       "      <th>1</th>\n",
       "      <td>2010-03-01</td>\n",
       "      <td>134 Ashewood Walk, Summerhill Lane, Portlaoise</td>\n",
       "      <td>Laois</td>\n",
       "      <td>185000.0</td>\n",
       "      <td>0</td>\n",
       "      <td>1</td>\n",
       "      <td>New</td>\n",
       "      <td>Portlaoise</td>\n",
       "    </tr>\n",
       "    <tr>\n",
       "      <th>2</th>\n",
       "      <td>2010-04-01</td>\n",
       "      <td>1 Meadow Avenue, Dundrum, Dublin 14</td>\n",
       "      <td>Dublin</td>\n",
       "      <td>438500.0</td>\n",
       "      <td>0</td>\n",
       "      <td>0</td>\n",
       "      <td>Second-Hand</td>\n",
       "      <td>Dublin 14</td>\n",
       "    </tr>\n",
       "    <tr>\n",
       "      <th>3</th>\n",
       "      <td>2010-04-01</td>\n",
       "      <td>1 The Haven, Mornington</td>\n",
       "      <td>Meath</td>\n",
       "      <td>400000.0</td>\n",
       "      <td>0</td>\n",
       "      <td>0</td>\n",
       "      <td>Second-Hand</td>\n",
       "      <td>Mornington</td>\n",
       "    </tr>\n",
       "    <tr>\n",
       "      <th>4</th>\n",
       "      <td>2010-04-01</td>\n",
       "      <td>11 Melville Heights, Kilkenny</td>\n",
       "      <td>Kilkenny</td>\n",
       "      <td>160000.0</td>\n",
       "      <td>0</td>\n",
       "      <td>0</td>\n",
       "      <td>Second-Hand</td>\n",
       "      <td>1 Melville Heights</td>\n",
       "    </tr>\n",
       "  </tbody>\n",
       "</table>\n",
       "</div>"
      ],
      "text/plain": [
       "        Date                                         Address    County  \\\n",
       "0 2010-01-01          5 Braemor Drive, Churchtown, Co.Dublin    Dublin   \n",
       "1 2010-03-01  134 Ashewood Walk, Summerhill Lane, Portlaoise     Laois   \n",
       "2 2010-04-01             1 Meadow Avenue, Dundrum, Dublin 14    Dublin   \n",
       "3 2010-04-01                         1 The Haven, Mornington     Meath   \n",
       "4 2010-04-01                   11 Melville Heights, Kilkenny  Kilkenny   \n",
       "\n",
       "      Price  Not Full Market Price  VAT Exclusive Description of Property  \\\n",
       "0  343000.0                      0              0             Second-Hand   \n",
       "1  185000.0                      0              1                     New   \n",
       "2  438500.0                      0              0             Second-Hand   \n",
       "3  400000.0                      0              0             Second-Hand   \n",
       "4  160000.0                      0              0             Second-Hand   \n",
       "\n",
       "                 Town  \n",
       "0          Churchtown  \n",
       "1          Portlaoise  \n",
       "2           Dublin 14  \n",
       "3          Mornington  \n",
       "4  1 Melville Heights  "
      ]
     },
     "execution_count": 58,
     "metadata": {},
     "output_type": "execute_result"
    }
   ],
   "source": [
    "df.head()"
   ]
  },
  {
   "cell_type": "code",
   "execution_count": 67,
   "metadata": {},
   "outputs": [],
   "source": [
    "d15 = df[df['Town'] == 'Dublin 15']"
   ]
  },
  {
   "cell_type": "code",
   "execution_count": 68,
   "metadata": {},
   "outputs": [
    {
     "data": {
      "text/plain": [
       "Date                                                     2020-10-29 00:00:00\n",
       "Address                    1-46 Royal Canal Crescent, Rathborne Park, Dub...\n",
       "County                                                                Dublin\n",
       "Price                                                            16308370.05\n",
       "Not Full Market Price                                                      0\n",
       "VAT Exclusive                                                              1\n",
       "Description of Property                                                  New\n",
       "Town                                                               Dublin 15\n",
       "Name: 444703, dtype: object"
      ]
     },
     "execution_count": 68,
     "metadata": {},
     "output_type": "execute_result"
    }
   ],
   "source": [
    "d15.loc[d15['Price'].idxmax()]"
   ]
  },
  {
   "cell_type": "code",
   "execution_count": 69,
   "metadata": {},
   "outputs": [
    {
     "data": {
      "text/plain": [
       "Date                                            2023-10-02 00:00:00\n",
       "Address                    O'Devaney Gardens, Arbour Hill, Dublin 7\n",
       "County                                                       Dublin\n",
       "Price                                                   225000000.0\n",
       "Not Full Market Price                                             1\n",
       "VAT Exclusive                                                     1\n",
       "Description of Property                                         New\n",
       "Town                                                       Dublin 7\n",
       "Name: 585087, dtype: object"
      ]
     },
     "execution_count": 69,
     "metadata": {},
     "output_type": "execute_result"
    }
   ],
   "source": [
    "df.loc[df['Price'].idxmax()]"
   ]
  },
  {
   "cell_type": "code",
   "execution_count": 70,
   "metadata": {},
   "outputs": [],
   "source": [
    "df_cleaned = df[['Date','Town','County','Price','Not Full Market Price','VAT Exclusive','Description of Property']]"
   ]
  },
  {
   "cell_type": "code",
   "execution_count": 71,
   "metadata": {},
   "outputs": [
    {
     "data": {
      "text/html": [
       "<div>\n",
       "<style scoped>\n",
       "    .dataframe tbody tr th:only-of-type {\n",
       "        vertical-align: middle;\n",
       "    }\n",
       "\n",
       "    .dataframe tbody tr th {\n",
       "        vertical-align: top;\n",
       "    }\n",
       "\n",
       "    .dataframe thead th {\n",
       "        text-align: right;\n",
       "    }\n",
       "</style>\n",
       "<table border=\"1\" class=\"dataframe\">\n",
       "  <thead>\n",
       "    <tr style=\"text-align: right;\">\n",
       "      <th></th>\n",
       "      <th>Date</th>\n",
       "      <th>Town</th>\n",
       "      <th>County</th>\n",
       "      <th>Price</th>\n",
       "      <th>Not Full Market Price</th>\n",
       "      <th>VAT Exclusive</th>\n",
       "      <th>Description of Property</th>\n",
       "    </tr>\n",
       "  </thead>\n",
       "  <tbody>\n",
       "    <tr>\n",
       "      <th>0</th>\n",
       "      <td>2010-01-01</td>\n",
       "      <td>Churchtown</td>\n",
       "      <td>Dublin</td>\n",
       "      <td>343000.0</td>\n",
       "      <td>0</td>\n",
       "      <td>0</td>\n",
       "      <td>Second-Hand</td>\n",
       "    </tr>\n",
       "    <tr>\n",
       "      <th>1</th>\n",
       "      <td>2010-03-01</td>\n",
       "      <td>Portlaoise</td>\n",
       "      <td>Laois</td>\n",
       "      <td>185000.0</td>\n",
       "      <td>0</td>\n",
       "      <td>1</td>\n",
       "      <td>New</td>\n",
       "    </tr>\n",
       "    <tr>\n",
       "      <th>2</th>\n",
       "      <td>2010-04-01</td>\n",
       "      <td>Dublin 14</td>\n",
       "      <td>Dublin</td>\n",
       "      <td>438500.0</td>\n",
       "      <td>0</td>\n",
       "      <td>0</td>\n",
       "      <td>Second-Hand</td>\n",
       "    </tr>\n",
       "    <tr>\n",
       "      <th>3</th>\n",
       "      <td>2010-04-01</td>\n",
       "      <td>Mornington</td>\n",
       "      <td>Meath</td>\n",
       "      <td>400000.0</td>\n",
       "      <td>0</td>\n",
       "      <td>0</td>\n",
       "      <td>Second-Hand</td>\n",
       "    </tr>\n",
       "    <tr>\n",
       "      <th>4</th>\n",
       "      <td>2010-04-01</td>\n",
       "      <td>1 Melville Heights</td>\n",
       "      <td>Kilkenny</td>\n",
       "      <td>160000.0</td>\n",
       "      <td>0</td>\n",
       "      <td>0</td>\n",
       "      <td>Second-Hand</td>\n",
       "    </tr>\n",
       "    <tr>\n",
       "      <th>...</th>\n",
       "      <td>...</td>\n",
       "      <td>...</td>\n",
       "      <td>...</td>\n",
       "      <td>...</td>\n",
       "      <td>...</td>\n",
       "      <td>...</td>\n",
       "      <td>...</td>\n",
       "    </tr>\n",
       "    <tr>\n",
       "      <th>589019</th>\n",
       "      <td>2023-03-16</td>\n",
       "      <td>CO ROSCOMMON</td>\n",
       "      <td>Roscommon</td>\n",
       "      <td>135000.0</td>\n",
       "      <td>0</td>\n",
       "      <td>0</td>\n",
       "      <td>Second-Hand</td>\n",
       "    </tr>\n",
       "    <tr>\n",
       "      <th>589020</th>\n",
       "      <td>2023-03-16</td>\n",
       "      <td>DUNDALK</td>\n",
       "      <td>Louth</td>\n",
       "      <td>305000.0</td>\n",
       "      <td>0</td>\n",
       "      <td>0</td>\n",
       "      <td>Second-Hand</td>\n",
       "    </tr>\n",
       "    <tr>\n",
       "      <th>589021</th>\n",
       "      <td>2023-03-16</td>\n",
       "      <td>GREENCASTLE</td>\n",
       "      <td>Donegal</td>\n",
       "      <td>430000.0</td>\n",
       "      <td>0</td>\n",
       "      <td>0</td>\n",
       "      <td>Second-Hand</td>\n",
       "    </tr>\n",
       "    <tr>\n",
       "      <th>589022</th>\n",
       "      <td>2023-03-16</td>\n",
       "      <td>KNOCKNAGOSHEL</td>\n",
       "      <td>Kerry</td>\n",
       "      <td>50000.0</td>\n",
       "      <td>0</td>\n",
       "      <td>0</td>\n",
       "      <td>Second-Hand</td>\n",
       "    </tr>\n",
       "    <tr>\n",
       "      <th>589023</th>\n",
       "      <td>2023-03-16</td>\n",
       "      <td>BALDWINSTOWN</td>\n",
       "      <td>Wexford</td>\n",
       "      <td>325000.0</td>\n",
       "      <td>0</td>\n",
       "      <td>0</td>\n",
       "      <td>Second-Hand</td>\n",
       "    </tr>\n",
       "  </tbody>\n",
       "</table>\n",
       "<p>589024 rows × 7 columns</p>\n",
       "</div>"
      ],
      "text/plain": [
       "             Date                Town     County     Price  \\\n",
       "0      2010-01-01          Churchtown     Dublin  343000.0   \n",
       "1      2010-03-01          Portlaoise      Laois  185000.0   \n",
       "2      2010-04-01           Dublin 14     Dublin  438500.0   \n",
       "3      2010-04-01          Mornington      Meath  400000.0   \n",
       "4      2010-04-01  1 Melville Heights   Kilkenny  160000.0   \n",
       "...           ...                 ...        ...       ...   \n",
       "589019 2023-03-16        CO ROSCOMMON  Roscommon  135000.0   \n",
       "589020 2023-03-16             DUNDALK      Louth  305000.0   \n",
       "589021 2023-03-16         GREENCASTLE    Donegal  430000.0   \n",
       "589022 2023-03-16       KNOCKNAGOSHEL      Kerry   50000.0   \n",
       "589023 2023-03-16        BALDWINSTOWN    Wexford  325000.0   \n",
       "\n",
       "        Not Full Market Price  VAT Exclusive Description of Property  \n",
       "0                           0              0             Second-Hand  \n",
       "1                           0              1                     New  \n",
       "2                           0              0             Second-Hand  \n",
       "3                           0              0             Second-Hand  \n",
       "4                           0              0             Second-Hand  \n",
       "...                       ...            ...                     ...  \n",
       "589019                      0              0             Second-Hand  \n",
       "589020                      0              0             Second-Hand  \n",
       "589021                      0              0             Second-Hand  \n",
       "589022                      0              0             Second-Hand  \n",
       "589023                      0              0             Second-Hand  \n",
       "\n",
       "[589024 rows x 7 columns]"
      ]
     },
     "execution_count": 71,
     "metadata": {},
     "output_type": "execute_result"
    }
   ],
   "source": [
    "df_cleaned"
   ]
  },
  {
   "cell_type": "code",
   "execution_count": 72,
   "metadata": {},
   "outputs": [],
   "source": [
    "df_cleaned.to_csv('PPR-cleaned.csv',index=False)"
   ]
  },
  {
   "cell_type": "code",
   "execution_count": null,
   "metadata": {},
   "outputs": [],
   "source": []
  }
 ],
 "metadata": {
  "kernelspec": {
   "display_name": "SETU",
   "language": "python",
   "name": "python3"
  },
  "language_info": {
   "codemirror_mode": {
    "name": "ipython",
    "version": 3
   },
   "file_extension": ".py",
   "mimetype": "text/x-python",
   "name": "python",
   "nbconvert_exporter": "python",
   "pygments_lexer": "ipython3",
   "version": "3.11.0"
  },
  "orig_nbformat": 4
 },
 "nbformat": 4,
 "nbformat_minor": 2
}
