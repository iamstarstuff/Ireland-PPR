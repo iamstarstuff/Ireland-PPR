{
 "cells": [
  {
   "cell_type": "code",
   "execution_count": 2,
   "metadata": {},
   "outputs": [],
   "source": [
    "import re\n",
    "import numpy as np\n",
    "import matplotlib.pyplot as plt\n",
    "import pandas as pd\n",
    "import plotly.express as px\n",
    "from datetime import datetime"
   ]
  },
  {
   "attachments": {},
   "cell_type": "markdown",
   "metadata": {},
   "source": [
    "# Clean up"
   ]
  },
  {
   "cell_type": "code",
   "execution_count": 2,
   "metadata": {},
   "outputs": [
    {
     "name": "stderr",
     "output_type": "stream",
     "text": [
      "/var/folders/55/j0v2zlbn1575rkmztsycxlfw0000gn/T/ipykernel_26014/3239213054.py:1: DtypeWarning: Columns (3) have mixed types. Specify dtype option on import or set low_memory=False.\n",
      "  df = pd.read_csv('PPR-2010-2023.csv')\n"
     ]
    }
   ],
   "source": [
    "df = pd.read_csv('PPR-2010-2023.csv')"
   ]
  },
  {
   "cell_type": "code",
   "execution_count": 3,
   "metadata": {},
   "outputs": [
    {
     "data": {
      "text/plain": [
       "array([nan,\n",
       "       'greater than or equal to 38 sq metres and less than 125 sq metres',\n",
       "       'greater than 125 sq metres', 'less than 38 sq metres',\n",
       "       'greater than or equal to 125 sq metres',\n",
       "       'níos mó ná nó cothrom le 38 méadar cearnach agus níos lú ná 125 méadar cearnach',\n",
       "       'n?os l? n? 38 m?adar cearnach'], dtype=object)"
      ]
     },
     "execution_count": 3,
     "metadata": {},
     "output_type": "execute_result"
    }
   ],
   "source": [
    "df['Property Size Description'].unique()"
   ]
  },
  {
   "cell_type": "code",
   "execution_count": 4,
   "metadata": {},
   "outputs": [],
   "source": [
    "#df[df['Eircode'].notna()]"
   ]
  },
  {
   "cell_type": "code",
   "execution_count": 5,
   "metadata": {},
   "outputs": [
    {
     "data": {
      "text/plain": [
       "array(['Second-Hand Dwelling house /Apartment',\n",
       "       'New Dwelling house /Apartment', 'Teach/Árasán Cónaithe Atháimhe',\n",
       "       'Teach/Árasán Cónaithe Nua', 'Teach/?ras?n C?naithe Nua'],\n",
       "      dtype=object)"
      ]
     },
     "execution_count": 5,
     "metadata": {},
     "output_type": "execute_result"
    }
   ],
   "source": [
    "df['Description of Property'].unique()"
   ]
  },
  {
   "cell_type": "code",
   "execution_count": 6,
   "metadata": {},
   "outputs": [
    {
     "data": {
      "text/plain": [
       "array(['Dublin', 'Laois', 'Meath', 'Kilkenny', 'Limerick', 'Carlow',\n",
       "       'Cork', 'Clare', 'Sligo', 'Cavan', 'Tipperary', 'Wicklow',\n",
       "       'Roscommon', 'Wexford', 'Mayo', 'Donegal', 'Longford', 'Galway',\n",
       "       'Offaly', 'Kildare', 'Waterford', 'Louth', 'Kerry', 'Westmeath',\n",
       "       'Monaghan', 'Leitrim'], dtype=object)"
      ]
     },
     "execution_count": 6,
     "metadata": {},
     "output_type": "execute_result"
    }
   ],
   "source": [
    "county = df['County'].unique()\n",
    "county"
   ]
  },
  {
   "cell_type": "code",
   "execution_count": 7,
   "metadata": {},
   "outputs": [
    {
     "data": {
      "text/plain": [
       "Index(['Date of Sale (dd/mm/yyyy)', 'Address', 'County', 'Eircode',\n",
       "       'Price ()', 'Not Full Market Price', 'VAT Exclusive',\n",
       "       'Description of Property', 'Property Size Description'],\n",
       "      dtype='object')"
      ]
     },
     "execution_count": 7,
     "metadata": {},
     "output_type": "execute_result"
    }
   ],
   "source": [
    "df.columns"
   ]
  },
  {
   "cell_type": "code",
   "execution_count": 8,
   "metadata": {},
   "outputs": [],
   "source": [
    "l = []\n",
    "for column in df.columns:\n",
    "    l.append(len(df[df[column].isna()]))"
   ]
  },
  {
   "cell_type": "code",
   "execution_count": 9,
   "metadata": {},
   "outputs": [
    {
     "data": {
      "text/plain": [
       "[0, 0, 0, 503057, 0, 0, 0, 0, 536210]"
      ]
     },
     "execution_count": 9,
     "metadata": {},
     "output_type": "execute_result"
    }
   ],
   "source": [
    "l"
   ]
  },
  {
   "attachments": {},
   "cell_type": "markdown",
   "metadata": {},
   "source": [
    "$\\therefore$ Eircode and Property Size Descriptions have a lot of NA values so we will ignore those 2 columns"
   ]
  },
  {
   "cell_type": "code",
   "execution_count": 10,
   "metadata": {},
   "outputs": [
    {
     "name": "stdout",
     "output_type": "stream",
     "text": [
      "<class 'pandas.core.frame.DataFrame'>\n",
      "RangeIndex: 589024 entries, 0 to 589023\n",
      "Data columns (total 9 columns):\n",
      " #   Column                     Non-Null Count   Dtype \n",
      "---  ------                     --------------   ----- \n",
      " 0   Date of Sale (dd/mm/yyyy)  589024 non-null  object\n",
      " 1   Address                    589024 non-null  object\n",
      " 2   County                     589024 non-null  object\n",
      " 3   Eircode                    85967 non-null   object\n",
      " 4   Price ()                  589024 non-null  object\n",
      " 5   Not Full Market Price      589024 non-null  object\n",
      " 6   VAT Exclusive              589024 non-null  object\n",
      " 7   Description of Property    589024 non-null  object\n",
      " 8   Property Size Description  52814 non-null   object\n",
      "dtypes: object(9)\n",
      "memory usage: 40.4+ MB\n"
     ]
    }
   ],
   "source": [
    "df.info()"
   ]
  },
  {
   "attachments": {},
   "cell_type": "markdown",
   "metadata": {},
   "source": [
    "for every row in address\n",
    "split string and choose the last index\n",
    "if \" \" in last index\n",
    "split(\" \")[-1]\n",
    "if the last index == county\n",
    "delete the last index\n",
    "else\n",
    "pass\n",
    "index[-2] is the town name"
   ]
  },
  {
   "cell_type": "code",
   "execution_count": 11,
   "metadata": {},
   "outputs": [],
   "source": [
    "df = df.drop('Property Size Description', axis=1)"
   ]
  },
  {
   "cell_type": "code",
   "execution_count": 12,
   "metadata": {},
   "outputs": [],
   "source": [
    "df = df.drop('Eircode',axis=1)"
   ]
  },
  {
   "cell_type": "code",
   "execution_count": 13,
   "metadata": {},
   "outputs": [
    {
     "name": "stdout",
     "output_type": "stream",
     "text": [
      "<class 'pandas.core.frame.DataFrame'>\n",
      "RangeIndex: 589024 entries, 0 to 589023\n",
      "Data columns (total 7 columns):\n",
      " #   Column                     Non-Null Count   Dtype \n",
      "---  ------                     --------------   ----- \n",
      " 0   Date of Sale (dd/mm/yyyy)  589024 non-null  object\n",
      " 1   Address                    589024 non-null  object\n",
      " 2   County                     589024 non-null  object\n",
      " 3   Price ()                  589024 non-null  object\n",
      " 4   Not Full Market Price      589024 non-null  object\n",
      " 5   VAT Exclusive              589024 non-null  object\n",
      " 6   Description of Property    589024 non-null  object\n",
      "dtypes: object(7)\n",
      "memory usage: 31.5+ MB\n"
     ]
    }
   ],
   "source": [
    "df.info()"
   ]
  },
  {
   "cell_type": "code",
   "execution_count": 14,
   "metadata": {},
   "outputs": [],
   "source": [
    "def clean_price(string):\n",
    "    string = string.replace(\",\",\"\")\n",
    "    return float(string[1:])\n",
    "Price = df['Price ()'].apply(clean_price)"
   ]
  },
  {
   "cell_type": "code",
   "execution_count": 15,
   "metadata": {},
   "outputs": [],
   "source": [
    "df = df.drop('Price ()',axis=1)"
   ]
  },
  {
   "cell_type": "code",
   "execution_count": 16,
   "metadata": {},
   "outputs": [],
   "source": [
    "df['Price'] = Price"
   ]
  },
  {
   "cell_type": "code",
   "execution_count": 17,
   "metadata": {},
   "outputs": [
    {
     "name": "stdout",
     "output_type": "stream",
     "text": [
      "<class 'pandas.core.frame.DataFrame'>\n",
      "RangeIndex: 589024 entries, 0 to 589023\n",
      "Data columns (total 7 columns):\n",
      " #   Column                     Non-Null Count   Dtype  \n",
      "---  ------                     --------------   -----  \n",
      " 0   Date of Sale (dd/mm/yyyy)  589024 non-null  object \n",
      " 1   Address                    589024 non-null  object \n",
      " 2   County                     589024 non-null  object \n",
      " 3   Not Full Market Price      589024 non-null  object \n",
      " 4   VAT Exclusive              589024 non-null  object \n",
      " 5   Description of Property    589024 non-null  object \n",
      " 6   Price                      589024 non-null  float64\n",
      "dtypes: float64(1), object(6)\n",
      "memory usage: 31.5+ MB\n"
     ]
    }
   ],
   "source": [
    "df.info()"
   ]
  },
  {
   "cell_type": "code",
   "execution_count": 19,
   "metadata": {},
   "outputs": [
    {
     "data": {
      "text/plain": [
       "No     494042\n",
       "Yes     94982\n",
       "Name: VAT Exclusive, dtype: int64"
      ]
     },
     "execution_count": 19,
     "metadata": {},
     "output_type": "execute_result"
    }
   ],
   "source": [
    "df[\"VAT Exclusive\"].value_counts()"
   ]
  },
  {
   "cell_type": "code",
   "execution_count": 19,
   "metadata": {},
   "outputs": [],
   "source": [
    "#df['Not Full Market Price'] = df['Not Full Market Price'].apply(lambda x: 0 if x == \"No\" else 1)"
   ]
  },
  {
   "cell_type": "code",
   "execution_count": 21,
   "metadata": {},
   "outputs": [],
   "source": [
    "#df['VAT Exclusive'] = df['VAT Exclusive'].apply(lambda x: 0 if x == \"No\" else 1)"
   ]
  },
  {
   "cell_type": "code",
   "execution_count": 23,
   "metadata": {},
   "outputs": [],
   "source": [
    "#df['Date'] = df['Date of Sale (dd/mm/yyyy)']"
   ]
  },
  {
   "cell_type": "code",
   "execution_count": 24,
   "metadata": {},
   "outputs": [],
   "source": [
    "#df = df.drop('Date of Sale (dd/mm/yyyy)',axis=1)"
   ]
  },
  {
   "cell_type": "code",
   "execution_count": 24,
   "metadata": {},
   "outputs": [],
   "source": [
    "df.rename(columns = {\"Date of Sale (dd/mm/yyyy)\":\"Date\"},inplace=True)"
   ]
  },
  {
   "cell_type": "code",
   "execution_count": 26,
   "metadata": {},
   "outputs": [
    {
     "name": "stdout",
     "output_type": "stream",
     "text": [
      "<class 'pandas.core.frame.DataFrame'>\n",
      "RangeIndex: 589024 entries, 0 to 589023\n",
      "Data columns (total 7 columns):\n",
      " #   Column                   Non-Null Count   Dtype  \n",
      "---  ------                   --------------   -----  \n",
      " 0   Date                     589024 non-null  object \n",
      " 1   Address                  589024 non-null  object \n",
      " 2   County                   589024 non-null  object \n",
      " 3   Not Full Market Price    589024 non-null  object \n",
      " 4   VAT Exclusive            589024 non-null  object \n",
      " 5   Description of Property  589024 non-null  object \n",
      " 6   Price                    589024 non-null  float64\n",
      "dtypes: float64(1), object(6)\n",
      "memory usage: 31.5+ MB\n"
     ]
    }
   ],
   "source": [
    "df.info()"
   ]
  },
  {
   "cell_type": "code",
   "execution_count": 26,
   "metadata": {},
   "outputs": [],
   "source": [
    "#df['Date'] = pd.to_datetime(df['Date'])"
   ]
  },
  {
   "cell_type": "code",
   "execution_count": 27,
   "metadata": {},
   "outputs": [
    {
     "data": {
      "text/plain": [
       "array(['Second-Hand Dwelling house /Apartment',\n",
       "       'New Dwelling house /Apartment', 'Teach/Árasán Cónaithe Atháimhe',\n",
       "       'Teach/Árasán Cónaithe Nua', 'Teach/?ras?n C?naithe Nua'],\n",
       "      dtype=object)"
      ]
     },
     "execution_count": 27,
     "metadata": {},
     "output_type": "execute_result"
    }
   ],
   "source": [
    "df['Description of Property'].unique()"
   ]
  },
  {
   "cell_type": "markdown",
   "metadata": {},
   "source": [
    "'Teach/Árasán Cónaithe Atháimhe' = 'Second hand House/Apartment'  \n",
    "\n",
    "'Teach/Árasán Cónaithe Nua' = 'New House/Apartment'  \n",
    "\n",
    "'Teach/?ras?n C?naithe Nua' = 'New House/Apartment'  \n",
    "\n",
    "'New Dwelling house /Apartment' = 'New House/Apartment'  \n",
    "\n",
    "'Second-Hand Dwelling house /Apartment' = 'Second Hand House/Apartment'"
   ]
  },
  {
   "cell_type": "code",
   "execution_count": 28,
   "metadata": {},
   "outputs": [],
   "source": [
    "replacement_dict = {\n",
    "    'Second-Hand Dwelling house /Apartment':'Second-Hand',\n",
    "    'New Dwelling house /Apartment':'New',\n",
    "    'Teach/Árasán Cónaithe Atháimhe':'Second-Hand',\n",
    "    'Teach/Árasán Cónaithe Nua':'New',\n",
    "    'Teach/?ras?n C?naithe Nua':'New'\n",
    "}"
   ]
  },
  {
   "cell_type": "code",
   "execution_count": 29,
   "metadata": {},
   "outputs": [],
   "source": [
    "df['Description of Property'] = df['Description of Property'].replace(replacement_dict)"
   ]
  },
  {
   "cell_type": "code",
   "execution_count": 30,
   "metadata": {},
   "outputs": [
    {
     "data": {
      "text/html": [
       "<div>\n",
       "<style scoped>\n",
       "    .dataframe tbody tr th:only-of-type {\n",
       "        vertical-align: middle;\n",
       "    }\n",
       "\n",
       "    .dataframe tbody tr th {\n",
       "        vertical-align: top;\n",
       "    }\n",
       "\n",
       "    .dataframe thead th {\n",
       "        text-align: right;\n",
       "    }\n",
       "</style>\n",
       "<table border=\"1\" class=\"dataframe\">\n",
       "  <thead>\n",
       "    <tr style=\"text-align: right;\">\n",
       "      <th></th>\n",
       "      <th>Date</th>\n",
       "      <th>Address</th>\n",
       "      <th>County</th>\n",
       "      <th>Not Full Market Price</th>\n",
       "      <th>VAT Exclusive</th>\n",
       "      <th>Description of Property</th>\n",
       "      <th>Price</th>\n",
       "    </tr>\n",
       "  </thead>\n",
       "  <tbody>\n",
       "    <tr>\n",
       "      <th>0</th>\n",
       "      <td>01/01/2010</td>\n",
       "      <td>5 Braemor Drive, Churchtown, Co.Dublin</td>\n",
       "      <td>Dublin</td>\n",
       "      <td>No</td>\n",
       "      <td>No</td>\n",
       "      <td>Second-Hand</td>\n",
       "      <td>343000.0</td>\n",
       "    </tr>\n",
       "    <tr>\n",
       "      <th>1</th>\n",
       "      <td>03/01/2010</td>\n",
       "      <td>134 Ashewood Walk, Summerhill Lane, Portlaoise</td>\n",
       "      <td>Laois</td>\n",
       "      <td>No</td>\n",
       "      <td>Yes</td>\n",
       "      <td>New</td>\n",
       "      <td>185000.0</td>\n",
       "    </tr>\n",
       "    <tr>\n",
       "      <th>2</th>\n",
       "      <td>04/01/2010</td>\n",
       "      <td>1 Meadow Avenue, Dundrum, Dublin 14</td>\n",
       "      <td>Dublin</td>\n",
       "      <td>No</td>\n",
       "      <td>No</td>\n",
       "      <td>Second-Hand</td>\n",
       "      <td>438500.0</td>\n",
       "    </tr>\n",
       "    <tr>\n",
       "      <th>3</th>\n",
       "      <td>04/01/2010</td>\n",
       "      <td>1 The Haven, Mornington</td>\n",
       "      <td>Meath</td>\n",
       "      <td>No</td>\n",
       "      <td>No</td>\n",
       "      <td>Second-Hand</td>\n",
       "      <td>400000.0</td>\n",
       "    </tr>\n",
       "    <tr>\n",
       "      <th>4</th>\n",
       "      <td>04/01/2010</td>\n",
       "      <td>11 Melville Heights, Kilkenny</td>\n",
       "      <td>Kilkenny</td>\n",
       "      <td>No</td>\n",
       "      <td>No</td>\n",
       "      <td>Second-Hand</td>\n",
       "      <td>160000.0</td>\n",
       "    </tr>\n",
       "  </tbody>\n",
       "</table>\n",
       "</div>"
      ],
      "text/plain": [
       "         Date                                         Address    County  \\\n",
       "0  01/01/2010          5 Braemor Drive, Churchtown, Co.Dublin    Dublin   \n",
       "1  03/01/2010  134 Ashewood Walk, Summerhill Lane, Portlaoise     Laois   \n",
       "2  04/01/2010             1 Meadow Avenue, Dundrum, Dublin 14    Dublin   \n",
       "3  04/01/2010                         1 The Haven, Mornington     Meath   \n",
       "4  04/01/2010                   11 Melville Heights, Kilkenny  Kilkenny   \n",
       "\n",
       "  Not Full Market Price VAT Exclusive Description of Property     Price  \n",
       "0                    No            No             Second-Hand  343000.0  \n",
       "1                    No           Yes                     New  185000.0  \n",
       "2                    No            No             Second-Hand  438500.0  \n",
       "3                    No            No             Second-Hand  400000.0  \n",
       "4                    No            No             Second-Hand  160000.0  "
      ]
     },
     "execution_count": 30,
     "metadata": {},
     "output_type": "execute_result"
    }
   ],
   "source": [
    "df.head()"
   ]
  },
  {
   "cell_type": "code",
   "execution_count": 31,
   "metadata": {},
   "outputs": [],
   "source": [
    "df = df[['Date','Address','County','Price','Not Full Market Price','VAT Exclusive','Description of Property']]"
   ]
  },
  {
   "cell_type": "code",
   "execution_count": 32,
   "metadata": {},
   "outputs": [
    {
     "data": {
      "text/html": [
       "<div>\n",
       "<style scoped>\n",
       "    .dataframe tbody tr th:only-of-type {\n",
       "        vertical-align: middle;\n",
       "    }\n",
       "\n",
       "    .dataframe tbody tr th {\n",
       "        vertical-align: top;\n",
       "    }\n",
       "\n",
       "    .dataframe thead th {\n",
       "        text-align: right;\n",
       "    }\n",
       "</style>\n",
       "<table border=\"1\" class=\"dataframe\">\n",
       "  <thead>\n",
       "    <tr style=\"text-align: right;\">\n",
       "      <th></th>\n",
       "      <th>Date</th>\n",
       "      <th>Address</th>\n",
       "      <th>County</th>\n",
       "      <th>Price</th>\n",
       "      <th>Not Full Market Price</th>\n",
       "      <th>VAT Exclusive</th>\n",
       "      <th>Description of Property</th>\n",
       "    </tr>\n",
       "  </thead>\n",
       "  <tbody>\n",
       "    <tr>\n",
       "      <th>0</th>\n",
       "      <td>01/01/2010</td>\n",
       "      <td>5 Braemor Drive, Churchtown, Co.Dublin</td>\n",
       "      <td>Dublin</td>\n",
       "      <td>343000.0</td>\n",
       "      <td>No</td>\n",
       "      <td>No</td>\n",
       "      <td>Second-Hand</td>\n",
       "    </tr>\n",
       "    <tr>\n",
       "      <th>1</th>\n",
       "      <td>03/01/2010</td>\n",
       "      <td>134 Ashewood Walk, Summerhill Lane, Portlaoise</td>\n",
       "      <td>Laois</td>\n",
       "      <td>185000.0</td>\n",
       "      <td>No</td>\n",
       "      <td>Yes</td>\n",
       "      <td>New</td>\n",
       "    </tr>\n",
       "    <tr>\n",
       "      <th>2</th>\n",
       "      <td>04/01/2010</td>\n",
       "      <td>1 Meadow Avenue, Dundrum, Dublin 14</td>\n",
       "      <td>Dublin</td>\n",
       "      <td>438500.0</td>\n",
       "      <td>No</td>\n",
       "      <td>No</td>\n",
       "      <td>Second-Hand</td>\n",
       "    </tr>\n",
       "    <tr>\n",
       "      <th>3</th>\n",
       "      <td>04/01/2010</td>\n",
       "      <td>1 The Haven, Mornington</td>\n",
       "      <td>Meath</td>\n",
       "      <td>400000.0</td>\n",
       "      <td>No</td>\n",
       "      <td>No</td>\n",
       "      <td>Second-Hand</td>\n",
       "    </tr>\n",
       "    <tr>\n",
       "      <th>4</th>\n",
       "      <td>04/01/2010</td>\n",
       "      <td>11 Melville Heights, Kilkenny</td>\n",
       "      <td>Kilkenny</td>\n",
       "      <td>160000.0</td>\n",
       "      <td>No</td>\n",
       "      <td>No</td>\n",
       "      <td>Second-Hand</td>\n",
       "    </tr>\n",
       "  </tbody>\n",
       "</table>\n",
       "</div>"
      ],
      "text/plain": [
       "         Date                                         Address    County  \\\n",
       "0  01/01/2010          5 Braemor Drive, Churchtown, Co.Dublin    Dublin   \n",
       "1  03/01/2010  134 Ashewood Walk, Summerhill Lane, Portlaoise     Laois   \n",
       "2  04/01/2010             1 Meadow Avenue, Dundrum, Dublin 14    Dublin   \n",
       "3  04/01/2010                         1 The Haven, Mornington     Meath   \n",
       "4  04/01/2010                   11 Melville Heights, Kilkenny  Kilkenny   \n",
       "\n",
       "      Price Not Full Market Price VAT Exclusive Description of Property  \n",
       "0  343000.0                    No            No             Second-Hand  \n",
       "1  185000.0                    No           Yes                     New  \n",
       "2  438500.0                    No            No             Second-Hand  \n",
       "3  400000.0                    No            No             Second-Hand  \n",
       "4  160000.0                    No            No             Second-Hand  "
      ]
     },
     "execution_count": 32,
     "metadata": {},
     "output_type": "execute_result"
    }
   ],
   "source": [
    "df.head()"
   ]
  },
  {
   "cell_type": "code",
   "execution_count": 33,
   "metadata": {},
   "outputs": [],
   "source": [
    "address = df['Address']"
   ]
  },
  {
   "cell_type": "code",
   "execution_count": 34,
   "metadata": {},
   "outputs": [
    {
     "data": {
      "text/plain": [
       "' Co.Dublin'"
      ]
     },
     "execution_count": 34,
     "metadata": {},
     "output_type": "execute_result"
    }
   ],
   "source": [
    "address[0].split(',')[-1]"
   ]
  },
  {
   "cell_type": "code",
   "execution_count": 36,
   "metadata": {},
   "outputs": [
    {
     "data": {
      "text/plain": [
       "'5 Braemor Drive, Churchtown, Co.Dublin'"
      ]
     },
     "metadata": {},
     "output_type": "display_data"
    },
    {
     "data": {
      "text/plain": [
       "'134 Ashewood Walk, Summerhill Lane, Portlaoise'"
      ]
     },
     "metadata": {},
     "output_type": "display_data"
    },
    {
     "data": {
      "text/plain": [
       "'1 Meadow Avenue, Dundrum, Dublin 14'"
      ]
     },
     "metadata": {},
     "output_type": "display_data"
    },
    {
     "data": {
      "text/plain": [
       "'1 The Haven, Mornington'"
      ]
     },
     "metadata": {},
     "output_type": "display_data"
    },
    {
     "data": {
      "text/plain": [
       "'11 Melville Heights, Kilkenny'"
      ]
     },
     "metadata": {},
     "output_type": "display_data"
    },
    {
     "data": {
      "text/plain": [
       "'12 Sallymount Avenue, Ranelagh'"
      ]
     },
     "metadata": {},
     "output_type": "display_data"
    },
    {
     "data": {
      "text/plain": [
       "'13  Oakleigh Wood, Dooradoyle, Limerick'"
      ]
     },
     "metadata": {},
     "output_type": "display_data"
    },
    {
     "data": {
      "text/plain": [
       "'13 The Drive, Chapelstown Gate, Tullow Road'"
      ]
     },
     "metadata": {},
     "output_type": "display_data"
    },
    {
     "data": {
      "text/plain": [
       "'15 Carriglawn, Waterpark, Carrigaline'"
      ]
     },
     "metadata": {},
     "output_type": "display_data"
    },
    {
     "data": {
      "text/plain": [
       "'15a Moore Bay, Kilkee'"
      ]
     },
     "metadata": {},
     "output_type": "display_data"
    }
   ],
   "source": [
    "for i in range(10):\n",
    "    display(df['Address'].loc[i])"
   ]
  },
  {
   "cell_type": "code",
   "execution_count": 35,
   "metadata": {},
   "outputs": [
    {
     "data": {
      "text/plain": [
       "'Mornington'"
      ]
     },
     "execution_count": 35,
     "metadata": {},
     "output_type": "execute_result"
    }
   ],
   "source": [
    "df['Address'].loc[3].split(',')[-1][1:]"
   ]
  },
  {
   "cell_type": "code",
   "execution_count": 36,
   "metadata": {},
   "outputs": [
    {
     "data": {
      "text/plain": [
       "'Churchtown'"
      ]
     },
     "execution_count": 36,
     "metadata": {},
     "output_type": "execute_result"
    }
   ],
   "source": [
    "df['Address'].loc[0].split(',')[:-1][-1].strip()"
   ]
  },
  {
   "cell_type": "code",
   "execution_count": 39,
   "metadata": {},
   "outputs": [],
   "source": [
    "# for i in range(len(df)):\n",
    "#     if df['Address'].loc[i].split(',')[-1][1:] == df['County'].loc[i]:\n",
    "#         df['Address'].loc[i] = df['Address'].loc[i].split(',')[:-1][-1].strip()\n",
    "#     else:\n",
    "#         continue"
   ]
  },
  {
   "cell_type": "code",
   "execution_count": 40,
   "metadata": {},
   "outputs": [
    {
     "data": {
      "text/plain": [
       "'dublin'"
      ]
     },
     "execution_count": 40,
     "metadata": {},
     "output_type": "execute_result"
    }
   ],
   "source": [
    "df['County'].loc[0].lower()"
   ]
  },
  {
   "cell_type": "code",
   "execution_count": 41,
   "metadata": {},
   "outputs": [
    {
     "data": {
      "text/plain": [
       "'dublin'"
      ]
     },
     "execution_count": 41,
     "metadata": {},
     "output_type": "execute_result"
    }
   ],
   "source": [
    "df['Address'].loc[0].split(',')[-1][1:].split(\" \")[-1].split('.')[-1].lower()"
   ]
  },
  {
   "cell_type": "code",
   "execution_count": 42,
   "metadata": {},
   "outputs": [
    {
     "data": {
      "text/plain": [
       "'Churchtown'"
      ]
     },
     "execution_count": 42,
     "metadata": {},
     "output_type": "execute_result"
    }
   ],
   "source": [
    "df['Address'].loc[0].split(',')[-2][1:]"
   ]
  },
  {
   "cell_type": "code",
   "execution_count": 37,
   "metadata": {},
   "outputs": [
    {
     "data": {
      "text/plain": [
       "'kilkenny'"
      ]
     },
     "execution_count": 37,
     "metadata": {},
     "output_type": "execute_result"
    }
   ],
   "source": [
    "df['Address'].loc[4].split(',')[-1][1:].split(\" \")[-1].split('.')[-1].lower()"
   ]
  },
  {
   "cell_type": "code",
   "execution_count": 45,
   "metadata": {},
   "outputs": [
    {
     "data": {
      "text/plain": [
       "'11 Melville Heights'"
      ]
     },
     "execution_count": 45,
     "metadata": {},
     "output_type": "execute_result"
    }
   ],
   "source": [
    "df['Address'].loc[4].split(',')[-2].strip()"
   ]
  },
  {
   "cell_type": "code",
   "execution_count": 53,
   "metadata": {},
   "outputs": [],
   "source": [
    "Town = []\n",
    "for i in range(len(df)):\n",
    "    if df['Address'].loc[i].split(',')[-1][1:].split(\" \")[-1].split('.')[-1].lower() == df['County'].loc[i].lower():\n",
    "        if any(char.isdigit() for char in df['Address'].loc[i].split(',')[-2].strip()):\n",
    "            string = re.sub(r\"\\d+\",\"\", df['Address'].loc[i].split(',')[-2].strip())\n",
    "            Town.append(string.lower())\n",
    "        else:\n",
    "            Town.append(df['Address'].loc[i].split(',')[-2].strip().lower())\n",
    "    else:\n",
    "        Town.append(df['Address'].loc[i].split(',')[-1].strip().lower())\n"
   ]
  },
  {
   "cell_type": "code",
   "execution_count": 54,
   "metadata": {},
   "outputs": [
    {
     "data": {
      "text/plain": [
       "589024"
      ]
     },
     "execution_count": 54,
     "metadata": {},
     "output_type": "execute_result"
    }
   ],
   "source": [
    "len(Town)"
   ]
  },
  {
   "cell_type": "code",
   "execution_count": 55,
   "metadata": {},
   "outputs": [
    {
     "name": "stderr",
     "output_type": "stream",
     "text": [
      "/var/folders/55/j0v2zlbn1575rkmztsycxlfw0000gn/T/ipykernel_26014/3908036172.py:1: SettingWithCopyWarning: \n",
      "A value is trying to be set on a copy of a slice from a DataFrame.\n",
      "Try using .loc[row_indexer,col_indexer] = value instead\n",
      "\n",
      "See the caveats in the documentation: https://pandas.pydata.org/pandas-docs/stable/user_guide/indexing.html#returning-a-view-versus-a-copy\n",
      "  df['Town'] = Town\n"
     ]
    }
   ],
   "source": [
    "df['Town'] = Town"
   ]
  },
  {
   "cell_type": "code",
   "execution_count": 56,
   "metadata": {},
   "outputs": [
    {
     "data": {
      "text/html": [
       "<div>\n",
       "<style scoped>\n",
       "    .dataframe tbody tr th:only-of-type {\n",
       "        vertical-align: middle;\n",
       "    }\n",
       "\n",
       "    .dataframe tbody tr th {\n",
       "        vertical-align: top;\n",
       "    }\n",
       "\n",
       "    .dataframe thead th {\n",
       "        text-align: right;\n",
       "    }\n",
       "</style>\n",
       "<table border=\"1\" class=\"dataframe\">\n",
       "  <thead>\n",
       "    <tr style=\"text-align: right;\">\n",
       "      <th></th>\n",
       "      <th>Date</th>\n",
       "      <th>Address</th>\n",
       "      <th>County</th>\n",
       "      <th>Price</th>\n",
       "      <th>Not Full Market Price</th>\n",
       "      <th>VAT Exclusive</th>\n",
       "      <th>Description of Property</th>\n",
       "      <th>Town</th>\n",
       "    </tr>\n",
       "  </thead>\n",
       "  <tbody>\n",
       "    <tr>\n",
       "      <th>0</th>\n",
       "      <td>01/01/2010</td>\n",
       "      <td>5 Braemor Drive, Churchtown, Co.Dublin</td>\n",
       "      <td>Dublin</td>\n",
       "      <td>343000.0</td>\n",
       "      <td>No</td>\n",
       "      <td>No</td>\n",
       "      <td>Second-Hand</td>\n",
       "      <td>churchtown</td>\n",
       "    </tr>\n",
       "    <tr>\n",
       "      <th>1</th>\n",
       "      <td>03/01/2010</td>\n",
       "      <td>134 Ashewood Walk, Summerhill Lane, Portlaoise</td>\n",
       "      <td>Laois</td>\n",
       "      <td>185000.0</td>\n",
       "      <td>No</td>\n",
       "      <td>Yes</td>\n",
       "      <td>New</td>\n",
       "      <td>portlaoise</td>\n",
       "    </tr>\n",
       "    <tr>\n",
       "      <th>2</th>\n",
       "      <td>04/01/2010</td>\n",
       "      <td>1 Meadow Avenue, Dundrum, Dublin 14</td>\n",
       "      <td>Dublin</td>\n",
       "      <td>438500.0</td>\n",
       "      <td>No</td>\n",
       "      <td>No</td>\n",
       "      <td>Second-Hand</td>\n",
       "      <td>dublin 14</td>\n",
       "    </tr>\n",
       "    <tr>\n",
       "      <th>3</th>\n",
       "      <td>04/01/2010</td>\n",
       "      <td>1 The Haven, Mornington</td>\n",
       "      <td>Meath</td>\n",
       "      <td>400000.0</td>\n",
       "      <td>No</td>\n",
       "      <td>No</td>\n",
       "      <td>Second-Hand</td>\n",
       "      <td>mornington</td>\n",
       "    </tr>\n",
       "    <tr>\n",
       "      <th>4</th>\n",
       "      <td>04/01/2010</td>\n",
       "      <td>11 Melville Heights, Kilkenny</td>\n",
       "      <td>Kilkenny</td>\n",
       "      <td>160000.0</td>\n",
       "      <td>No</td>\n",
       "      <td>No</td>\n",
       "      <td>Second-Hand</td>\n",
       "      <td>melville heights</td>\n",
       "    </tr>\n",
       "    <tr>\n",
       "      <th>...</th>\n",
       "      <td>...</td>\n",
       "      <td>...</td>\n",
       "      <td>...</td>\n",
       "      <td>...</td>\n",
       "      <td>...</td>\n",
       "      <td>...</td>\n",
       "      <td>...</td>\n",
       "      <td>...</td>\n",
       "    </tr>\n",
       "    <tr>\n",
       "      <th>589019</th>\n",
       "      <td>16/03/2023</td>\n",
       "      <td>NO 1 PRIORY HALL, BALLAGHADERREEN, CO ROSCOMMON</td>\n",
       "      <td>Roscommon</td>\n",
       "      <td>135000.0</td>\n",
       "      <td>No</td>\n",
       "      <td>No</td>\n",
       "      <td>Second-Hand</td>\n",
       "      <td>ballaghaderreen</td>\n",
       "    </tr>\n",
       "    <tr>\n",
       "      <th>589020</th>\n",
       "      <td>16/03/2023</td>\n",
       "      <td>RAMPARK, JENKINSTOWN, DUNDALK</td>\n",
       "      <td>Louth</td>\n",
       "      <td>305000.0</td>\n",
       "      <td>No</td>\n",
       "      <td>No</td>\n",
       "      <td>Second-Hand</td>\n",
       "      <td>dundalk</td>\n",
       "    </tr>\n",
       "    <tr>\n",
       "      <th>589021</th>\n",
       "      <td>16/03/2023</td>\n",
       "      <td>ROSSNAPARTEN, LOW ROAD SHROOVE, GREENCASTLE</td>\n",
       "      <td>Donegal</td>\n",
       "      <td>430000.0</td>\n",
       "      <td>No</td>\n",
       "      <td>No</td>\n",
       "      <td>Second-Hand</td>\n",
       "      <td>greencastle</td>\n",
       "    </tr>\n",
       "    <tr>\n",
       "      <th>589022</th>\n",
       "      <td>16/03/2023</td>\n",
       "      <td>THE CAPTAINS TABLE, MEIN, KNOCKNAGOSHEL</td>\n",
       "      <td>Kerry</td>\n",
       "      <td>50000.0</td>\n",
       "      <td>No</td>\n",
       "      <td>No</td>\n",
       "      <td>Second-Hand</td>\n",
       "      <td>knocknagoshel</td>\n",
       "    </tr>\n",
       "    <tr>\n",
       "      <th>589023</th>\n",
       "      <td>16/03/2023</td>\n",
       "      <td>TOSCANA, BALDWINSTOWN, WEXFORD</td>\n",
       "      <td>Wexford</td>\n",
       "      <td>325000.0</td>\n",
       "      <td>No</td>\n",
       "      <td>No</td>\n",
       "      <td>Second-Hand</td>\n",
       "      <td>baldwinstown</td>\n",
       "    </tr>\n",
       "  </tbody>\n",
       "</table>\n",
       "<p>589024 rows × 8 columns</p>\n",
       "</div>"
      ],
      "text/plain": [
       "              Date                                          Address  \\\n",
       "0       01/01/2010           5 Braemor Drive, Churchtown, Co.Dublin   \n",
       "1       03/01/2010   134 Ashewood Walk, Summerhill Lane, Portlaoise   \n",
       "2       04/01/2010              1 Meadow Avenue, Dundrum, Dublin 14   \n",
       "3       04/01/2010                          1 The Haven, Mornington   \n",
       "4       04/01/2010                    11 Melville Heights, Kilkenny   \n",
       "...            ...                                              ...   \n",
       "589019  16/03/2023  NO 1 PRIORY HALL, BALLAGHADERREEN, CO ROSCOMMON   \n",
       "589020  16/03/2023                    RAMPARK, JENKINSTOWN, DUNDALK   \n",
       "589021  16/03/2023      ROSSNAPARTEN, LOW ROAD SHROOVE, GREENCASTLE   \n",
       "589022  16/03/2023          THE CAPTAINS TABLE, MEIN, KNOCKNAGOSHEL   \n",
       "589023  16/03/2023                   TOSCANA, BALDWINSTOWN, WEXFORD   \n",
       "\n",
       "           County     Price Not Full Market Price VAT Exclusive  \\\n",
       "0          Dublin  343000.0                    No            No   \n",
       "1           Laois  185000.0                    No           Yes   \n",
       "2          Dublin  438500.0                    No            No   \n",
       "3           Meath  400000.0                    No            No   \n",
       "4        Kilkenny  160000.0                    No            No   \n",
       "...           ...       ...                   ...           ...   \n",
       "589019  Roscommon  135000.0                    No            No   \n",
       "589020      Louth  305000.0                    No            No   \n",
       "589021    Donegal  430000.0                    No            No   \n",
       "589022      Kerry   50000.0                    No            No   \n",
       "589023    Wexford  325000.0                    No            No   \n",
       "\n",
       "       Description of Property               Town  \n",
       "0                  Second-Hand         churchtown  \n",
       "1                          New         portlaoise  \n",
       "2                  Second-Hand          dublin 14  \n",
       "3                  Second-Hand         mornington  \n",
       "4                  Second-Hand   melville heights  \n",
       "...                        ...                ...  \n",
       "589019             Second-Hand    ballaghaderreen  \n",
       "589020             Second-Hand            dundalk  \n",
       "589021             Second-Hand        greencastle  \n",
       "589022             Second-Hand      knocknagoshel  \n",
       "589023             Second-Hand       baldwinstown  \n",
       "\n",
       "[589024 rows x 8 columns]"
      ]
     },
     "execution_count": 56,
     "metadata": {},
     "output_type": "execute_result"
    }
   ],
   "source": [
    "df"
   ]
  },
  {
   "cell_type": "code",
   "execution_count": 57,
   "metadata": {},
   "outputs": [],
   "source": [
    "d15 = df[df['Town'] == 'dublin 15']"
   ]
  },
  {
   "cell_type": "code",
   "execution_count": 58,
   "metadata": {},
   "outputs": [
    {
     "data": {
      "text/plain": [
       "Date                                                              29/10/2020\n",
       "Address                    1-46 Royal Canal Crescent, Rathborne Park, Dub...\n",
       "County                                                                Dublin\n",
       "Price                                                            16308370.05\n",
       "Not Full Market Price                                                     No\n",
       "VAT Exclusive                                                            Yes\n",
       "Description of Property                                                  New\n",
       "Town                                                               dublin 15\n",
       "Name: 444703, dtype: object"
      ]
     },
     "execution_count": 58,
     "metadata": {},
     "output_type": "execute_result"
    }
   ],
   "source": [
    "d15.loc[d15['Price'].idxmax()]"
   ]
  },
  {
   "cell_type": "code",
   "execution_count": 49,
   "metadata": {},
   "outputs": [
    {
     "data": {
      "text/plain": [
       "Date                                                     10/02/2023\n",
       "Address                    O'Devaney Gardens, Arbour Hill, Dublin 7\n",
       "County                                                       Dublin\n",
       "Price                                                   225000000.0\n",
       "Not Full Market Price                                             1\n",
       "VAT Exclusive                                                     1\n",
       "Description of Property                                         New\n",
       "Town                                                       Dublin 7\n",
       "Name: 585087, dtype: object"
      ]
     },
     "execution_count": 49,
     "metadata": {},
     "output_type": "execute_result"
    }
   ],
   "source": [
    "df.loc[df['Price'].idxmax()]"
   ]
  },
  {
   "cell_type": "code",
   "execution_count": 59,
   "metadata": {},
   "outputs": [],
   "source": [
    "df_cleaned = df[['Date','Town','County','Price','Not Full Market Price','VAT Exclusive','Description of Property']]"
   ]
  },
  {
   "cell_type": "code",
   "execution_count": 60,
   "metadata": {},
   "outputs": [
    {
     "data": {
      "text/html": [
       "<div>\n",
       "<style scoped>\n",
       "    .dataframe tbody tr th:only-of-type {\n",
       "        vertical-align: middle;\n",
       "    }\n",
       "\n",
       "    .dataframe tbody tr th {\n",
       "        vertical-align: top;\n",
       "    }\n",
       "\n",
       "    .dataframe thead th {\n",
       "        text-align: right;\n",
       "    }\n",
       "</style>\n",
       "<table border=\"1\" class=\"dataframe\">\n",
       "  <thead>\n",
       "    <tr style=\"text-align: right;\">\n",
       "      <th></th>\n",
       "      <th>Date</th>\n",
       "      <th>Town</th>\n",
       "      <th>County</th>\n",
       "      <th>Price</th>\n",
       "      <th>Not Full Market Price</th>\n",
       "      <th>VAT Exclusive</th>\n",
       "      <th>Description of Property</th>\n",
       "    </tr>\n",
       "  </thead>\n",
       "  <tbody>\n",
       "    <tr>\n",
       "      <th>0</th>\n",
       "      <td>01/01/2010</td>\n",
       "      <td>churchtown</td>\n",
       "      <td>Dublin</td>\n",
       "      <td>343000.0</td>\n",
       "      <td>No</td>\n",
       "      <td>No</td>\n",
       "      <td>Second-Hand</td>\n",
       "    </tr>\n",
       "    <tr>\n",
       "      <th>1</th>\n",
       "      <td>03/01/2010</td>\n",
       "      <td>portlaoise</td>\n",
       "      <td>Laois</td>\n",
       "      <td>185000.0</td>\n",
       "      <td>No</td>\n",
       "      <td>Yes</td>\n",
       "      <td>New</td>\n",
       "    </tr>\n",
       "    <tr>\n",
       "      <th>2</th>\n",
       "      <td>04/01/2010</td>\n",
       "      <td>dublin 14</td>\n",
       "      <td>Dublin</td>\n",
       "      <td>438500.0</td>\n",
       "      <td>No</td>\n",
       "      <td>No</td>\n",
       "      <td>Second-Hand</td>\n",
       "    </tr>\n",
       "    <tr>\n",
       "      <th>3</th>\n",
       "      <td>04/01/2010</td>\n",
       "      <td>mornington</td>\n",
       "      <td>Meath</td>\n",
       "      <td>400000.0</td>\n",
       "      <td>No</td>\n",
       "      <td>No</td>\n",
       "      <td>Second-Hand</td>\n",
       "    </tr>\n",
       "    <tr>\n",
       "      <th>4</th>\n",
       "      <td>04/01/2010</td>\n",
       "      <td>melville heights</td>\n",
       "      <td>Kilkenny</td>\n",
       "      <td>160000.0</td>\n",
       "      <td>No</td>\n",
       "      <td>No</td>\n",
       "      <td>Second-Hand</td>\n",
       "    </tr>\n",
       "    <tr>\n",
       "      <th>...</th>\n",
       "      <td>...</td>\n",
       "      <td>...</td>\n",
       "      <td>...</td>\n",
       "      <td>...</td>\n",
       "      <td>...</td>\n",
       "      <td>...</td>\n",
       "      <td>...</td>\n",
       "    </tr>\n",
       "    <tr>\n",
       "      <th>589019</th>\n",
       "      <td>16/03/2023</td>\n",
       "      <td>ballaghaderreen</td>\n",
       "      <td>Roscommon</td>\n",
       "      <td>135000.0</td>\n",
       "      <td>No</td>\n",
       "      <td>No</td>\n",
       "      <td>Second-Hand</td>\n",
       "    </tr>\n",
       "    <tr>\n",
       "      <th>589020</th>\n",
       "      <td>16/03/2023</td>\n",
       "      <td>dundalk</td>\n",
       "      <td>Louth</td>\n",
       "      <td>305000.0</td>\n",
       "      <td>No</td>\n",
       "      <td>No</td>\n",
       "      <td>Second-Hand</td>\n",
       "    </tr>\n",
       "    <tr>\n",
       "      <th>589021</th>\n",
       "      <td>16/03/2023</td>\n",
       "      <td>greencastle</td>\n",
       "      <td>Donegal</td>\n",
       "      <td>430000.0</td>\n",
       "      <td>No</td>\n",
       "      <td>No</td>\n",
       "      <td>Second-Hand</td>\n",
       "    </tr>\n",
       "    <tr>\n",
       "      <th>589022</th>\n",
       "      <td>16/03/2023</td>\n",
       "      <td>knocknagoshel</td>\n",
       "      <td>Kerry</td>\n",
       "      <td>50000.0</td>\n",
       "      <td>No</td>\n",
       "      <td>No</td>\n",
       "      <td>Second-Hand</td>\n",
       "    </tr>\n",
       "    <tr>\n",
       "      <th>589023</th>\n",
       "      <td>16/03/2023</td>\n",
       "      <td>baldwinstown</td>\n",
       "      <td>Wexford</td>\n",
       "      <td>325000.0</td>\n",
       "      <td>No</td>\n",
       "      <td>No</td>\n",
       "      <td>Second-Hand</td>\n",
       "    </tr>\n",
       "  </tbody>\n",
       "</table>\n",
       "<p>589024 rows × 7 columns</p>\n",
       "</div>"
      ],
      "text/plain": [
       "              Date               Town     County     Price  \\\n",
       "0       01/01/2010         churchtown     Dublin  343000.0   \n",
       "1       03/01/2010         portlaoise      Laois  185000.0   \n",
       "2       04/01/2010          dublin 14     Dublin  438500.0   \n",
       "3       04/01/2010         mornington      Meath  400000.0   \n",
       "4       04/01/2010   melville heights   Kilkenny  160000.0   \n",
       "...            ...                ...        ...       ...   \n",
       "589019  16/03/2023    ballaghaderreen  Roscommon  135000.0   \n",
       "589020  16/03/2023            dundalk      Louth  305000.0   \n",
       "589021  16/03/2023        greencastle    Donegal  430000.0   \n",
       "589022  16/03/2023      knocknagoshel      Kerry   50000.0   \n",
       "589023  16/03/2023       baldwinstown    Wexford  325000.0   \n",
       "\n",
       "       Not Full Market Price VAT Exclusive Description of Property  \n",
       "0                         No            No             Second-Hand  \n",
       "1                         No           Yes                     New  \n",
       "2                         No            No             Second-Hand  \n",
       "3                         No            No             Second-Hand  \n",
       "4                         No            No             Second-Hand  \n",
       "...                      ...           ...                     ...  \n",
       "589019                    No            No             Second-Hand  \n",
       "589020                    No            No             Second-Hand  \n",
       "589021                    No            No             Second-Hand  \n",
       "589022                    No            No             Second-Hand  \n",
       "589023                    No            No             Second-Hand  \n",
       "\n",
       "[589024 rows x 7 columns]"
      ]
     },
     "execution_count": 60,
     "metadata": {},
     "output_type": "execute_result"
    }
   ],
   "source": [
    "df_cleaned"
   ]
  },
  {
   "cell_type": "code",
   "execution_count": 61,
   "metadata": {},
   "outputs": [],
   "source": [
    "df_cleaned.to_csv('PPR-cleaned.csv',index=False)"
   ]
  },
  {
   "attachments": {},
   "cell_type": "markdown",
   "metadata": {},
   "source": [
    "# EDA"
   ]
  },
  {
   "cell_type": "code",
   "execution_count": 27,
   "metadata": {},
   "outputs": [
    {
     "data": {
      "text/html": [
       "<div>\n",
       "<style scoped>\n",
       "    .dataframe tbody tr th:only-of-type {\n",
       "        vertical-align: middle;\n",
       "    }\n",
       "\n",
       "    .dataframe tbody tr th {\n",
       "        vertical-align: top;\n",
       "    }\n",
       "\n",
       "    .dataframe thead th {\n",
       "        text-align: right;\n",
       "    }\n",
       "</style>\n",
       "<table border=\"1\" class=\"dataframe\">\n",
       "  <thead>\n",
       "    <tr style=\"text-align: right;\">\n",
       "      <th></th>\n",
       "      <th>Date</th>\n",
       "      <th>Town</th>\n",
       "      <th>County</th>\n",
       "      <th>Price</th>\n",
       "      <th>Not Full Market Price</th>\n",
       "      <th>VAT Exclusive</th>\n",
       "      <th>Description of Property</th>\n",
       "    </tr>\n",
       "  </thead>\n",
       "  <tbody>\n",
       "    <tr>\n",
       "      <th>0</th>\n",
       "      <td>01/01/2010</td>\n",
       "      <td>churchtown</td>\n",
       "      <td>Dublin</td>\n",
       "      <td>343000.0</td>\n",
       "      <td>No</td>\n",
       "      <td>No</td>\n",
       "      <td>Second-Hand</td>\n",
       "    </tr>\n",
       "    <tr>\n",
       "      <th>1</th>\n",
       "      <td>03/01/2010</td>\n",
       "      <td>portlaoise</td>\n",
       "      <td>Laois</td>\n",
       "      <td>185000.0</td>\n",
       "      <td>No</td>\n",
       "      <td>Yes</td>\n",
       "      <td>New</td>\n",
       "    </tr>\n",
       "    <tr>\n",
       "      <th>2</th>\n",
       "      <td>04/01/2010</td>\n",
       "      <td>dublin 14</td>\n",
       "      <td>Dublin</td>\n",
       "      <td>438500.0</td>\n",
       "      <td>No</td>\n",
       "      <td>No</td>\n",
       "      <td>Second-Hand</td>\n",
       "    </tr>\n",
       "    <tr>\n",
       "      <th>3</th>\n",
       "      <td>04/01/2010</td>\n",
       "      <td>mornington</td>\n",
       "      <td>Meath</td>\n",
       "      <td>400000.0</td>\n",
       "      <td>No</td>\n",
       "      <td>No</td>\n",
       "      <td>Second-Hand</td>\n",
       "    </tr>\n",
       "    <tr>\n",
       "      <th>4</th>\n",
       "      <td>04/01/2010</td>\n",
       "      <td>melville heights</td>\n",
       "      <td>Kilkenny</td>\n",
       "      <td>160000.0</td>\n",
       "      <td>No</td>\n",
       "      <td>No</td>\n",
       "      <td>Second-Hand</td>\n",
       "    </tr>\n",
       "  </tbody>\n",
       "</table>\n",
       "</div>"
      ],
      "text/plain": [
       "         Date               Town    County     Price Not Full Market Price  \\\n",
       "0  01/01/2010         churchtown    Dublin  343000.0                    No   \n",
       "1  03/01/2010         portlaoise     Laois  185000.0                    No   \n",
       "2  04/01/2010          dublin 14    Dublin  438500.0                    No   \n",
       "3  04/01/2010         mornington     Meath  400000.0                    No   \n",
       "4  04/01/2010   melville heights  Kilkenny  160000.0                    No   \n",
       "\n",
       "  VAT Exclusive Description of Property  \n",
       "0            No             Second-Hand  \n",
       "1           Yes                     New  \n",
       "2            No             Second-Hand  \n",
       "3            No             Second-Hand  \n",
       "4            No             Second-Hand  "
      ]
     },
     "execution_count": 27,
     "metadata": {},
     "output_type": "execute_result"
    }
   ],
   "source": [
    "df = pd.read_csv('PPR-cleaned.csv')\n",
    "df.head()"
   ]
  },
  {
   "cell_type": "code",
   "execution_count": 28,
   "metadata": {},
   "outputs": [
    {
     "name": "stderr",
     "output_type": "stream",
     "text": [
      "/var/folders/55/j0v2zlbn1575rkmztsycxlfw0000gn/T/ipykernel_28266/2442068185.py:1: UserWarning: Parsing dates in DD/MM/YYYY format when dayfirst=False (the default) was specified. This may lead to inconsistently parsed dates! Specify a format to ensure consistent parsing.\n",
      "  df['Date'] = pd.to_datetime(df['Date'], infer_datetime_format=True)\n"
     ]
    }
   ],
   "source": [
    "df['Date'] = pd.to_datetime(df['Date'], infer_datetime_format=True)\n"
   ]
  },
  {
   "cell_type": "code",
   "execution_count": 2,
   "metadata": {},
   "outputs": [],
   "source": [
    "# fig = px.scatter(df, x=\"Date\", y=\"Price\", size=\"Price\", hover_data=[\"Town\",\"County\",\"Price\",\"Description of Property\"])"
   ]
  },
  {
   "cell_type": "code",
   "execution_count": 1,
   "metadata": {},
   "outputs": [],
   "source": [
    "# # Add dropdown menu for county selection\n",
    "# fig.update_layout(\n",
    "#     updatemenus=[\n",
    "#         dict(\n",
    "#             type=\"dropdown\",\n",
    "#             buttons=list([\n",
    "#                 dict(label=county, method=\"update\", args=[{\"visible\": df['County'] == county}, {\"title\": county}])\n",
    "#                 for county in df['County'].unique()\n",
    "#             ]),\n",
    "#             direction=\"down\",\n",
    "#             showactive=True,\n",
    "#             x=1.1, y=1.2\n",
    "#         ),\n",
    "#     ]\n",
    "# )\n",
    "\n",
    "# # Set the initial title to be the first county in the dropdown\n",
    "# fig.update_layout(title=df['County'].unique()[0])\n",
    "\n",
    "# # Show the plot\n",
    "# fig.show()\n"
   ]
  },
  {
   "cell_type": "code",
   "execution_count": 5,
   "metadata": {},
   "outputs": [
    {
     "data": {
      "text/plain": [
       "dublin 15                   7276\n",
       "dundalk                     5745\n",
       "drogheda                    5638\n",
       "lucan                       5489\n",
       "swords                      5150\n",
       "                            ... \n",
       " kilbrittain village           1\n",
       "loyola park                    1\n",
       " michael fitzgerald road       1\n",
       "louth end                      1\n",
       "sweetman rd                    1\n",
       "Name: Town, Length: 26575, dtype: int64"
      ]
     },
     "execution_count": 5,
     "metadata": {},
     "output_type": "execute_result"
    }
   ],
   "source": [
    "df.Town.value_counts()"
   ]
  },
  {
   "cell_type": "code",
   "execution_count": 34,
   "metadata": {},
   "outputs": [],
   "source": [
    "df['Town'] = df['Town'].str.replace(r'\\broad\\b', 'rd', regex=True)"
   ]
  },
  {
   "cell_type": "code",
   "execution_count": 29,
   "metadata": {},
   "outputs": [
    {
     "data": {
      "text/plain": [
       "<AxesSubplot: >"
      ]
     },
     "execution_count": 29,
     "metadata": {},
     "output_type": "execute_result"
    },
    {
     "data": {
      "image/png": "[encoded data removed]",
      "text/plain": [
       "<Figure size 640x480 with 1 Axes>"
      ]
     },
     "metadata": {},
     "output_type": "display_data"
    }
   ],
   "source": [
    "towncount = df.Town.value_counts()\n",
    "towncount1000 = towncount[towncount>3000]\n",
    "towncount1000.plot.bar()"
   ]
  },
  {
   "cell_type": "code",
   "execution_count": 30,
   "metadata": {},
   "outputs": [],
   "source": [
    "county_to_province = {\n",
    "    'Carlow': 'Leinster',\n",
    "    'Cavan': 'Ulster',\n",
    "    'Clare': 'Munster',\n",
    "    'Cork': 'Munster',\n",
    "    'Donegal': 'Ulster',\n",
    "    'Dublin': 'Leinster',\n",
    "    'Galway': 'Connacht',\n",
    "    'Kerry': 'Munster',\n",
    "    'Kildare': 'Leinster',\n",
    "    'Kilkenny': 'Leinster',\n",
    "    'Laois': 'Leinster',\n",
    "    'Leitrim': 'Connacht',\n",
    "    'Limerick': 'Munster',\n",
    "    'Longford': 'Leinster',\n",
    "    'Louth': 'Leinster',\n",
    "    'Mayo': 'Connacht',\n",
    "    'Meath': 'Leinster',\n",
    "    'Monaghan': 'Ulster',\n",
    "    'Offaly': 'Leinster',\n",
    "    'Roscommon': 'Connacht',\n",
    "    'Sligo': 'Connacht',\n",
    "    'Tipperary': 'Munster',\n",
    "    'Waterford': 'Munster',\n",
    "    'Westmeath': 'Leinster',\n",
    "    'Wexford': 'Leinster',\n",
    "    'Wicklow': 'Leinster'\n",
    "}\n",
    "\n",
    "df['Province'] = df['County'].map(county_to_province)"
   ]
  },
  {
   "cell_type": "code",
   "execution_count": 31,
   "metadata": {},
   "outputs": [
    {
     "data": {
      "text/html": [
       "<div>\n",
       "<style scoped>\n",
       "    .dataframe tbody tr th:only-of-type {\n",
       "        vertical-align: middle;\n",
       "    }\n",
       "\n",
       "    .dataframe tbody tr th {\n",
       "        vertical-align: top;\n",
       "    }\n",
       "\n",
       "    .dataframe thead th {\n",
       "        text-align: right;\n",
       "    }\n",
       "</style>\n",
       "<table border=\"1\" class=\"dataframe\">\n",
       "  <thead>\n",
       "    <tr style=\"text-align: right;\">\n",
       "      <th></th>\n",
       "      <th>Date</th>\n",
       "      <th>Town</th>\n",
       "      <th>County</th>\n",
       "      <th>Price</th>\n",
       "      <th>Not Full Market Price</th>\n",
       "      <th>VAT Exclusive</th>\n",
       "      <th>Description of Property</th>\n",
       "      <th>Province</th>\n",
       "    </tr>\n",
       "  </thead>\n",
       "  <tbody>\n",
       "    <tr>\n",
       "      <th>0</th>\n",
       "      <td>2010-01-01</td>\n",
       "      <td>churchtown</td>\n",
       "      <td>Dublin</td>\n",
       "      <td>343000.0</td>\n",
       "      <td>No</td>\n",
       "      <td>No</td>\n",
       "      <td>Second-Hand</td>\n",
       "      <td>Leinster</td>\n",
       "    </tr>\n",
       "    <tr>\n",
       "      <th>1</th>\n",
       "      <td>2010-03-01</td>\n",
       "      <td>portlaoise</td>\n",
       "      <td>Laois</td>\n",
       "      <td>185000.0</td>\n",
       "      <td>No</td>\n",
       "      <td>Yes</td>\n",
       "      <td>New</td>\n",
       "      <td>Leinster</td>\n",
       "    </tr>\n",
       "    <tr>\n",
       "      <th>2</th>\n",
       "      <td>2010-04-01</td>\n",
       "      <td>dublin 14</td>\n",
       "      <td>Dublin</td>\n",
       "      <td>438500.0</td>\n",
       "      <td>No</td>\n",
       "      <td>No</td>\n",
       "      <td>Second-Hand</td>\n",
       "      <td>Leinster</td>\n",
       "    </tr>\n",
       "    <tr>\n",
       "      <th>3</th>\n",
       "      <td>2010-04-01</td>\n",
       "      <td>mornington</td>\n",
       "      <td>Meath</td>\n",
       "      <td>400000.0</td>\n",
       "      <td>No</td>\n",
       "      <td>No</td>\n",
       "      <td>Second-Hand</td>\n",
       "      <td>Leinster</td>\n",
       "    </tr>\n",
       "    <tr>\n",
       "      <th>4</th>\n",
       "      <td>2010-04-01</td>\n",
       "      <td>melville heights</td>\n",
       "      <td>Kilkenny</td>\n",
       "      <td>160000.0</td>\n",
       "      <td>No</td>\n",
       "      <td>No</td>\n",
       "      <td>Second-Hand</td>\n",
       "      <td>Leinster</td>\n",
       "    </tr>\n",
       "    <tr>\n",
       "      <th>...</th>\n",
       "      <td>...</td>\n",
       "      <td>...</td>\n",
       "      <td>...</td>\n",
       "      <td>...</td>\n",
       "      <td>...</td>\n",
       "      <td>...</td>\n",
       "      <td>...</td>\n",
       "      <td>...</td>\n",
       "    </tr>\n",
       "    <tr>\n",
       "      <th>589019</th>\n",
       "      <td>2023-03-16</td>\n",
       "      <td>ballaghaderreen</td>\n",
       "      <td>Roscommon</td>\n",
       "      <td>135000.0</td>\n",
       "      <td>No</td>\n",
       "      <td>No</td>\n",
       "      <td>Second-Hand</td>\n",
       "      <td>Connacht</td>\n",
       "    </tr>\n",
       "    <tr>\n",
       "      <th>589020</th>\n",
       "      <td>2023-03-16</td>\n",
       "      <td>dundalk</td>\n",
       "      <td>Louth</td>\n",
       "      <td>305000.0</td>\n",
       "      <td>No</td>\n",
       "      <td>No</td>\n",
       "      <td>Second-Hand</td>\n",
       "      <td>Leinster</td>\n",
       "    </tr>\n",
       "    <tr>\n",
       "      <th>589021</th>\n",
       "      <td>2023-03-16</td>\n",
       "      <td>greencastle</td>\n",
       "      <td>Donegal</td>\n",
       "      <td>430000.0</td>\n",
       "      <td>No</td>\n",
       "      <td>No</td>\n",
       "      <td>Second-Hand</td>\n",
       "      <td>Ulster</td>\n",
       "    </tr>\n",
       "    <tr>\n",
       "      <th>589022</th>\n",
       "      <td>2023-03-16</td>\n",
       "      <td>knocknagoshel</td>\n",
       "      <td>Kerry</td>\n",
       "      <td>50000.0</td>\n",
       "      <td>No</td>\n",
       "      <td>No</td>\n",
       "      <td>Second-Hand</td>\n",
       "      <td>Munster</td>\n",
       "    </tr>\n",
       "    <tr>\n",
       "      <th>589023</th>\n",
       "      <td>2023-03-16</td>\n",
       "      <td>baldwinstown</td>\n",
       "      <td>Wexford</td>\n",
       "      <td>325000.0</td>\n",
       "      <td>No</td>\n",
       "      <td>No</td>\n",
       "      <td>Second-Hand</td>\n",
       "      <td>Leinster</td>\n",
       "    </tr>\n",
       "  </tbody>\n",
       "</table>\n",
       "<p>589024 rows × 8 columns</p>\n",
       "</div>"
      ],
      "text/plain": [
       "             Date               Town     County     Price  \\\n",
       "0      2010-01-01         churchtown     Dublin  343000.0   \n",
       "1      2010-03-01         portlaoise      Laois  185000.0   \n",
       "2      2010-04-01          dublin 14     Dublin  438500.0   \n",
       "3      2010-04-01         mornington      Meath  400000.0   \n",
       "4      2010-04-01   melville heights   Kilkenny  160000.0   \n",
       "...           ...                ...        ...       ...   \n",
       "589019 2023-03-16    ballaghaderreen  Roscommon  135000.0   \n",
       "589020 2023-03-16            dundalk      Louth  305000.0   \n",
       "589021 2023-03-16        greencastle    Donegal  430000.0   \n",
       "589022 2023-03-16      knocknagoshel      Kerry   50000.0   \n",
       "589023 2023-03-16       baldwinstown    Wexford  325000.0   \n",
       "\n",
       "       Not Full Market Price VAT Exclusive Description of Property  Province  \n",
       "0                         No            No             Second-Hand  Leinster  \n",
       "1                         No           Yes                     New  Leinster  \n",
       "2                         No            No             Second-Hand  Leinster  \n",
       "3                         No            No             Second-Hand  Leinster  \n",
       "4                         No            No             Second-Hand  Leinster  \n",
       "...                      ...           ...                     ...       ...  \n",
       "589019                    No            No             Second-Hand  Connacht  \n",
       "589020                    No            No             Second-Hand  Leinster  \n",
       "589021                    No            No             Second-Hand    Ulster  \n",
       "589022                    No            No             Second-Hand   Munster  \n",
       "589023                    No            No             Second-Hand  Leinster  \n",
       "\n",
       "[589024 rows x 8 columns]"
      ]
     },
     "execution_count": 31,
     "metadata": {},
     "output_type": "execute_result"
    }
   ],
   "source": [
    "df"
   ]
  },
  {
   "cell_type": "code",
   "execution_count": 24,
   "metadata": {},
   "outputs": [
    {
     "data": {
      "text/plain": [
       "<AxesSubplot: >"
      ]
     },
     "execution_count": 24,
     "metadata": {},
     "output_type": "execute_result"
    },
    {
     "data": {
      "image/png": "[encoded data removed]",
      "text/plain": [
       "<Figure size 640x480 with 1 Axes>"
      ]
     },
     "metadata": {},
     "output_type": "display_data"
    }
   ],
   "source": [
    "province = df.Province.value_counts()\n",
    "province.plot.bar()\n"
   ]
  },
  {
   "cell_type": "code",
   "execution_count": 35,
   "metadata": {},
   "outputs": [],
   "source": [
    "carlowcount = df[df['County'] == \"Carlow\"].Town.value_counts()"
   ]
  },
  {
   "cell_type": "code",
   "execution_count": 36,
   "metadata": {},
   "outputs": [
    {
     "data": {
      "text/plain": [
       "tullow            819\n",
       "tullow rd         493\n",
       "bagenalstown      371\n",
       "carlow            318\n",
       "graiguecullen     254\n",
       "browneshill rd    203\n",
       "pollerton         181\n",
       "dublin rd         171\n",
       "rathvilly         151\n",
       "borris            138\n",
       "leighlinbridge    136\n",
       "kilkenny rd       112\n",
       "hacketstown       109\n",
       "quinagh           108\n",
       "ballon             90\n",
       "burrin rd          84\n",
       "blackbog rd        78\n",
       "fenagh             73\n",
       "myshall            71\n",
       "carlow town        61\n",
       "athy rd            59\n",
       "hacketstown rd     58\n",
       "leighlin rd        53\n",
       "Name: Town, dtype: int64"
      ]
     },
     "execution_count": 36,
     "metadata": {},
     "output_type": "execute_result"
    }
   ],
   "source": [
    "carlowcount[carlowcount > 50]"
   ]
  },
  {
   "cell_type": "code",
   "execution_count": 40,
   "metadata": {},
   "outputs": [],
   "source": [
    "towncount200 = towncount[towncount > 200]"
   ]
  },
  {
   "cell_type": "code",
   "execution_count": 41,
   "metadata": {},
   "outputs": [
    {
     "data": {
      "text/plain": [
       "<AxesSubplot: ylabel='Frequency'>"
      ]
     },
     "execution_count": 41,
     "metadata": {},
     "output_type": "execute_result"
    },
    {
     "data": {
      "image/png": "[encoded data removed]",
      "text/plain": [
       "<Figure size 640x480 with 1 Axes>"
      ]
     },
     "metadata": {},
     "output_type": "display_data"
    }
   ],
   "source": [
    "towncount200.plot.hist()"
   ]
  },
  {
   "cell_type": "code",
   "execution_count": 44,
   "metadata": {},
   "outputs": [],
   "source": [
    "df = df[df['Town'].isin(towncount200.index)]"
   ]
  },
  {
   "cell_type": "code",
   "execution_count": 45,
   "metadata": {},
   "outputs": [
    {
     "data": {
      "text/html": [
       "<div>\n",
       "<style scoped>\n",
       "    .dataframe tbody tr th:only-of-type {\n",
       "        vertical-align: middle;\n",
       "    }\n",
       "\n",
       "    .dataframe tbody tr th {\n",
       "        vertical-align: top;\n",
       "    }\n",
       "\n",
       "    .dataframe thead th {\n",
       "        text-align: right;\n",
       "    }\n",
       "</style>\n",
       "<table border=\"1\" class=\"dataframe\">\n",
       "  <thead>\n",
       "    <tr style=\"text-align: right;\">\n",
       "      <th></th>\n",
       "      <th>Date</th>\n",
       "      <th>Town</th>\n",
       "      <th>County</th>\n",
       "      <th>Price</th>\n",
       "      <th>Not Full Market Price</th>\n",
       "      <th>VAT Exclusive</th>\n",
       "      <th>Description of Property</th>\n",
       "      <th>Province</th>\n",
       "    </tr>\n",
       "  </thead>\n",
       "  <tbody>\n",
       "    <tr>\n",
       "      <th>0</th>\n",
       "      <td>2010-01-01</td>\n",
       "      <td>churchtown</td>\n",
       "      <td>Dublin</td>\n",
       "      <td>343000.0</td>\n",
       "      <td>No</td>\n",
       "      <td>No</td>\n",
       "      <td>Second-Hand</td>\n",
       "      <td>Leinster</td>\n",
       "    </tr>\n",
       "    <tr>\n",
       "      <th>1</th>\n",
       "      <td>2010-03-01</td>\n",
       "      <td>portlaoise</td>\n",
       "      <td>Laois</td>\n",
       "      <td>185000.0</td>\n",
       "      <td>No</td>\n",
       "      <td>Yes</td>\n",
       "      <td>New</td>\n",
       "      <td>Leinster</td>\n",
       "    </tr>\n",
       "    <tr>\n",
       "      <th>2</th>\n",
       "      <td>2010-04-01</td>\n",
       "      <td>dublin 14</td>\n",
       "      <td>Dublin</td>\n",
       "      <td>438500.0</td>\n",
       "      <td>No</td>\n",
       "      <td>No</td>\n",
       "      <td>Second-Hand</td>\n",
       "      <td>Leinster</td>\n",
       "    </tr>\n",
       "    <tr>\n",
       "      <th>3</th>\n",
       "      <td>2010-04-01</td>\n",
       "      <td>mornington</td>\n",
       "      <td>Meath</td>\n",
       "      <td>400000.0</td>\n",
       "      <td>No</td>\n",
       "      <td>No</td>\n",
       "      <td>Second-Hand</td>\n",
       "      <td>Leinster</td>\n",
       "    </tr>\n",
       "    <tr>\n",
       "      <th>5</th>\n",
       "      <td>2010-04-01</td>\n",
       "      <td>ranelagh</td>\n",
       "      <td>Dublin</td>\n",
       "      <td>425000.0</td>\n",
       "      <td>No</td>\n",
       "      <td>No</td>\n",
       "      <td>Second-Hand</td>\n",
       "      <td>Leinster</td>\n",
       "    </tr>\n",
       "    <tr>\n",
       "      <th>...</th>\n",
       "      <td>...</td>\n",
       "      <td>...</td>\n",
       "      <td>...</td>\n",
       "      <td>...</td>\n",
       "      <td>...</td>\n",
       "      <td>...</td>\n",
       "      <td>...</td>\n",
       "      <td>...</td>\n",
       "    </tr>\n",
       "    <tr>\n",
       "      <th>589016</th>\n",
       "      <td>2023-03-16</td>\n",
       "      <td>portumna</td>\n",
       "      <td>Galway</td>\n",
       "      <td>110000.0</td>\n",
       "      <td>No</td>\n",
       "      <td>No</td>\n",
       "      <td>Second-Hand</td>\n",
       "      <td>Connacht</td>\n",
       "    </tr>\n",
       "    <tr>\n",
       "      <th>589017</th>\n",
       "      <td>2023-03-16</td>\n",
       "      <td>clarina</td>\n",
       "      <td>Limerick</td>\n",
       "      <td>76000.0</td>\n",
       "      <td>Yes</td>\n",
       "      <td>No</td>\n",
       "      <td>Second-Hand</td>\n",
       "      <td>Munster</td>\n",
       "    </tr>\n",
       "    <tr>\n",
       "      <th>589018</th>\n",
       "      <td>2023-03-16</td>\n",
       "      <td>carrickmacross</td>\n",
       "      <td>Monaghan</td>\n",
       "      <td>40000.0</td>\n",
       "      <td>No</td>\n",
       "      <td>No</td>\n",
       "      <td>Second-Hand</td>\n",
       "      <td>Ulster</td>\n",
       "    </tr>\n",
       "    <tr>\n",
       "      <th>589019</th>\n",
       "      <td>2023-03-16</td>\n",
       "      <td>ballaghaderreen</td>\n",
       "      <td>Roscommon</td>\n",
       "      <td>135000.0</td>\n",
       "      <td>No</td>\n",
       "      <td>No</td>\n",
       "      <td>Second-Hand</td>\n",
       "      <td>Connacht</td>\n",
       "    </tr>\n",
       "    <tr>\n",
       "      <th>589020</th>\n",
       "      <td>2023-03-16</td>\n",
       "      <td>dundalk</td>\n",
       "      <td>Louth</td>\n",
       "      <td>305000.0</td>\n",
       "      <td>No</td>\n",
       "      <td>No</td>\n",
       "      <td>Second-Hand</td>\n",
       "      <td>Leinster</td>\n",
       "    </tr>\n",
       "  </tbody>\n",
       "</table>\n",
       "<p>421313 rows × 8 columns</p>\n",
       "</div>"
      ],
      "text/plain": [
       "             Date             Town     County     Price Not Full Market Price  \\\n",
       "0      2010-01-01       churchtown     Dublin  343000.0                    No   \n",
       "1      2010-03-01       portlaoise      Laois  185000.0                    No   \n",
       "2      2010-04-01        dublin 14     Dublin  438500.0                    No   \n",
       "3      2010-04-01       mornington      Meath  400000.0                    No   \n",
       "5      2010-04-01         ranelagh     Dublin  425000.0                    No   \n",
       "...           ...              ...        ...       ...                   ...   \n",
       "589016 2023-03-16         portumna     Galway  110000.0                    No   \n",
       "589017 2023-03-16          clarina   Limerick   76000.0                   Yes   \n",
       "589018 2023-03-16   carrickmacross   Monaghan   40000.0                    No   \n",
       "589019 2023-03-16  ballaghaderreen  Roscommon  135000.0                    No   \n",
       "589020 2023-03-16          dundalk      Louth  305000.0                    No   \n",
       "\n",
       "       VAT Exclusive Description of Property  Province  \n",
       "0                 No             Second-Hand  Leinster  \n",
       "1                Yes                     New  Leinster  \n",
       "2                 No             Second-Hand  Leinster  \n",
       "3                 No             Second-Hand  Leinster  \n",
       "5                 No             Second-Hand  Leinster  \n",
       "...              ...                     ...       ...  \n",
       "589016            No             Second-Hand  Connacht  \n",
       "589017            No             Second-Hand   Munster  \n",
       "589018            No             Second-Hand    Ulster  \n",
       "589019            No             Second-Hand  Connacht  \n",
       "589020            No             Second-Hand  Leinster  \n",
       "\n",
       "[421313 rows x 8 columns]"
      ]
     },
     "execution_count": 45,
     "metadata": {},
     "output_type": "execute_result"
    }
   ],
   "source": [
    "df"
   ]
  },
  {
   "cell_type": "code",
   "execution_count": 47,
   "metadata": {},
   "outputs": [
    {
     "data": {
      "text/plain": [
       "dublin 15              7276\n",
       "dundalk                5745\n",
       "drogheda               5638\n",
       "lucan                  5489\n",
       "swords                 5150\n",
       "                       ... \n",
       "ramelton                203\n",
       "galway city             202\n",
       "sandymount dublin 4     202\n",
       "lehenaghmore            201\n",
       "cloughjordan            201\n",
       "Name: Town, Length: 471, dtype: int64"
      ]
     },
     "execution_count": 47,
     "metadata": {},
     "output_type": "execute_result"
    }
   ],
   "source": [
    "df.Town.value_counts()"
   ]
  },
  {
   "cell_type": "code",
   "execution_count": 48,
   "metadata": {},
   "outputs": [],
   "source": [
    "df.to_csv(\"PPR-cleaned-v2.csv\",index=False)"
   ]
  },
  {
   "cell_type": "code",
   "execution_count": null,
   "metadata": {},
   "outputs": [],
   "source": []
  }
 ],
 "metadata": {
  "kernelspec": {
   "display_name": "SETU",
   "language": "python",
   "name": "python3"
  },
  "language_info": {
   "codemirror_mode": {
    "name": "ipython",
    "version": 3
   },
   "file_extension": ".py",
   "mimetype": "text/x-python",
   "name": "python",
   "nbconvert_exporter": "python",
   "pygments_lexer": "ipython3",
   "version": "3.11.0"
  },
  "orig_nbformat": 4,
  "vscode": {
   "interpreter": {
    "hash": "ff778bb84de403b879a2a3a81e0324fefed53b98b7dd856ef24aa02bb0fee508"
   }
  }
 },
 "nbformat": 4,
 "nbformat_minor": 2
}
