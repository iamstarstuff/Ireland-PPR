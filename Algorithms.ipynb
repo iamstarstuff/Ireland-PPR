{
 "cells": [
  {
   "cell_type": "code",
   "execution_count": 1,
   "id": "2862f64c",
   "metadata": {
    "ExecuteTime": {
     "end_time": "2023-04-15T16:20:06.794472Z",
     "start_time": "2023-04-15T16:19:37.401950Z"
    }
   },
   "outputs": [
    {
     "name": "stderr",
     "output_type": "stream",
     "text": [
      "2023-04-19 10:24:15.442860: I tensorflow/core/platform/cpu_feature_guard.cc:182] This TensorFlow binary is optimized to use available CPU instructions in performance-critical operations.\n",
      "To enable the following instructions: AVX2 FMA, in other operations, rebuild TensorFlow with the appropriate compiler flags.\n"
     ]
    }
   ],
   "source": [
    "import os\n",
    "import numpy as np\n",
    "import pandas as pd\n",
    "import seaborn as sns\n",
    "import plotly.express as px\n",
    "from datetime import datetime\n",
    "import matplotlib.pyplot as plt\n",
    "import plotly.graph_objects as go\n",
    "\n",
    "from sklearn.preprocessing import LabelEncoder\n",
    "from sklearn.preprocessing import OneHotEncoder\n",
    "from sklearn.preprocessing import LabelBinarizer\n",
    "from sklearn.preprocessing import MinMaxScaler\n",
    "from sklearn.preprocessing import StandardScaler\n",
    "\n",
    "from sklearn.cluster import KMeans\n",
    "from sklearn.tree import DecisionTreeRegressor\n",
    "from sklearn.linear_model import LinearRegression\n",
    "from sklearn.model_selection import train_test_split\n",
    "from sklearn.model_selection import cross_val_score\n",
    "from sklearn.ensemble import RandomForestRegressor\n",
    "from sklearn.ensemble import GradientBoostingRegressor\n",
    "\n",
    "from sklearn.metrics import r2_score, mean_squared_error\n",
    "\n",
    "from tensorflow.keras.models import Sequential\n",
    "from tensorflow.keras.layers import Dense, LSTM\n",
    "\n",
    "os.environ['TF_CPP_MIN_LOG_LEVEL'] = '3'\n",
    "\n",
    "from statsmodels.tsa.arima.model import ARIMA\n",
    "from statsmodels.tsa.statespace.sarimax import SARIMAX"
   ]
  },
  {
   "cell_type": "code",
   "execution_count": 2,
   "id": "45d5a435",
   "metadata": {
    "ExecuteTime": {
     "end_time": "2023-04-15T16:20:23.859011Z",
     "start_time": "2023-04-15T16:20:23.275833Z"
    }
   },
   "outputs": [
    {
     "name": "stderr",
     "output_type": "stream",
     "text": [
      "/var/folders/55/j0v2zlbn1575rkmztsycxlfw0000gn/T/ipykernel_33889/1365018266.py:2: UserWarning: The argument 'infer_datetime_format' is deprecated and will be removed in a future version. A strict version of it is now the default, see https://pandas.pydata.org/pdeps/0004-consistent-to-datetime-parsing.html. You can safely remove this argument.\n",
      "  df['Date'] = pd.to_datetime(df['Date'], infer_datetime_format=True)\n"
     ]
    }
   ],
   "source": [
    "df = pd.read_csv('PPR-cleaned-v2.csv')\n",
    "df['Date'] = pd.to_datetime(df['Date'], infer_datetime_format=True)\n",
    "df = df.set_index('Date')"
   ]
  },
  {
   "attachments": {},
   "cell_type": "markdown",
   "id": "f935db1a",
   "metadata": {},
   "source": [
    "## LSTM"
   ]
  },
  {
   "cell_type": "code",
   "execution_count": 3,
   "id": "90b89145",
   "metadata": {
    "ExecuteTime": {
     "end_time": "2023-04-15T16:20:25.247706Z",
     "start_time": "2023-04-15T16:20:25.237658Z"
    }
   },
   "outputs": [],
   "source": [
    "def LSTM5yearpredict(county, town):\n",
    "    df = pd.read_csv('PPR-cleaned-v2.csv')\n",
    "    df['Date'] = pd.to_datetime(df['Date'], infer_datetime_format=True)\n",
    "\n",
    "    df = df.set_index('Date')\n",
    "\n",
    "    # county = 'Carlow'\n",
    "    # town = 'tullow'\n",
    "    df = df.loc[(df['County'] == county) & (df['Town'] == town)]\n",
    "\n",
    "    # prepare the data\n",
    "    scaler = MinMaxScaler()\n",
    "    df_scaled = scaler.fit_transform(df['Price'].values.reshape(-1, 1))\n",
    "\n",
    "    X_train, y_train = [], []\n",
    "    for i in range(60, len(df)):\n",
    "        X_train.append(df_scaled[i-60:i, 0])\n",
    "        y_train.append(df_scaled[i, 0])\n",
    "    X_train, y_train = np.array(X_train), np.array(y_train)\n",
    "\n",
    "    # reshape the data for LSTM model\n",
    "    X_train = np.reshape(X_train, (X_train.shape[0], X_train.shape[1], 1))\n",
    "\n",
    "    # define the LSTM model\n",
    "    model = Sequential()\n",
    "    model.add(LSTM(units=50, return_sequences=True, input_shape=(X_train.shape[1], 1)))\n",
    "    model.add(LSTM(units=50, return_sequences=True))\n",
    "    model.add(LSTM(units=50))\n",
    "    model.add(Dense(units=1))\n",
    "\n",
    "    # compile the model\n",
    "    model.compile(optimizer='adam', loss='mean_squared_error')\n",
    "\n",
    "    # train the model\n",
    "    model.fit(X_train, y_train, epochs=50, batch_size=32)\n",
    "\n",
    "    # predict the next 5 years of property prices\n",
    "    future_dates = pd.date_range(start=df.index[-1]+pd.DateOffset(years=1), periods=5, freq='YS')\n",
    "    future_prices = []\n",
    "    last_60_days = df_scaled[-60:]\n",
    "\n",
    "    for i in range(5):\n",
    "        input_data = last_60_days.reshape(1, -1, 1)\n",
    "        prediction = model.predict(input_data)\n",
    "        future_prices.append(prediction[0, 0])\n",
    "        last_60_days = np.concatenate([last_60_days[1:], prediction], axis=0)\n",
    "\n",
    "    future_prices = scaler.inverse_transform(np.array(future_prices).reshape(-1, 1))\n",
    "    \n",
    "    predicted = []\n",
    "    dates = []\n",
    "\n",
    "    # print the predicted prices\n",
    "    for date, price in zip(future_dates, future_prices):\n",
    "        #print(f\"Predicted property price for {town}, {county} on {date}: €{price[0]:,.2f}\")\n",
    "        predicted.append(price[0])\n",
    "        dates.append(date)\n",
    "    return pd.to_datetime(dates),predicted"
   ]
  },
  {
   "attachments": {},
   "cell_type": "markdown",
   "id": "2fcb7f83",
   "metadata": {},
   "source": [
    "## Gradient Boost"
   ]
  },
  {
   "cell_type": "code",
   "execution_count": 4,
   "id": "699efac8",
   "metadata": {
    "ExecuteTime": {
     "end_time": "2023-04-15T16:20:26.883366Z",
     "start_time": "2023-04-15T16:20:26.874728Z"
    }
   },
   "outputs": [],
   "source": [
    "def GB5yearpredict(county, town):\n",
    "    df = pd.read_csv('PPR-cleaned-v2.csv')\n",
    "    df['Date'] = pd.to_datetime(df['Date'], infer_datetime_format=True)\n",
    "\n",
    "    df = df.set_index('Date')\n",
    "\n",
    "    # county = 'Carlow'\n",
    "    # town = 'tullow'\n",
    "    df = df.loc[(df['County'] == county) & (df['Town'] == town)]\n",
    "\n",
    "    # prepare the data\n",
    "    scaler = MinMaxScaler()\n",
    "    df_scaled = scaler.fit_transform(df['Price'].values.reshape(-1, 1))\n",
    "\n",
    "    X_train, y_train = [], []\n",
    "    for i in range(60, len(df)):\n",
    "        X_train.append(df_scaled[i-60:i, 0])\n",
    "        y_train.append(df_scaled[i, 0])\n",
    "    X_train, y_train = np.array(X_train), np.array(y_train)\n",
    "\n",
    "    # train the model\n",
    "    model = GradientBoostingRegressor(n_estimators=100, learning_rate=0.1, max_depth=3, random_state=0)\n",
    "    model.fit(X_train, y_train)\n",
    "\n",
    "    # predict the next 5 years of property prices\n",
    "    future_dates = pd.date_range(start=df.index[-1]+pd.DateOffset(years=1), periods=5, freq='YS')\n",
    "    future_prices = []\n",
    "    last_60_days = df_scaled[-60:]\n",
    "\n",
    "    for i in range(5):\n",
    "        input_data = last_60_days.reshape(1, -1)\n",
    "        prediction = model.predict(input_data)\n",
    "        future_prices.append(prediction[0])\n",
    "        last_60_days = np.concatenate([last_60_days[1:], prediction.reshape(1, -1)], axis=0)\n",
    "\n",
    "    future_prices = scaler.inverse_transform(np.array(future_prices).reshape(-1, 1))\n",
    "    \n",
    "    predicted = []\n",
    "    dates = []\n",
    "\n",
    "    # print the predicted prices\n",
    "    for date, price in zip(future_dates, future_prices):\n",
    "        # print(f\"Predicted property price for {town}, {county} on {date}: €{price[0]:,.2f}\")\n",
    "        dates.append(date)\n",
    "        predicted.append(price[0])\n",
    "    return pd.to_datetime(dates),predicted"
   ]
  },
  {
   "cell_type": "code",
   "execution_count": 5,
   "id": "56d038fc",
   "metadata": {
    "ExecuteTime": {
     "end_time": "2023-04-15T16:23:51.446451Z",
     "start_time": "2023-04-15T16:20:27.819814Z"
    }
   },
   "outputs": [
    {
     "name": "stderr",
     "output_type": "stream",
     "text": [
      "/var/folders/55/j0v2zlbn1575rkmztsycxlfw0000gn/T/ipykernel_33889/3181265503.py:3: UserWarning: The argument 'infer_datetime_format' is deprecated and will be removed in a future version. A strict version of it is now the default, see https://pandas.pydata.org/pdeps/0004-consistent-to-datetime-parsing.html. You can safely remove this argument.\n",
      "  df['Date'] = pd.to_datetime(df['Date'], infer_datetime_format=True)\n",
      "2023-04-19 10:24:23.598008: I tensorflow/core/common_runtime/executor.cc:1197] [/device:CPU:0] (DEBUG INFO) Executor start aborting (this does not indicate an error and you can ignore this message): INVALID_ARGUMENT: You must feed a value for placeholder tensor 'gradients/split_2_grad/concat/split_2/split_dim' with dtype int32\n",
      "\t [[{{node gradients/split_2_grad/concat/split_2/split_dim}}]]\n",
      "2023-04-19 10:24:23.600586: I tensorflow/core/common_runtime/executor.cc:1197] [/device:CPU:0] (DEBUG INFO) Executor start aborting (this does not indicate an error and you can ignore this message): INVALID_ARGUMENT: You must feed a value for placeholder tensor 'gradients/split_grad/concat/split/split_dim' with dtype int32\n",
      "\t [[{{node gradients/split_grad/concat/split/split_dim}}]]\n",
      "2023-04-19 10:24:23.602233: I tensorflow/core/common_runtime/executor.cc:1197] [/device:CPU:0] (DEBUG INFO) Executor start aborting (this does not indicate an error and you can ignore this message): INVALID_ARGUMENT: You must feed a value for placeholder tensor 'gradients/split_1_grad/concat/split_1/split_dim' with dtype int32\n",
      "\t [[{{node gradients/split_1_grad/concat/split_1/split_dim}}]]\n",
      "2023-04-19 10:24:23.862424: I tensorflow/core/common_runtime/executor.cc:1197] [/device:CPU:0] (DEBUG INFO) Executor start aborting (this does not indicate an error and you can ignore this message): INVALID_ARGUMENT: You must feed a value for placeholder tensor 'gradients/split_2_grad/concat/split_2/split_dim' with dtype int32\n",
      "\t [[{{node gradients/split_2_grad/concat/split_2/split_dim}}]]\n",
      "2023-04-19 10:24:23.864096: I tensorflow/core/common_runtime/executor.cc:1197] [/device:CPU:0] (DEBUG INFO) Executor start aborting (this does not indicate an error and you can ignore this message): INVALID_ARGUMENT: You must feed a value for placeholder tensor 'gradients/split_grad/concat/split/split_dim' with dtype int32\n",
      "\t [[{{node gradients/split_grad/concat/split/split_dim}}]]\n",
      "2023-04-19 10:24:23.865824: I tensorflow/core/common_runtime/executor.cc:1197] [/device:CPU:0] (DEBUG INFO) Executor start aborting (this does not indicate an error and you can ignore this message): INVALID_ARGUMENT: You must feed a value for placeholder tensor 'gradients/split_1_grad/concat/split_1/split_dim' with dtype int32\n",
      "\t [[{{node gradients/split_1_grad/concat/split_1/split_dim}}]]\n",
      "2023-04-19 10:24:24.266955: I tensorflow/core/common_runtime/executor.cc:1197] [/device:CPU:0] (DEBUG INFO) Executor start aborting (this does not indicate an error and you can ignore this message): INVALID_ARGUMENT: You must feed a value for placeholder tensor 'gradients/split_2_grad/concat/split_2/split_dim' with dtype int32\n",
      "\t [[{{node gradients/split_2_grad/concat/split_2/split_dim}}]]\n",
      "2023-04-19 10:24:24.270581: I tensorflow/core/common_runtime/executor.cc:1197] [/device:CPU:0] (DEBUG INFO) Executor start aborting (this does not indicate an error and you can ignore this message): INVALID_ARGUMENT: You must feed a value for placeholder tensor 'gradients/split_grad/concat/split/split_dim' with dtype int32\n",
      "\t [[{{node gradients/split_grad/concat/split/split_dim}}]]\n",
      "2023-04-19 10:24:24.273054: I tensorflow/core/common_runtime/executor.cc:1197] [/device:CPU:0] (DEBUG INFO) Executor start aborting (this does not indicate an error and you can ignore this message): INVALID_ARGUMENT: You must feed a value for placeholder tensor 'gradients/split_1_grad/concat/split_1/split_dim' with dtype int32\n",
      "\t [[{{node gradients/split_1_grad/concat/split_1/split_dim}}]]\n"
     ]
    },
    {
     "name": "stdout",
     "output_type": "stream",
     "text": [
      "Epoch 1/50\n"
     ]
    },
    {
     "name": "stderr",
     "output_type": "stream",
     "text": [
      "2023-04-19 10:24:24.935590: I tensorflow/core/common_runtime/executor.cc:1197] [/device:CPU:0] (DEBUG INFO) Executor start aborting (this does not indicate an error and you can ignore this message): INVALID_ARGUMENT: You must feed a value for placeholder tensor 'gradients/split_2_grad/concat/split_2/split_dim' with dtype int32\n",
      "\t [[{{node gradients/split_2_grad/concat/split_2/split_dim}}]]\n",
      "2023-04-19 10:24:24.937861: I tensorflow/core/common_runtime/executor.cc:1197] [/device:CPU:0] (DEBUG INFO) Executor start aborting (this does not indicate an error and you can ignore this message): INVALID_ARGUMENT: You must feed a value for placeholder tensor 'gradients/split_grad/concat/split/split_dim' with dtype int32\n",
      "\t [[{{node gradients/split_grad/concat/split/split_dim}}]]\n",
      "2023-04-19 10:24:24.940070: I tensorflow/core/common_runtime/executor.cc:1197] [/device:CPU:0] (DEBUG INFO) Executor start aborting (this does not indicate an error and you can ignore this message): INVALID_ARGUMENT: You must feed a value for placeholder tensor 'gradients/split_1_grad/concat/split_1/split_dim' with dtype int32\n",
      "\t [[{{node gradients/split_1_grad/concat/split_1/split_dim}}]]\n",
      "2023-04-19 10:24:25.259832: I tensorflow/core/common_runtime/executor.cc:1197] [/device:CPU:0] (DEBUG INFO) Executor start aborting (this does not indicate an error and you can ignore this message): INVALID_ARGUMENT: You must feed a value for placeholder tensor 'gradients/split_2_grad/concat/split_2/split_dim' with dtype int32\n",
      "\t [[{{node gradients/split_2_grad/concat/split_2/split_dim}}]]\n",
      "2023-04-19 10:24:25.262065: I tensorflow/core/common_runtime/executor.cc:1197] [/device:CPU:0] (DEBUG INFO) Executor start aborting (this does not indicate an error and you can ignore this message): INVALID_ARGUMENT: You must feed a value for placeholder tensor 'gradients/split_grad/concat/split/split_dim' with dtype int32\n",
      "\t [[{{node gradients/split_grad/concat/split/split_dim}}]]\n",
      "2023-04-19 10:24:25.264181: I tensorflow/core/common_runtime/executor.cc:1197] [/device:CPU:0] (DEBUG INFO) Executor start aborting (this does not indicate an error and you can ignore this message): INVALID_ARGUMENT: You must feed a value for placeholder tensor 'gradients/split_1_grad/concat/split_1/split_dim' with dtype int32\n",
      "\t [[{{node gradients/split_1_grad/concat/split_1/split_dim}}]]\n",
      "2023-04-19 10:24:25.774400: I tensorflow/core/common_runtime/executor.cc:1197] [/device:CPU:0] (DEBUG INFO) Executor start aborting (this does not indicate an error and you can ignore this message): INVALID_ARGUMENT: You must feed a value for placeholder tensor 'gradients/split_2_grad/concat/split_2/split_dim' with dtype int32\n",
      "\t [[{{node gradients/split_2_grad/concat/split_2/split_dim}}]]\n",
      "2023-04-19 10:24:25.779151: I tensorflow/core/common_runtime/executor.cc:1197] [/device:CPU:0] (DEBUG INFO) Executor start aborting (this does not indicate an error and you can ignore this message): INVALID_ARGUMENT: You must feed a value for placeholder tensor 'gradients/split_grad/concat/split/split_dim' with dtype int32\n",
      "\t [[{{node gradients/split_grad/concat/split/split_dim}}]]\n",
      "2023-04-19 10:24:25.782780: I tensorflow/core/common_runtime/executor.cc:1197] [/device:CPU:0] (DEBUG INFO) Executor start aborting (this does not indicate an error and you can ignore this message): INVALID_ARGUMENT: You must feed a value for placeholder tensor 'gradients/split_1_grad/concat/split_1/split_dim' with dtype int32\n",
      "\t [[{{node gradients/split_1_grad/concat/split_1/split_dim}}]]\n",
      "2023-04-19 10:24:28.530155: I tensorflow/core/common_runtime/executor.cc:1197] [/device:CPU:0] (DEBUG INFO) Executor start aborting (this does not indicate an error and you can ignore this message): INVALID_ARGUMENT: You must feed a value for placeholder tensor 'gradients/split_2_grad/concat/split_2/split_dim' with dtype int32\n",
      "\t [[{{node gradients/split_2_grad/concat/split_2/split_dim}}]]\n",
      "2023-04-19 10:24:28.534086: I tensorflow/core/common_runtime/executor.cc:1197] [/device:CPU:0] (DEBUG INFO) Executor start aborting (this does not indicate an error and you can ignore this message): INVALID_ARGUMENT: You must feed a value for placeholder tensor 'gradients/split_grad/concat/split/split_dim' with dtype int32\n",
      "\t [[{{node gradients/split_grad/concat/split/split_dim}}]]\n",
      "2023-04-19 10:24:28.537282: I tensorflow/core/common_runtime/executor.cc:1197] [/device:CPU:0] (DEBUG INFO) Executor start aborting (this does not indicate an error and you can ignore this message): INVALID_ARGUMENT: You must feed a value for placeholder tensor 'gradients/split_1_grad/concat/split_1/split_dim' with dtype int32\n",
      "\t [[{{node gradients/split_1_grad/concat/split_1/split_dim}}]]\n",
      "2023-04-19 10:24:28.872547: I tensorflow/core/common_runtime/executor.cc:1197] [/device:CPU:0] (DEBUG INFO) Executor start aborting (this does not indicate an error and you can ignore this message): INVALID_ARGUMENT: You must feed a value for placeholder tensor 'gradients/split_2_grad/concat/split_2/split_dim' with dtype int32\n",
      "\t [[{{node gradients/split_2_grad/concat/split_2/split_dim}}]]\n",
      "2023-04-19 10:24:28.875213: I tensorflow/core/common_runtime/executor.cc:1197] [/device:CPU:0] (DEBUG INFO) Executor start aborting (this does not indicate an error and you can ignore this message): INVALID_ARGUMENT: You must feed a value for placeholder tensor 'gradients/split_grad/concat/split/split_dim' with dtype int32\n",
      "\t [[{{node gradients/split_grad/concat/split/split_dim}}]]\n",
      "2023-04-19 10:24:28.877141: I tensorflow/core/common_runtime/executor.cc:1197] [/device:CPU:0] (DEBUG INFO) Executor start aborting (this does not indicate an error and you can ignore this message): INVALID_ARGUMENT: You must feed a value for placeholder tensor 'gradients/split_1_grad/concat/split_1/split_dim' with dtype int32\n",
      "\t [[{{node gradients/split_1_grad/concat/split_1/split_dim}}]]\n",
      "2023-04-19 10:24:29.183569: I tensorflow/core/common_runtime/executor.cc:1197] [/device:CPU:0] (DEBUG INFO) Executor start aborting (this does not indicate an error and you can ignore this message): INVALID_ARGUMENT: You must feed a value for placeholder tensor 'gradients/split_2_grad/concat/split_2/split_dim' with dtype int32\n",
      "\t [[{{node gradients/split_2_grad/concat/split_2/split_dim}}]]\n",
      "2023-04-19 10:24:29.185647: I tensorflow/core/common_runtime/executor.cc:1197] [/device:CPU:0] (DEBUG INFO) Executor start aborting (this does not indicate an error and you can ignore this message): INVALID_ARGUMENT: You must feed a value for placeholder tensor 'gradients/split_grad/concat/split/split_dim' with dtype int32\n",
      "\t [[{{node gradients/split_grad/concat/split/split_dim}}]]\n",
      "2023-04-19 10:24:29.187717: I tensorflow/core/common_runtime/executor.cc:1197] [/device:CPU:0] (DEBUG INFO) Executor start aborting (this does not indicate an error and you can ignore this message): INVALID_ARGUMENT: You must feed a value for placeholder tensor 'gradients/split_1_grad/concat/split_1/split_dim' with dtype int32\n",
      "\t [[{{node gradients/split_1_grad/concat/split_1/split_dim}}]]\n"
     ]
    },
    {
     "name": "stdout",
     "output_type": "stream",
     "text": [
      "76/76 [==============================] - 14s 62ms/step - loss: 4.8913e-04\n",
      "Epoch 2/50\n",
      "76/76 [==============================] - 4s 58ms/step - loss: 4.7022e-04\n",
      "Epoch 3/50\n",
      "76/76 [==============================] - 4s 58ms/step - loss: 4.7081e-04\n",
      "Epoch 4/50\n",
      "76/76 [==============================] - 5s 61ms/step - loss: 4.7212e-04\n",
      "Epoch 5/50\n",
      "76/76 [==============================] - 6s 75ms/step - loss: 4.6994e-04\n",
      "Epoch 6/50\n",
      "76/76 [==============================] - 5s 59ms/step - loss: 4.6830e-04\n",
      "Epoch 7/50\n",
      "76/76 [==============================] - 7s 94ms/step - loss: 4.6906e-04\n",
      "Epoch 8/50\n",
      "76/76 [==============================] - 7s 85ms/step - loss: 4.6807e-04\n",
      "Epoch 9/50\n",
      "76/76 [==============================] - 7s 90ms/step - loss: 4.6958e-04\n",
      "Epoch 10/50\n",
      "76/76 [==============================] - 6s 75ms/step - loss: 4.6914e-04\n",
      "Epoch 11/50\n",
      "76/76 [==============================] - 5s 69ms/step - loss: 4.6878e-04\n",
      "Epoch 12/50\n",
      "76/76 [==============================] - 6s 73ms/step - loss: 4.6946e-04\n",
      "Epoch 13/50\n",
      "76/76 [==============================] - 5s 69ms/step - loss: 4.6813e-04\n",
      "Epoch 14/50\n",
      "76/76 [==============================] - 6s 83ms/step - loss: 4.6788e-04\n",
      "Epoch 15/50\n",
      "76/76 [==============================] - 5s 66ms/step - loss: 4.6825e-04\n",
      "Epoch 16/50\n",
      "76/76 [==============================] - 6s 77ms/step - loss: 4.6828e-04\n",
      "Epoch 17/50\n",
      "76/76 [==============================] - 5s 70ms/step - loss: 4.6804e-04\n",
      "Epoch 18/50\n",
      "76/76 [==============================] - 6s 73ms/step - loss: 4.6731e-04\n",
      "Epoch 19/50\n",
      "76/76 [==============================] - 6s 78ms/step - loss: 4.6481e-04\n",
      "Epoch 20/50\n",
      "76/76 [==============================] - 7s 90ms/step - loss: 4.6778e-04\n",
      "Epoch 21/50\n",
      "76/76 [==============================] - 7s 94ms/step - loss: 4.6788e-04\n",
      "Epoch 22/50\n",
      "76/76 [==============================] - 5s 68ms/step - loss: 4.6835e-04\n",
      "Epoch 23/50\n",
      "76/76 [==============================] - 5s 71ms/step - loss: 4.6744e-04\n",
      "Epoch 24/50\n",
      "76/76 [==============================] - 5s 68ms/step - loss: 4.6697e-04\n",
      "Epoch 25/50\n",
      "76/76 [==============================] - 6s 74ms/step - loss: 4.6746e-04\n",
      "Epoch 26/50\n",
      "76/76 [==============================] - 6s 85ms/step - loss: 4.6636e-04\n",
      "Epoch 27/50\n",
      "76/76 [==============================] - 6s 74ms/step - loss: 4.6794e-04\n",
      "Epoch 28/50\n",
      "76/76 [==============================] - 6s 81ms/step - loss: 4.6678e-04\n",
      "Epoch 29/50\n",
      "76/76 [==============================] - 6s 78ms/step - loss: 4.6608e-04\n",
      "Epoch 30/50\n",
      "76/76 [==============================] - 6s 73ms/step - loss: 4.6680e-04\n",
      "Epoch 31/50\n",
      "76/76 [==============================] - 5s 65ms/step - loss: 4.6749e-04\n",
      "Epoch 32/50\n",
      "76/76 [==============================] - 5s 71ms/step - loss: 4.6768e-04\n",
      "Epoch 33/50\n",
      "76/76 [==============================] - 5s 63ms/step - loss: 4.6688e-04\n",
      "Epoch 34/50\n",
      "76/76 [==============================] - 5s 69ms/step - loss: 4.6925e-04\n",
      "Epoch 35/50\n",
      "76/76 [==============================] - 6s 76ms/step - loss: 4.6763e-04\n",
      "Epoch 36/50\n",
      "76/76 [==============================] - 7s 87ms/step - loss: 4.6652e-04\n",
      "Epoch 37/50\n",
      "76/76 [==============================] - 7s 85ms/step - loss: 4.6584e-04\n",
      "Epoch 38/50\n",
      "76/76 [==============================] - 6s 81ms/step - loss: 4.6859e-04\n",
      "Epoch 39/50\n",
      "76/76 [==============================] - 6s 81ms/step - loss: 4.6737e-04\n",
      "Epoch 40/50\n",
      "76/76 [==============================] - 5s 70ms/step - loss: 4.6739e-04\n",
      "Epoch 41/50\n",
      "76/76 [==============================] - 5s 65ms/step - loss: 4.6448e-04\n",
      "Epoch 42/50\n",
      "76/76 [==============================] - 5s 68ms/step - loss: 4.6893e-04\n",
      "Epoch 43/50\n",
      "76/76 [==============================] - 6s 74ms/step - loss: 4.6748e-04\n",
      "Epoch 44/50\n",
      "76/76 [==============================] - 5s 70ms/step - loss: 4.6767e-04\n",
      "Epoch 45/50\n",
      "76/76 [==============================] - 6s 73ms/step - loss: 4.6753e-04\n",
      "Epoch 46/50\n",
      "76/76 [==============================] - 5s 63ms/step - loss: 4.6684e-04\n",
      "Epoch 47/50\n",
      "76/76 [==============================] - 5s 63ms/step - loss: 4.6456e-04\n",
      "Epoch 48/50\n",
      "76/76 [==============================] - 5s 65ms/step - loss: 4.6924e-04\n",
      "Epoch 49/50\n",
      "76/76 [==============================] - 6s 80ms/step - loss: 4.6696e-04\n",
      "Epoch 50/50\n",
      "76/76 [==============================] - 5s 70ms/step - loss: 4.6651e-04\n"
     ]
    },
    {
     "name": "stderr",
     "output_type": "stream",
     "text": [
      "2023-04-19 10:29:13.778982: I tensorflow/core/common_runtime/executor.cc:1197] [/device:CPU:0] (DEBUG INFO) Executor start aborting (this does not indicate an error and you can ignore this message): INVALID_ARGUMENT: You must feed a value for placeholder tensor 'gradients/split_2_grad/concat/split_2/split_dim' with dtype int32\n",
      "\t [[{{node gradients/split_2_grad/concat/split_2/split_dim}}]]\n",
      "2023-04-19 10:29:13.781355: I tensorflow/core/common_runtime/executor.cc:1197] [/device:CPU:0] (DEBUG INFO) Executor start aborting (this does not indicate an error and you can ignore this message): INVALID_ARGUMENT: You must feed a value for placeholder tensor 'gradients/split_grad/concat/split/split_dim' with dtype int32\n",
      "\t [[{{node gradients/split_grad/concat/split/split_dim}}]]\n",
      "2023-04-19 10:29:13.783576: I tensorflow/core/common_runtime/executor.cc:1197] [/device:CPU:0] (DEBUG INFO) Executor start aborting (this does not indicate an error and you can ignore this message): INVALID_ARGUMENT: You must feed a value for placeholder tensor 'gradients/split_1_grad/concat/split_1/split_dim' with dtype int32\n",
      "\t [[{{node gradients/split_1_grad/concat/split_1/split_dim}}]]\n",
      "2023-04-19 10:29:14.098168: I tensorflow/core/common_runtime/executor.cc:1197] [/device:CPU:0] (DEBUG INFO) Executor start aborting (this does not indicate an error and you can ignore this message): INVALID_ARGUMENT: You must feed a value for placeholder tensor 'gradients/split_2_grad/concat/split_2/split_dim' with dtype int32\n",
      "\t [[{{node gradients/split_2_grad/concat/split_2/split_dim}}]]\n",
      "2023-04-19 10:29:14.100834: I tensorflow/core/common_runtime/executor.cc:1197] [/device:CPU:0] (DEBUG INFO) Executor start aborting (this does not indicate an error and you can ignore this message): INVALID_ARGUMENT: You must feed a value for placeholder tensor 'gradients/split_grad/concat/split/split_dim' with dtype int32\n",
      "\t [[{{node gradients/split_grad/concat/split/split_dim}}]]\n",
      "2023-04-19 10:29:14.103050: I tensorflow/core/common_runtime/executor.cc:1197] [/device:CPU:0] (DEBUG INFO) Executor start aborting (this does not indicate an error and you can ignore this message): INVALID_ARGUMENT: You must feed a value for placeholder tensor 'gradients/split_1_grad/concat/split_1/split_dim' with dtype int32\n",
      "\t [[{{node gradients/split_1_grad/concat/split_1/split_dim}}]]\n",
      "2023-04-19 10:29:14.666911: I tensorflow/core/common_runtime/executor.cc:1197] [/device:CPU:0] (DEBUG INFO) Executor start aborting (this does not indicate an error and you can ignore this message): INVALID_ARGUMENT: You must feed a value for placeholder tensor 'gradients/split_2_grad/concat/split_2/split_dim' with dtype int32\n",
      "\t [[{{node gradients/split_2_grad/concat/split_2/split_dim}}]]\n",
      "2023-04-19 10:29:14.668826: I tensorflow/core/common_runtime/executor.cc:1197] [/device:CPU:0] (DEBUG INFO) Executor start aborting (this does not indicate an error and you can ignore this message): INVALID_ARGUMENT: You must feed a value for placeholder tensor 'gradients/split_grad/concat/split/split_dim' with dtype int32\n",
      "\t [[{{node gradients/split_grad/concat/split/split_dim}}]]\n",
      "2023-04-19 10:29:14.670782: I tensorflow/core/common_runtime/executor.cc:1197] [/device:CPU:0] (DEBUG INFO) Executor start aborting (this does not indicate an error and you can ignore this message): INVALID_ARGUMENT: You must feed a value for placeholder tensor 'gradients/split_1_grad/concat/split_1/split_dim' with dtype int32\n",
      "\t [[{{node gradients/split_1_grad/concat/split_1/split_dim}}]]\n"
     ]
    },
    {
     "name": "stdout",
     "output_type": "stream",
     "text": [
      "1/1 [==============================] - 2s 2s/step\n",
      "1/1 [==============================] - 0s 49ms/step\n",
      "1/1 [==============================] - 0s 40ms/step\n",
      "1/1 [==============================] - 0s 34ms/step\n",
      "1/1 [==============================] - 0s 34ms/step\n"
     ]
    },
    {
     "name": "stderr",
     "output_type": "stream",
     "text": [
      "/var/folders/55/j0v2zlbn1575rkmztsycxlfw0000gn/T/ipykernel_33889/3575372769.py:3: UserWarning: The argument 'infer_datetime_format' is deprecated and will be removed in a future version. A strict version of it is now the default, see https://pandas.pydata.org/pdeps/0004-consistent-to-datetime-parsing.html. You can safely remove this argument.\n",
      "  df['Date'] = pd.to_datetime(df['Date'], infer_datetime_format=True)\n"
     ]
    }
   ],
   "source": [
    "lstmdates,lstmprices = LSTM5yearpredict('Dublin','dublin 1')\n",
    "gbdates, gbprices = GB5yearpredict('Dublin','dublin 1')"
   ]
  },
  {
   "cell_type": "code",
   "execution_count": 6,
   "id": "b6700761",
   "metadata": {
    "ExecuteTime": {
     "end_time": "2023-04-15T16:23:51.708291Z",
     "start_time": "2023-04-15T16:23:51.449260Z"
    }
   },
   "outputs": [
    {
     "data": {
      "application/vnd.plotly.v1+json": {
       "config": {
        "plotlyServerURL": "https://plot.ly"
       },
       "data": [
        {
         "mode": "lines",
         "name": "LSTM",
         "type": "scatter",
         "x": [
          "2025-01-01T00:00:00",
          "2026-01-01T00:00:00",
          "2027-01-01T00:00:00",
          "2028-01-01T00:00:00",
          "2029-01-01T00:00:00"
         ],
         "y": [
          381671.0625,
          381490.625,
          381328.75,
          381210.03125,
          381137.3125
         ]
        },
        {
         "mode": "lines",
         "name": "GB",
         "type": "scatter",
         "x": [
          "2025-01-01T00:00:00",
          "2026-01-01T00:00:00",
          "2027-01-01T00:00:00",
          "2028-01-01T00:00:00",
          "2029-01-01T00:00:00"
         ],
         "y": [
          350315.35642440233,
          375461.9977338356,
          467674.1214059094,
          414414.16932738526,
          551872.3737348095
         ]
        }
       ],
       "layout": {
        "template": {
         "data": {
          "bar": [
           {
            "error_x": {
             "color": "#2a3f5f"
            },
            "error_y": {
             "color": "#2a3f5f"
            },
            "marker": {
             "line": {
              "color": "#E5ECF6",
              "width": 0.5
             },
             "pattern": {
              "fillmode": "overlay",
              "size": 10,
              "solidity": 0.2
             }
            },
            "type": "bar"
           }
          ],
          "barpolar": [
           {
            "marker": {
             "line": {
              "color": "#E5ECF6",
              "width": 0.5
             },
             "pattern": {
              "fillmode": "overlay",
              "size": 10,
              "solidity": 0.2
             }
            },
            "type": "barpolar"
           }
          ],
          "carpet": [
           {
            "aaxis": {
             "endlinecolor": "#2a3f5f",
             "gridcolor": "white",
             "linecolor": "white",
             "minorgridcolor": "white",
             "startlinecolor": "#2a3f5f"
            },
            "baxis": {
             "endlinecolor": "#2a3f5f",
             "gridcolor": "white",
             "linecolor": "white",
             "minorgridcolor": "white",
             "startlinecolor": "#2a3f5f"
            },
            "type": "carpet"
           }
          ],
          "choropleth": [
           {
            "colorbar": {
             "outlinewidth": 0,
             "ticks": ""
            },
            "type": "choropleth"
           }
          ],
          "contour": [
           {
            "colorbar": {
             "outlinewidth": 0,
             "ticks": ""
            },
            "colorscale": [
             [
              0,
              "#0d0887"
             ],
             [
              0.1111111111111111,
              "#46039f"
             ],
             [
              0.2222222222222222,
              "#7201a8"
             ],
             [
              0.3333333333333333,
              "#9c179e"
             ],
             [
              0.4444444444444444,
              "#bd3786"
             ],
             [
              0.5555555555555556,
              "#d8576b"
             ],
             [
              0.6666666666666666,
              "#ed7953"
             ],
             [
              0.7777777777777778,
              "#fb9f3a"
             ],
             [
              0.8888888888888888,
              "#fdca26"
             ],
             [
              1,
              "#f0f921"
             ]
            ],
            "type": "contour"
           }
          ],
          "contourcarpet": [
           {
            "colorbar": {
             "outlinewidth": 0,
             "ticks": ""
            },
            "type": "contourcarpet"
           }
          ],
          "heatmap": [
           {
            "colorbar": {
             "outlinewidth": 0,
             "ticks": ""
            },
            "colorscale": [
             [
              0,
              "#0d0887"
             ],
             [
              0.1111111111111111,
              "#46039f"
             ],
             [
              0.2222222222222222,
              "#7201a8"
             ],
             [
              0.3333333333333333,
              "#9c179e"
             ],
             [
              0.4444444444444444,
              "#bd3786"
             ],
             [
              0.5555555555555556,
              "#d8576b"
             ],
             [
              0.6666666666666666,
              "#ed7953"
             ],
             [
              0.7777777777777778,
              "#fb9f3a"
             ],
             [
              0.8888888888888888,
              "#fdca26"
             ],
             [
              1,
              "#f0f921"
             ]
            ],
            "type": "heatmap"
           }
          ],
          "heatmapgl": [
           {
            "colorbar": {
             "outlinewidth": 0,
             "ticks": ""
            },
            "colorscale": [
             [
              0,
              "#0d0887"
             ],
             [
              0.1111111111111111,
              "#46039f"
             ],
             [
              0.2222222222222222,
              "#7201a8"
             ],
             [
              0.3333333333333333,
              "#9c179e"
             ],
             [
              0.4444444444444444,
              "#bd3786"
             ],
             [
              0.5555555555555556,
              "#d8576b"
             ],
             [
              0.6666666666666666,
              "#ed7953"
             ],
             [
              0.7777777777777778,
              "#fb9f3a"
             ],
             [
              0.8888888888888888,
              "#fdca26"
             ],
             [
              1,
              "#f0f921"
             ]
            ],
            "type": "heatmapgl"
           }
          ],
          "histogram": [
           {
            "marker": {
             "pattern": {
              "fillmode": "overlay",
              "size": 10,
              "solidity": 0.2
             }
            },
            "type": "histogram"
           }
          ],
          "histogram2d": [
           {
            "colorbar": {
             "outlinewidth": 0,
             "ticks": ""
            },
            "colorscale": [
             [
              0,
              "#0d0887"
             ],
             [
              0.1111111111111111,
              "#46039f"
             ],
             [
              0.2222222222222222,
              "#7201a8"
             ],
             [
              0.3333333333333333,
              "#9c179e"
             ],
             [
              0.4444444444444444,
              "#bd3786"
             ],
             [
              0.5555555555555556,
              "#d8576b"
             ],
             [
              0.6666666666666666,
              "#ed7953"
             ],
             [
              0.7777777777777778,
              "#fb9f3a"
             ],
             [
              0.8888888888888888,
              "#fdca26"
             ],
             [
              1,
              "#f0f921"
             ]
            ],
            "type": "histogram2d"
           }
          ],
          "histogram2dcontour": [
           {
            "colorbar": {
             "outlinewidth": 0,
             "ticks": ""
            },
            "colorscale": [
             [
              0,
              "#0d0887"
             ],
             [
              0.1111111111111111,
              "#46039f"
             ],
             [
              0.2222222222222222,
              "#7201a8"
             ],
             [
              0.3333333333333333,
              "#9c179e"
             ],
             [
              0.4444444444444444,
              "#bd3786"
             ],
             [
              0.5555555555555556,
              "#d8576b"
             ],
             [
              0.6666666666666666,
              "#ed7953"
             ],
             [
              0.7777777777777778,
              "#fb9f3a"
             ],
             [
              0.8888888888888888,
              "#fdca26"
             ],
             [
              1,
              "#f0f921"
             ]
            ],
            "type": "histogram2dcontour"
           }
          ],
          "mesh3d": [
           {
            "colorbar": {
             "outlinewidth": 0,
             "ticks": ""
            },
            "type": "mesh3d"
           }
          ],
          "parcoords": [
           {
            "line": {
             "colorbar": {
              "outlinewidth": 0,
              "ticks": ""
             }
            },
            "type": "parcoords"
           }
          ],
          "pie": [
           {
            "automargin": true,
            "type": "pie"
           }
          ],
          "scatter": [
           {
            "fillpattern": {
             "fillmode": "overlay",
             "size": 10,
             "solidity": 0.2
            },
            "type": "scatter"
           }
          ],
          "scatter3d": [
           {
            "line": {
             "colorbar": {
              "outlinewidth": 0,
              "ticks": ""
             }
            },
            "marker": {
             "colorbar": {
              "outlinewidth": 0,
              "ticks": ""
             }
            },
            "type": "scatter3d"
           }
          ],
          "scattercarpet": [
           {
            "marker": {
             "colorbar": {
              "outlinewidth": 0,
              "ticks": ""
             }
            },
            "type": "scattercarpet"
           }
          ],
          "scattergeo": [
           {
            "marker": {
             "colorbar": {
              "outlinewidth": 0,
              "ticks": ""
             }
            },
            "type": "scattergeo"
           }
          ],
          "scattergl": [
           {
            "marker": {
             "colorbar": {
              "outlinewidth": 0,
              "ticks": ""
             }
            },
            "type": "scattergl"
           }
          ],
          "scattermapbox": [
           {
            "marker": {
             "colorbar": {
              "outlinewidth": 0,
              "ticks": ""
             }
            },
            "type": "scattermapbox"
           }
          ],
          "scatterpolar": [
           {
            "marker": {
             "colorbar": {
              "outlinewidth": 0,
              "ticks": ""
             }
            },
            "type": "scatterpolar"
           }
          ],
          "scatterpolargl": [
           {
            "marker": {
             "colorbar": {
              "outlinewidth": 0,
              "ticks": ""
             }
            },
            "type": "scatterpolargl"
           }
          ],
          "scatterternary": [
           {
            "marker": {
             "colorbar": {
              "outlinewidth": 0,
              "ticks": ""
             }
            },
            "type": "scatterternary"
           }
          ],
          "surface": [
           {
            "colorbar": {
             "outlinewidth": 0,
             "ticks": ""
            },
            "colorscale": [
             [
              0,
              "#0d0887"
             ],
             [
              0.1111111111111111,
              "#46039f"
             ],
             [
              0.2222222222222222,
              "#7201a8"
             ],
             [
              0.3333333333333333,
              "#9c179e"
             ],
             [
              0.4444444444444444,
              "#bd3786"
             ],
             [
              0.5555555555555556,
              "#d8576b"
             ],
             [
              0.6666666666666666,
              "#ed7953"
             ],
             [
              0.7777777777777778,
              "#fb9f3a"
             ],
             [
              0.8888888888888888,
              "#fdca26"
             ],
             [
              1,
              "#f0f921"
             ]
            ],
            "type": "surface"
           }
          ],
          "table": [
           {
            "cells": {
             "fill": {
              "color": "#EBF0F8"
             },
             "line": {
              "color": "white"
             }
            },
            "header": {
             "fill": {
              "color": "#C8D4E3"
             },
             "line": {
              "color": "white"
             }
            },
            "type": "table"
           }
          ]
         },
         "layout": {
          "annotationdefaults": {
           "arrowcolor": "#2a3f5f",
           "arrowhead": 0,
           "arrowwidth": 1
          },
          "autotypenumbers": "strict",
          "coloraxis": {
           "colorbar": {
            "outlinewidth": 0,
            "ticks": ""
           }
          },
          "colorscale": {
           "diverging": [
            [
             0,
             "#8e0152"
            ],
            [
             0.1,
             "#c51b7d"
            ],
            [
             0.2,
             "#de77ae"
            ],
            [
             0.3,
             "#f1b6da"
            ],
            [
             0.4,
             "#fde0ef"
            ],
            [
             0.5,
             "#f7f7f7"
            ],
            [
             0.6,
             "#e6f5d0"
            ],
            [
             0.7,
             "#b8e186"
            ],
            [
             0.8,
             "#7fbc41"
            ],
            [
             0.9,
             "#4d9221"
            ],
            [
             1,
             "#276419"
            ]
           ],
           "sequential": [
            [
             0,
             "#0d0887"
            ],
            [
             0.1111111111111111,
             "#46039f"
            ],
            [
             0.2222222222222222,
             "#7201a8"
            ],
            [
             0.3333333333333333,
             "#9c179e"
            ],
            [
             0.4444444444444444,
             "#bd3786"
            ],
            [
             0.5555555555555556,
             "#d8576b"
            ],
            [
             0.6666666666666666,
             "#ed7953"
            ],
            [
             0.7777777777777778,
             "#fb9f3a"
            ],
            [
             0.8888888888888888,
             "#fdca26"
            ],
            [
             1,
             "#f0f921"
            ]
           ],
           "sequentialminus": [
            [
             0,
             "#0d0887"
            ],
            [
             0.1111111111111111,
             "#46039f"
            ],
            [
             0.2222222222222222,
             "#7201a8"
            ],
            [
             0.3333333333333333,
             "#9c179e"
            ],
            [
             0.4444444444444444,
             "#bd3786"
            ],
            [
             0.5555555555555556,
             "#d8576b"
            ],
            [
             0.6666666666666666,
             "#ed7953"
            ],
            [
             0.7777777777777778,
             "#fb9f3a"
            ],
            [
             0.8888888888888888,
             "#fdca26"
            ],
            [
             1,
             "#f0f921"
            ]
           ]
          },
          "colorway": [
           "#636efa",
           "#EF553B",
           "#00cc96",
           "#ab63fa",
           "#FFA15A",
           "#19d3f3",
           "#FF6692",
           "#B6E880",
           "#FF97FF",
           "#FECB52"
          ],
          "font": {
           "color": "#2a3f5f"
          },
          "geo": {
           "bgcolor": "white",
           "lakecolor": "white",
           "landcolor": "#E5ECF6",
           "showlakes": true,
           "showland": true,
           "subunitcolor": "white"
          },
          "hoverlabel": {
           "align": "left"
          },
          "hovermode": "closest",
          "mapbox": {
           "style": "light"
          },
          "paper_bgcolor": "white",
          "plot_bgcolor": "#E5ECF6",
          "polar": {
           "angularaxis": {
            "gridcolor": "white",
            "linecolor": "white",
            "ticks": ""
           },
           "bgcolor": "#E5ECF6",
           "radialaxis": {
            "gridcolor": "white",
            "linecolor": "white",
            "ticks": ""
           }
          },
          "scene": {
           "xaxis": {
            "backgroundcolor": "#E5ECF6",
            "gridcolor": "white",
            "gridwidth": 2,
            "linecolor": "white",
            "showbackground": true,
            "ticks": "",
            "zerolinecolor": "white"
           },
           "yaxis": {
            "backgroundcolor": "#E5ECF6",
            "gridcolor": "white",
            "gridwidth": 2,
            "linecolor": "white",
            "showbackground": true,
            "ticks": "",
            "zerolinecolor": "white"
           },
           "zaxis": {
            "backgroundcolor": "#E5ECF6",
            "gridcolor": "white",
            "gridwidth": 2,
            "linecolor": "white",
            "showbackground": true,
            "ticks": "",
            "zerolinecolor": "white"
           }
          },
          "shapedefaults": {
           "line": {
            "color": "#2a3f5f"
           }
          },
          "ternary": {
           "aaxis": {
            "gridcolor": "white",
            "linecolor": "white",
            "ticks": ""
           },
           "baxis": {
            "gridcolor": "white",
            "linecolor": "white",
            "ticks": ""
           },
           "bgcolor": "#E5ECF6",
           "caxis": {
            "gridcolor": "white",
            "linecolor": "white",
            "ticks": ""
           }
          },
          "title": {
           "x": 0.05
          },
          "xaxis": {
           "automargin": true,
           "gridcolor": "white",
           "linecolor": "white",
           "ticks": "",
           "title": {
            "standoff": 15
           },
           "zerolinecolor": "white",
           "zerolinewidth": 2
          },
          "yaxis": {
           "automargin": true,
           "gridcolor": "white",
           "linecolor": "white",
           "ticks": "",
           "title": {
            "standoff": 15
           },
           "zerolinecolor": "white",
           "zerolinewidth": 2
          }
         }
        }
       }
      }
     },
     "metadata": {},
     "output_type": "display_data"
    }
   ],
   "source": [
    "fig = go.Figure()\n",
    "\n",
    "fig.add_trace(go.Scatter(x=pd.to_datetime(lstmdates),\n",
    "                         y=lstmprices,\n",
    "                         mode='lines',\n",
    "                         name='LSTM'))\n",
    "fig.add_trace(go.Scatter(x=pd.to_datetime(gbdates),\n",
    "                         y=gbprices,\n",
    "                         mode='lines',\n",
    "                         name='GB'))\n",
    "fig.show()"
   ]
  },
  {
   "attachments": {},
   "cell_type": "markdown",
   "id": "45dd6fc0",
   "metadata": {},
   "source": [
    "## Decision Tree Regressor to determine feature rankings"
   ]
  },
  {
   "cell_type": "code",
   "execution_count": 9,
   "id": "893d6104",
   "metadata": {
    "ExecuteTime": {
     "end_time": "2023-04-15T16:24:13.868399Z",
     "start_time": "2023-04-15T16:23:51.712026Z"
    }
   },
   "outputs": [
    {
     "name": "stderr",
     "output_type": "stream",
     "text": [
      "/var/folders/55/j0v2zlbn1575rkmztsycxlfw0000gn/T/ipykernel_33889/1377301797.py:2: UserWarning:\n",
      "\n",
      "The argument 'infer_datetime_format' is deprecated and will be removed in a future version. A strict version of it is now the default, see https://pandas.pydata.org/pdeps/0004-consistent-to-datetime-parsing.html. You can safely remove this argument.\n",
      "\n"
     ]
    },
    {
     "name": "stdout",
     "output_type": "stream",
     "text": [
      "Mean Squared Error: 414614962400.9346\n",
      "Cross-validation scores: [0.06106143 0.13340066 0.06954306 0.02616029 0.02503348]\n",
      "Mean Cross-validation score: 0.0630397869861498\n"
     ]
    }
   ],
   "source": [
    "df = pd.read_csv('PPR-cleaned-v2.csv')\n",
    "df['Date'] = pd.to_datetime(df['Date'], infer_datetime_format=True)\n",
    "df = df.set_index('Date')\n",
    "\n",
    "# Drop irrelevant columns\n",
    "df = df.drop(['Not Full Market Price', 'VAT Exclusive', 'Description of Property'], axis=1)\n",
    "\n",
    "# One-hot encode categorical variables\n",
    "df = pd.get_dummies(df, columns=['Town', 'County', 'Province'],dtype='uint8')\n",
    "\n",
    "# Split the data into training and testing sets\n",
    "X = df.drop('Price', axis=1)\n",
    "y = df['Price']\n",
    "X_train, X_test, y_train, y_test = train_test_split(X, y, test_size=0.2, random_state=42)\n",
    "\n",
    "# Create a decision tree regressor model\n",
    "model = DecisionTreeRegressor(random_state=42)\n",
    "model.fit(X_train, y_train)\n",
    "\n",
    "# Predict on the testing set and calculate mean squared error\n",
    "y_pred = model.predict(X_test)\n",
    "mse = mean_squared_error(y_test, y_pred)\n",
    "print('Mean Squared Error:', mse)\n",
    "\n",
    "# Perform cross-validation to evaluate model performance\n",
    "cv_scores = cross_val_score(model, X_train, y_train, cv=5)\n",
    "print('Cross-validation scores:', cv_scores)\n",
    "print('Mean Cross-validation score:', cv_scores.mean())\n",
    "\n",
    "# Get the feature importances\n",
    "importances = model.feature_importances_\n",
    "features = df.columns\n",
    "indices = np.argsort(importances)[::-1]\n",
    "# plt.figure(figsize=(10, 6))\n",
    "# sns.barplot(x=importances[indices], y=features[indices])\n",
    "# plt.title('Feature Importance')\n",
    "# plt.show()\n",
    "\n",
    "# Sort the features by importance\n",
    "# indices = importances.argsort()[::-1]\n",
    "\n"
   ]
  },
  {
   "cell_type": "code",
   "execution_count": 10,
   "id": "5758c019",
   "metadata": {},
   "outputs": [
    {
     "name": "stdout",
     "output_type": "stream",
     "text": [
      "Feature rankings:\n",
      "1. County_Dublin (0.440385)\n",
      "2. Town_dublin 4 (0.046164)\n",
      "3. Town_dublin 6 (0.043692)\n",
      "4. County_Wicklow (0.029311)\n",
      "5. Town_dalkey (0.027982)\n",
      "6. Town_blackrock (0.026901)\n",
      "7. County_Kildare (0.019671)\n",
      "8. Town_dublin 14 (0.013627)\n",
      "9. Town_foxrock dublin 18 (0.013578)\n",
      "10. County_Meath (0.012043)\n",
      "11. Town_ballsbridge (0.011532)\n",
      "12. Town_malahide (0.011487)\n",
      "13. Town_sandycove (0.011075)\n",
      "14. Town_foxrock (0.010825)\n",
      "15. Town_killiney (0.010596)\n",
      "16. Town_monkstown (0.009594)\n",
      "17. County_Cork (0.009528)\n",
      "18. Town_dun laoghaire (0.009383)\n",
      "19. Town_drimnagh (0.009347)\n",
      "20. Town_glenageary (0.009327)\n",
      "21. Town_dublin 18 (0.009061)\n",
      "22. Town_rathgar (0.008144)\n",
      "23. Town_howth (0.007994)\n",
      "24. Town_charlestown (0.006891)\n",
      "25. Town_mount merrion (0.006009)\n",
      "26. Town_dublin 6w (0.005959)\n",
      "27. Town_greystones (0.005462)\n",
      "28. Town_balbriggan (0.005082)\n",
      "29. Town_ballsbridge dublin 4 (0.004636)\n",
      "30. Town_leopardstown (0.004512)\n",
      "31. Town_rathmines (0.004308)\n",
      "32. Town_donnybrook (0.004167)\n",
      "33. Town_enniskerry (0.003776)\n",
      "34. Town_athy (0.003623)\n",
      "35. Town_dublin 3 (0.003489)\n",
      "36. Town_cabinteely (0.003478)\n",
      "37. County_Galway (0.003333)\n",
      "38. Town_delgany (0.003263)\n",
      "39. Town_stillorgan (0.003247)\n",
      "40. Town_dublin 16 (0.003194)\n",
      "41. Town_dublin 2 (0.002874)\n",
      "42. Town_citywest (0.002777)\n",
      "43. Town_kinsale (0.002770)\n",
      "44. Town_sandymount (0.002746)\n",
      "45. Town_dublin  (0.002735)\n",
      "46. Town_dundrum (0.002720)\n",
      "47. Town_ranelagh (0.002715)\n",
      "48. Province_Connacht (0.002586)\n",
      "49. Province_Ulster (0.002295)\n",
      "50. Town_dublin 10 (0.002178)\n",
      "51. Town_sutton (0.002136)\n",
      "52. Town_portmarnock (0.001988)\n",
      "53. Town_clonskeagh (0.001958)\n",
      "54. Town_clontarf (0.001950)\n",
      "55. Town_arklow (0.001935)\n",
      "56. Town_straffan (0.001824)\n",
      "57. Town_finglas (0.001799)\n",
      "58. Town_dublin 11 (0.001757)\n",
      "59. Town_dublin 22 (0.001719)\n",
      "60. Town_ballinasloe (0.001526)\n",
      "61. Town_donnybrook dublin 4 (0.001469)\n",
      "62. Town_rathmines dublin 6 (0.001468)\n",
      "63. Town_dublin 7 (0.001457)\n",
      "64. Town_tuam (0.001379)\n",
      "65. Town_booterstown (0.001354)\n",
      "66. Town_maynooth (0.001200)\n",
      "67. Town_mallow (0.001186)\n",
      "68. Town_rathfarnham (0.001164)\n",
      "69. Town_ballyfermot (0.001121)\n",
      "70. Town_dublin 9 (0.001067)\n",
      "71. Town_westport (0.001066)\n",
      "72. Town_youghal (0.001043)\n",
      "73. Town_dublin 1 (0.001030)\n",
      "74. Town_salthill (0.001012)\n",
      "75. Town_sandymount dublin 4 (0.001011)\n",
      "76. Town_cabinteely dublin 18 (0.000967)\n",
      "77. Town_rochestown (0.000910)\n",
      "78. Town_rathfarnham dublin 16 (0.000884)\n",
      "79. Town_castleknock (0.000881)\n",
      "80. Town_carrickmines (0.000876)\n",
      "81. Town_ballymun (0.000872)\n",
      "82. Town_dublin 5 (0.000868)\n",
      "83. Town_douglas (0.000857)\n",
      "84. Town_terenure (0.000854)\n",
      "85. Town_barna (0.000781)\n",
      "86. Town_model farm rd (0.000781)\n",
      "87. Town_bray (0.000778)\n",
      "88. Town_monasterevin (0.000775)\n",
      "89. County_Longford (0.000762)\n",
      "90. Town_clondalkin (0.000736)\n",
      "91. Town_dublin 13 (0.000733)\n",
      "92. Town_dundrum dublin 14 (0.000721)\n",
      "93. Town_shankill (0.000709)\n",
      "94. Town_oranmore (0.000706)\n",
      "95. Town_charleville (0.000694)\n",
      "96. Town_leixlip (0.000688)\n",
      "97. Town_adare (0.000667)\n",
      "98. Town_dunboyne (0.000643)\n",
      "99. Town_tallaght dublin 24 (0.000635)\n",
      "100. Town_ratoath (0.000629)\n",
      "101. Town_dublin 24 (0.000620)\n",
      "102. Town_ballincollig (0.000613)\n",
      "103. County_Tipperary (0.000612)\n",
      "104. Town_glanmire (0.000608)\n",
      "105. Town_dunshaughlin (0.000586)\n",
      "106. Town_dublin rd (0.000577)\n",
      "107. Town_finglas dublin 11 (0.000574)\n",
      "108. Town_strandhill (0.000572)\n",
      "109. Town_crumlin (0.000567)\n",
      "110. Town_bishopstown (0.000548)\n",
      "111. Town_carrigaline (0.000544)\n",
      "112. Town_castletroy (0.000543)\n",
      "113. Town_ballintemple (0.000521)\n",
      "114. Town_loughrea (0.000515)\n",
      "115. Town_clondalkin dublin 22 (0.000510)\n",
      "116. Town_dublin 17 (0.000467)\n",
      "117. County_Louth (0.000457)\n",
      "118. Town_kells (0.000450)\n",
      "119. Town_ashford (0.000449)\n",
      "120. Town_killarney (0.000439)\n",
      "121. Town_templeogue (0.000434)\n",
      "122. Town_ennis rd (0.000432)\n",
      "123. Town_dunmore east (0.000420)\n",
      "124. Town_gorey (0.000419)\n",
      "125. Town_ovens (0.000413)\n",
      "126. Town_glounthaune (0.000404)\n",
      "127. Town_ballina (0.000391)\n",
      "128. Town_saggart (0.000387)\n",
      "129. Town_knocklyon (0.000385)\n",
      "130. Town_swords (0.000382)\n",
      "131. Town_rialto (0.000380)\n",
      "132. Town_kerry pike (0.000377)\n",
      "133. Town_naas (0.000374)\n",
      "134. Town_gort (0.000365)\n",
      "135. Town_blacklion (0.000363)\n",
      "136. Town_churchtown (0.000358)\n",
      "137. Town_cabra (0.000348)\n",
      "138. Town_milltown (0.000348)\n",
      "139. Town_johnstown (0.000337)\n",
      "140. Town_celbridge (0.000332)\n",
      "141. Town_annacotty (0.000326)\n",
      "142. Town_newcastle (0.000320)\n",
      "143. Town_monaleen (0.000319)\n",
      "144. Town_crosshaven (0.000316)\n",
      "145. Town_oldcastle (0.000308)\n",
      "146. Town_sandyford dublin 18 (0.000293)\n",
      "147. Town_clifden (0.000289)\n",
      "148. Town_dunmore (0.000288)\n",
      "149. Town_athlone (0.000278)\n",
      "150. Town_williamstown (0.000277)\n",
      "151. Town_dundrum dublin 16 (0.000276)\n",
      "152. Town_portumna (0.000274)\n",
      "153. Town_castleknock dublin 15 (0.000272)\n",
      "154. Town_kilrush (0.000269)\n",
      "155. Town_rathfarnham dublin 14 (0.000263)\n",
      "156. Town_dublin city (0.000259)\n",
      "157. Town_virginia (0.000258)\n",
      "158. Town_ballinlough (0.000256)\n",
      "159. Town_navan (0.000256)\n",
      "160. Town_tinahely (0.000244)\n",
      "161. Town_blarney (0.000241)\n",
      "162. Town_termonfeckin (0.000241)\n",
      "163. Town_thomastown (0.000237)\n",
      "164. Town_clonee (0.000237)\n",
      "165. Town_skerries (0.000235)\n",
      "166. Town_killaloe (0.000227)\n",
      "167. Town_tramore (0.000227)\n",
      "168. Town_raheen (0.000227)\n",
      "169. Town_donabate (0.000218)\n",
      "170. Town_clontarf dublin 3 (0.000215)\n",
      "171. Town_kanturk (0.000211)\n",
      "172. Town_ballybane (0.000210)\n",
      "173. Town_blanchardstown (0.000204)\n",
      "174. Town_innishannon (0.000199)\n",
      "175. Town_santry dublin 9 (0.000198)\n",
      "176. County_Roscommon (0.000198)\n",
      "177. Town_dungarvan (0.000196)\n",
      "178. Town_dingle (0.000193)\n",
      "179. Town_inchicore (0.000189)\n",
      "180. Town_athenry (0.000181)\n",
      "181. Town_ballybrit (0.000177)\n",
      "182. Town_rathnew (0.000173)\n",
      "183. Town_lahinch (0.000173)\n",
      "184. Town_mungret (0.000172)\n",
      "185. Town_headford (0.000172)\n",
      "186. Town_rathangan (0.000167)\n",
      "187. Town_hansfield (0.000165)\n",
      "188. Town_dublin 12 (0.000165)\n",
      "189. Town_doughiska (0.000163)\n",
      "190. Town_kilcock (0.000163)\n",
      "191. Town_walkinstown (0.000161)\n",
      "192. Town_ashtown (0.000159)\n",
      "193. Town_athboy (0.000158)\n",
      "194. Town_clonsilla (0.000157)\n",
      "195. Town_newmarket (0.000155)\n",
      "196. Town_castledermot (0.000155)\n",
      "197. Town_blanchardstown dublin 15 (0.000155)\n",
      "198. Town_abbeyleix (0.000150)\n",
      "199. Town_drumcondra (0.000148)\n",
      "200. Town_lusk (0.000147)\n",
      "201. Town_dunmanway (0.000143)\n",
      "202. Town_rush (0.000140)\n",
      "203. Town_beaumont (0.000140)\n",
      "204. Town_lehenaghbeg (0.000137)\n",
      "205. Town_ballivor (0.000134)\n",
      "206. Town_castlebar (0.000134)\n",
      "207. Town_kildare (0.000133)\n",
      "208. Town_schull (0.000133)\n",
      "209. Town_kenmare (0.000131)\n",
      "210. Town_dunmore rd (0.000129)\n",
      "211. Town_carrickmacross (0.000127)\n",
      "212. Town_headford rd (0.000126)\n",
      "213. Town_castleconnell (0.000126)\n",
      "214. Town_doneraile (0.000126)\n",
      "215. Town_buttevant (0.000125)\n",
      "216. Town_stepaside (0.000124)\n",
      "217. Town_dooradoyle (0.000122)\n",
      "218. Town_macroom (0.000120)\n",
      "219. Town_waterford (0.000116)\n",
      "220. Town_fermoy (0.000116)\n",
      "221. Town_blackpool (0.000115)\n",
      "222. Town_artane (0.000114)\n",
      "223. Town_rathdowney (0.000112)\n",
      "224. Town_main st (0.000107)\n",
      "225. Town_dock rd (0.000107)\n",
      "226. Town_millstreet (0.000105)\n",
      "227. Town_mullingar (0.000103)\n",
      "228. Town_lehenaghmore (0.000102)\n",
      "229. Town_grange (0.000101)\n",
      "230. Town_ashbourne (0.000099)\n",
      "231. Town_kilcoole (0.000096)\n",
      "232. Town_newbridge (0.000094)\n",
      "233. Town_trim (0.000094)\n",
      "234. Town_castlebridge (0.000093)\n",
      "235. Town_adamstown (0.000092)\n",
      "236. Town_kinsealy (0.000092)\n",
      "237. Town_galway (0.000090)\n",
      "238. Town_rosslare strand (0.000087)\n",
      "239. Town_clonmel (0.000084)\n",
      "240. Town_clarina (0.000083)\n",
      "241. Town_newport (0.000082)\n",
      "242. Town_dublin 15 (0.000080)\n",
      "243. Town_kilkee (0.000078)\n",
      "244. Town_rathcormac (0.000077)\n",
      "245. Town_dublin 20 (0.000076)\n",
      "246. Town_cork city (0.000075)\n",
      "247. Town_raheny (0.000075)\n",
      "248. Town_wicklow (0.000073)\n",
      "249. Town_baltimore (0.000072)\n",
      "250. Town_abbeyfeale (0.000071)\n",
      "251. Town_kilkenny (0.000070)\n",
      "252. Town_kilcullen (0.000069)\n",
      "253. Town_wicklow town (0.000069)\n",
      "254. Town_tipperary (0.000068)\n",
      "255. Town_clara (0.000066)\n",
      "256. Town_carbury (0.000066)\n",
      "257. Town_mountrath (0.000065)\n",
      "258. Town_dunfanaghy (0.000064)\n",
      "259. Town_midleton (0.000062)\n",
      "260. Town_listowel (0.000062)\n",
      "261. Town_drimoleague (0.000061)\n",
      "262. Town_castlerea (0.000060)\n",
      "263. Town_oughterard (0.000060)\n",
      "264. Town_ennis (0.000060)\n",
      "265. Town_laytown (0.000060)\n",
      "266. Province_Munster (0.000059)\n",
      "267. County_Laois (0.000059)\n",
      "268. Town_drogheda (0.000058)\n",
      "269. Town_stradbally (0.000058)\n",
      "270. Town_tyrrelstown (0.000058)\n",
      "271. Town_roscrea (0.000057)\n",
      "272. Town_boyle (0.000055)\n",
      "273. Town_mountmellick (0.000055)\n",
      "274. Town_tipperary town (0.000055)\n",
      "275. Town_donegal town (0.000054)\n",
      "276. Town_waterville (0.000054)\n",
      "277. Town_rosslare (0.000054)\n",
      "278. Town_balgriffin (0.000054)\n",
      "279. Town_milford (0.000054)\n",
      "280. Town_blessington (0.000053)\n",
      "281. Town_newmarket on fergus (0.000052)\n",
      "282. Town_renmore (0.000052)\n",
      "283. Town_dundalk (0.000051)\n",
      "284. Town_tullamore (0.000050)\n",
      "285. Town_kingscourt (0.000050)\n",
      "286. Town_ballybrack (0.000050)\n",
      "287. Town_corbally (0.000049)\n",
      "288. Town_clonakilty (0.000048)\n",
      "289. Town_skibbereen (0.000048)\n",
      "290. County_Offaly (0.000048)\n",
      "291. Town_newtownmountkennedy (0.000047)\n",
      "292. Town_watergrasshill (0.000045)\n",
      "293. Town_foxwood (0.000044)\n",
      "294. Town_craughwell (0.000044)\n",
      "295. Town_ballisodare (0.000044)\n",
      "296. Town_carlow (0.000043)\n",
      "297. Town_killorglin (0.000043)\n",
      "298. Town_louisburgh (0.000043)\n",
      "299. Town_carrick on shannon (0.000041)\n",
      "300. Town_clonsilla dublin 15 (0.000040)\n",
      "301. Town_summerhill (0.000040)\n",
      "302. Town_nenagh (0.000039)\n",
      "303. County_Carlow (0.000039)\n",
      "304. Town_mulgannon (0.000037)\n",
      "305. Town_glenbeigh (0.000037)\n",
      "306. Town_lismore (0.000037)\n",
      "307. Town_whiterock hill (0.000037)\n",
      "308. Town_ramelton (0.000035)\n",
      "309. Town_silversprings (0.000034)\n",
      "310. Town_castleblayney (0.000034)\n",
      "311. Town_longwood (0.000033)\n",
      "312. Town_togher (0.000033)\n",
      "313. Town_castletownbere (0.000033)\n",
      "314. Town_bantry (0.000032)\n",
      "315. Town_sixmilebridge (0.000032)\n",
      "316. Town_mitchelstown (0.000032)\n",
      "317. County_Kilkenny (0.000032)\n",
      "318. Town_wexford (0.000032)\n",
      "319. Town_dublin 8 (0.000031)\n",
      "320. Town_clarecastle (0.000030)\n",
      "321. Town_castlecomer (0.000029)\n",
      "322. Town_rathmore (0.000028)\n",
      "323. Town_carndonagh (0.000028)\n",
      "324. Town_stamullen (0.000028)\n",
      "325. Town_ferrybank (0.000027)\n",
      "326. Town_knocknacarra (0.000027)\n",
      "327. County_Clare (0.000027)\n",
      "328. Town_ballyhaunis (0.000027)\n",
      "329. Town_letterkenny (0.000027)\n",
      "330. Town_clones (0.000026)\n",
      "331. Town_blackwater (0.000024)\n",
      "332. Town_limerick (0.000024)\n",
      "333. County_Monaghan (0.000024)\n",
      "334. Town_bundoran (0.000024)\n",
      "335. Town_mornington (0.000023)\n",
      "336. Town_swinford (0.000023)\n",
      "337. Town_ballymote (0.000023)\n",
      "338. Town_cork (0.000022)\n",
      "339. Town_graiguecullen (0.000022)\n",
      "340. Town_ballycullen (0.000021)\n",
      "341. Town_ballybay (0.000021)\n",
      "342. Town_lifford (0.000021)\n",
      "343. Town_ennistymon (0.000020)\n",
      "344. Town_belturbet (0.000020)\n",
      "345. Town_longford (0.000020)\n",
      "346. Town_kiltimagh (0.000020)\n",
      "347. Town_ballybunion (0.000020)\n",
      "348. Town_ladysbridge (0.000020)\n",
      "349. Town_enfield (0.000020)\n",
      "350. Town_ballinteer (0.000019)\n",
      "351. Town_cashel (0.000019)\n",
      "352. Town_ballyphehane (0.000019)\n",
      "353. Town_johnswell rd (0.000018)\n",
      "354. Town_castlemartyr (0.000018)\n",
      "355. Town_claregalway (0.000018)\n",
      "356. Town_rooskey (0.000018)\n",
      "357. Town_rathcoole (0.000017)\n",
      "358. Town_murroe (0.000016)\n",
      "359. Town_whitegate (0.000016)\n",
      "360. Town_cloyne (0.000016)\n",
      "361. Town_roscam (0.000016)\n",
      "362. Town_mayfield (0.000015)\n",
      "363. Town_manorhamilton (0.000015)\n",
      "364. Town_clongriffin (0.000015)\n",
      "365. Town_portlaoise (0.000015)\n",
      "366. Town_mullagh (0.000015)\n",
      "367. Town_moate (0.000014)\n",
      "368. Town_kildare town (0.000014)\n",
      "369. Town_bettystown (0.000014)\n",
      "370. Town_tralee (0.000014)\n",
      "371. Town_rathdrum (0.000013)\n",
      "372. Town_banagher (0.000013)\n",
      "373. Town_castlepollard (0.000013)\n",
      "374. Town_bandon (0.000013)\n",
      "375. Town_moycullen (0.000013)\n",
      "376. Town_glasnevin (0.000012)\n",
      "377. Town_new ross (0.000012)\n",
      "378. Town_limerick city (0.000012)\n",
      "379. Town_kilworth (0.000012)\n",
      "380. Town_slane (0.000012)\n",
      "381. Town_birr (0.000011)\n",
      "382. Town_courtown (0.000011)\n",
      "383. Town_knock (0.000011)\n",
      "384. Town_carrick on suir (0.000011)\n",
      "385. Town_cobh (0.000011)\n",
      "386. Town_templemore (0.000011)\n",
      "387. Town_clogherhead (0.000011)\n",
      "388. Town_ballyjamesduff (0.000011)\n",
      "389. Town_ballaghaderreen (0.000010)\n",
      "390. Town_newtownforbes (0.000010)\n",
      "391. County_Waterford (0.000010)\n",
      "392. Town_enniscorthy (0.000010)\n",
      "393. Town_shannon (0.000010)\n",
      "394. Town_cavan (0.000009)\n",
      "395. County_Wexford (0.000009)\n",
      "396. Town_strokestown (0.000009)\n",
      "397. Town_castlebellingham (0.000009)\n",
      "398. Town_moville (0.000009)\n",
      "399. Town_ballinamore (0.000008)\n",
      "400. Province_Leinster (0.000008)\n",
      "401. Town_turners cross (0.000008)\n",
      "402. Town_tubbercurry (0.000008)\n",
      "403. Town_jigginstown (0.000007)\n",
      "404. Town_santry (0.000007)\n",
      "405. Town_ballyshannon (0.000007)\n",
      "406. Town_baldoyle (0.000007)\n",
      "407. County_Kerry (0.000006)\n",
      "408. Town_prosperous (0.000006)\n",
      "409. County_Sligo (0.000006)\n",
      "410. Town_thurles (0.000006)\n",
      "411. Town_mohill (0.000006)\n",
      "412. County_Westmeath (0.000006)\n",
      "413. Town_portarlington (0.000006)\n",
      "414. Town_killeagh (0.000005)\n",
      "415. Town_palmerstown (0.000005)\n",
      "416. Town_corofin (0.000005)\n",
      "417. Town_tullow (0.000005)\n",
      "418. Town_clonard (0.000005)\n",
      "419. Town_kill (0.000005)\n",
      "420. Town_fethard (0.000005)\n",
      "421. Town_duleek (0.000005)\n",
      "422. Town_sandyford (0.000005)\n",
      "423. Town_passage west (0.000004)\n",
      "424. Town_ferns (0.000004)\n",
      "425. Town_ballinode (0.000004)\n",
      "426. Town_killucan (0.000004)\n",
      "427. Town_dromod (0.000004)\n",
      "428. Town_kilmacthomas (0.000004)\n",
      "429. Town_enniscrone (0.000004)\n",
      "430. Town_callan (0.000004)\n",
      "431. County_Mayo (0.000003)\n",
      "432. Town_newcastle west (0.000003)\n",
      "433. Town_bunclody (0.000003)\n",
      "434. Town_drumlish (0.000003)\n",
      "435. Town_coolaney (0.000003)\n",
      "436. Town_claremorris (0.000003)\n",
      "437. Town_ballyconnell (0.000003)\n",
      "438. Town_ballinagh (0.000003)\n",
      "439. Town_ardee (0.000003)\n",
      "440. Town_piltown (0.000003)\n",
      "441. Town_kinnegad (0.000003)\n",
      "442. Town_kinlough (0.000003)\n",
      "443. County_Cavan (0.000002)\n",
      "444. County_Limerick (0.000002)\n",
      "445. Town_ballymahon (0.000002)\n",
      "446. Town_baltinglass (0.000002)\n",
      "447. Town_glengarriff (0.000002)\n",
      "448. Town_aughrim (0.000002)\n",
      "449. Town_tullow rd (0.000002)\n",
      "450. Town_ballinrobe (0.000002)\n",
      "451. Town_rosscarbery (0.000002)\n",
      "452. Town_monaghan (0.000002)\n",
      "453. Town_ballaghadereen (0.000001)\n",
      "454. Town_rosslare harbour (0.000001)\n",
      "455. Town_clane (0.000001)\n",
      "456. Town_lucan (0.000001)\n",
      "457. Town_achill (0.000001)\n",
      "458. Town_cloughjordan (0.000001)\n",
      "459. Town_bruff (0.000001)\n",
      "460. Town_waterford city (0.000001)\n",
      "461. Town_cahir (0.000001)\n",
      "462. Town_muff (0.000001)\n",
      "463. Town_castleisland (0.000001)\n",
      "464. Town_kilbeggan (0.000001)\n",
      "465. Town_foxford (0.000001)\n",
      "466. Town_newcastlewest (0.000001)\n",
      "467. Town_rahoon (0.000001)\n",
      "468. Town_edenderry (0.000001)\n",
      "469. Town_buncrana (0.000001)\n",
      "470. Town_miltown malbay (0.000000)\n",
      "471. Town_portlaw (0.000000)\n",
      "472. Town_dromahair (0.000000)\n",
      "473. Town_delvin (0.000000)\n",
      "474. Town_bailieborough (0.000000)\n",
      "475. Town_collooney (0.000000)\n",
      "476. Town_sligo (0.000000)\n",
      "477. Town_carrigtwohill (0.000000)\n",
      "478. Town_cootehill (0.000000)\n",
      "479. Town_tallaght (0.000000)\n",
      "480. Town_belmullet (0.000000)\n",
      "481. Town_granard (0.000000)\n",
      "482. Town_wilton (0.000000)\n",
      "483. County_Donegal (0.000000)\n",
      "484. Town_rathkeale (0.000000)\n",
      "485. Town_hollystown (0.000000)\n",
      "486. Town_kilmallock (0.000000)\n",
      "487. Town_elphin (0.000000)\n",
      "488. Town_kinvara (0.000000)\n",
      "489. Town_sallins (0.000000)\n",
      "490. Town_cappoquin (0.000000)\n",
      "491. Town_galway city (0.000000)\n",
      "492. County_Leitrim (0.000000)\n",
      "493. Town_dunleer (0.000000)\n",
      "494. Town_bagenalstown (0.000000)\n",
      "495. Town_askeaton (0.000000)\n",
      "496. Town_edgeworthstown (0.000000)\n",
      "497. Town_carlingford (0.000000)\n",
      "498. Town_ballyvolane (0.000000)\n",
      "499. Town_ballybofey (0.000000)\n",
      "500. Town_drumshanbo (0.000000)\n",
      "501. Town_caherciveen (0.000000)\n"
     ]
    }
   ],
   "source": [
    "# Print the feature rankings\n",
    "print(\"Feature rankings:\")\n",
    "for f in range(X.shape[1]):\n",
    "    print(\"%d. %s (%f)\" % (f + 1, X.columns[indices[f]], importances[indices[f]]))"
   ]
  },
  {
   "attachments": {},
   "cell_type": "markdown",
   "id": "9336c9b8",
   "metadata": {},
   "source": [
    "## ARIMA"
   ]
  },
  {
   "cell_type": "code",
   "execution_count": 11,
   "id": "bf3c75a2",
   "metadata": {
    "ExecuteTime": {
     "end_time": "2023-04-15T16:29:30.847499Z",
     "start_time": "2023-04-15T16:29:29.869336Z"
    }
   },
   "outputs": [
    {
     "name": "stderr",
     "output_type": "stream",
     "text": [
      "/var/folders/55/j0v2zlbn1575rkmztsycxlfw0000gn/T/ipykernel_33889/2749913046.py:5: UserWarning:\n",
      "\n",
      "The argument 'infer_datetime_format' is deprecated and will be removed in a future version. A strict version of it is now the default, see https://pandas.pydata.org/pdeps/0004-consistent-to-datetime-parsing.html. You can safely remove this argument.\n",
      "\n"
     ]
    },
    {
     "ename": "TypeError",
     "evalue": "Could not convert churchtownnewcastle westsalthillportlawbuncranadublin 16cabraleixlipnew rosslucancarrigtwohillnenaghdunboynekerry pikenaasdalkeycarrigalineartanenaascabranavanashbourneclonakiltysandymountdublin 12clonsillaclondalkinmitchelstowncaherciveenrahenydundalkpalmerstownbalbrigganlucanstepasidefinglascastleknockdublin 3birrkilbegganbirrportumnadouglasashbourneterenureashtowncrosshavenoldcastlebandondublin 16ballincolligratoathcastletroylucantallaghtdublin 9mullingarsandymountclonsillalismorekinsalekellsedenderrysandyfordmaynoothcabradooradoylebraydroghedadublin 6douglasheadford rdtraleedublin 5letterkennystepasideclonsillamountmellickballinasloekanturkthurlesdublin 11rathkealemountrathdunfanaghytraleetubbercurrynewportbraymurroefernscrosshavenrathdowneyrathdowneydublin 15letterkennydundalkswordsdublin 8douglasclogherheadkillarneyglanmirewiltonnewbridgetempleogueashtownashbournedrimnaghdublin 7tallaghtathytullamorestillorganrahoonclifdenskerriesgoreyratoathkinsaledublin 13rochestowndrumcondradroghedaclonsillaclontarfletterkennycastleknockdublin 12mullingarportlaoisedublin 8monkstownknocklyonmalahidemonasterevindublin 16dublin 3dublin 9drumcondradublin 4dublin 14mullingarmalahidekilcooleturners crosskilcooleartanefinglasswordsswordsclonmeldublin 3blackrockclontarfdroghedamaynoothdublin 15cashelportlaoisekillarneyshankillblackrockcastleknockbraycarrigtwohillballyconnellcourtownballinasloeheadforddungarvandunmore eastennis rdmohillkilmacthomasballinasloeclanenaasjohnswell rdstrandhillmullingarmullingarcarndonaghheadfordkilcooleskerriesblarneydublin rdarklowsandyfordtullamoreskerriesballincolligdundrumdublin 24rathnewdungarvanmurroestillorgancastleknocklucankillarneydublin 15clanecarburyglasnevinrenmoremonaleendublin 7ashbournekilmallockdundrumclonmelkilleaghlucancorballycabinteelyshankillmulgannonblackrockdublin 4celbridgemalahidetallaghtrosslare strandnewbridgebunclodyarklowballaghaderreentraleeclonmelcallandundalkcahirthurlesportarlingtonachillmullingardouglasdroghedaclonsillatempleoguedublin 13kilcullendouglasdublin 14dublin 9dublin 8swordscelbridgecarrigalinecarrigtwohillmaynoothbruffdublin 7maynoothcharlevilleadamstownleixlipportlaoisecarrigtwohilldundalkluskmaynoothlehenaghbegcarrigalinedun laoghairemidletonkillucanmalahideletterkennylaytowndublin 11tallaghtballinteerathymalahidedundalkdundalkdublin 12knocklyondalkeyennistempleoguecrumlindungarvanannacottykillorglinnew rossportlaoisebalbriggankilkeeletterkennydublin 4trimmoycullenlucanmoatemalahideblackrockmaynoothnavanbundorankillineydublin 13mallowathloneballyshannontuambaltinglassrathangankillarneykillorglintraleekilmallockdalkeykillarneykinsalemountmellickportlaoisesandymountroscrearoscreafernslistowelnaasathyblackrocknaasnewbridgedublin 5dublin 3mullingarcloneedonabateswordsnewbridgenewbridgedublin 12barnafernscelbridgebrayleixlipdroghedatuamclonmeldouglasknocklyonnenaghenniscorthyshankilldublin 15tramorefermoydublin 6corballycastletroydublin 24crumlincarrigalinesummerhillrathminestallaghtdelganymallowdublin 24mallowkinsalenavanroscreacastleknockluskcelbridgedingletramorenewcastleraheenclonsillabelturbettraleeglanmirekilmallocksandycovekillarneyfinglasmullingartallaghtblanchardstownwestportdublin 15monasterevinrathfarnhammullaghkellsfernsnenaghmungretblackrockblackrockwiltonmonasterevinenfieldknocknacarrabrayballyvolanetogherdroghedacarrickminescabinteelyathloneballintemplecarrigalinetramorewalkinstownloughreadublin 24balbriggandrumcondradublin 9templeoguegreystonesashbournegreystonessaggarttempleoguebalbriggandublin 9killarneytramoresantrylaytowndelganyletterkennydublin 7passage westdublin 3terenureclanenewbridgeportlaoisestepasidenavancelbridgerathfarnhamglasnevindublin 8mullingardublin 24dungarvanleopardstownballycullentullowdublin 10loughreatullowoughterardcarrigtwohillranelaghknocklyonfinglaslongwooddublin 11bundoranblackrocktraleekilworthrathfarnhampassage westnewbridgeknocklyonblackrockdublin 4clontarfdublin 8rathangancootehillballyhauniskenmarekinsalekillarneykilmallockcraughwellrathfarnhamcastlecomercelbridgecarrigalinecastlebarportlaoisedooradoylestradballyfethardskerriesenniskerrypiltownloughreamullingarclaregalwayclaneleopardstownlucandublin 7rathcooletemplemoreclonmelrathfarnhamrahenyclonmelnaasballyfermotcarrigalinetermonfeckintrimroscamdublin 22midletonkillaloenenaghballincolligkillarneybalbriggancorballyclontarfmoatedrumcondracastleconnelldroghedablackrockthurlesmodel farm rdportlaoisemallowcarburynavanrosslareloughreamulgannonlistoweltraleevirginiasandycoveknocknacarrawestportcarrickmacrosswestportcarrickmacrossdundalkcloughjordanbagenalstowntullamorekillorglinkilkeeenfieldcastletroytramorelucanlusknewbridgerialtotraleeportlaoisedrumshanboglanmireroscreaballincolligkilkeeportlaoiseathloneclontarfrathgarleopardstowngoreyrushkillarneyfernstramoredublin 17droghedanewcastlewestbettystownletterkennydublin 15enniscashelkinsalestepasidedublin 15rahenynewcastlecrumlinennisovensnewcastle westcelbridgeballyjamesduffbettystownenfieldrathmoreballincollignenaghlistowelbaltimoredunleerenniscorthycashelmohillgoreyballincolliglistowelbantrynewmarketmohillnenaghdouglasdundrumashbournesalthillballymotemalahidecastletroygoreydublin 15adamstownblackrockclonsillatullowballinaghdublin 16dublin 7dungarvannaasdundalkleopardstowncarrickmacrossthomastownardeeshannonblackrockballincolligmullingarnaasgrangeknocklyongoreynewbridgedublin 18leixlipnenaghdublin 8crumlinenniscroneleixlipdrimnaghfermoynewcastle westfoxwooddungarvanadamstowndungarvanclonskeaghadamstownclondalkinbuncranaashbournedublin 11dublin 11castleknocksantryschulledenderrygoreytraleeclaremorriskillineyrathmineskinsaledromodboyleclondalkinnew rossadamstownnewmarket on fergusballsbridgesandymountdublin 15ardeedublin 24portlaoiseballyfermotdublin 24dublin 16tallaghtportlawdublin 12newportdublin 11blackrockrathangandublin 16tallaghtdundrumfoxrockdublin 9blackrockathyballinaghraheenmalahidemalahideblackrockmonkstownswordsmullingarashtownnaastullowmidletonnavanballybracktallaghtnewbridgerathnewmallowheadford rdbundoranloughreamalahidebalbriggandublin 22suttondunboynenenaghelphinmaynoothtraleeathenrypiltowntullamorecoolaneykinvaradouglasratoathkinsaleballymoterathminescarrigalineadamstowndroghedakillucanardeearklowashbourneclonmelnaasdublin 14tullamorebalbriggandublin 16kilcooledoneraileathenrycourtownmayfieldwalkinstownnavanlongwoodmilltownclonskeaghballincollignenaghliffordmurroekilbeggandublin 15douglasoranmorecarrigalineoranmorekillineydundalknaasmullingarskerriesgoreydouglasathlonedublin 13swordsnew rossnew rossportmarnockrathfarnhamterenurebalbrigganartanecloynecharlevilleenniscorthyschullcraughwellcootehillmullingarkinvaraballinasloerochestownnavanglasnevinballinteerkillarneymalahideknocklyonnaasballincolligenniscorthytraleerushroscreamitchelstowncobhyoughalcastleknockswordsfermoyblanchardstowndublin 15dundrumbrayranelaghstepasideoughterardportarlingtongreystonescarndonaghcastleislandschullkillarneygoreyrochestowndundalkcork cityrathangansummerhillashbournewatervillecabinteelyrathdowneyglanmirecabinteelynewbridgerathcooleaughrimstillorganfinglasgoreyblackrockballyconnelldublin 11balbriggandublin 3castletroyballsbridgeashbournelucanmullingarovensblanchardstownletterkennysaggartswordsdublin 12glanmirenavandroghedamountmellickknocklyoncelbridgerathfarnhamashtownbrayportlaoiseabbeyleixdublin 15dublin 15skerriesdublin 24mullaghnavangreystonesknocklyondublin 24mallowennisdublin 7lucanportlaoisestepasideclonsillacarrigalinerathfarnhamclondalkinathloneknocknacarrastepasidecabinteelytempleoguefinglasbantrysandyfordstamullenstamullennaasswordscabrablackrockleixlipbantrydublin 15adamstownglenagearymalahidetullamorebalbriggantallaghtdinglelucannaasrooskeydublin 13mountmellickenniscloneebraybraycarrigtwohilldundalkkilcullencelbridgejohnswell rdashbournebraysandymountrushgoreyballyhaunisrushrathfarnhamrosslarecappoquinnew rossswinfordkenmarecastletownberedundrumballinafernskellscahirmullingarmullingarathenryrahenykillorglinmallowmullingarglanmiredublin 9droghedatullowdooradoyleathloneknocklyonsuttonnewcastlewestdouglasglanmiremountmellickdunleerbraytempleogueblessingtonnewbridgeennismullingarcastleknocklucanbalgriffindublin 3dublin 12dublin 7artanekilmallockportlaoiseballybunionkillaloeheadfordbirrdouglasdrumcondrarathfarnhamblackrockdouglascobhnavanmalahidedublin 15dublin 14dublin 13waterford cityedgeworthstowncarrigtwohilldublin 6kilcooleblackrockcharlestownnewcastlefinglasdundalknenaghchurchtowntullowdundalkdroghedanavandublin 18midletonglasnevindonerailecastleblayneynewportclaregalwaytemplemorekellskellscoolaneytemplemoreedgeworthstownloughreaathykilmallockkilmallockkilmallockgoreylucanmaynoothrochestowncrumlindublin 9knocknacarrapiltowngraiguecullendrumcondraballinasloefinglasblackrockmidletonashtowncelbridgesantryportmarnockdublin 15trimtullamorehowthdublin 11clondalkinashtownwatergrasshilldouglasmalahideballinteercrumlindublin 12dublin 4delvinabbeyfealebrufftuamdingleblackwaternavanrathanganadarewestportnenaghcarrickmacrossdunboynebalbrigganartanedublin 5sandyforddublin 6wdunboynedublin 11rushdublin 6wshankilldublin 22tullowdublin 14nenaghlucanswordsdublin 7dublin rdslanedublin 3dublin 13clontarfchurchtownclontarfletterkennyadamstownsandyfordlucandublin 12howthportlaoisedonabatenavandublin 11thomastowntraleeblackpoolathboymidletoncarrickmacrossletterkennykilmallocksandymountclonmelkillineyclonmelblackrockballinaghdublin 15leixlipdalkeytallaghtmalahiderochestownnewbridgetullamoreroscamglasnevindublin 12balgriffincobhbooterstownadamstownterenurebalbrigganstillorganenniscorthycarrigalineballinteercarrickmacrosstallaghtgreystonesswordsdublin 15swordsdublin 4dublin 24dublin 8balbrigganenniscorthyskerriesblanchardstowndublin 3dublin 9santryportarlingtonshankilldalkeynenaghlucandublin 15santrykillmonkstowntuamlucankilkeeclonskeaghcastleblayneydublin 22tullamoreclanedublin 12duleektrimsantrydrimnaghdrumcondracourtowncarrigtwohilldublin 24traleemulgannoncarrickminesswordstrimrathkealemullingarroscreaenniscorthyskerriestraleelaytownlaytownlaytownkillarneyballyhaunisrosslare strandennisathytrimdroghedamacroomsandycovemullingarballyshannonportmarnockcastletroy to numeric",
     "output_type": "error",
     "traceback": [
      "\u001b[0;31m---------------------------------------------------------------------------\u001b[0m",
      "\u001b[0;31mNotImplementedError\u001b[0m                       Traceback (most recent call last)",
      "File \u001b[0;32m~/opt/miniconda3/envs/SETU/lib/python3.11/site-packages/pandas/core/groupby/groupby.py:1490\u001b[0m, in \u001b[0;36mGroupBy._cython_agg_general.<locals>.array_func\u001b[0;34m(values)\u001b[0m\n\u001b[1;32m   1489\u001b[0m \u001b[39mtry\u001b[39;00m:\n\u001b[0;32m-> 1490\u001b[0m     result \u001b[39m=\u001b[39m \u001b[39mself\u001b[39;49m\u001b[39m.\u001b[39;49mgrouper\u001b[39m.\u001b[39;49m_cython_operation(\n\u001b[1;32m   1491\u001b[0m         \u001b[39m\"\u001b[39;49m\u001b[39maggregate\u001b[39;49m\u001b[39m\"\u001b[39;49m,\n\u001b[1;32m   1492\u001b[0m         values,\n\u001b[1;32m   1493\u001b[0m         how,\n\u001b[1;32m   1494\u001b[0m         axis\u001b[39m=\u001b[39;49mdata\u001b[39m.\u001b[39;49mndim \u001b[39m-\u001b[39;49m \u001b[39m1\u001b[39;49m,\n\u001b[1;32m   1495\u001b[0m         min_count\u001b[39m=\u001b[39;49mmin_count,\n\u001b[1;32m   1496\u001b[0m         \u001b[39m*\u001b[39;49m\u001b[39m*\u001b[39;49mkwargs,\n\u001b[1;32m   1497\u001b[0m     )\n\u001b[1;32m   1498\u001b[0m \u001b[39mexcept\u001b[39;00m \u001b[39mNotImplementedError\u001b[39;00m:\n\u001b[1;32m   1499\u001b[0m     \u001b[39m# generally if we have numeric_only=False\u001b[39;00m\n\u001b[1;32m   1500\u001b[0m     \u001b[39m# and non-applicable functions\u001b[39;00m\n\u001b[1;32m   1501\u001b[0m     \u001b[39m# try to python agg\u001b[39;00m\n\u001b[1;32m   1502\u001b[0m     \u001b[39m# TODO: shouldn't min_count matter?\u001b[39;00m\n",
      "File \u001b[0;32m~/opt/miniconda3/envs/SETU/lib/python3.11/site-packages/pandas/core/groupby/ops.py:959\u001b[0m, in \u001b[0;36mBaseGrouper._cython_operation\u001b[0;34m(self, kind, values, how, axis, min_count, **kwargs)\u001b[0m\n\u001b[1;32m    958\u001b[0m ngroups \u001b[39m=\u001b[39m \u001b[39mself\u001b[39m\u001b[39m.\u001b[39mngroups\n\u001b[0;32m--> 959\u001b[0m \u001b[39mreturn\u001b[39;00m cy_op\u001b[39m.\u001b[39;49mcython_operation(\n\u001b[1;32m    960\u001b[0m     values\u001b[39m=\u001b[39;49mvalues,\n\u001b[1;32m    961\u001b[0m     axis\u001b[39m=\u001b[39;49maxis,\n\u001b[1;32m    962\u001b[0m     min_count\u001b[39m=\u001b[39;49mmin_count,\n\u001b[1;32m    963\u001b[0m     comp_ids\u001b[39m=\u001b[39;49mids,\n\u001b[1;32m    964\u001b[0m     ngroups\u001b[39m=\u001b[39;49mngroups,\n\u001b[1;32m    965\u001b[0m     \u001b[39m*\u001b[39;49m\u001b[39m*\u001b[39;49mkwargs,\n\u001b[1;32m    966\u001b[0m )\n",
      "File \u001b[0;32m~/opt/miniconda3/envs/SETU/lib/python3.11/site-packages/pandas/core/groupby/ops.py:657\u001b[0m, in \u001b[0;36mWrappedCythonOp.cython_operation\u001b[0;34m(self, values, axis, min_count, comp_ids, ngroups, **kwargs)\u001b[0m\n\u001b[1;32m    649\u001b[0m     \u001b[39mreturn\u001b[39;00m \u001b[39mself\u001b[39m\u001b[39m.\u001b[39m_ea_wrap_cython_operation(\n\u001b[1;32m    650\u001b[0m         values,\n\u001b[1;32m    651\u001b[0m         min_count\u001b[39m=\u001b[39mmin_count,\n\u001b[0;32m   (...)\u001b[0m\n\u001b[1;32m    654\u001b[0m         \u001b[39m*\u001b[39m\u001b[39m*\u001b[39mkwargs,\n\u001b[1;32m    655\u001b[0m     )\n\u001b[0;32m--> 657\u001b[0m \u001b[39mreturn\u001b[39;00m \u001b[39mself\u001b[39;49m\u001b[39m.\u001b[39;49m_cython_op_ndim_compat(\n\u001b[1;32m    658\u001b[0m     values,\n\u001b[1;32m    659\u001b[0m     min_count\u001b[39m=\u001b[39;49mmin_count,\n\u001b[1;32m    660\u001b[0m     ngroups\u001b[39m=\u001b[39;49mngroups,\n\u001b[1;32m    661\u001b[0m     comp_ids\u001b[39m=\u001b[39;49mcomp_ids,\n\u001b[1;32m    662\u001b[0m     mask\u001b[39m=\u001b[39;49m\u001b[39mNone\u001b[39;49;00m,\n\u001b[1;32m    663\u001b[0m     \u001b[39m*\u001b[39;49m\u001b[39m*\u001b[39;49mkwargs,\n\u001b[1;32m    664\u001b[0m )\n",
      "File \u001b[0;32m~/opt/miniconda3/envs/SETU/lib/python3.11/site-packages/pandas/core/groupby/ops.py:497\u001b[0m, in \u001b[0;36mWrappedCythonOp._cython_op_ndim_compat\u001b[0;34m(self, values, min_count, ngroups, comp_ids, mask, result_mask, **kwargs)\u001b[0m\n\u001b[1;32m    495\u001b[0m     \u001b[39mreturn\u001b[39;00m res\u001b[39m.\u001b[39mT\n\u001b[0;32m--> 497\u001b[0m \u001b[39mreturn\u001b[39;00m \u001b[39mself\u001b[39;49m\u001b[39m.\u001b[39;49m_call_cython_op(\n\u001b[1;32m    498\u001b[0m     values,\n\u001b[1;32m    499\u001b[0m     min_count\u001b[39m=\u001b[39;49mmin_count,\n\u001b[1;32m    500\u001b[0m     ngroups\u001b[39m=\u001b[39;49mngroups,\n\u001b[1;32m    501\u001b[0m     comp_ids\u001b[39m=\u001b[39;49mcomp_ids,\n\u001b[1;32m    502\u001b[0m     mask\u001b[39m=\u001b[39;49mmask,\n\u001b[1;32m    503\u001b[0m     result_mask\u001b[39m=\u001b[39;49mresult_mask,\n\u001b[1;32m    504\u001b[0m     \u001b[39m*\u001b[39;49m\u001b[39m*\u001b[39;49mkwargs,\n\u001b[1;32m    505\u001b[0m )\n",
      "File \u001b[0;32m~/opt/miniconda3/envs/SETU/lib/python3.11/site-packages/pandas/core/groupby/ops.py:541\u001b[0m, in \u001b[0;36mWrappedCythonOp._call_cython_op\u001b[0;34m(self, values, min_count, ngroups, comp_ids, mask, result_mask, **kwargs)\u001b[0m\n\u001b[1;32m    540\u001b[0m out_shape \u001b[39m=\u001b[39m \u001b[39mself\u001b[39m\u001b[39m.\u001b[39m_get_output_shape(ngroups, values)\n\u001b[0;32m--> 541\u001b[0m func \u001b[39m=\u001b[39m \u001b[39mself\u001b[39;49m\u001b[39m.\u001b[39;49m_get_cython_function(\u001b[39mself\u001b[39;49m\u001b[39m.\u001b[39;49mkind, \u001b[39mself\u001b[39;49m\u001b[39m.\u001b[39;49mhow, values\u001b[39m.\u001b[39;49mdtype, is_numeric)\n\u001b[1;32m    542\u001b[0m values \u001b[39m=\u001b[39m \u001b[39mself\u001b[39m\u001b[39m.\u001b[39m_get_cython_vals(values)\n",
      "File \u001b[0;32m~/opt/miniconda3/envs/SETU/lib/python3.11/site-packages/pandas/core/groupby/ops.py:173\u001b[0m, in \u001b[0;36mWrappedCythonOp._get_cython_function\u001b[0;34m(cls, kind, how, dtype, is_numeric)\u001b[0m\n\u001b[1;32m    171\u001b[0m \u001b[39mif\u001b[39;00m \u001b[39m\"\u001b[39m\u001b[39mobject\u001b[39m\u001b[39m\"\u001b[39m \u001b[39mnot\u001b[39;00m \u001b[39min\u001b[39;00m f\u001b[39m.\u001b[39m__signatures__:\n\u001b[1;32m    172\u001b[0m     \u001b[39m# raise NotImplementedError here rather than TypeError later\u001b[39;00m\n\u001b[0;32m--> 173\u001b[0m     \u001b[39mraise\u001b[39;00m \u001b[39mNotImplementedError\u001b[39;00m(\n\u001b[1;32m    174\u001b[0m         \u001b[39mf\u001b[39m\u001b[39m\"\u001b[39m\u001b[39mfunction is not implemented for this dtype: \u001b[39m\u001b[39m\"\u001b[39m\n\u001b[1;32m    175\u001b[0m         \u001b[39mf\u001b[39m\u001b[39m\"\u001b[39m\u001b[39m[how->\u001b[39m\u001b[39m{\u001b[39;00mhow\u001b[39m}\u001b[39;00m\u001b[39m,dtype->\u001b[39m\u001b[39m{\u001b[39;00mdtype_str\u001b[39m}\u001b[39;00m\u001b[39m]\u001b[39m\u001b[39m\"\u001b[39m\n\u001b[1;32m    176\u001b[0m     )\n\u001b[1;32m    177\u001b[0m \u001b[39mreturn\u001b[39;00m f\n",
      "\u001b[0;31mNotImplementedError\u001b[0m: function is not implemented for this dtype: [how->mean,dtype->object]",
      "\nDuring handling of the above exception, another exception occurred:\n",
      "\u001b[0;31mValueError\u001b[0m                                Traceback (most recent call last)",
      "File \u001b[0;32m~/opt/miniconda3/envs/SETU/lib/python3.11/site-packages/pandas/core/nanops.py:1692\u001b[0m, in \u001b[0;36m_ensure_numeric\u001b[0;34m(x)\u001b[0m\n\u001b[1;32m   1691\u001b[0m \u001b[39mtry\u001b[39;00m:\n\u001b[0;32m-> 1692\u001b[0m     x \u001b[39m=\u001b[39m \u001b[39mfloat\u001b[39m(x)\n\u001b[1;32m   1693\u001b[0m \u001b[39mexcept\u001b[39;00m (\u001b[39mTypeError\u001b[39;00m, \u001b[39mValueError\u001b[39;00m):\n\u001b[1;32m   1694\u001b[0m     \u001b[39m# e.g. \"1+1j\" or \"foo\"\u001b[39;00m\n",
      "\u001b[0;31mValueError\u001b[0m: could not convert string to float: 'churchtownnewcastle westsalthillportlawbuncranadublin 16cabraleixlipnew rosslucancarrigtwohillnenaghdunboynekerry pikenaasdalkeycarrigalineartanenaascabranavanashbourneclonakiltysandymountdublin 12clonsillaclondalkinmitchelstowncaherciveenrahenydundalkpalmerstownbalbrigganlucanstepasidefinglascastleknockdublin 3birrkilbegganbirrportumnadouglasashbourneterenureashtowncrosshavenoldcastlebandondublin 16ballincolligratoathcastletroylucantallaghtdublin 9mullingarsandymountclonsillalismorekinsalekellsedenderrysandyfordmaynoothcabradooradoylebraydroghedadublin 6douglasheadford rdtraleedublin 5letterkennystepasideclonsillamountmellickballinasloekanturkthurlesdublin 11rathkealemountrathdunfanaghytraleetubbercurrynewportbraymurroefernscrosshavenrathdowneyrathdowneydublin 15letterkennydundalkswordsdublin 8douglasclogherheadkillarneyglanmirewiltonnewbridgetempleogueashtownashbournedrimnaghdublin 7tallaghtathytullamorestillorganrahoonclifdenskerriesgoreyratoathkinsaledublin 13rochestowndrumcondradroghedaclonsillaclontarfletterkennycastleknockdublin 12mullingarportlaoisedublin 8monkstownknocklyonmalahidemonasterevindublin 16dublin 3dublin 9drumcondradublin 4dublin 14mullingarmalahidekilcooleturners crosskilcooleartanefinglasswordsswordsclonmeldublin 3blackrockclontarfdroghedamaynoothdublin 15cashelportlaoisekillarneyshankillblackrockcastleknockbraycarrigtwohillballyconnellcourtownballinasloeheadforddungarvandunmore eastennis rdmohillkilmacthomasballinasloeclanenaasjohnswell rdstrandhillmullingarmullingarcarndonaghheadfordkilcooleskerriesblarneydublin rdarklowsandyfordtullamoreskerriesballincolligdundrumdublin 24rathnewdungarvanmurroestillorgancastleknocklucankillarneydublin 15clanecarburyglasnevinrenmoremonaleendublin 7ashbournekilmallockdundrumclonmelkilleaghlucancorballycabinteelyshankillmulgannonblackrockdublin 4celbridgemalahidetallaghtrosslare strandnewbridgebunclodyarklowballaghaderreentraleeclonmelcallandundalkcahirthurlesportarlingtonachillmullingardouglasdroghedaclonsillatempleoguedublin 13kilcullendouglasdublin 14dublin 9dublin 8swordscelbridgecarrigalinecarrigtwohillmaynoothbruffdublin 7maynoothcharlevilleadamstownleixlipportlaoisecarrigtwohilldundalkluskmaynoothlehenaghbegcarrigalinedun laoghairemidletonkillucanmalahideletterkennylaytowndublin 11tallaghtballinteerathymalahidedundalkdundalkdublin 12knocklyondalkeyennistempleoguecrumlindungarvanannacottykillorglinnew rossportlaoisebalbriggankilkeeletterkennydublin 4trimmoycullenlucanmoatemalahideblackrockmaynoothnavanbundorankillineydublin 13mallowathloneballyshannontuambaltinglassrathangankillarneykillorglintraleekilmallockdalkeykillarneykinsalemountmellickportlaoisesandymountroscrearoscreafernslistowelnaasathyblackrocknaasnewbridgedublin 5dublin 3mullingarcloneedonabateswordsnewbridgenewbridgedublin 12barnafernscelbridgebrayleixlipdroghedatuamclonmeldouglasknocklyonnenaghenniscorthyshankilldublin 15tramorefermoydublin 6corballycastletroydublin 24crumlincarrigalinesummerhillrathminestallaghtdelganymallowdublin 24mallowkinsalenavanroscreacastleknockluskcelbridgedingletramorenewcastleraheenclonsillabelturbettraleeglanmirekilmallocksandycovekillarneyfinglasmullingartallaghtblanchardstownwestportdublin 15monasterevinrathfarnhammullaghkellsfernsnenaghmungretblackrockblackrockwiltonmonasterevinenfieldknocknacarrabrayballyvolanetogherdroghedacarrickminescabinteelyathloneballintemplecarrigalinetramorewalkinstownloughreadublin 24balbriggandrumcondradublin 9templeoguegreystonesashbournegreystonessaggarttempleoguebalbriggandublin 9killarneytramoresantrylaytowndelganyletterkennydublin 7passage westdublin 3terenureclanenewbridgeportlaoisestepasidenavancelbridgerathfarnhamglasnevindublin 8mullingardublin 24dungarvanleopardstownballycullentullowdublin 10loughreatullowoughterardcarrigtwohillranelaghknocklyonfinglaslongwooddublin 11bundoranblackrocktraleekilworthrathfarnhampassage westnewbridgeknocklyonblackrockdublin 4clontarfdublin 8rathangancootehillballyhauniskenmarekinsalekillarneykilmallockcraughwellrathfarnhamcastlecomercelbridgecarrigalinecastlebarportlaoisedooradoylestradballyfethardskerriesenniskerrypiltownloughreamullingarclaregalwayclaneleopardstownlucandublin 7rathcooletemplemoreclonmelrathfarnhamrahenyclonmelnaasballyfermotcarrigalinetermonfeckintrimroscamdublin 22midletonkillaloenenaghballincolligkillarneybalbriggancorballyclontarfmoatedrumcondracastleconnelldroghedablackrockthurlesmodel farm rdportlaoisemallowcarburynavanrosslareloughreamulgannonlistoweltraleevirginiasandycoveknocknacarrawestportcarrickmacrosswestportcarrickmacrossdundalkcloughjordanbagenalstowntullamorekillorglinkilkeeenfieldcastletroytramorelucanlusknewbridgerialtotraleeportlaoisedrumshanboglanmireroscreaballincolligkilkeeportlaoiseathloneclontarfrathgarleopardstowngoreyrushkillarneyfernstramoredublin 17droghedanewcastlewestbettystownletterkennydublin 15enniscashelkinsalestepasidedublin 15rahenynewcastlecrumlinennisovensnewcastle westcelbridgeballyjamesduffbettystownenfieldrathmoreballincollignenaghlistowelbaltimoredunleerenniscorthycashelmohillgoreyballincolliglistowelbantrynewmarketmohillnenaghdouglasdundrumashbournesalthillballymotemalahidecastletroygoreydublin 15adamstownblackrockclonsillatullowballinaghdublin 16dublin 7dungarvannaasdundalkleopardstowncarrickmacrossthomastownardeeshannonblackrockballincolligmullingarnaasgrangeknocklyongoreynewbridgedublin 18leixlipnenaghdublin 8crumlinenniscroneleixlipdrimnaghfermoynewcastle westfoxwooddungarvanadamstowndungarvanclonskeaghadamstownclondalkinbuncranaashbournedublin 11dublin 11castleknocksantryschulledenderrygoreytraleeclaremorriskillineyrathmineskinsaledromodboyleclondalkinnew rossadamstownnewmarket on fergusballsbridgesandymountdublin 15ardeedublin 24portlaoiseballyfermotdublin 24dublin 16tallaghtportlawdublin 12newportdublin 11blackrockrathangandublin 16tallaghtdundrumfoxrockdublin 9blackrockathyballinaghraheenmalahidemalahideblackrockmonkstownswordsmullingarashtownnaastullowmidletonnavanballybracktallaghtnewbridgerathnewmallowheadford rdbundoranloughreamalahidebalbriggandublin 22suttondunboynenenaghelphinmaynoothtraleeathenrypiltowntullamorecoolaneykinvaradouglasratoathkinsaleballymoterathminescarrigalineadamstowndroghedakillucanardeearklowashbourneclonmelnaasdublin 14tullamorebalbriggandublin 16kilcooledoneraileathenrycourtownmayfieldwalkinstownnavanlongwoodmilltownclonskeaghballincollignenaghliffordmurroekilbeggandublin 15douglasoranmorecarrigalineoranmorekillineydundalknaasmullingarskerriesgoreydouglasathlonedublin 13swordsnew rossnew rossportmarnockrathfarnhamterenurebalbrigganartanecloynecharlevilleenniscorthyschullcraughwellcootehillmullingarkinvaraballinasloerochestownnavanglasnevinballinteerkillarneymalahideknocklyonnaasballincolligenniscorthytraleerushroscreamitchelstowncobhyoughalcastleknockswordsfermoyblanchardstowndublin 15dundrumbrayranelaghstepasideoughterardportarlingtongreystonescarndonaghcastleislandschullkillarneygoreyrochestowndundalkcork cityrathangansummerhillashbournewatervillecabinteelyrathdowneyglanmirecabinteelynewbridgerathcooleaughrimstillorganfinglasgoreyblackrockballyconnelldublin 11balbriggandublin 3castletroyballsbridgeashbournelucanmullingarovensblanchardstownletterkennysaggartswordsdublin 12glanmirenavandroghedamountmellickknocklyoncelbridgerathfarnhamashtownbrayportlaoiseabbeyleixdublin 15dublin 15skerriesdublin 24mullaghnavangreystonesknocklyondublin 24mallowennisdublin 7lucanportlaoisestepasideclonsillacarrigalinerathfarnhamclondalkinathloneknocknacarrastepasidecabinteelytempleoguefinglasbantrysandyfordstamullenstamullennaasswordscabrablackrockleixlipbantrydublin 15adamstownglenagearymalahidetullamorebalbriggantallaghtdinglelucannaasrooskeydublin 13mountmellickenniscloneebraybraycarrigtwohilldundalkkilcullencelbridgejohnswell rdashbournebraysandymountrushgoreyballyhaunisrushrathfarnhamrosslarecappoquinnew rossswinfordkenmarecastletownberedundrumballinafernskellscahirmullingarmullingarathenryrahenykillorglinmallowmullingarglanmiredublin 9droghedatullowdooradoyleathloneknocklyonsuttonnewcastlewestdouglasglanmiremountmellickdunleerbraytempleogueblessingtonnewbridgeennismullingarcastleknocklucanbalgriffindublin 3dublin 12dublin 7artanekilmallockportlaoiseballybunionkillaloeheadfordbirrdouglasdrumcondrarathfarnhamblackrockdouglascobhnavanmalahidedublin 15dublin 14dublin 13waterford cityedgeworthstowncarrigtwohilldublin 6kilcooleblackrockcharlestownnewcastlefinglasdundalknenaghchurchtowntullowdundalkdroghedanavandublin 18midletonglasnevindonerailecastleblayneynewportclaregalwaytemplemorekellskellscoolaneytemplemoreedgeworthstownloughreaathykilmallockkilmallockkilmallockgoreylucanmaynoothrochestowncrumlindublin 9knocknacarrapiltowngraiguecullendrumcondraballinasloefinglasblackrockmidletonashtowncelbridgesantryportmarnockdublin 15trimtullamorehowthdublin 11clondalkinashtownwatergrasshilldouglasmalahideballinteercrumlindublin 12dublin 4delvinabbeyfealebrufftuamdingleblackwaternavanrathanganadarewestportnenaghcarrickmacrossdunboynebalbrigganartanedublin 5sandyforddublin 6wdunboynedublin 11rushdublin 6wshankilldublin 22tullowdublin 14nenaghlucanswordsdublin 7dublin rdslanedublin 3dublin 13clontarfchurchtownclontarfletterkennyadamstownsandyfordlucandublin 12howthportlaoisedonabatenavandublin 11thomastowntraleeblackpoolathboymidletoncarrickmacrossletterkennykilmallocksandymountclonmelkillineyclonmelblackrockballinaghdublin 15leixlipdalkeytallaghtmalahiderochestownnewbridgetullamoreroscamglasnevindublin 12balgriffincobhbooterstownadamstownterenurebalbrigganstillorganenniscorthycarrigalineballinteercarrickmacrosstallaghtgreystonesswordsdublin 15swordsdublin 4dublin 24dublin 8balbrigganenniscorthyskerriesblanchardstowndublin 3dublin 9santryportarlingtonshankilldalkeynenaghlucandublin 15santrykillmonkstowntuamlucankilkeeclonskeaghcastleblayneydublin 22tullamoreclanedublin 12duleektrimsantrydrimnaghdrumcondracourtowncarrigtwohilldublin 24traleemulgannoncarrickminesswordstrimrathkealemullingarroscreaenniscorthyskerriestraleelaytownlaytownlaytownkillarneyballyhaunisrosslare strandennisathytrimdroghedamacroomsandycovemullingarballyshannonportmarnockcastletroy'",
      "\nDuring handling of the above exception, another exception occurred:\n",
      "\u001b[0;31mValueError\u001b[0m                                Traceback (most recent call last)",
      "File \u001b[0;32m~/opt/miniconda3/envs/SETU/lib/python3.11/site-packages/pandas/core/nanops.py:1696\u001b[0m, in \u001b[0;36m_ensure_numeric\u001b[0;34m(x)\u001b[0m\n\u001b[1;32m   1695\u001b[0m \u001b[39mtry\u001b[39;00m:\n\u001b[0;32m-> 1696\u001b[0m     x \u001b[39m=\u001b[39m \u001b[39mcomplex\u001b[39;49m(x)\n\u001b[1;32m   1697\u001b[0m \u001b[39mexcept\u001b[39;00m \u001b[39mValueError\u001b[39;00m \u001b[39mas\u001b[39;00m err:\n\u001b[1;32m   1698\u001b[0m     \u001b[39m# e.g. \"foo\"\u001b[39;00m\n",
      "\u001b[0;31mValueError\u001b[0m: complex() arg is a malformed string",
      "\nThe above exception was the direct cause of the following exception:\n",
      "\u001b[0;31mTypeError\u001b[0m                                 Traceback (most recent call last)",
      "\u001b[1;32m/Users/pratik/Github/Ireland-PPR/Algorithms.ipynb Cell 13\u001b[0m in \u001b[0;36m9\n\u001b[1;32m      <a href='vscode-notebook-cell:/Users/pratik/Github/Ireland-PPR/Algorithms.ipynb#X14sZmlsZQ%3D%3D?line=5'>6</a>\u001b[0m df \u001b[39m=\u001b[39m df\u001b[39m.\u001b[39mset_index(\u001b[39m'\u001b[39m\u001b[39mDate\u001b[39m\u001b[39m'\u001b[39m)\n\u001b[1;32m      <a href='vscode-notebook-cell:/Users/pratik/Github/Ireland-PPR/Algorithms.ipynb#X14sZmlsZQ%3D%3D?line=7'>8</a>\u001b[0m \u001b[39m# Group the data by month and calculate the mean price for each month\u001b[39;00m\n\u001b[0;32m----> <a href='vscode-notebook-cell:/Users/pratik/Github/Ireland-PPR/Algorithms.ipynb#X14sZmlsZQ%3D%3D?line=8'>9</a>\u001b[0m df_monthly \u001b[39m=\u001b[39m df\u001b[39m.\u001b[39;49mresample(\u001b[39m'\u001b[39;49m\u001b[39mM\u001b[39;49m\u001b[39m'\u001b[39;49m)\u001b[39m.\u001b[39;49mmean()\n\u001b[1;32m     <a href='vscode-notebook-cell:/Users/pratik/Github/Ireland-PPR/Algorithms.ipynb#X14sZmlsZQ%3D%3D?line=10'>11</a>\u001b[0m \u001b[39m# Plot the monthly mean prices\u001b[39;00m\n\u001b[1;32m     <a href='vscode-notebook-cell:/Users/pratik/Github/Ireland-PPR/Algorithms.ipynb#X14sZmlsZQ%3D%3D?line=11'>12</a>\u001b[0m plt\u001b[39m.\u001b[39mplot(df_monthly)\n",
      "File \u001b[0;32m~/opt/miniconda3/envs/SETU/lib/python3.11/site-packages/pandas/core/resample.py:979\u001b[0m, in \u001b[0;36mResampler.mean\u001b[0;34m(self, numeric_only, *args, **kwargs)\u001b[0m\n\u001b[1;32m    977\u001b[0m maybe_warn_args_and_kwargs(\u001b[39mtype\u001b[39m(\u001b[39mself\u001b[39m), \u001b[39m\"\u001b[39m\u001b[39mmean\u001b[39m\u001b[39m\"\u001b[39m, args, kwargs)\n\u001b[1;32m    978\u001b[0m nv\u001b[39m.\u001b[39mvalidate_resampler_func(\u001b[39m\"\u001b[39m\u001b[39mmean\u001b[39m\u001b[39m\"\u001b[39m, args, kwargs)\n\u001b[0;32m--> 979\u001b[0m \u001b[39mreturn\u001b[39;00m \u001b[39mself\u001b[39;49m\u001b[39m.\u001b[39;49m_downsample(\u001b[39m\"\u001b[39;49m\u001b[39mmean\u001b[39;49m\u001b[39m\"\u001b[39;49m, numeric_only\u001b[39m=\u001b[39;49mnumeric_only)\n",
      "File \u001b[0;32m~/opt/miniconda3/envs/SETU/lib/python3.11/site-packages/pandas/core/resample.py:1297\u001b[0m, in \u001b[0;36mDatetimeIndexResampler._downsample\u001b[0;34m(self, how, **kwargs)\u001b[0m\n\u001b[1;32m   1293\u001b[0m     \u001b[39mreturn\u001b[39;00m \u001b[39mself\u001b[39m\u001b[39m.\u001b[39masfreq()\n\u001b[1;32m   1295\u001b[0m \u001b[39m# we are downsampling\u001b[39;00m\n\u001b[1;32m   1296\u001b[0m \u001b[39m# we want to call the actual grouper method here\u001b[39;00m\n\u001b[0;32m-> 1297\u001b[0m result \u001b[39m=\u001b[39m obj\u001b[39m.\u001b[39;49mgroupby(\u001b[39mself\u001b[39;49m\u001b[39m.\u001b[39;49mgrouper, axis\u001b[39m=\u001b[39;49m\u001b[39mself\u001b[39;49m\u001b[39m.\u001b[39;49maxis)\u001b[39m.\u001b[39;49maggregate(how, \u001b[39m*\u001b[39;49m\u001b[39m*\u001b[39;49mkwargs)\n\u001b[1;32m   1299\u001b[0m \u001b[39mreturn\u001b[39;00m \u001b[39mself\u001b[39m\u001b[39m.\u001b[39m_wrap_result(result)\n",
      "File \u001b[0;32m~/opt/miniconda3/envs/SETU/lib/python3.11/site-packages/pandas/core/groupby/generic.py:1271\u001b[0m, in \u001b[0;36mDataFrameGroupBy.aggregate\u001b[0;34m(self, func, engine, engine_kwargs, *args, **kwargs)\u001b[0m\n\u001b[1;32m   1268\u001b[0m func \u001b[39m=\u001b[39m maybe_mangle_lambdas(func)\n\u001b[1;32m   1270\u001b[0m op \u001b[39m=\u001b[39m GroupByApply(\u001b[39mself\u001b[39m, func, args, kwargs)\n\u001b[0;32m-> 1271\u001b[0m result \u001b[39m=\u001b[39m op\u001b[39m.\u001b[39;49magg()\n\u001b[1;32m   1272\u001b[0m \u001b[39mif\u001b[39;00m \u001b[39mnot\u001b[39;00m is_dict_like(func) \u001b[39mand\u001b[39;00m result \u001b[39mis\u001b[39;00m \u001b[39mnot\u001b[39;00m \u001b[39mNone\u001b[39;00m:\n\u001b[1;32m   1273\u001b[0m     \u001b[39mreturn\u001b[39;00m result\n",
      "File \u001b[0;32m~/opt/miniconda3/envs/SETU/lib/python3.11/site-packages/pandas/core/apply.py:160\u001b[0m, in \u001b[0;36mApply.agg\u001b[0;34m(self)\u001b[0m\n\u001b[1;32m    157\u001b[0m kwargs \u001b[39m=\u001b[39m \u001b[39mself\u001b[39m\u001b[39m.\u001b[39mkwargs\n\u001b[1;32m    159\u001b[0m \u001b[39mif\u001b[39;00m \u001b[39misinstance\u001b[39m(arg, \u001b[39mstr\u001b[39m):\n\u001b[0;32m--> 160\u001b[0m     \u001b[39mreturn\u001b[39;00m \u001b[39mself\u001b[39;49m\u001b[39m.\u001b[39;49mapply_str()\n\u001b[1;32m    162\u001b[0m \u001b[39mif\u001b[39;00m is_dict_like(arg):\n\u001b[1;32m    163\u001b[0m     \u001b[39mreturn\u001b[39;00m \u001b[39mself\u001b[39m\u001b[39m.\u001b[39magg_dict_like()\n",
      "File \u001b[0;32m~/opt/miniconda3/envs/SETU/lib/python3.11/site-packages/pandas/core/apply.py:496\u001b[0m, in \u001b[0;36mApply.apply_str\u001b[0;34m(self)\u001b[0m\n\u001b[1;32m    494\u001b[0m     \u001b[39mif\u001b[39;00m \u001b[39m\"\u001b[39m\u001b[39maxis\u001b[39m\u001b[39m\"\u001b[39m \u001b[39min\u001b[39;00m arg_names:\n\u001b[1;32m    495\u001b[0m         \u001b[39mself\u001b[39m\u001b[39m.\u001b[39mkwargs[\u001b[39m\"\u001b[39m\u001b[39maxis\u001b[39m\u001b[39m\"\u001b[39m] \u001b[39m=\u001b[39m \u001b[39mself\u001b[39m\u001b[39m.\u001b[39maxis\n\u001b[0;32m--> 496\u001b[0m \u001b[39mreturn\u001b[39;00m \u001b[39mself\u001b[39;49m\u001b[39m.\u001b[39;49m_try_aggregate_string_function(obj, f, \u001b[39m*\u001b[39;49m\u001b[39mself\u001b[39;49m\u001b[39m.\u001b[39;49margs, \u001b[39m*\u001b[39;49m\u001b[39m*\u001b[39;49m\u001b[39mself\u001b[39;49m\u001b[39m.\u001b[39;49mkwargs)\n",
      "File \u001b[0;32m~/opt/miniconda3/envs/SETU/lib/python3.11/site-packages/pandas/core/apply.py:565\u001b[0m, in \u001b[0;36mApply._try_aggregate_string_function\u001b[0;34m(self, obj, arg, *args, **kwargs)\u001b[0m\n\u001b[1;32m    563\u001b[0m \u001b[39mif\u001b[39;00m f \u001b[39mis\u001b[39;00m \u001b[39mnot\u001b[39;00m \u001b[39mNone\u001b[39;00m:\n\u001b[1;32m    564\u001b[0m     \u001b[39mif\u001b[39;00m callable(f):\n\u001b[0;32m--> 565\u001b[0m         \u001b[39mreturn\u001b[39;00m f(\u001b[39m*\u001b[39;49margs, \u001b[39m*\u001b[39;49m\u001b[39m*\u001b[39;49mkwargs)\n\u001b[1;32m    567\u001b[0m     \u001b[39m# people may try to aggregate on a non-callable attribute\u001b[39;00m\n\u001b[1;32m    568\u001b[0m     \u001b[39m# but don't let them think they can pass args to it\u001b[39;00m\n\u001b[1;32m    569\u001b[0m     \u001b[39massert\u001b[39;00m \u001b[39mlen\u001b[39m(args) \u001b[39m==\u001b[39m \u001b[39m0\u001b[39m\n",
      "File \u001b[0;32m~/opt/miniconda3/envs/SETU/lib/python3.11/site-packages/pandas/core/groupby/groupby.py:1855\u001b[0m, in \u001b[0;36mGroupBy.mean\u001b[0;34m(self, numeric_only, engine, engine_kwargs)\u001b[0m\n\u001b[1;32m   1853\u001b[0m     \u001b[39mreturn\u001b[39;00m \u001b[39mself\u001b[39m\u001b[39m.\u001b[39m_numba_agg_general(sliding_mean, engine_kwargs)\n\u001b[1;32m   1854\u001b[0m \u001b[39melse\u001b[39;00m:\n\u001b[0;32m-> 1855\u001b[0m     result \u001b[39m=\u001b[39m \u001b[39mself\u001b[39;49m\u001b[39m.\u001b[39;49m_cython_agg_general(\n\u001b[1;32m   1856\u001b[0m         \u001b[39m\"\u001b[39;49m\u001b[39mmean\u001b[39;49m\u001b[39m\"\u001b[39;49m,\n\u001b[1;32m   1857\u001b[0m         alt\u001b[39m=\u001b[39;49m\u001b[39mlambda\u001b[39;49;00m x: Series(x)\u001b[39m.\u001b[39;49mmean(numeric_only\u001b[39m=\u001b[39;49mnumeric_only),\n\u001b[1;32m   1858\u001b[0m         numeric_only\u001b[39m=\u001b[39;49mnumeric_only,\n\u001b[1;32m   1859\u001b[0m     )\n\u001b[1;32m   1860\u001b[0m     \u001b[39mreturn\u001b[39;00m result\u001b[39m.\u001b[39m__finalize__(\u001b[39mself\u001b[39m\u001b[39m.\u001b[39mobj, method\u001b[39m=\u001b[39m\u001b[39m\"\u001b[39m\u001b[39mgroupby\u001b[39m\u001b[39m\"\u001b[39m)\n",
      "File \u001b[0;32m~/opt/miniconda3/envs/SETU/lib/python3.11/site-packages/pandas/core/groupby/groupby.py:1507\u001b[0m, in \u001b[0;36mGroupBy._cython_agg_general\u001b[0;34m(self, how, alt, numeric_only, min_count, **kwargs)\u001b[0m\n\u001b[1;32m   1503\u001b[0m         result \u001b[39m=\u001b[39m \u001b[39mself\u001b[39m\u001b[39m.\u001b[39m_agg_py_fallback(values, ndim\u001b[39m=\u001b[39mdata\u001b[39m.\u001b[39mndim, alt\u001b[39m=\u001b[39malt)\n\u001b[1;32m   1505\u001b[0m     \u001b[39mreturn\u001b[39;00m result\n\u001b[0;32m-> 1507\u001b[0m new_mgr \u001b[39m=\u001b[39m data\u001b[39m.\u001b[39;49mgrouped_reduce(array_func)\n\u001b[1;32m   1508\u001b[0m res \u001b[39m=\u001b[39m \u001b[39mself\u001b[39m\u001b[39m.\u001b[39m_wrap_agged_manager(new_mgr)\n\u001b[1;32m   1509\u001b[0m out \u001b[39m=\u001b[39m \u001b[39mself\u001b[39m\u001b[39m.\u001b[39m_wrap_aggregated_output(res)\n",
      "File \u001b[0;32m~/opt/miniconda3/envs/SETU/lib/python3.11/site-packages/pandas/core/internals/managers.py:1503\u001b[0m, in \u001b[0;36mBlockManager.grouped_reduce\u001b[0;34m(self, func)\u001b[0m\n\u001b[1;32m   1499\u001b[0m \u001b[39mif\u001b[39;00m blk\u001b[39m.\u001b[39mis_object:\n\u001b[1;32m   1500\u001b[0m     \u001b[39m# split on object-dtype blocks bc some columns may raise\u001b[39;00m\n\u001b[1;32m   1501\u001b[0m     \u001b[39m#  while others do not.\u001b[39;00m\n\u001b[1;32m   1502\u001b[0m     \u001b[39mfor\u001b[39;00m sb \u001b[39min\u001b[39;00m blk\u001b[39m.\u001b[39m_split():\n\u001b[0;32m-> 1503\u001b[0m         applied \u001b[39m=\u001b[39m sb\u001b[39m.\u001b[39;49mapply(func)\n\u001b[1;32m   1504\u001b[0m         result_blocks \u001b[39m=\u001b[39m extend_blocks(applied, result_blocks)\n\u001b[1;32m   1505\u001b[0m \u001b[39melse\u001b[39;00m:\n",
      "File \u001b[0;32m~/opt/miniconda3/envs/SETU/lib/python3.11/site-packages/pandas/core/internals/blocks.py:329\u001b[0m, in \u001b[0;36mBlock.apply\u001b[0;34m(self, func, **kwargs)\u001b[0m\n\u001b[1;32m    323\u001b[0m \u001b[39m@final\u001b[39m\n\u001b[1;32m    324\u001b[0m \u001b[39mdef\u001b[39;00m \u001b[39mapply\u001b[39m(\u001b[39mself\u001b[39m, func, \u001b[39m*\u001b[39m\u001b[39m*\u001b[39mkwargs) \u001b[39m-\u001b[39m\u001b[39m>\u001b[39m \u001b[39mlist\u001b[39m[Block]:\n\u001b[1;32m    325\u001b[0m     \u001b[39m\"\"\"\u001b[39;00m\n\u001b[1;32m    326\u001b[0m \u001b[39m    apply the function to my values; return a block if we are not\u001b[39;00m\n\u001b[1;32m    327\u001b[0m \u001b[39m    one\u001b[39;00m\n\u001b[1;32m    328\u001b[0m \u001b[39m    \"\"\"\u001b[39;00m\n\u001b[0;32m--> 329\u001b[0m     result \u001b[39m=\u001b[39m func(\u001b[39mself\u001b[39;49m\u001b[39m.\u001b[39;49mvalues, \u001b[39m*\u001b[39;49m\u001b[39m*\u001b[39;49mkwargs)\n\u001b[1;32m    331\u001b[0m     \u001b[39mreturn\u001b[39;00m \u001b[39mself\u001b[39m\u001b[39m.\u001b[39m_split_op_result(result)\n",
      "File \u001b[0;32m~/opt/miniconda3/envs/SETU/lib/python3.11/site-packages/pandas/core/groupby/groupby.py:1503\u001b[0m, in \u001b[0;36mGroupBy._cython_agg_general.<locals>.array_func\u001b[0;34m(values)\u001b[0m\n\u001b[1;32m   1490\u001b[0m     result \u001b[39m=\u001b[39m \u001b[39mself\u001b[39m\u001b[39m.\u001b[39mgrouper\u001b[39m.\u001b[39m_cython_operation(\n\u001b[1;32m   1491\u001b[0m         \u001b[39m\"\u001b[39m\u001b[39maggregate\u001b[39m\u001b[39m\"\u001b[39m,\n\u001b[1;32m   1492\u001b[0m         values,\n\u001b[0;32m   (...)\u001b[0m\n\u001b[1;32m   1496\u001b[0m         \u001b[39m*\u001b[39m\u001b[39m*\u001b[39mkwargs,\n\u001b[1;32m   1497\u001b[0m     )\n\u001b[1;32m   1498\u001b[0m \u001b[39mexcept\u001b[39;00m \u001b[39mNotImplementedError\u001b[39;00m:\n\u001b[1;32m   1499\u001b[0m     \u001b[39m# generally if we have numeric_only=False\u001b[39;00m\n\u001b[1;32m   1500\u001b[0m     \u001b[39m# and non-applicable functions\u001b[39;00m\n\u001b[1;32m   1501\u001b[0m     \u001b[39m# try to python agg\u001b[39;00m\n\u001b[1;32m   1502\u001b[0m     \u001b[39m# TODO: shouldn't min_count matter?\u001b[39;00m\n\u001b[0;32m-> 1503\u001b[0m     result \u001b[39m=\u001b[39m \u001b[39mself\u001b[39;49m\u001b[39m.\u001b[39;49m_agg_py_fallback(values, ndim\u001b[39m=\u001b[39;49mdata\u001b[39m.\u001b[39;49mndim, alt\u001b[39m=\u001b[39;49malt)\n\u001b[1;32m   1505\u001b[0m \u001b[39mreturn\u001b[39;00m result\n",
      "File \u001b[0;32m~/opt/miniconda3/envs/SETU/lib/python3.11/site-packages/pandas/core/groupby/groupby.py:1457\u001b[0m, in \u001b[0;36mGroupBy._agg_py_fallback\u001b[0;34m(self, values, ndim, alt)\u001b[0m\n\u001b[1;32m   1452\u001b[0m     ser \u001b[39m=\u001b[39m df\u001b[39m.\u001b[39miloc[:, \u001b[39m0\u001b[39m]\n\u001b[1;32m   1454\u001b[0m \u001b[39m# We do not get here with UDFs, so we know that our dtype\u001b[39;00m\n\u001b[1;32m   1455\u001b[0m \u001b[39m#  should always be preserved by the implemented aggregations\u001b[39;00m\n\u001b[1;32m   1456\u001b[0m \u001b[39m# TODO: Is this exactly right; see WrappedCythonOp get_result_dtype?\u001b[39;00m\n\u001b[0;32m-> 1457\u001b[0m res_values \u001b[39m=\u001b[39m \u001b[39mself\u001b[39;49m\u001b[39m.\u001b[39;49mgrouper\u001b[39m.\u001b[39;49magg_series(ser, alt, preserve_dtype\u001b[39m=\u001b[39;49m\u001b[39mTrue\u001b[39;49;00m)\n\u001b[1;32m   1459\u001b[0m \u001b[39mif\u001b[39;00m \u001b[39misinstance\u001b[39m(values, Categorical):\n\u001b[1;32m   1460\u001b[0m     \u001b[39m# Because we only get here with known dtype-preserving\u001b[39;00m\n\u001b[1;32m   1461\u001b[0m     \u001b[39m#  reductions, we cast back to Categorical.\u001b[39;00m\n\u001b[1;32m   1462\u001b[0m     \u001b[39m# TODO: if we ever get \"rank\" working, exclude it here.\u001b[39;00m\n\u001b[1;32m   1463\u001b[0m     res_values \u001b[39m=\u001b[39m \u001b[39mtype\u001b[39m(values)\u001b[39m.\u001b[39m_from_sequence(res_values, dtype\u001b[39m=\u001b[39mvalues\u001b[39m.\u001b[39mdtype)\n",
      "File \u001b[0;32m~/opt/miniconda3/envs/SETU/lib/python3.11/site-packages/pandas/core/groupby/ops.py:994\u001b[0m, in \u001b[0;36mBaseGrouper.agg_series\u001b[0;34m(self, obj, func, preserve_dtype)\u001b[0m\n\u001b[1;32m    987\u001b[0m \u001b[39mif\u001b[39;00m \u001b[39mlen\u001b[39m(obj) \u001b[39m>\u001b[39m \u001b[39m0\u001b[39m \u001b[39mand\u001b[39;00m \u001b[39mnot\u001b[39;00m \u001b[39misinstance\u001b[39m(obj\u001b[39m.\u001b[39m_values, np\u001b[39m.\u001b[39mndarray):\n\u001b[1;32m    988\u001b[0m     \u001b[39m# we can preserve a little bit more aggressively with EA dtype\u001b[39;00m\n\u001b[1;32m    989\u001b[0m     \u001b[39m#  because maybe_cast_pointwise_result will do a try/except\u001b[39;00m\n\u001b[1;32m    990\u001b[0m     \u001b[39m#  with _from_sequence.  NB we are assuming here that _from_sequence\u001b[39;00m\n\u001b[1;32m    991\u001b[0m     \u001b[39m#  is sufficiently strict that it casts appropriately.\u001b[39;00m\n\u001b[1;32m    992\u001b[0m     preserve_dtype \u001b[39m=\u001b[39m \u001b[39mTrue\u001b[39;00m\n\u001b[0;32m--> 994\u001b[0m result \u001b[39m=\u001b[39m \u001b[39mself\u001b[39;49m\u001b[39m.\u001b[39;49m_aggregate_series_pure_python(obj, func)\n\u001b[1;32m    996\u001b[0m npvalues \u001b[39m=\u001b[39m lib\u001b[39m.\u001b[39mmaybe_convert_objects(result, try_float\u001b[39m=\u001b[39m\u001b[39mFalse\u001b[39;00m)\n\u001b[1;32m    997\u001b[0m \u001b[39mif\u001b[39;00m preserve_dtype:\n",
      "File \u001b[0;32m~/opt/miniconda3/envs/SETU/lib/python3.11/site-packages/pandas/core/groupby/ops.py:1015\u001b[0m, in \u001b[0;36mBaseGrouper._aggregate_series_pure_python\u001b[0;34m(self, obj, func)\u001b[0m\n\u001b[1;32m   1012\u001b[0m splitter \u001b[39m=\u001b[39m \u001b[39mself\u001b[39m\u001b[39m.\u001b[39m_get_splitter(obj, axis\u001b[39m=\u001b[39m\u001b[39m0\u001b[39m)\n\u001b[1;32m   1014\u001b[0m \u001b[39mfor\u001b[39;00m i, group \u001b[39min\u001b[39;00m \u001b[39menumerate\u001b[39m(splitter):\n\u001b[0;32m-> 1015\u001b[0m     res \u001b[39m=\u001b[39m func(group)\n\u001b[1;32m   1016\u001b[0m     res \u001b[39m=\u001b[39m libreduction\u001b[39m.\u001b[39mextract_result(res)\n\u001b[1;32m   1018\u001b[0m     \u001b[39mif\u001b[39;00m \u001b[39mnot\u001b[39;00m initialized:\n\u001b[1;32m   1019\u001b[0m         \u001b[39m# We only do this validation on the first iteration\u001b[39;00m\n",
      "File \u001b[0;32m~/opt/miniconda3/envs/SETU/lib/python3.11/site-packages/pandas/core/groupby/groupby.py:1857\u001b[0m, in \u001b[0;36mGroupBy.mean.<locals>.<lambda>\u001b[0;34m(x)\u001b[0m\n\u001b[1;32m   1853\u001b[0m     \u001b[39mreturn\u001b[39;00m \u001b[39mself\u001b[39m\u001b[39m.\u001b[39m_numba_agg_general(sliding_mean, engine_kwargs)\n\u001b[1;32m   1854\u001b[0m \u001b[39melse\u001b[39;00m:\n\u001b[1;32m   1855\u001b[0m     result \u001b[39m=\u001b[39m \u001b[39mself\u001b[39m\u001b[39m.\u001b[39m_cython_agg_general(\n\u001b[1;32m   1856\u001b[0m         \u001b[39m\"\u001b[39m\u001b[39mmean\u001b[39m\u001b[39m\"\u001b[39m,\n\u001b[0;32m-> 1857\u001b[0m         alt\u001b[39m=\u001b[39m\u001b[39mlambda\u001b[39;00m x: Series(x)\u001b[39m.\u001b[39;49mmean(numeric_only\u001b[39m=\u001b[39;49mnumeric_only),\n\u001b[1;32m   1858\u001b[0m         numeric_only\u001b[39m=\u001b[39mnumeric_only,\n\u001b[1;32m   1859\u001b[0m     )\n\u001b[1;32m   1860\u001b[0m     \u001b[39mreturn\u001b[39;00m result\u001b[39m.\u001b[39m__finalize__(\u001b[39mself\u001b[39m\u001b[39m.\u001b[39mobj, method\u001b[39m=\u001b[39m\u001b[39m\"\u001b[39m\u001b[39mgroupby\u001b[39m\u001b[39m\"\u001b[39m)\n",
      "File \u001b[0;32m~/opt/miniconda3/envs/SETU/lib/python3.11/site-packages/pandas/core/generic.py:11563\u001b[0m, in \u001b[0;36mNDFrame._add_numeric_operations.<locals>.mean\u001b[0;34m(self, axis, skipna, numeric_only, **kwargs)\u001b[0m\n\u001b[1;32m  11546\u001b[0m \u001b[39m@doc\u001b[39m(\n\u001b[1;32m  11547\u001b[0m     _num_doc,\n\u001b[1;32m  11548\u001b[0m     desc\u001b[39m=\u001b[39m\u001b[39m\"\u001b[39m\u001b[39mReturn the mean of the values over the requested axis.\u001b[39m\u001b[39m\"\u001b[39m,\n\u001b[0;32m   (...)\u001b[0m\n\u001b[1;32m  11561\u001b[0m     \u001b[39m*\u001b[39m\u001b[39m*\u001b[39mkwargs,\n\u001b[1;32m  11562\u001b[0m ):\n\u001b[0;32m> 11563\u001b[0m     \u001b[39mreturn\u001b[39;00m NDFrame\u001b[39m.\u001b[39;49mmean(\u001b[39mself\u001b[39;49m, axis, skipna, numeric_only, \u001b[39m*\u001b[39;49m\u001b[39m*\u001b[39;49mkwargs)\n",
      "File \u001b[0;32m~/opt/miniconda3/envs/SETU/lib/python3.11/site-packages/pandas/core/generic.py:11208\u001b[0m, in \u001b[0;36mNDFrame.mean\u001b[0;34m(self, axis, skipna, numeric_only, **kwargs)\u001b[0m\n\u001b[1;32m  11201\u001b[0m \u001b[39mdef\u001b[39;00m \u001b[39mmean\u001b[39m(\n\u001b[1;32m  11202\u001b[0m     \u001b[39mself\u001b[39m,\n\u001b[1;32m  11203\u001b[0m     axis: Axis \u001b[39m|\u001b[39m \u001b[39mNone\u001b[39;00m \u001b[39m=\u001b[39m \u001b[39m0\u001b[39m,\n\u001b[0;32m   (...)\u001b[0m\n\u001b[1;32m  11206\u001b[0m     \u001b[39m*\u001b[39m\u001b[39m*\u001b[39mkwargs,\n\u001b[1;32m  11207\u001b[0m ) \u001b[39m-\u001b[39m\u001b[39m>\u001b[39m Series \u001b[39m|\u001b[39m \u001b[39mfloat\u001b[39m:\n\u001b[0;32m> 11208\u001b[0m     \u001b[39mreturn\u001b[39;00m \u001b[39mself\u001b[39;49m\u001b[39m.\u001b[39;49m_stat_function(\n\u001b[1;32m  11209\u001b[0m         \u001b[39m\"\u001b[39;49m\u001b[39mmean\u001b[39;49m\u001b[39m\"\u001b[39;49m, nanops\u001b[39m.\u001b[39;49mnanmean, axis, skipna, numeric_only, \u001b[39m*\u001b[39;49m\u001b[39m*\u001b[39;49mkwargs\n\u001b[1;32m  11210\u001b[0m     )\n",
      "File \u001b[0;32m~/opt/miniconda3/envs/SETU/lib/python3.11/site-packages/pandas/core/generic.py:11165\u001b[0m, in \u001b[0;36mNDFrame._stat_function\u001b[0;34m(self, name, func, axis, skipna, numeric_only, **kwargs)\u001b[0m\n\u001b[1;32m  11161\u001b[0m     nv\u001b[39m.\u001b[39mvalidate_stat_func((), kwargs, fname\u001b[39m=\u001b[39mname)\n\u001b[1;32m  11163\u001b[0m validate_bool_kwarg(skipna, \u001b[39m\"\u001b[39m\u001b[39mskipna\u001b[39m\u001b[39m\"\u001b[39m, none_allowed\u001b[39m=\u001b[39m\u001b[39mFalse\u001b[39;00m)\n\u001b[0;32m> 11165\u001b[0m \u001b[39mreturn\u001b[39;00m \u001b[39mself\u001b[39;49m\u001b[39m.\u001b[39;49m_reduce(\n\u001b[1;32m  11166\u001b[0m     func, name\u001b[39m=\u001b[39;49mname, axis\u001b[39m=\u001b[39;49maxis, skipna\u001b[39m=\u001b[39;49mskipna, numeric_only\u001b[39m=\u001b[39;49mnumeric_only\n\u001b[1;32m  11167\u001b[0m )\n",
      "File \u001b[0;32m~/opt/miniconda3/envs/SETU/lib/python3.11/site-packages/pandas/core/series.py:4671\u001b[0m, in \u001b[0;36mSeries._reduce\u001b[0;34m(self, op, name, axis, skipna, numeric_only, filter_type, **kwds)\u001b[0m\n\u001b[1;32m   4666\u001b[0m     \u001b[39mraise\u001b[39;00m \u001b[39mTypeError\u001b[39;00m(\n\u001b[1;32m   4667\u001b[0m         \u001b[39mf\u001b[39m\u001b[39m\"\u001b[39m\u001b[39mSeries.\u001b[39m\u001b[39m{\u001b[39;00mname\u001b[39m}\u001b[39;00m\u001b[39m does not allow \u001b[39m\u001b[39m{\u001b[39;00mkwd_name\u001b[39m}\u001b[39;00m\u001b[39m=\u001b[39m\u001b[39m{\u001b[39;00mnumeric_only\u001b[39m}\u001b[39;00m\u001b[39m \u001b[39m\u001b[39m\"\u001b[39m\n\u001b[1;32m   4668\u001b[0m         \u001b[39m\"\u001b[39m\u001b[39mwith non-numeric dtypes.\u001b[39m\u001b[39m\"\u001b[39m\n\u001b[1;32m   4669\u001b[0m     )\n\u001b[1;32m   4670\u001b[0m \u001b[39mwith\u001b[39;00m np\u001b[39m.\u001b[39merrstate(\u001b[39mall\u001b[39m\u001b[39m=\u001b[39m\u001b[39m\"\u001b[39m\u001b[39mignore\u001b[39m\u001b[39m\"\u001b[39m):\n\u001b[0;32m-> 4671\u001b[0m     \u001b[39mreturn\u001b[39;00m op(delegate, skipna\u001b[39m=\u001b[39;49mskipna, \u001b[39m*\u001b[39;49m\u001b[39m*\u001b[39;49mkwds)\n",
      "File \u001b[0;32m~/opt/miniconda3/envs/SETU/lib/python3.11/site-packages/pandas/core/nanops.py:96\u001b[0m, in \u001b[0;36mdisallow.__call__.<locals>._f\u001b[0;34m(*args, **kwargs)\u001b[0m\n\u001b[1;32m     94\u001b[0m \u001b[39mtry\u001b[39;00m:\n\u001b[1;32m     95\u001b[0m     \u001b[39mwith\u001b[39;00m np\u001b[39m.\u001b[39merrstate(invalid\u001b[39m=\u001b[39m\u001b[39m\"\u001b[39m\u001b[39mignore\u001b[39m\u001b[39m\"\u001b[39m):\n\u001b[0;32m---> 96\u001b[0m         \u001b[39mreturn\u001b[39;00m f(\u001b[39m*\u001b[39;49margs, \u001b[39m*\u001b[39;49m\u001b[39m*\u001b[39;49mkwargs)\n\u001b[1;32m     97\u001b[0m \u001b[39mexcept\u001b[39;00m \u001b[39mValueError\u001b[39;00m \u001b[39mas\u001b[39;00m e:\n\u001b[1;32m     98\u001b[0m     \u001b[39m# we want to transform an object array\u001b[39;00m\n\u001b[1;32m     99\u001b[0m     \u001b[39m# ValueError message to the more typical TypeError\u001b[39;00m\n\u001b[1;32m    100\u001b[0m     \u001b[39m# e.g. this is normally a disallowed function on\u001b[39;00m\n\u001b[1;32m    101\u001b[0m     \u001b[39m# object arrays that contain strings\u001b[39;00m\n\u001b[1;32m    102\u001b[0m     \u001b[39mif\u001b[39;00m is_object_dtype(args[\u001b[39m0\u001b[39m]):\n",
      "File \u001b[0;32m~/opt/miniconda3/envs/SETU/lib/python3.11/site-packages/pandas/core/nanops.py:158\u001b[0m, in \u001b[0;36mbottleneck_switch.__call__.<locals>.f\u001b[0;34m(values, axis, skipna, **kwds)\u001b[0m\n\u001b[1;32m    156\u001b[0m         result \u001b[39m=\u001b[39m alt(values, axis\u001b[39m=\u001b[39maxis, skipna\u001b[39m=\u001b[39mskipna, \u001b[39m*\u001b[39m\u001b[39m*\u001b[39mkwds)\n\u001b[1;32m    157\u001b[0m \u001b[39melse\u001b[39;00m:\n\u001b[0;32m--> 158\u001b[0m     result \u001b[39m=\u001b[39m alt(values, axis\u001b[39m=\u001b[39;49maxis, skipna\u001b[39m=\u001b[39;49mskipna, \u001b[39m*\u001b[39;49m\u001b[39m*\u001b[39;49mkwds)\n\u001b[1;32m    160\u001b[0m \u001b[39mreturn\u001b[39;00m result\n",
      "File \u001b[0;32m~/opt/miniconda3/envs/SETU/lib/python3.11/site-packages/pandas/core/nanops.py:421\u001b[0m, in \u001b[0;36m_datetimelike_compat.<locals>.new_func\u001b[0;34m(values, axis, skipna, mask, **kwargs)\u001b[0m\n\u001b[1;32m    418\u001b[0m \u001b[39mif\u001b[39;00m datetimelike \u001b[39mand\u001b[39;00m mask \u001b[39mis\u001b[39;00m \u001b[39mNone\u001b[39;00m:\n\u001b[1;32m    419\u001b[0m     mask \u001b[39m=\u001b[39m isna(values)\n\u001b[0;32m--> 421\u001b[0m result \u001b[39m=\u001b[39m func(values, axis\u001b[39m=\u001b[39;49maxis, skipna\u001b[39m=\u001b[39;49mskipna, mask\u001b[39m=\u001b[39;49mmask, \u001b[39m*\u001b[39;49m\u001b[39m*\u001b[39;49mkwargs)\n\u001b[1;32m    423\u001b[0m \u001b[39mif\u001b[39;00m datetimelike:\n\u001b[1;32m    424\u001b[0m     result \u001b[39m=\u001b[39m _wrap_results(result, orig_values\u001b[39m.\u001b[39mdtype, fill_value\u001b[39m=\u001b[39miNaT)\n",
      "File \u001b[0;32m~/opt/miniconda3/envs/SETU/lib/python3.11/site-packages/pandas/core/nanops.py:727\u001b[0m, in \u001b[0;36mnanmean\u001b[0;34m(values, axis, skipna, mask)\u001b[0m\n\u001b[1;32m    724\u001b[0m     dtype_count \u001b[39m=\u001b[39m dtype\n\u001b[1;32m    726\u001b[0m count \u001b[39m=\u001b[39m _get_counts(values\u001b[39m.\u001b[39mshape, mask, axis, dtype\u001b[39m=\u001b[39mdtype_count)\n\u001b[0;32m--> 727\u001b[0m the_sum \u001b[39m=\u001b[39m _ensure_numeric(values\u001b[39m.\u001b[39;49msum(axis, dtype\u001b[39m=\u001b[39;49mdtype_sum))\n\u001b[1;32m    729\u001b[0m \u001b[39mif\u001b[39;00m axis \u001b[39mis\u001b[39;00m \u001b[39mnot\u001b[39;00m \u001b[39mNone\u001b[39;00m \u001b[39mand\u001b[39;00m \u001b[39mgetattr\u001b[39m(the_sum, \u001b[39m\"\u001b[39m\u001b[39mndim\u001b[39m\u001b[39m\"\u001b[39m, \u001b[39mFalse\u001b[39;00m):\n\u001b[1;32m    730\u001b[0m     count \u001b[39m=\u001b[39m cast(np\u001b[39m.\u001b[39mndarray, count)\n",
      "File \u001b[0;32m~/opt/miniconda3/envs/SETU/lib/python3.11/site-packages/pandas/core/nanops.py:1699\u001b[0m, in \u001b[0;36m_ensure_numeric\u001b[0;34m(x)\u001b[0m\n\u001b[1;32m   1696\u001b[0m             x \u001b[39m=\u001b[39m \u001b[39mcomplex\u001b[39m(x)\n\u001b[1;32m   1697\u001b[0m         \u001b[39mexcept\u001b[39;00m \u001b[39mValueError\u001b[39;00m \u001b[39mas\u001b[39;00m err:\n\u001b[1;32m   1698\u001b[0m             \u001b[39m# e.g. \"foo\"\u001b[39;00m\n\u001b[0;32m-> 1699\u001b[0m             \u001b[39mraise\u001b[39;00m \u001b[39mTypeError\u001b[39;00m(\u001b[39mf\u001b[39m\u001b[39m\"\u001b[39m\u001b[39mCould not convert \u001b[39m\u001b[39m{\u001b[39;00mx\u001b[39m}\u001b[39;00m\u001b[39m to numeric\u001b[39m\u001b[39m\"\u001b[39m) \u001b[39mfrom\u001b[39;00m \u001b[39merr\u001b[39;00m\n\u001b[1;32m   1700\u001b[0m \u001b[39mreturn\u001b[39;00m x\n",
      "\u001b[0;31mTypeError\u001b[0m: Could not convert churchtownnewcastle westsalthillportlawbuncranadublin 16cabraleixlipnew rosslucancarrigtwohillnenaghdunboynekerry pikenaasdalkeycarrigalineartanenaascabranavanashbourneclonakiltysandymountdublin 12clonsillaclondalkinmitchelstowncaherciveenrahenydundalkpalmerstownbalbrigganlucanstepasidefinglascastleknockdublin 3birrkilbegganbirrportumnadouglasashbourneterenureashtowncrosshavenoldcastlebandondublin 16ballincolligratoathcastletroylucantallaghtdublin 9mullingarsandymountclonsillalismorekinsalekellsedenderrysandyfordmaynoothcabradooradoylebraydroghedadublin 6douglasheadford rdtraleedublin 5letterkennystepasideclonsillamountmellickballinasloekanturkthurlesdublin 11rathkealemountrathdunfanaghytraleetubbercurrynewportbraymurroefernscrosshavenrathdowneyrathdowneydublin 15letterkennydundalkswordsdublin 8douglasclogherheadkillarneyglanmirewiltonnewbridgetempleogueashtownashbournedrimnaghdublin 7tallaghtathytullamorestillorganrahoonclifdenskerriesgoreyratoathkinsaledublin 13rochestowndrumcondradroghedaclonsillaclontarfletterkennycastleknockdublin 12mullingarportlaoisedublin 8monkstownknocklyonmalahidemonasterevindublin 16dublin 3dublin 9drumcondradublin 4dublin 14mullingarmalahidekilcooleturners crosskilcooleartanefinglasswordsswordsclonmeldublin 3blackrockclontarfdroghedamaynoothdublin 15cashelportlaoisekillarneyshankillblackrockcastleknockbraycarrigtwohillballyconnellcourtownballinasloeheadforddungarvandunmore eastennis rdmohillkilmacthomasballinasloeclanenaasjohnswell rdstrandhillmullingarmullingarcarndonaghheadfordkilcooleskerriesblarneydublin rdarklowsandyfordtullamoreskerriesballincolligdundrumdublin 24rathnewdungarvanmurroestillorgancastleknocklucankillarneydublin 15clanecarburyglasnevinrenmoremonaleendublin 7ashbournekilmallockdundrumclonmelkilleaghlucancorballycabinteelyshankillmulgannonblackrockdublin 4celbridgemalahidetallaghtrosslare strandnewbridgebunclodyarklowballaghaderreentraleeclonmelcallandundalkcahirthurlesportarlingtonachillmullingardouglasdroghedaclonsillatempleoguedublin 13kilcullendouglasdublin 14dublin 9dublin 8swordscelbridgecarrigalinecarrigtwohillmaynoothbruffdublin 7maynoothcharlevilleadamstownleixlipportlaoisecarrigtwohilldundalkluskmaynoothlehenaghbegcarrigalinedun laoghairemidletonkillucanmalahideletterkennylaytowndublin 11tallaghtballinteerathymalahidedundalkdundalkdublin 12knocklyondalkeyennistempleoguecrumlindungarvanannacottykillorglinnew rossportlaoisebalbriggankilkeeletterkennydublin 4trimmoycullenlucanmoatemalahideblackrockmaynoothnavanbundorankillineydublin 13mallowathloneballyshannontuambaltinglassrathangankillarneykillorglintraleekilmallockdalkeykillarneykinsalemountmellickportlaoisesandymountroscrearoscreafernslistowelnaasathyblackrocknaasnewbridgedublin 5dublin 3mullingarcloneedonabateswordsnewbridgenewbridgedublin 12barnafernscelbridgebrayleixlipdroghedatuamclonmeldouglasknocklyonnenaghenniscorthyshankilldublin 15tramorefermoydublin 6corballycastletroydublin 24crumlincarrigalinesummerhillrathminestallaghtdelganymallowdublin 24mallowkinsalenavanroscreacastleknockluskcelbridgedingletramorenewcastleraheenclonsillabelturbettraleeglanmirekilmallocksandycovekillarneyfinglasmullingartallaghtblanchardstownwestportdublin 15monasterevinrathfarnhammullaghkellsfernsnenaghmungretblackrockblackrockwiltonmonasterevinenfieldknocknacarrabrayballyvolanetogherdroghedacarrickminescabinteelyathloneballintemplecarrigalinetramorewalkinstownloughreadublin 24balbriggandrumcondradublin 9templeoguegreystonesashbournegreystonessaggarttempleoguebalbriggandublin 9killarneytramoresantrylaytowndelganyletterkennydublin 7passage westdublin 3terenureclanenewbridgeportlaoisestepasidenavancelbridgerathfarnhamglasnevindublin 8mullingardublin 24dungarvanleopardstownballycullentullowdublin 10loughreatullowoughterardcarrigtwohillranelaghknocklyonfinglaslongwooddublin 11bundoranblackrocktraleekilworthrathfarnhampassage westnewbridgeknocklyonblackrockdublin 4clontarfdublin 8rathangancootehillballyhauniskenmarekinsalekillarneykilmallockcraughwellrathfarnhamcastlecomercelbridgecarrigalinecastlebarportlaoisedooradoylestradballyfethardskerriesenniskerrypiltownloughreamullingarclaregalwayclaneleopardstownlucandublin 7rathcooletemplemoreclonmelrathfarnhamrahenyclonmelnaasballyfermotcarrigalinetermonfeckintrimroscamdublin 22midletonkillaloenenaghballincolligkillarneybalbriggancorballyclontarfmoatedrumcondracastleconnelldroghedablackrockthurlesmodel farm rdportlaoisemallowcarburynavanrosslareloughreamulgannonlistoweltraleevirginiasandycoveknocknacarrawestportcarrickmacrosswestportcarrickmacrossdundalkcloughjordanbagenalstowntullamorekillorglinkilkeeenfieldcastletroytramorelucanlusknewbridgerialtotraleeportlaoisedrumshanboglanmireroscreaballincolligkilkeeportlaoiseathloneclontarfrathgarleopardstowngoreyrushkillarneyfernstramoredublin 17droghedanewcastlewestbettystownletterkennydublin 15enniscashelkinsalestepasidedublin 15rahenynewcastlecrumlinennisovensnewcastle westcelbridgeballyjamesduffbettystownenfieldrathmoreballincollignenaghlistowelbaltimoredunleerenniscorthycashelmohillgoreyballincolliglistowelbantrynewmarketmohillnenaghdouglasdundrumashbournesalthillballymotemalahidecastletroygoreydublin 15adamstownblackrockclonsillatullowballinaghdublin 16dublin 7dungarvannaasdundalkleopardstowncarrickmacrossthomastownardeeshannonblackrockballincolligmullingarnaasgrangeknocklyongoreynewbridgedublin 18leixlipnenaghdublin 8crumlinenniscroneleixlipdrimnaghfermoynewcastle westfoxwooddungarvanadamstowndungarvanclonskeaghadamstownclondalkinbuncranaashbournedublin 11dublin 11castleknocksantryschulledenderrygoreytraleeclaremorriskillineyrathmineskinsaledromodboyleclondalkinnew rossadamstownnewmarket on fergusballsbridgesandymountdublin 15ardeedublin 24portlaoiseballyfermotdublin 24dublin 16tallaghtportlawdublin 12newportdublin 11blackrockrathangandublin 16tallaghtdundrumfoxrockdublin 9blackrockathyballinaghraheenmalahidemalahideblackrockmonkstownswordsmullingarashtownnaastullowmidletonnavanballybracktallaghtnewbridgerathnewmallowheadford rdbundoranloughreamalahidebalbriggandublin 22suttondunboynenenaghelphinmaynoothtraleeathenrypiltowntullamorecoolaneykinvaradouglasratoathkinsaleballymoterathminescarrigalineadamstowndroghedakillucanardeearklowashbourneclonmelnaasdublin 14tullamorebalbriggandublin 16kilcooledoneraileathenrycourtownmayfieldwalkinstownnavanlongwoodmilltownclonskeaghballincollignenaghliffordmurroekilbeggandublin 15douglasoranmorecarrigalineoranmorekillineydundalknaasmullingarskerriesgoreydouglasathlonedublin 13swordsnew rossnew rossportmarnockrathfarnhamterenurebalbrigganartanecloynecharlevilleenniscorthyschullcraughwellcootehillmullingarkinvaraballinasloerochestownnavanglasnevinballinteerkillarneymalahideknocklyonnaasballincolligenniscorthytraleerushroscreamitchelstowncobhyoughalcastleknockswordsfermoyblanchardstowndublin 15dundrumbrayranelaghstepasideoughterardportarlingtongreystonescarndonaghcastleislandschullkillarneygoreyrochestowndundalkcork cityrathangansummerhillashbournewatervillecabinteelyrathdowneyglanmirecabinteelynewbridgerathcooleaughrimstillorganfinglasgoreyblackrockballyconnelldublin 11balbriggandublin 3castletroyballsbridgeashbournelucanmullingarovensblanchardstownletterkennysaggartswordsdublin 12glanmirenavandroghedamountmellickknocklyoncelbridgerathfarnhamashtownbrayportlaoiseabbeyleixdublin 15dublin 15skerriesdublin 24mullaghnavangreystonesknocklyondublin 24mallowennisdublin 7lucanportlaoisestepasideclonsillacarrigalinerathfarnhamclondalkinathloneknocknacarrastepasidecabinteelytempleoguefinglasbantrysandyfordstamullenstamullennaasswordscabrablackrockleixlipbantrydublin 15adamstownglenagearymalahidetullamorebalbriggantallaghtdinglelucannaasrooskeydublin 13mountmellickenniscloneebraybraycarrigtwohilldundalkkilcullencelbridgejohnswell rdashbournebraysandymountrushgoreyballyhaunisrushrathfarnhamrosslarecappoquinnew rossswinfordkenmarecastletownberedundrumballinafernskellscahirmullingarmullingarathenryrahenykillorglinmallowmullingarglanmiredublin 9droghedatullowdooradoyleathloneknocklyonsuttonnewcastlewestdouglasglanmiremountmellickdunleerbraytempleogueblessingtonnewbridgeennismullingarcastleknocklucanbalgriffindublin 3dublin 12dublin 7artanekilmallockportlaoiseballybunionkillaloeheadfordbirrdouglasdrumcondrarathfarnhamblackrockdouglascobhnavanmalahidedublin 15dublin 14dublin 13waterford cityedgeworthstowncarrigtwohilldublin 6kilcooleblackrockcharlestownnewcastlefinglasdundalknenaghchurchtowntullowdundalkdroghedanavandublin 18midletonglasnevindonerailecastleblayneynewportclaregalwaytemplemorekellskellscoolaneytemplemoreedgeworthstownloughreaathykilmallockkilmallockkilmallockgoreylucanmaynoothrochestowncrumlindublin 9knocknacarrapiltowngraiguecullendrumcondraballinasloefinglasblackrockmidletonashtowncelbridgesantryportmarnockdublin 15trimtullamorehowthdublin 11clondalkinashtownwatergrasshilldouglasmalahideballinteercrumlindublin 12dublin 4delvinabbeyfealebrufftuamdingleblackwaternavanrathanganadarewestportnenaghcarrickmacrossdunboynebalbrigganartanedublin 5sandyforddublin 6wdunboynedublin 11rushdublin 6wshankilldublin 22tullowdublin 14nenaghlucanswordsdublin 7dublin rdslanedublin 3dublin 13clontarfchurchtownclontarfletterkennyadamstownsandyfordlucandublin 12howthportlaoisedonabatenavandublin 11thomastowntraleeblackpoolathboymidletoncarrickmacrossletterkennykilmallocksandymountclonmelkillineyclonmelblackrockballinaghdublin 15leixlipdalkeytallaghtmalahiderochestownnewbridgetullamoreroscamglasnevindublin 12balgriffincobhbooterstownadamstownterenurebalbrigganstillorganenniscorthycarrigalineballinteercarrickmacrosstallaghtgreystonesswordsdublin 15swordsdublin 4dublin 24dublin 8balbrigganenniscorthyskerriesblanchardstowndublin 3dublin 9santryportarlingtonshankilldalkeynenaghlucandublin 15santrykillmonkstowntuamlucankilkeeclonskeaghcastleblayneydublin 22tullamoreclanedublin 12duleektrimsantrydrimnaghdrumcondracourtowncarrigtwohilldublin 24traleemulgannoncarrickminesswordstrimrathkealemullingarroscreaenniscorthyskerriestraleelaytownlaytownlaytownkillarneyballyhaunisrosslare strandennisathytrimdroghedamacroomsandycovemullingarballyshannonportmarnockcastletroy to numeric"
     ]
    }
   ],
   "source": [
    "# Load the data into a pandas dataframe\n",
    "df = pd.read_csv('PPR-cleaned-v2.csv')\n",
    "\n",
    "# Convert the Date column to a datetime object and set it as the index\n",
    "df['Date'] = pd.to_datetime(df['Date'], infer_datetime_format=True)\n",
    "df = df.set_index('Date')\n",
    "\n",
    "# Group the data by month and calculate the mean price for each month\n",
    "df_monthly = df.resample('M').mean()\n",
    "\n",
    "# Plot the monthly mean prices\n",
    "plt.plot(df_monthly)\n",
    "plt.xlabel('Date')\n",
    "plt.ylabel('Price')\n",
    "plt.show()\n",
    "\n",
    "# Split the data into training and test sets\n",
    "train_size = int(len(df_monthly) * 0.8)\n",
    "train, test = df_monthly.iloc[:train_size], df_monthly.iloc[train_size:]\n",
    "\n",
    "# Fit the ARIMA model on the training data\n",
    "model = ARIMA(train, order=(2, 1, 2))\n",
    "model_fit = model.fit()\n",
    "\n",
    "# Make predictions on the test data\n",
    "predictions = model_fit.predict(start=len(train), end=len(df_monthly)-1, typ='levels')\n",
    "\n",
    "# Calculate the root mean squared error (RMSE) of the predictions\n",
    "mse = mean_squared_error(test, predictions)\n",
    "rmse = np.sqrt(mse)\n",
    "print('RMSE:', rmse)\n",
    "\n",
    "# Plot the predictions against the test data\n",
    "plt.plot(test)\n",
    "plt.plot(predictions, color='red')\n",
    "plt.xlabel('Date')\n",
    "plt.ylabel('Price')\n",
    "plt.legend(['Actual', 'Predicted'])\n",
    "plt.show()"
   ]
  },
  {
   "attachments": {},
   "cell_type": "markdown",
   "id": "dffacdd9",
   "metadata": {},
   "source": [
    "## SARIMAX"
   ]
  },
  {
   "cell_type": "code",
   "execution_count": 12,
   "id": "64b96245",
   "metadata": {
    "ExecuteTime": {
     "end_time": "2023-04-15T16:29:42.666927Z",
     "start_time": "2023-04-15T16:29:41.457631Z"
    }
   },
   "outputs": [
    {
     "name": "stderr",
     "output_type": "stream",
     "text": [
      "/var/folders/55/j0v2zlbn1575rkmztsycxlfw0000gn/T/ipykernel_33889/4251257049.py:3: UserWarning:\n",
      "\n",
      "The argument 'infer_datetime_format' is deprecated and will be removed in a future version. A strict version of it is now the default, see https://pandas.pydata.org/pdeps/0004-consistent-to-datetime-parsing.html. You can safely remove this argument.\n",
      "\n"
     ]
    },
    {
     "ename": "TypeError",
     "evalue": "Could not convert churchtownnewcastle westsalthillportlawbuncranadublin 16cabraleixlipnew rosslucancarrigtwohillnenaghdunboynekerry pikenaasdalkeycarrigalineartanenaascabranavanashbourneclonakiltysandymountdublin 12clonsillaclondalkinmitchelstowncaherciveenrahenydundalkpalmerstownbalbrigganlucanstepasidefinglascastleknockdublin 3birrkilbegganbirrportumnadouglasashbourneterenureashtowncrosshavenoldcastlebandondublin 16ballincolligratoathcastletroylucantallaghtdublin 9mullingarsandymountclonsillalismorekinsalekellsedenderrysandyfordmaynoothcabradooradoylebraydroghedadublin 6douglasheadford rdtraleedublin 5letterkennystepasideclonsillamountmellickballinasloekanturkthurlesdublin 11rathkealemountrathdunfanaghytraleetubbercurrynewportbraymurroefernscrosshavenrathdowneyrathdowneydublin 15letterkennydundalkswordsdublin 8douglasclogherheadkillarneyglanmirewiltonnewbridgetempleogueashtownashbournedrimnaghdublin 7tallaghtathytullamorestillorganrahoonclifdenskerriesgoreyratoathkinsaledublin 13rochestowndrumcondradroghedaclonsillaclontarfletterkennycastleknockdublin 12mullingarportlaoisedublin 8monkstownknocklyonmalahidemonasterevindublin 16dublin 3dublin 9drumcondradublin 4dublin 14mullingarmalahidekilcooleturners crosskilcooleartanefinglasswordsswordsclonmeldublin 3blackrockclontarfdroghedamaynoothdublin 15cashelportlaoisekillarneyshankillblackrockcastleknockbraycarrigtwohillballyconnellcourtownballinasloeheadforddungarvandunmore eastennis rdmohillkilmacthomasballinasloeclanenaasjohnswell rdstrandhillmullingarmullingarcarndonaghheadfordkilcooleskerriesblarneydublin rdarklowsandyfordtullamoreskerriesballincolligdundrumdublin 24rathnewdungarvanmurroestillorgancastleknocklucankillarneydublin 15clanecarburyglasnevinrenmoremonaleendublin 7ashbournekilmallockdundrumclonmelkilleaghlucancorballycabinteelyshankillmulgannonblackrockdublin 4celbridgemalahidetallaghtrosslare strandnewbridgebunclodyarklowballaghaderreentraleeclonmelcallandundalkcahirthurlesportarlingtonachillmullingardouglasdroghedaclonsillatempleoguedublin 13kilcullendouglasdublin 14dublin 9dublin 8swordscelbridgecarrigalinecarrigtwohillmaynoothbruffdublin 7maynoothcharlevilleadamstownleixlipportlaoisecarrigtwohilldundalkluskmaynoothlehenaghbegcarrigalinedun laoghairemidletonkillucanmalahideletterkennylaytowndublin 11tallaghtballinteerathymalahidedundalkdundalkdublin 12knocklyondalkeyennistempleoguecrumlindungarvanannacottykillorglinnew rossportlaoisebalbriggankilkeeletterkennydublin 4trimmoycullenlucanmoatemalahideblackrockmaynoothnavanbundorankillineydublin 13mallowathloneballyshannontuambaltinglassrathangankillarneykillorglintraleekilmallockdalkeykillarneykinsalemountmellickportlaoisesandymountroscrearoscreafernslistowelnaasathyblackrocknaasnewbridgedublin 5dublin 3mullingarcloneedonabateswordsnewbridgenewbridgedublin 12barnafernscelbridgebrayleixlipdroghedatuamclonmeldouglasknocklyonnenaghenniscorthyshankilldublin 15tramorefermoydublin 6corballycastletroydublin 24crumlincarrigalinesummerhillrathminestallaghtdelganymallowdublin 24mallowkinsalenavanroscreacastleknockluskcelbridgedingletramorenewcastleraheenclonsillabelturbettraleeglanmirekilmallocksandycovekillarneyfinglasmullingartallaghtblanchardstownwestportdublin 15monasterevinrathfarnhammullaghkellsfernsnenaghmungretblackrockblackrockwiltonmonasterevinenfieldknocknacarrabrayballyvolanetogherdroghedacarrickminescabinteelyathloneballintemplecarrigalinetramorewalkinstownloughreadublin 24balbriggandrumcondradublin 9templeoguegreystonesashbournegreystonessaggarttempleoguebalbriggandublin 9killarneytramoresantrylaytowndelganyletterkennydublin 7passage westdublin 3terenureclanenewbridgeportlaoisestepasidenavancelbridgerathfarnhamglasnevindublin 8mullingardublin 24dungarvanleopardstownballycullentullowdublin 10loughreatullowoughterardcarrigtwohillranelaghknocklyonfinglaslongwooddublin 11bundoranblackrocktraleekilworthrathfarnhampassage westnewbridgeknocklyonblackrockdublin 4clontarfdublin 8rathangancootehillballyhauniskenmarekinsalekillarneykilmallockcraughwellrathfarnhamcastlecomercelbridgecarrigalinecastlebarportlaoisedooradoylestradballyfethardskerriesenniskerrypiltownloughreamullingarclaregalwayclaneleopardstownlucandublin 7rathcooletemplemoreclonmelrathfarnhamrahenyclonmelnaasballyfermotcarrigalinetermonfeckintrimroscamdublin 22midletonkillaloenenaghballincolligkillarneybalbriggancorballyclontarfmoatedrumcondracastleconnelldroghedablackrockthurlesmodel farm rdportlaoisemallowcarburynavanrosslareloughreamulgannonlistoweltraleevirginiasandycoveknocknacarrawestportcarrickmacrosswestportcarrickmacrossdundalkcloughjordanbagenalstowntullamorekillorglinkilkeeenfieldcastletroytramorelucanlusknewbridgerialtotraleeportlaoisedrumshanboglanmireroscreaballincolligkilkeeportlaoiseathloneclontarfrathgarleopardstowngoreyrushkillarneyfernstramoredublin 17droghedanewcastlewestbettystownletterkennydublin 15enniscashelkinsalestepasidedublin 15rahenynewcastlecrumlinennisovensnewcastle westcelbridgeballyjamesduffbettystownenfieldrathmoreballincollignenaghlistowelbaltimoredunleerenniscorthycashelmohillgoreyballincolliglistowelbantrynewmarketmohillnenaghdouglasdundrumashbournesalthillballymotemalahidecastletroygoreydublin 15adamstownblackrockclonsillatullowballinaghdublin 16dublin 7dungarvannaasdundalkleopardstowncarrickmacrossthomastownardeeshannonblackrockballincolligmullingarnaasgrangeknocklyongoreynewbridgedublin 18leixlipnenaghdublin 8crumlinenniscroneleixlipdrimnaghfermoynewcastle westfoxwooddungarvanadamstowndungarvanclonskeaghadamstownclondalkinbuncranaashbournedublin 11dublin 11castleknocksantryschulledenderrygoreytraleeclaremorriskillineyrathmineskinsaledromodboyleclondalkinnew rossadamstownnewmarket on fergusballsbridgesandymountdublin 15ardeedublin 24portlaoiseballyfermotdublin 24dublin 16tallaghtportlawdublin 12newportdublin 11blackrockrathangandublin 16tallaghtdundrumfoxrockdublin 9blackrockathyballinaghraheenmalahidemalahideblackrockmonkstownswordsmullingarashtownnaastullowmidletonnavanballybracktallaghtnewbridgerathnewmallowheadford rdbundoranloughreamalahidebalbriggandublin 22suttondunboynenenaghelphinmaynoothtraleeathenrypiltowntullamorecoolaneykinvaradouglasratoathkinsaleballymoterathminescarrigalineadamstowndroghedakillucanardeearklowashbourneclonmelnaasdublin 14tullamorebalbriggandublin 16kilcooledoneraileathenrycourtownmayfieldwalkinstownnavanlongwoodmilltownclonskeaghballincollignenaghliffordmurroekilbeggandublin 15douglasoranmorecarrigalineoranmorekillineydundalknaasmullingarskerriesgoreydouglasathlonedublin 13swordsnew rossnew rossportmarnockrathfarnhamterenurebalbrigganartanecloynecharlevilleenniscorthyschullcraughwellcootehillmullingarkinvaraballinasloerochestownnavanglasnevinballinteerkillarneymalahideknocklyonnaasballincolligenniscorthytraleerushroscreamitchelstowncobhyoughalcastleknockswordsfermoyblanchardstowndublin 15dundrumbrayranelaghstepasideoughterardportarlingtongreystonescarndonaghcastleislandschullkillarneygoreyrochestowndundalkcork cityrathangansummerhillashbournewatervillecabinteelyrathdowneyglanmirecabinteelynewbridgerathcooleaughrimstillorganfinglasgoreyblackrockballyconnelldublin 11balbriggandublin 3castletroyballsbridgeashbournelucanmullingarovensblanchardstownletterkennysaggartswordsdublin 12glanmirenavandroghedamountmellickknocklyoncelbridgerathfarnhamashtownbrayportlaoiseabbeyleixdublin 15dublin 15skerriesdublin 24mullaghnavangreystonesknocklyondublin 24mallowennisdublin 7lucanportlaoisestepasideclonsillacarrigalinerathfarnhamclondalkinathloneknocknacarrastepasidecabinteelytempleoguefinglasbantrysandyfordstamullenstamullennaasswordscabrablackrockleixlipbantrydublin 15adamstownglenagearymalahidetullamorebalbriggantallaghtdinglelucannaasrooskeydublin 13mountmellickenniscloneebraybraycarrigtwohilldundalkkilcullencelbridgejohnswell rdashbournebraysandymountrushgoreyballyhaunisrushrathfarnhamrosslarecappoquinnew rossswinfordkenmarecastletownberedundrumballinafernskellscahirmullingarmullingarathenryrahenykillorglinmallowmullingarglanmiredublin 9droghedatullowdooradoyleathloneknocklyonsuttonnewcastlewestdouglasglanmiremountmellickdunleerbraytempleogueblessingtonnewbridgeennismullingarcastleknocklucanbalgriffindublin 3dublin 12dublin 7artanekilmallockportlaoiseballybunionkillaloeheadfordbirrdouglasdrumcondrarathfarnhamblackrockdouglascobhnavanmalahidedublin 15dublin 14dublin 13waterford cityedgeworthstowncarrigtwohilldublin 6kilcooleblackrockcharlestownnewcastlefinglasdundalknenaghchurchtowntullowdundalkdroghedanavandublin 18midletonglasnevindonerailecastleblayneynewportclaregalwaytemplemorekellskellscoolaneytemplemoreedgeworthstownloughreaathykilmallockkilmallockkilmallockgoreylucanmaynoothrochestowncrumlindublin 9knocknacarrapiltowngraiguecullendrumcondraballinasloefinglasblackrockmidletonashtowncelbridgesantryportmarnockdublin 15trimtullamorehowthdublin 11clondalkinashtownwatergrasshilldouglasmalahideballinteercrumlindublin 12dublin 4delvinabbeyfealebrufftuamdingleblackwaternavanrathanganadarewestportnenaghcarrickmacrossdunboynebalbrigganartanedublin 5sandyforddublin 6wdunboynedublin 11rushdublin 6wshankilldublin 22tullowdublin 14nenaghlucanswordsdublin 7dublin rdslanedublin 3dublin 13clontarfchurchtownclontarfletterkennyadamstownsandyfordlucandublin 12howthportlaoisedonabatenavandublin 11thomastowntraleeblackpoolathboymidletoncarrickmacrossletterkennykilmallocksandymountclonmelkillineyclonmelblackrockballinaghdublin 15leixlipdalkeytallaghtmalahiderochestownnewbridgetullamoreroscamglasnevindublin 12balgriffincobhbooterstownadamstownterenurebalbrigganstillorganenniscorthycarrigalineballinteercarrickmacrosstallaghtgreystonesswordsdublin 15swordsdublin 4dublin 24dublin 8balbrigganenniscorthyskerriesblanchardstowndublin 3dublin 9santryportarlingtonshankilldalkeynenaghlucandublin 15santrykillmonkstowntuamlucankilkeeclonskeaghcastleblayneydublin 22tullamoreclanedublin 12duleektrimsantrydrimnaghdrumcondracourtowncarrigtwohilldublin 24traleemulgannoncarrickminesswordstrimrathkealemullingarroscreaenniscorthyskerriestraleelaytownlaytownlaytownkillarneyballyhaunisrosslare strandennisathytrimdroghedamacroomsandycovemullingarballyshannonportmarnockcastletroy to numeric",
     "output_type": "error",
     "traceback": [
      "\u001b[0;31m---------------------------------------------------------------------------\u001b[0m",
      "\u001b[0;31mNotImplementedError\u001b[0m                       Traceback (most recent call last)",
      "File \u001b[0;32m~/opt/miniconda3/envs/SETU/lib/python3.11/site-packages/pandas/core/groupby/groupby.py:1490\u001b[0m, in \u001b[0;36mGroupBy._cython_agg_general.<locals>.array_func\u001b[0;34m(values)\u001b[0m\n\u001b[1;32m   1489\u001b[0m \u001b[39mtry\u001b[39;00m:\n\u001b[0;32m-> 1490\u001b[0m     result \u001b[39m=\u001b[39m \u001b[39mself\u001b[39;49m\u001b[39m.\u001b[39;49mgrouper\u001b[39m.\u001b[39;49m_cython_operation(\n\u001b[1;32m   1491\u001b[0m         \u001b[39m\"\u001b[39;49m\u001b[39maggregate\u001b[39;49m\u001b[39m\"\u001b[39;49m,\n\u001b[1;32m   1492\u001b[0m         values,\n\u001b[1;32m   1493\u001b[0m         how,\n\u001b[1;32m   1494\u001b[0m         axis\u001b[39m=\u001b[39;49mdata\u001b[39m.\u001b[39;49mndim \u001b[39m-\u001b[39;49m \u001b[39m1\u001b[39;49m,\n\u001b[1;32m   1495\u001b[0m         min_count\u001b[39m=\u001b[39;49mmin_count,\n\u001b[1;32m   1496\u001b[0m         \u001b[39m*\u001b[39;49m\u001b[39m*\u001b[39;49mkwargs,\n\u001b[1;32m   1497\u001b[0m     )\n\u001b[1;32m   1498\u001b[0m \u001b[39mexcept\u001b[39;00m \u001b[39mNotImplementedError\u001b[39;00m:\n\u001b[1;32m   1499\u001b[0m     \u001b[39m# generally if we have numeric_only=False\u001b[39;00m\n\u001b[1;32m   1500\u001b[0m     \u001b[39m# and non-applicable functions\u001b[39;00m\n\u001b[1;32m   1501\u001b[0m     \u001b[39m# try to python agg\u001b[39;00m\n\u001b[1;32m   1502\u001b[0m     \u001b[39m# TODO: shouldn't min_count matter?\u001b[39;00m\n",
      "File \u001b[0;32m~/opt/miniconda3/envs/SETU/lib/python3.11/site-packages/pandas/core/groupby/ops.py:959\u001b[0m, in \u001b[0;36mBaseGrouper._cython_operation\u001b[0;34m(self, kind, values, how, axis, min_count, **kwargs)\u001b[0m\n\u001b[1;32m    958\u001b[0m ngroups \u001b[39m=\u001b[39m \u001b[39mself\u001b[39m\u001b[39m.\u001b[39mngroups\n\u001b[0;32m--> 959\u001b[0m \u001b[39mreturn\u001b[39;00m cy_op\u001b[39m.\u001b[39;49mcython_operation(\n\u001b[1;32m    960\u001b[0m     values\u001b[39m=\u001b[39;49mvalues,\n\u001b[1;32m    961\u001b[0m     axis\u001b[39m=\u001b[39;49maxis,\n\u001b[1;32m    962\u001b[0m     min_count\u001b[39m=\u001b[39;49mmin_count,\n\u001b[1;32m    963\u001b[0m     comp_ids\u001b[39m=\u001b[39;49mids,\n\u001b[1;32m    964\u001b[0m     ngroups\u001b[39m=\u001b[39;49mngroups,\n\u001b[1;32m    965\u001b[0m     \u001b[39m*\u001b[39;49m\u001b[39m*\u001b[39;49mkwargs,\n\u001b[1;32m    966\u001b[0m )\n",
      "File \u001b[0;32m~/opt/miniconda3/envs/SETU/lib/python3.11/site-packages/pandas/core/groupby/ops.py:657\u001b[0m, in \u001b[0;36mWrappedCythonOp.cython_operation\u001b[0;34m(self, values, axis, min_count, comp_ids, ngroups, **kwargs)\u001b[0m\n\u001b[1;32m    649\u001b[0m     \u001b[39mreturn\u001b[39;00m \u001b[39mself\u001b[39m\u001b[39m.\u001b[39m_ea_wrap_cython_operation(\n\u001b[1;32m    650\u001b[0m         values,\n\u001b[1;32m    651\u001b[0m         min_count\u001b[39m=\u001b[39mmin_count,\n\u001b[0;32m   (...)\u001b[0m\n\u001b[1;32m    654\u001b[0m         \u001b[39m*\u001b[39m\u001b[39m*\u001b[39mkwargs,\n\u001b[1;32m    655\u001b[0m     )\n\u001b[0;32m--> 657\u001b[0m \u001b[39mreturn\u001b[39;00m \u001b[39mself\u001b[39;49m\u001b[39m.\u001b[39;49m_cython_op_ndim_compat(\n\u001b[1;32m    658\u001b[0m     values,\n\u001b[1;32m    659\u001b[0m     min_count\u001b[39m=\u001b[39;49mmin_count,\n\u001b[1;32m    660\u001b[0m     ngroups\u001b[39m=\u001b[39;49mngroups,\n\u001b[1;32m    661\u001b[0m     comp_ids\u001b[39m=\u001b[39;49mcomp_ids,\n\u001b[1;32m    662\u001b[0m     mask\u001b[39m=\u001b[39;49m\u001b[39mNone\u001b[39;49;00m,\n\u001b[1;32m    663\u001b[0m     \u001b[39m*\u001b[39;49m\u001b[39m*\u001b[39;49mkwargs,\n\u001b[1;32m    664\u001b[0m )\n",
      "File \u001b[0;32m~/opt/miniconda3/envs/SETU/lib/python3.11/site-packages/pandas/core/groupby/ops.py:497\u001b[0m, in \u001b[0;36mWrappedCythonOp._cython_op_ndim_compat\u001b[0;34m(self, values, min_count, ngroups, comp_ids, mask, result_mask, **kwargs)\u001b[0m\n\u001b[1;32m    495\u001b[0m     \u001b[39mreturn\u001b[39;00m res\u001b[39m.\u001b[39mT\n\u001b[0;32m--> 497\u001b[0m \u001b[39mreturn\u001b[39;00m \u001b[39mself\u001b[39;49m\u001b[39m.\u001b[39;49m_call_cython_op(\n\u001b[1;32m    498\u001b[0m     values,\n\u001b[1;32m    499\u001b[0m     min_count\u001b[39m=\u001b[39;49mmin_count,\n\u001b[1;32m    500\u001b[0m     ngroups\u001b[39m=\u001b[39;49mngroups,\n\u001b[1;32m    501\u001b[0m     comp_ids\u001b[39m=\u001b[39;49mcomp_ids,\n\u001b[1;32m    502\u001b[0m     mask\u001b[39m=\u001b[39;49mmask,\n\u001b[1;32m    503\u001b[0m     result_mask\u001b[39m=\u001b[39;49mresult_mask,\n\u001b[1;32m    504\u001b[0m     \u001b[39m*\u001b[39;49m\u001b[39m*\u001b[39;49mkwargs,\n\u001b[1;32m    505\u001b[0m )\n",
      "File \u001b[0;32m~/opt/miniconda3/envs/SETU/lib/python3.11/site-packages/pandas/core/groupby/ops.py:541\u001b[0m, in \u001b[0;36mWrappedCythonOp._call_cython_op\u001b[0;34m(self, values, min_count, ngroups, comp_ids, mask, result_mask, **kwargs)\u001b[0m\n\u001b[1;32m    540\u001b[0m out_shape \u001b[39m=\u001b[39m \u001b[39mself\u001b[39m\u001b[39m.\u001b[39m_get_output_shape(ngroups, values)\n\u001b[0;32m--> 541\u001b[0m func \u001b[39m=\u001b[39m \u001b[39mself\u001b[39;49m\u001b[39m.\u001b[39;49m_get_cython_function(\u001b[39mself\u001b[39;49m\u001b[39m.\u001b[39;49mkind, \u001b[39mself\u001b[39;49m\u001b[39m.\u001b[39;49mhow, values\u001b[39m.\u001b[39;49mdtype, is_numeric)\n\u001b[1;32m    542\u001b[0m values \u001b[39m=\u001b[39m \u001b[39mself\u001b[39m\u001b[39m.\u001b[39m_get_cython_vals(values)\n",
      "File \u001b[0;32m~/opt/miniconda3/envs/SETU/lib/python3.11/site-packages/pandas/core/groupby/ops.py:173\u001b[0m, in \u001b[0;36mWrappedCythonOp._get_cython_function\u001b[0;34m(cls, kind, how, dtype, is_numeric)\u001b[0m\n\u001b[1;32m    171\u001b[0m \u001b[39mif\u001b[39;00m \u001b[39m\"\u001b[39m\u001b[39mobject\u001b[39m\u001b[39m\"\u001b[39m \u001b[39mnot\u001b[39;00m \u001b[39min\u001b[39;00m f\u001b[39m.\u001b[39m__signatures__:\n\u001b[1;32m    172\u001b[0m     \u001b[39m# raise NotImplementedError here rather than TypeError later\u001b[39;00m\n\u001b[0;32m--> 173\u001b[0m     \u001b[39mraise\u001b[39;00m \u001b[39mNotImplementedError\u001b[39;00m(\n\u001b[1;32m    174\u001b[0m         \u001b[39mf\u001b[39m\u001b[39m\"\u001b[39m\u001b[39mfunction is not implemented for this dtype: \u001b[39m\u001b[39m\"\u001b[39m\n\u001b[1;32m    175\u001b[0m         \u001b[39mf\u001b[39m\u001b[39m\"\u001b[39m\u001b[39m[how->\u001b[39m\u001b[39m{\u001b[39;00mhow\u001b[39m}\u001b[39;00m\u001b[39m,dtype->\u001b[39m\u001b[39m{\u001b[39;00mdtype_str\u001b[39m}\u001b[39;00m\u001b[39m]\u001b[39m\u001b[39m\"\u001b[39m\n\u001b[1;32m    176\u001b[0m     )\n\u001b[1;32m    177\u001b[0m \u001b[39mreturn\u001b[39;00m f\n",
      "\u001b[0;31mNotImplementedError\u001b[0m: function is not implemented for this dtype: [how->mean,dtype->object]",
      "\nDuring handling of the above exception, another exception occurred:\n",
      "\u001b[0;31mValueError\u001b[0m                                Traceback (most recent call last)",
      "File \u001b[0;32m~/opt/miniconda3/envs/SETU/lib/python3.11/site-packages/pandas/core/nanops.py:1692\u001b[0m, in \u001b[0;36m_ensure_numeric\u001b[0;34m(x)\u001b[0m\n\u001b[1;32m   1691\u001b[0m \u001b[39mtry\u001b[39;00m:\n\u001b[0;32m-> 1692\u001b[0m     x \u001b[39m=\u001b[39m \u001b[39mfloat\u001b[39m(x)\n\u001b[1;32m   1693\u001b[0m \u001b[39mexcept\u001b[39;00m (\u001b[39mTypeError\u001b[39;00m, \u001b[39mValueError\u001b[39;00m):\n\u001b[1;32m   1694\u001b[0m     \u001b[39m# e.g. \"1+1j\" or \"foo\"\u001b[39;00m\n",
      "\u001b[0;31mValueError\u001b[0m: could not convert string to float: 'churchtownnewcastle westsalthillportlawbuncranadublin 16cabraleixlipnew rosslucancarrigtwohillnenaghdunboynekerry pikenaasdalkeycarrigalineartanenaascabranavanashbourneclonakiltysandymountdublin 12clonsillaclondalkinmitchelstowncaherciveenrahenydundalkpalmerstownbalbrigganlucanstepasidefinglascastleknockdublin 3birrkilbegganbirrportumnadouglasashbourneterenureashtowncrosshavenoldcastlebandondublin 16ballincolligratoathcastletroylucantallaghtdublin 9mullingarsandymountclonsillalismorekinsalekellsedenderrysandyfordmaynoothcabradooradoylebraydroghedadublin 6douglasheadford rdtraleedublin 5letterkennystepasideclonsillamountmellickballinasloekanturkthurlesdublin 11rathkealemountrathdunfanaghytraleetubbercurrynewportbraymurroefernscrosshavenrathdowneyrathdowneydublin 15letterkennydundalkswordsdublin 8douglasclogherheadkillarneyglanmirewiltonnewbridgetempleogueashtownashbournedrimnaghdublin 7tallaghtathytullamorestillorganrahoonclifdenskerriesgoreyratoathkinsaledublin 13rochestowndrumcondradroghedaclonsillaclontarfletterkennycastleknockdublin 12mullingarportlaoisedublin 8monkstownknocklyonmalahidemonasterevindublin 16dublin 3dublin 9drumcondradublin 4dublin 14mullingarmalahidekilcooleturners crosskilcooleartanefinglasswordsswordsclonmeldublin 3blackrockclontarfdroghedamaynoothdublin 15cashelportlaoisekillarneyshankillblackrockcastleknockbraycarrigtwohillballyconnellcourtownballinasloeheadforddungarvandunmore eastennis rdmohillkilmacthomasballinasloeclanenaasjohnswell rdstrandhillmullingarmullingarcarndonaghheadfordkilcooleskerriesblarneydublin rdarklowsandyfordtullamoreskerriesballincolligdundrumdublin 24rathnewdungarvanmurroestillorgancastleknocklucankillarneydublin 15clanecarburyglasnevinrenmoremonaleendublin 7ashbournekilmallockdundrumclonmelkilleaghlucancorballycabinteelyshankillmulgannonblackrockdublin 4celbridgemalahidetallaghtrosslare strandnewbridgebunclodyarklowballaghaderreentraleeclonmelcallandundalkcahirthurlesportarlingtonachillmullingardouglasdroghedaclonsillatempleoguedublin 13kilcullendouglasdublin 14dublin 9dublin 8swordscelbridgecarrigalinecarrigtwohillmaynoothbruffdublin 7maynoothcharlevilleadamstownleixlipportlaoisecarrigtwohilldundalkluskmaynoothlehenaghbegcarrigalinedun laoghairemidletonkillucanmalahideletterkennylaytowndublin 11tallaghtballinteerathymalahidedundalkdundalkdublin 12knocklyondalkeyennistempleoguecrumlindungarvanannacottykillorglinnew rossportlaoisebalbriggankilkeeletterkennydublin 4trimmoycullenlucanmoatemalahideblackrockmaynoothnavanbundorankillineydublin 13mallowathloneballyshannontuambaltinglassrathangankillarneykillorglintraleekilmallockdalkeykillarneykinsalemountmellickportlaoisesandymountroscrearoscreafernslistowelnaasathyblackrocknaasnewbridgedublin 5dublin 3mullingarcloneedonabateswordsnewbridgenewbridgedublin 12barnafernscelbridgebrayleixlipdroghedatuamclonmeldouglasknocklyonnenaghenniscorthyshankilldublin 15tramorefermoydublin 6corballycastletroydublin 24crumlincarrigalinesummerhillrathminestallaghtdelganymallowdublin 24mallowkinsalenavanroscreacastleknockluskcelbridgedingletramorenewcastleraheenclonsillabelturbettraleeglanmirekilmallocksandycovekillarneyfinglasmullingartallaghtblanchardstownwestportdublin 15monasterevinrathfarnhammullaghkellsfernsnenaghmungretblackrockblackrockwiltonmonasterevinenfieldknocknacarrabrayballyvolanetogherdroghedacarrickminescabinteelyathloneballintemplecarrigalinetramorewalkinstownloughreadublin 24balbriggandrumcondradublin 9templeoguegreystonesashbournegreystonessaggarttempleoguebalbriggandublin 9killarneytramoresantrylaytowndelganyletterkennydublin 7passage westdublin 3terenureclanenewbridgeportlaoisestepasidenavancelbridgerathfarnhamglasnevindublin 8mullingardublin 24dungarvanleopardstownballycullentullowdublin 10loughreatullowoughterardcarrigtwohillranelaghknocklyonfinglaslongwooddublin 11bundoranblackrocktraleekilworthrathfarnhampassage westnewbridgeknocklyonblackrockdublin 4clontarfdublin 8rathangancootehillballyhauniskenmarekinsalekillarneykilmallockcraughwellrathfarnhamcastlecomercelbridgecarrigalinecastlebarportlaoisedooradoylestradballyfethardskerriesenniskerrypiltownloughreamullingarclaregalwayclaneleopardstownlucandublin 7rathcooletemplemoreclonmelrathfarnhamrahenyclonmelnaasballyfermotcarrigalinetermonfeckintrimroscamdublin 22midletonkillaloenenaghballincolligkillarneybalbriggancorballyclontarfmoatedrumcondracastleconnelldroghedablackrockthurlesmodel farm rdportlaoisemallowcarburynavanrosslareloughreamulgannonlistoweltraleevirginiasandycoveknocknacarrawestportcarrickmacrosswestportcarrickmacrossdundalkcloughjordanbagenalstowntullamorekillorglinkilkeeenfieldcastletroytramorelucanlusknewbridgerialtotraleeportlaoisedrumshanboglanmireroscreaballincolligkilkeeportlaoiseathloneclontarfrathgarleopardstowngoreyrushkillarneyfernstramoredublin 17droghedanewcastlewestbettystownletterkennydublin 15enniscashelkinsalestepasidedublin 15rahenynewcastlecrumlinennisovensnewcastle westcelbridgeballyjamesduffbettystownenfieldrathmoreballincollignenaghlistowelbaltimoredunleerenniscorthycashelmohillgoreyballincolliglistowelbantrynewmarketmohillnenaghdouglasdundrumashbournesalthillballymotemalahidecastletroygoreydublin 15adamstownblackrockclonsillatullowballinaghdublin 16dublin 7dungarvannaasdundalkleopardstowncarrickmacrossthomastownardeeshannonblackrockballincolligmullingarnaasgrangeknocklyongoreynewbridgedublin 18leixlipnenaghdublin 8crumlinenniscroneleixlipdrimnaghfermoynewcastle westfoxwooddungarvanadamstowndungarvanclonskeaghadamstownclondalkinbuncranaashbournedublin 11dublin 11castleknocksantryschulledenderrygoreytraleeclaremorriskillineyrathmineskinsaledromodboyleclondalkinnew rossadamstownnewmarket on fergusballsbridgesandymountdublin 15ardeedublin 24portlaoiseballyfermotdublin 24dublin 16tallaghtportlawdublin 12newportdublin 11blackrockrathangandublin 16tallaghtdundrumfoxrockdublin 9blackrockathyballinaghraheenmalahidemalahideblackrockmonkstownswordsmullingarashtownnaastullowmidletonnavanballybracktallaghtnewbridgerathnewmallowheadford rdbundoranloughreamalahidebalbriggandublin 22suttondunboynenenaghelphinmaynoothtraleeathenrypiltowntullamorecoolaneykinvaradouglasratoathkinsaleballymoterathminescarrigalineadamstowndroghedakillucanardeearklowashbourneclonmelnaasdublin 14tullamorebalbriggandublin 16kilcooledoneraileathenrycourtownmayfieldwalkinstownnavanlongwoodmilltownclonskeaghballincollignenaghliffordmurroekilbeggandublin 15douglasoranmorecarrigalineoranmorekillineydundalknaasmullingarskerriesgoreydouglasathlonedublin 13swordsnew rossnew rossportmarnockrathfarnhamterenurebalbrigganartanecloynecharlevilleenniscorthyschullcraughwellcootehillmullingarkinvaraballinasloerochestownnavanglasnevinballinteerkillarneymalahideknocklyonnaasballincolligenniscorthytraleerushroscreamitchelstowncobhyoughalcastleknockswordsfermoyblanchardstowndublin 15dundrumbrayranelaghstepasideoughterardportarlingtongreystonescarndonaghcastleislandschullkillarneygoreyrochestowndundalkcork cityrathangansummerhillashbournewatervillecabinteelyrathdowneyglanmirecabinteelynewbridgerathcooleaughrimstillorganfinglasgoreyblackrockballyconnelldublin 11balbriggandublin 3castletroyballsbridgeashbournelucanmullingarovensblanchardstownletterkennysaggartswordsdublin 12glanmirenavandroghedamountmellickknocklyoncelbridgerathfarnhamashtownbrayportlaoiseabbeyleixdublin 15dublin 15skerriesdublin 24mullaghnavangreystonesknocklyondublin 24mallowennisdublin 7lucanportlaoisestepasideclonsillacarrigalinerathfarnhamclondalkinathloneknocknacarrastepasidecabinteelytempleoguefinglasbantrysandyfordstamullenstamullennaasswordscabrablackrockleixlipbantrydublin 15adamstownglenagearymalahidetullamorebalbriggantallaghtdinglelucannaasrooskeydublin 13mountmellickenniscloneebraybraycarrigtwohilldundalkkilcullencelbridgejohnswell rdashbournebraysandymountrushgoreyballyhaunisrushrathfarnhamrosslarecappoquinnew rossswinfordkenmarecastletownberedundrumballinafernskellscahirmullingarmullingarathenryrahenykillorglinmallowmullingarglanmiredublin 9droghedatullowdooradoyleathloneknocklyonsuttonnewcastlewestdouglasglanmiremountmellickdunleerbraytempleogueblessingtonnewbridgeennismullingarcastleknocklucanbalgriffindublin 3dublin 12dublin 7artanekilmallockportlaoiseballybunionkillaloeheadfordbirrdouglasdrumcondrarathfarnhamblackrockdouglascobhnavanmalahidedublin 15dublin 14dublin 13waterford cityedgeworthstowncarrigtwohilldublin 6kilcooleblackrockcharlestownnewcastlefinglasdundalknenaghchurchtowntullowdundalkdroghedanavandublin 18midletonglasnevindonerailecastleblayneynewportclaregalwaytemplemorekellskellscoolaneytemplemoreedgeworthstownloughreaathykilmallockkilmallockkilmallockgoreylucanmaynoothrochestowncrumlindublin 9knocknacarrapiltowngraiguecullendrumcondraballinasloefinglasblackrockmidletonashtowncelbridgesantryportmarnockdublin 15trimtullamorehowthdublin 11clondalkinashtownwatergrasshilldouglasmalahideballinteercrumlindublin 12dublin 4delvinabbeyfealebrufftuamdingleblackwaternavanrathanganadarewestportnenaghcarrickmacrossdunboynebalbrigganartanedublin 5sandyforddublin 6wdunboynedublin 11rushdublin 6wshankilldublin 22tullowdublin 14nenaghlucanswordsdublin 7dublin rdslanedublin 3dublin 13clontarfchurchtownclontarfletterkennyadamstownsandyfordlucandublin 12howthportlaoisedonabatenavandublin 11thomastowntraleeblackpoolathboymidletoncarrickmacrossletterkennykilmallocksandymountclonmelkillineyclonmelblackrockballinaghdublin 15leixlipdalkeytallaghtmalahiderochestownnewbridgetullamoreroscamglasnevindublin 12balgriffincobhbooterstownadamstownterenurebalbrigganstillorganenniscorthycarrigalineballinteercarrickmacrosstallaghtgreystonesswordsdublin 15swordsdublin 4dublin 24dublin 8balbrigganenniscorthyskerriesblanchardstowndublin 3dublin 9santryportarlingtonshankilldalkeynenaghlucandublin 15santrykillmonkstowntuamlucankilkeeclonskeaghcastleblayneydublin 22tullamoreclanedublin 12duleektrimsantrydrimnaghdrumcondracourtowncarrigtwohilldublin 24traleemulgannoncarrickminesswordstrimrathkealemullingarroscreaenniscorthyskerriestraleelaytownlaytownlaytownkillarneyballyhaunisrosslare strandennisathytrimdroghedamacroomsandycovemullingarballyshannonportmarnockcastletroy'",
      "\nDuring handling of the above exception, another exception occurred:\n",
      "\u001b[0;31mValueError\u001b[0m                                Traceback (most recent call last)",
      "File \u001b[0;32m~/opt/miniconda3/envs/SETU/lib/python3.11/site-packages/pandas/core/nanops.py:1696\u001b[0m, in \u001b[0;36m_ensure_numeric\u001b[0;34m(x)\u001b[0m\n\u001b[1;32m   1695\u001b[0m \u001b[39mtry\u001b[39;00m:\n\u001b[0;32m-> 1696\u001b[0m     x \u001b[39m=\u001b[39m \u001b[39mcomplex\u001b[39;49m(x)\n\u001b[1;32m   1697\u001b[0m \u001b[39mexcept\u001b[39;00m \u001b[39mValueError\u001b[39;00m \u001b[39mas\u001b[39;00m err:\n\u001b[1;32m   1698\u001b[0m     \u001b[39m# e.g. \"foo\"\u001b[39;00m\n",
      "\u001b[0;31mValueError\u001b[0m: complex() arg is a malformed string",
      "\nThe above exception was the direct cause of the following exception:\n",
      "\u001b[0;31mTypeError\u001b[0m                                 Traceback (most recent call last)",
      "\u001b[1;32m/Users/pratik/Github/Ireland-PPR/Algorithms.ipynb Cell 15\u001b[0m in \u001b[0;36m7\n\u001b[1;32m      <a href='vscode-notebook-cell:/Users/pratik/Github/Ireland-PPR/Algorithms.ipynb#X16sZmlsZQ%3D%3D?line=3'>4</a>\u001b[0m df \u001b[39m=\u001b[39m df\u001b[39m.\u001b[39mset_index(\u001b[39m'\u001b[39m\u001b[39mDate\u001b[39m\u001b[39m'\u001b[39m)\n\u001b[1;32m      <a href='vscode-notebook-cell:/Users/pratik/Github/Ireland-PPR/Algorithms.ipynb#X16sZmlsZQ%3D%3D?line=5'>6</a>\u001b[0m \u001b[39m# Group the data by month and calculate the mean price\u001b[39;00m\n\u001b[0;32m----> <a href='vscode-notebook-cell:/Users/pratik/Github/Ireland-PPR/Algorithms.ipynb#X16sZmlsZQ%3D%3D?line=6'>7</a>\u001b[0m df_monthly \u001b[39m=\u001b[39m df\u001b[39m.\u001b[39;49mresample(\u001b[39m'\u001b[39;49m\u001b[39mMS\u001b[39;49m\u001b[39m'\u001b[39;49m)\u001b[39m.\u001b[39;49mmean()\n\u001b[1;32m      <a href='vscode-notebook-cell:/Users/pratik/Github/Ireland-PPR/Algorithms.ipynb#X16sZmlsZQ%3D%3D?line=8'>9</a>\u001b[0m \u001b[39m# Split the data into training and testing sets\u001b[39;00m\n\u001b[1;32m     <a href='vscode-notebook-cell:/Users/pratik/Github/Ireland-PPR/Algorithms.ipynb#X16sZmlsZQ%3D%3D?line=9'>10</a>\u001b[0m train \u001b[39m=\u001b[39m df_monthly\u001b[39m.\u001b[39mloc[:\u001b[39m'\u001b[39m\u001b[39m2021-06-01\u001b[39m\u001b[39m'\u001b[39m, \u001b[39m'\u001b[39m\u001b[39mPrice\u001b[39m\u001b[39m'\u001b[39m]\n",
      "File \u001b[0;32m~/opt/miniconda3/envs/SETU/lib/python3.11/site-packages/pandas/core/resample.py:979\u001b[0m, in \u001b[0;36mResampler.mean\u001b[0;34m(self, numeric_only, *args, **kwargs)\u001b[0m\n\u001b[1;32m    977\u001b[0m maybe_warn_args_and_kwargs(\u001b[39mtype\u001b[39m(\u001b[39mself\u001b[39m), \u001b[39m\"\u001b[39m\u001b[39mmean\u001b[39m\u001b[39m\"\u001b[39m, args, kwargs)\n\u001b[1;32m    978\u001b[0m nv\u001b[39m.\u001b[39mvalidate_resampler_func(\u001b[39m\"\u001b[39m\u001b[39mmean\u001b[39m\u001b[39m\"\u001b[39m, args, kwargs)\n\u001b[0;32m--> 979\u001b[0m \u001b[39mreturn\u001b[39;00m \u001b[39mself\u001b[39;49m\u001b[39m.\u001b[39;49m_downsample(\u001b[39m\"\u001b[39;49m\u001b[39mmean\u001b[39;49m\u001b[39m\"\u001b[39;49m, numeric_only\u001b[39m=\u001b[39;49mnumeric_only)\n",
      "File \u001b[0;32m~/opt/miniconda3/envs/SETU/lib/python3.11/site-packages/pandas/core/resample.py:1297\u001b[0m, in \u001b[0;36mDatetimeIndexResampler._downsample\u001b[0;34m(self, how, **kwargs)\u001b[0m\n\u001b[1;32m   1293\u001b[0m     \u001b[39mreturn\u001b[39;00m \u001b[39mself\u001b[39m\u001b[39m.\u001b[39masfreq()\n\u001b[1;32m   1295\u001b[0m \u001b[39m# we are downsampling\u001b[39;00m\n\u001b[1;32m   1296\u001b[0m \u001b[39m# we want to call the actual grouper method here\u001b[39;00m\n\u001b[0;32m-> 1297\u001b[0m result \u001b[39m=\u001b[39m obj\u001b[39m.\u001b[39;49mgroupby(\u001b[39mself\u001b[39;49m\u001b[39m.\u001b[39;49mgrouper, axis\u001b[39m=\u001b[39;49m\u001b[39mself\u001b[39;49m\u001b[39m.\u001b[39;49maxis)\u001b[39m.\u001b[39;49maggregate(how, \u001b[39m*\u001b[39;49m\u001b[39m*\u001b[39;49mkwargs)\n\u001b[1;32m   1299\u001b[0m \u001b[39mreturn\u001b[39;00m \u001b[39mself\u001b[39m\u001b[39m.\u001b[39m_wrap_result(result)\n",
      "File \u001b[0;32m~/opt/miniconda3/envs/SETU/lib/python3.11/site-packages/pandas/core/groupby/generic.py:1271\u001b[0m, in \u001b[0;36mDataFrameGroupBy.aggregate\u001b[0;34m(self, func, engine, engine_kwargs, *args, **kwargs)\u001b[0m\n\u001b[1;32m   1268\u001b[0m func \u001b[39m=\u001b[39m maybe_mangle_lambdas(func)\n\u001b[1;32m   1270\u001b[0m op \u001b[39m=\u001b[39m GroupByApply(\u001b[39mself\u001b[39m, func, args, kwargs)\n\u001b[0;32m-> 1271\u001b[0m result \u001b[39m=\u001b[39m op\u001b[39m.\u001b[39;49magg()\n\u001b[1;32m   1272\u001b[0m \u001b[39mif\u001b[39;00m \u001b[39mnot\u001b[39;00m is_dict_like(func) \u001b[39mand\u001b[39;00m result \u001b[39mis\u001b[39;00m \u001b[39mnot\u001b[39;00m \u001b[39mNone\u001b[39;00m:\n\u001b[1;32m   1273\u001b[0m     \u001b[39mreturn\u001b[39;00m result\n",
      "File \u001b[0;32m~/opt/miniconda3/envs/SETU/lib/python3.11/site-packages/pandas/core/apply.py:160\u001b[0m, in \u001b[0;36mApply.agg\u001b[0;34m(self)\u001b[0m\n\u001b[1;32m    157\u001b[0m kwargs \u001b[39m=\u001b[39m \u001b[39mself\u001b[39m\u001b[39m.\u001b[39mkwargs\n\u001b[1;32m    159\u001b[0m \u001b[39mif\u001b[39;00m \u001b[39misinstance\u001b[39m(arg, \u001b[39mstr\u001b[39m):\n\u001b[0;32m--> 160\u001b[0m     \u001b[39mreturn\u001b[39;00m \u001b[39mself\u001b[39;49m\u001b[39m.\u001b[39;49mapply_str()\n\u001b[1;32m    162\u001b[0m \u001b[39mif\u001b[39;00m is_dict_like(arg):\n\u001b[1;32m    163\u001b[0m     \u001b[39mreturn\u001b[39;00m \u001b[39mself\u001b[39m\u001b[39m.\u001b[39magg_dict_like()\n",
      "File \u001b[0;32m~/opt/miniconda3/envs/SETU/lib/python3.11/site-packages/pandas/core/apply.py:496\u001b[0m, in \u001b[0;36mApply.apply_str\u001b[0;34m(self)\u001b[0m\n\u001b[1;32m    494\u001b[0m     \u001b[39mif\u001b[39;00m \u001b[39m\"\u001b[39m\u001b[39maxis\u001b[39m\u001b[39m\"\u001b[39m \u001b[39min\u001b[39;00m arg_names:\n\u001b[1;32m    495\u001b[0m         \u001b[39mself\u001b[39m\u001b[39m.\u001b[39mkwargs[\u001b[39m\"\u001b[39m\u001b[39maxis\u001b[39m\u001b[39m\"\u001b[39m] \u001b[39m=\u001b[39m \u001b[39mself\u001b[39m\u001b[39m.\u001b[39maxis\n\u001b[0;32m--> 496\u001b[0m \u001b[39mreturn\u001b[39;00m \u001b[39mself\u001b[39;49m\u001b[39m.\u001b[39;49m_try_aggregate_string_function(obj, f, \u001b[39m*\u001b[39;49m\u001b[39mself\u001b[39;49m\u001b[39m.\u001b[39;49margs, \u001b[39m*\u001b[39;49m\u001b[39m*\u001b[39;49m\u001b[39mself\u001b[39;49m\u001b[39m.\u001b[39;49mkwargs)\n",
      "File \u001b[0;32m~/opt/miniconda3/envs/SETU/lib/python3.11/site-packages/pandas/core/apply.py:565\u001b[0m, in \u001b[0;36mApply._try_aggregate_string_function\u001b[0;34m(self, obj, arg, *args, **kwargs)\u001b[0m\n\u001b[1;32m    563\u001b[0m \u001b[39mif\u001b[39;00m f \u001b[39mis\u001b[39;00m \u001b[39mnot\u001b[39;00m \u001b[39mNone\u001b[39;00m:\n\u001b[1;32m    564\u001b[0m     \u001b[39mif\u001b[39;00m callable(f):\n\u001b[0;32m--> 565\u001b[0m         \u001b[39mreturn\u001b[39;00m f(\u001b[39m*\u001b[39;49margs, \u001b[39m*\u001b[39;49m\u001b[39m*\u001b[39;49mkwargs)\n\u001b[1;32m    567\u001b[0m     \u001b[39m# people may try to aggregate on a non-callable attribute\u001b[39;00m\n\u001b[1;32m    568\u001b[0m     \u001b[39m# but don't let them think they can pass args to it\u001b[39;00m\n\u001b[1;32m    569\u001b[0m     \u001b[39massert\u001b[39;00m \u001b[39mlen\u001b[39m(args) \u001b[39m==\u001b[39m \u001b[39m0\u001b[39m\n",
      "File \u001b[0;32m~/opt/miniconda3/envs/SETU/lib/python3.11/site-packages/pandas/core/groupby/groupby.py:1855\u001b[0m, in \u001b[0;36mGroupBy.mean\u001b[0;34m(self, numeric_only, engine, engine_kwargs)\u001b[0m\n\u001b[1;32m   1853\u001b[0m     \u001b[39mreturn\u001b[39;00m \u001b[39mself\u001b[39m\u001b[39m.\u001b[39m_numba_agg_general(sliding_mean, engine_kwargs)\n\u001b[1;32m   1854\u001b[0m \u001b[39melse\u001b[39;00m:\n\u001b[0;32m-> 1855\u001b[0m     result \u001b[39m=\u001b[39m \u001b[39mself\u001b[39;49m\u001b[39m.\u001b[39;49m_cython_agg_general(\n\u001b[1;32m   1856\u001b[0m         \u001b[39m\"\u001b[39;49m\u001b[39mmean\u001b[39;49m\u001b[39m\"\u001b[39;49m,\n\u001b[1;32m   1857\u001b[0m         alt\u001b[39m=\u001b[39;49m\u001b[39mlambda\u001b[39;49;00m x: Series(x)\u001b[39m.\u001b[39;49mmean(numeric_only\u001b[39m=\u001b[39;49mnumeric_only),\n\u001b[1;32m   1858\u001b[0m         numeric_only\u001b[39m=\u001b[39;49mnumeric_only,\n\u001b[1;32m   1859\u001b[0m     )\n\u001b[1;32m   1860\u001b[0m     \u001b[39mreturn\u001b[39;00m result\u001b[39m.\u001b[39m__finalize__(\u001b[39mself\u001b[39m\u001b[39m.\u001b[39mobj, method\u001b[39m=\u001b[39m\u001b[39m\"\u001b[39m\u001b[39mgroupby\u001b[39m\u001b[39m\"\u001b[39m)\n",
      "File \u001b[0;32m~/opt/miniconda3/envs/SETU/lib/python3.11/site-packages/pandas/core/groupby/groupby.py:1507\u001b[0m, in \u001b[0;36mGroupBy._cython_agg_general\u001b[0;34m(self, how, alt, numeric_only, min_count, **kwargs)\u001b[0m\n\u001b[1;32m   1503\u001b[0m         result \u001b[39m=\u001b[39m \u001b[39mself\u001b[39m\u001b[39m.\u001b[39m_agg_py_fallback(values, ndim\u001b[39m=\u001b[39mdata\u001b[39m.\u001b[39mndim, alt\u001b[39m=\u001b[39malt)\n\u001b[1;32m   1505\u001b[0m     \u001b[39mreturn\u001b[39;00m result\n\u001b[0;32m-> 1507\u001b[0m new_mgr \u001b[39m=\u001b[39m data\u001b[39m.\u001b[39;49mgrouped_reduce(array_func)\n\u001b[1;32m   1508\u001b[0m res \u001b[39m=\u001b[39m \u001b[39mself\u001b[39m\u001b[39m.\u001b[39m_wrap_agged_manager(new_mgr)\n\u001b[1;32m   1509\u001b[0m out \u001b[39m=\u001b[39m \u001b[39mself\u001b[39m\u001b[39m.\u001b[39m_wrap_aggregated_output(res)\n",
      "File \u001b[0;32m~/opt/miniconda3/envs/SETU/lib/python3.11/site-packages/pandas/core/internals/managers.py:1503\u001b[0m, in \u001b[0;36mBlockManager.grouped_reduce\u001b[0;34m(self, func)\u001b[0m\n\u001b[1;32m   1499\u001b[0m \u001b[39mif\u001b[39;00m blk\u001b[39m.\u001b[39mis_object:\n\u001b[1;32m   1500\u001b[0m     \u001b[39m# split on object-dtype blocks bc some columns may raise\u001b[39;00m\n\u001b[1;32m   1501\u001b[0m     \u001b[39m#  while others do not.\u001b[39;00m\n\u001b[1;32m   1502\u001b[0m     \u001b[39mfor\u001b[39;00m sb \u001b[39min\u001b[39;00m blk\u001b[39m.\u001b[39m_split():\n\u001b[0;32m-> 1503\u001b[0m         applied \u001b[39m=\u001b[39m sb\u001b[39m.\u001b[39;49mapply(func)\n\u001b[1;32m   1504\u001b[0m         result_blocks \u001b[39m=\u001b[39m extend_blocks(applied, result_blocks)\n\u001b[1;32m   1505\u001b[0m \u001b[39melse\u001b[39;00m:\n",
      "File \u001b[0;32m~/opt/miniconda3/envs/SETU/lib/python3.11/site-packages/pandas/core/internals/blocks.py:329\u001b[0m, in \u001b[0;36mBlock.apply\u001b[0;34m(self, func, **kwargs)\u001b[0m\n\u001b[1;32m    323\u001b[0m \u001b[39m@final\u001b[39m\n\u001b[1;32m    324\u001b[0m \u001b[39mdef\u001b[39;00m \u001b[39mapply\u001b[39m(\u001b[39mself\u001b[39m, func, \u001b[39m*\u001b[39m\u001b[39m*\u001b[39mkwargs) \u001b[39m-\u001b[39m\u001b[39m>\u001b[39m \u001b[39mlist\u001b[39m[Block]:\n\u001b[1;32m    325\u001b[0m     \u001b[39m\"\"\"\u001b[39;00m\n\u001b[1;32m    326\u001b[0m \u001b[39m    apply the function to my values; return a block if we are not\u001b[39;00m\n\u001b[1;32m    327\u001b[0m \u001b[39m    one\u001b[39;00m\n\u001b[1;32m    328\u001b[0m \u001b[39m    \"\"\"\u001b[39;00m\n\u001b[0;32m--> 329\u001b[0m     result \u001b[39m=\u001b[39m func(\u001b[39mself\u001b[39;49m\u001b[39m.\u001b[39;49mvalues, \u001b[39m*\u001b[39;49m\u001b[39m*\u001b[39;49mkwargs)\n\u001b[1;32m    331\u001b[0m     \u001b[39mreturn\u001b[39;00m \u001b[39mself\u001b[39m\u001b[39m.\u001b[39m_split_op_result(result)\n",
      "File \u001b[0;32m~/opt/miniconda3/envs/SETU/lib/python3.11/site-packages/pandas/core/groupby/groupby.py:1503\u001b[0m, in \u001b[0;36mGroupBy._cython_agg_general.<locals>.array_func\u001b[0;34m(values)\u001b[0m\n\u001b[1;32m   1490\u001b[0m     result \u001b[39m=\u001b[39m \u001b[39mself\u001b[39m\u001b[39m.\u001b[39mgrouper\u001b[39m.\u001b[39m_cython_operation(\n\u001b[1;32m   1491\u001b[0m         \u001b[39m\"\u001b[39m\u001b[39maggregate\u001b[39m\u001b[39m\"\u001b[39m,\n\u001b[1;32m   1492\u001b[0m         values,\n\u001b[0;32m   (...)\u001b[0m\n\u001b[1;32m   1496\u001b[0m         \u001b[39m*\u001b[39m\u001b[39m*\u001b[39mkwargs,\n\u001b[1;32m   1497\u001b[0m     )\n\u001b[1;32m   1498\u001b[0m \u001b[39mexcept\u001b[39;00m \u001b[39mNotImplementedError\u001b[39;00m:\n\u001b[1;32m   1499\u001b[0m     \u001b[39m# generally if we have numeric_only=False\u001b[39;00m\n\u001b[1;32m   1500\u001b[0m     \u001b[39m# and non-applicable functions\u001b[39;00m\n\u001b[1;32m   1501\u001b[0m     \u001b[39m# try to python agg\u001b[39;00m\n\u001b[1;32m   1502\u001b[0m     \u001b[39m# TODO: shouldn't min_count matter?\u001b[39;00m\n\u001b[0;32m-> 1503\u001b[0m     result \u001b[39m=\u001b[39m \u001b[39mself\u001b[39;49m\u001b[39m.\u001b[39;49m_agg_py_fallback(values, ndim\u001b[39m=\u001b[39;49mdata\u001b[39m.\u001b[39;49mndim, alt\u001b[39m=\u001b[39;49malt)\n\u001b[1;32m   1505\u001b[0m \u001b[39mreturn\u001b[39;00m result\n",
      "File \u001b[0;32m~/opt/miniconda3/envs/SETU/lib/python3.11/site-packages/pandas/core/groupby/groupby.py:1457\u001b[0m, in \u001b[0;36mGroupBy._agg_py_fallback\u001b[0;34m(self, values, ndim, alt)\u001b[0m\n\u001b[1;32m   1452\u001b[0m     ser \u001b[39m=\u001b[39m df\u001b[39m.\u001b[39miloc[:, \u001b[39m0\u001b[39m]\n\u001b[1;32m   1454\u001b[0m \u001b[39m# We do not get here with UDFs, so we know that our dtype\u001b[39;00m\n\u001b[1;32m   1455\u001b[0m \u001b[39m#  should always be preserved by the implemented aggregations\u001b[39;00m\n\u001b[1;32m   1456\u001b[0m \u001b[39m# TODO: Is this exactly right; see WrappedCythonOp get_result_dtype?\u001b[39;00m\n\u001b[0;32m-> 1457\u001b[0m res_values \u001b[39m=\u001b[39m \u001b[39mself\u001b[39;49m\u001b[39m.\u001b[39;49mgrouper\u001b[39m.\u001b[39;49magg_series(ser, alt, preserve_dtype\u001b[39m=\u001b[39;49m\u001b[39mTrue\u001b[39;49;00m)\n\u001b[1;32m   1459\u001b[0m \u001b[39mif\u001b[39;00m \u001b[39misinstance\u001b[39m(values, Categorical):\n\u001b[1;32m   1460\u001b[0m     \u001b[39m# Because we only get here with known dtype-preserving\u001b[39;00m\n\u001b[1;32m   1461\u001b[0m     \u001b[39m#  reductions, we cast back to Categorical.\u001b[39;00m\n\u001b[1;32m   1462\u001b[0m     \u001b[39m# TODO: if we ever get \"rank\" working, exclude it here.\u001b[39;00m\n\u001b[1;32m   1463\u001b[0m     res_values \u001b[39m=\u001b[39m \u001b[39mtype\u001b[39m(values)\u001b[39m.\u001b[39m_from_sequence(res_values, dtype\u001b[39m=\u001b[39mvalues\u001b[39m.\u001b[39mdtype)\n",
      "File \u001b[0;32m~/opt/miniconda3/envs/SETU/lib/python3.11/site-packages/pandas/core/groupby/ops.py:994\u001b[0m, in \u001b[0;36mBaseGrouper.agg_series\u001b[0;34m(self, obj, func, preserve_dtype)\u001b[0m\n\u001b[1;32m    987\u001b[0m \u001b[39mif\u001b[39;00m \u001b[39mlen\u001b[39m(obj) \u001b[39m>\u001b[39m \u001b[39m0\u001b[39m \u001b[39mand\u001b[39;00m \u001b[39mnot\u001b[39;00m \u001b[39misinstance\u001b[39m(obj\u001b[39m.\u001b[39m_values, np\u001b[39m.\u001b[39mndarray):\n\u001b[1;32m    988\u001b[0m     \u001b[39m# we can preserve a little bit more aggressively with EA dtype\u001b[39;00m\n\u001b[1;32m    989\u001b[0m     \u001b[39m#  because maybe_cast_pointwise_result will do a try/except\u001b[39;00m\n\u001b[1;32m    990\u001b[0m     \u001b[39m#  with _from_sequence.  NB we are assuming here that _from_sequence\u001b[39;00m\n\u001b[1;32m    991\u001b[0m     \u001b[39m#  is sufficiently strict that it casts appropriately.\u001b[39;00m\n\u001b[1;32m    992\u001b[0m     preserve_dtype \u001b[39m=\u001b[39m \u001b[39mTrue\u001b[39;00m\n\u001b[0;32m--> 994\u001b[0m result \u001b[39m=\u001b[39m \u001b[39mself\u001b[39;49m\u001b[39m.\u001b[39;49m_aggregate_series_pure_python(obj, func)\n\u001b[1;32m    996\u001b[0m npvalues \u001b[39m=\u001b[39m lib\u001b[39m.\u001b[39mmaybe_convert_objects(result, try_float\u001b[39m=\u001b[39m\u001b[39mFalse\u001b[39;00m)\n\u001b[1;32m    997\u001b[0m \u001b[39mif\u001b[39;00m preserve_dtype:\n",
      "File \u001b[0;32m~/opt/miniconda3/envs/SETU/lib/python3.11/site-packages/pandas/core/groupby/ops.py:1015\u001b[0m, in \u001b[0;36mBaseGrouper._aggregate_series_pure_python\u001b[0;34m(self, obj, func)\u001b[0m\n\u001b[1;32m   1012\u001b[0m splitter \u001b[39m=\u001b[39m \u001b[39mself\u001b[39m\u001b[39m.\u001b[39m_get_splitter(obj, axis\u001b[39m=\u001b[39m\u001b[39m0\u001b[39m)\n\u001b[1;32m   1014\u001b[0m \u001b[39mfor\u001b[39;00m i, group \u001b[39min\u001b[39;00m \u001b[39menumerate\u001b[39m(splitter):\n\u001b[0;32m-> 1015\u001b[0m     res \u001b[39m=\u001b[39m func(group)\n\u001b[1;32m   1016\u001b[0m     res \u001b[39m=\u001b[39m libreduction\u001b[39m.\u001b[39mextract_result(res)\n\u001b[1;32m   1018\u001b[0m     \u001b[39mif\u001b[39;00m \u001b[39mnot\u001b[39;00m initialized:\n\u001b[1;32m   1019\u001b[0m         \u001b[39m# We only do this validation on the first iteration\u001b[39;00m\n",
      "File \u001b[0;32m~/opt/miniconda3/envs/SETU/lib/python3.11/site-packages/pandas/core/groupby/groupby.py:1857\u001b[0m, in \u001b[0;36mGroupBy.mean.<locals>.<lambda>\u001b[0;34m(x)\u001b[0m\n\u001b[1;32m   1853\u001b[0m     \u001b[39mreturn\u001b[39;00m \u001b[39mself\u001b[39m\u001b[39m.\u001b[39m_numba_agg_general(sliding_mean, engine_kwargs)\n\u001b[1;32m   1854\u001b[0m \u001b[39melse\u001b[39;00m:\n\u001b[1;32m   1855\u001b[0m     result \u001b[39m=\u001b[39m \u001b[39mself\u001b[39m\u001b[39m.\u001b[39m_cython_agg_general(\n\u001b[1;32m   1856\u001b[0m         \u001b[39m\"\u001b[39m\u001b[39mmean\u001b[39m\u001b[39m\"\u001b[39m,\n\u001b[0;32m-> 1857\u001b[0m         alt\u001b[39m=\u001b[39m\u001b[39mlambda\u001b[39;00m x: Series(x)\u001b[39m.\u001b[39;49mmean(numeric_only\u001b[39m=\u001b[39;49mnumeric_only),\n\u001b[1;32m   1858\u001b[0m         numeric_only\u001b[39m=\u001b[39mnumeric_only,\n\u001b[1;32m   1859\u001b[0m     )\n\u001b[1;32m   1860\u001b[0m     \u001b[39mreturn\u001b[39;00m result\u001b[39m.\u001b[39m__finalize__(\u001b[39mself\u001b[39m\u001b[39m.\u001b[39mobj, method\u001b[39m=\u001b[39m\u001b[39m\"\u001b[39m\u001b[39mgroupby\u001b[39m\u001b[39m\"\u001b[39m)\n",
      "File \u001b[0;32m~/opt/miniconda3/envs/SETU/lib/python3.11/site-packages/pandas/core/generic.py:11563\u001b[0m, in \u001b[0;36mNDFrame._add_numeric_operations.<locals>.mean\u001b[0;34m(self, axis, skipna, numeric_only, **kwargs)\u001b[0m\n\u001b[1;32m  11546\u001b[0m \u001b[39m@doc\u001b[39m(\n\u001b[1;32m  11547\u001b[0m     _num_doc,\n\u001b[1;32m  11548\u001b[0m     desc\u001b[39m=\u001b[39m\u001b[39m\"\u001b[39m\u001b[39mReturn the mean of the values over the requested axis.\u001b[39m\u001b[39m\"\u001b[39m,\n\u001b[0;32m   (...)\u001b[0m\n\u001b[1;32m  11561\u001b[0m     \u001b[39m*\u001b[39m\u001b[39m*\u001b[39mkwargs,\n\u001b[1;32m  11562\u001b[0m ):\n\u001b[0;32m> 11563\u001b[0m     \u001b[39mreturn\u001b[39;00m NDFrame\u001b[39m.\u001b[39;49mmean(\u001b[39mself\u001b[39;49m, axis, skipna, numeric_only, \u001b[39m*\u001b[39;49m\u001b[39m*\u001b[39;49mkwargs)\n",
      "File \u001b[0;32m~/opt/miniconda3/envs/SETU/lib/python3.11/site-packages/pandas/core/generic.py:11208\u001b[0m, in \u001b[0;36mNDFrame.mean\u001b[0;34m(self, axis, skipna, numeric_only, **kwargs)\u001b[0m\n\u001b[1;32m  11201\u001b[0m \u001b[39mdef\u001b[39;00m \u001b[39mmean\u001b[39m(\n\u001b[1;32m  11202\u001b[0m     \u001b[39mself\u001b[39m,\n\u001b[1;32m  11203\u001b[0m     axis: Axis \u001b[39m|\u001b[39m \u001b[39mNone\u001b[39;00m \u001b[39m=\u001b[39m \u001b[39m0\u001b[39m,\n\u001b[0;32m   (...)\u001b[0m\n\u001b[1;32m  11206\u001b[0m     \u001b[39m*\u001b[39m\u001b[39m*\u001b[39mkwargs,\n\u001b[1;32m  11207\u001b[0m ) \u001b[39m-\u001b[39m\u001b[39m>\u001b[39m Series \u001b[39m|\u001b[39m \u001b[39mfloat\u001b[39m:\n\u001b[0;32m> 11208\u001b[0m     \u001b[39mreturn\u001b[39;00m \u001b[39mself\u001b[39;49m\u001b[39m.\u001b[39;49m_stat_function(\n\u001b[1;32m  11209\u001b[0m         \u001b[39m\"\u001b[39;49m\u001b[39mmean\u001b[39;49m\u001b[39m\"\u001b[39;49m, nanops\u001b[39m.\u001b[39;49mnanmean, axis, skipna, numeric_only, \u001b[39m*\u001b[39;49m\u001b[39m*\u001b[39;49mkwargs\n\u001b[1;32m  11210\u001b[0m     )\n",
      "File \u001b[0;32m~/opt/miniconda3/envs/SETU/lib/python3.11/site-packages/pandas/core/generic.py:11165\u001b[0m, in \u001b[0;36mNDFrame._stat_function\u001b[0;34m(self, name, func, axis, skipna, numeric_only, **kwargs)\u001b[0m\n\u001b[1;32m  11161\u001b[0m     nv\u001b[39m.\u001b[39mvalidate_stat_func((), kwargs, fname\u001b[39m=\u001b[39mname)\n\u001b[1;32m  11163\u001b[0m validate_bool_kwarg(skipna, \u001b[39m\"\u001b[39m\u001b[39mskipna\u001b[39m\u001b[39m\"\u001b[39m, none_allowed\u001b[39m=\u001b[39m\u001b[39mFalse\u001b[39;00m)\n\u001b[0;32m> 11165\u001b[0m \u001b[39mreturn\u001b[39;00m \u001b[39mself\u001b[39;49m\u001b[39m.\u001b[39;49m_reduce(\n\u001b[1;32m  11166\u001b[0m     func, name\u001b[39m=\u001b[39;49mname, axis\u001b[39m=\u001b[39;49maxis, skipna\u001b[39m=\u001b[39;49mskipna, numeric_only\u001b[39m=\u001b[39;49mnumeric_only\n\u001b[1;32m  11167\u001b[0m )\n",
      "File \u001b[0;32m~/opt/miniconda3/envs/SETU/lib/python3.11/site-packages/pandas/core/series.py:4671\u001b[0m, in \u001b[0;36mSeries._reduce\u001b[0;34m(self, op, name, axis, skipna, numeric_only, filter_type, **kwds)\u001b[0m\n\u001b[1;32m   4666\u001b[0m     \u001b[39mraise\u001b[39;00m \u001b[39mTypeError\u001b[39;00m(\n\u001b[1;32m   4667\u001b[0m         \u001b[39mf\u001b[39m\u001b[39m\"\u001b[39m\u001b[39mSeries.\u001b[39m\u001b[39m{\u001b[39;00mname\u001b[39m}\u001b[39;00m\u001b[39m does not allow \u001b[39m\u001b[39m{\u001b[39;00mkwd_name\u001b[39m}\u001b[39;00m\u001b[39m=\u001b[39m\u001b[39m{\u001b[39;00mnumeric_only\u001b[39m}\u001b[39;00m\u001b[39m \u001b[39m\u001b[39m\"\u001b[39m\n\u001b[1;32m   4668\u001b[0m         \u001b[39m\"\u001b[39m\u001b[39mwith non-numeric dtypes.\u001b[39m\u001b[39m\"\u001b[39m\n\u001b[1;32m   4669\u001b[0m     )\n\u001b[1;32m   4670\u001b[0m \u001b[39mwith\u001b[39;00m np\u001b[39m.\u001b[39merrstate(\u001b[39mall\u001b[39m\u001b[39m=\u001b[39m\u001b[39m\"\u001b[39m\u001b[39mignore\u001b[39m\u001b[39m\"\u001b[39m):\n\u001b[0;32m-> 4671\u001b[0m     \u001b[39mreturn\u001b[39;00m op(delegate, skipna\u001b[39m=\u001b[39;49mskipna, \u001b[39m*\u001b[39;49m\u001b[39m*\u001b[39;49mkwds)\n",
      "File \u001b[0;32m~/opt/miniconda3/envs/SETU/lib/python3.11/site-packages/pandas/core/nanops.py:96\u001b[0m, in \u001b[0;36mdisallow.__call__.<locals>._f\u001b[0;34m(*args, **kwargs)\u001b[0m\n\u001b[1;32m     94\u001b[0m \u001b[39mtry\u001b[39;00m:\n\u001b[1;32m     95\u001b[0m     \u001b[39mwith\u001b[39;00m np\u001b[39m.\u001b[39merrstate(invalid\u001b[39m=\u001b[39m\u001b[39m\"\u001b[39m\u001b[39mignore\u001b[39m\u001b[39m\"\u001b[39m):\n\u001b[0;32m---> 96\u001b[0m         \u001b[39mreturn\u001b[39;00m f(\u001b[39m*\u001b[39;49margs, \u001b[39m*\u001b[39;49m\u001b[39m*\u001b[39;49mkwargs)\n\u001b[1;32m     97\u001b[0m \u001b[39mexcept\u001b[39;00m \u001b[39mValueError\u001b[39;00m \u001b[39mas\u001b[39;00m e:\n\u001b[1;32m     98\u001b[0m     \u001b[39m# we want to transform an object array\u001b[39;00m\n\u001b[1;32m     99\u001b[0m     \u001b[39m# ValueError message to the more typical TypeError\u001b[39;00m\n\u001b[1;32m    100\u001b[0m     \u001b[39m# e.g. this is normally a disallowed function on\u001b[39;00m\n\u001b[1;32m    101\u001b[0m     \u001b[39m# object arrays that contain strings\u001b[39;00m\n\u001b[1;32m    102\u001b[0m     \u001b[39mif\u001b[39;00m is_object_dtype(args[\u001b[39m0\u001b[39m]):\n",
      "File \u001b[0;32m~/opt/miniconda3/envs/SETU/lib/python3.11/site-packages/pandas/core/nanops.py:158\u001b[0m, in \u001b[0;36mbottleneck_switch.__call__.<locals>.f\u001b[0;34m(values, axis, skipna, **kwds)\u001b[0m\n\u001b[1;32m    156\u001b[0m         result \u001b[39m=\u001b[39m alt(values, axis\u001b[39m=\u001b[39maxis, skipna\u001b[39m=\u001b[39mskipna, \u001b[39m*\u001b[39m\u001b[39m*\u001b[39mkwds)\n\u001b[1;32m    157\u001b[0m \u001b[39melse\u001b[39;00m:\n\u001b[0;32m--> 158\u001b[0m     result \u001b[39m=\u001b[39m alt(values, axis\u001b[39m=\u001b[39;49maxis, skipna\u001b[39m=\u001b[39;49mskipna, \u001b[39m*\u001b[39;49m\u001b[39m*\u001b[39;49mkwds)\n\u001b[1;32m    160\u001b[0m \u001b[39mreturn\u001b[39;00m result\n",
      "File \u001b[0;32m~/opt/miniconda3/envs/SETU/lib/python3.11/site-packages/pandas/core/nanops.py:421\u001b[0m, in \u001b[0;36m_datetimelike_compat.<locals>.new_func\u001b[0;34m(values, axis, skipna, mask, **kwargs)\u001b[0m\n\u001b[1;32m    418\u001b[0m \u001b[39mif\u001b[39;00m datetimelike \u001b[39mand\u001b[39;00m mask \u001b[39mis\u001b[39;00m \u001b[39mNone\u001b[39;00m:\n\u001b[1;32m    419\u001b[0m     mask \u001b[39m=\u001b[39m isna(values)\n\u001b[0;32m--> 421\u001b[0m result \u001b[39m=\u001b[39m func(values, axis\u001b[39m=\u001b[39;49maxis, skipna\u001b[39m=\u001b[39;49mskipna, mask\u001b[39m=\u001b[39;49mmask, \u001b[39m*\u001b[39;49m\u001b[39m*\u001b[39;49mkwargs)\n\u001b[1;32m    423\u001b[0m \u001b[39mif\u001b[39;00m datetimelike:\n\u001b[1;32m    424\u001b[0m     result \u001b[39m=\u001b[39m _wrap_results(result, orig_values\u001b[39m.\u001b[39mdtype, fill_value\u001b[39m=\u001b[39miNaT)\n",
      "File \u001b[0;32m~/opt/miniconda3/envs/SETU/lib/python3.11/site-packages/pandas/core/nanops.py:727\u001b[0m, in \u001b[0;36mnanmean\u001b[0;34m(values, axis, skipna, mask)\u001b[0m\n\u001b[1;32m    724\u001b[0m     dtype_count \u001b[39m=\u001b[39m dtype\n\u001b[1;32m    726\u001b[0m count \u001b[39m=\u001b[39m _get_counts(values\u001b[39m.\u001b[39mshape, mask, axis, dtype\u001b[39m=\u001b[39mdtype_count)\n\u001b[0;32m--> 727\u001b[0m the_sum \u001b[39m=\u001b[39m _ensure_numeric(values\u001b[39m.\u001b[39;49msum(axis, dtype\u001b[39m=\u001b[39;49mdtype_sum))\n\u001b[1;32m    729\u001b[0m \u001b[39mif\u001b[39;00m axis \u001b[39mis\u001b[39;00m \u001b[39mnot\u001b[39;00m \u001b[39mNone\u001b[39;00m \u001b[39mand\u001b[39;00m \u001b[39mgetattr\u001b[39m(the_sum, \u001b[39m\"\u001b[39m\u001b[39mndim\u001b[39m\u001b[39m\"\u001b[39m, \u001b[39mFalse\u001b[39;00m):\n\u001b[1;32m    730\u001b[0m     count \u001b[39m=\u001b[39m cast(np\u001b[39m.\u001b[39mndarray, count)\n",
      "File \u001b[0;32m~/opt/miniconda3/envs/SETU/lib/python3.11/site-packages/pandas/core/nanops.py:1699\u001b[0m, in \u001b[0;36m_ensure_numeric\u001b[0;34m(x)\u001b[0m\n\u001b[1;32m   1696\u001b[0m             x \u001b[39m=\u001b[39m \u001b[39mcomplex\u001b[39m(x)\n\u001b[1;32m   1697\u001b[0m         \u001b[39mexcept\u001b[39;00m \u001b[39mValueError\u001b[39;00m \u001b[39mas\u001b[39;00m err:\n\u001b[1;32m   1698\u001b[0m             \u001b[39m# e.g. \"foo\"\u001b[39;00m\n\u001b[0;32m-> 1699\u001b[0m             \u001b[39mraise\u001b[39;00m \u001b[39mTypeError\u001b[39;00m(\u001b[39mf\u001b[39m\u001b[39m\"\u001b[39m\u001b[39mCould not convert \u001b[39m\u001b[39m{\u001b[39;00mx\u001b[39m}\u001b[39;00m\u001b[39m to numeric\u001b[39m\u001b[39m\"\u001b[39m) \u001b[39mfrom\u001b[39;00m \u001b[39merr\u001b[39;00m\n\u001b[1;32m   1700\u001b[0m \u001b[39mreturn\u001b[39;00m x\n",
      "\u001b[0;31mTypeError\u001b[0m: Could not convert churchtownnewcastle westsalthillportlawbuncranadublin 16cabraleixlipnew rosslucancarrigtwohillnenaghdunboynekerry pikenaasdalkeycarrigalineartanenaascabranavanashbourneclonakiltysandymountdublin 12clonsillaclondalkinmitchelstowncaherciveenrahenydundalkpalmerstownbalbrigganlucanstepasidefinglascastleknockdublin 3birrkilbegganbirrportumnadouglasashbourneterenureashtowncrosshavenoldcastlebandondublin 16ballincolligratoathcastletroylucantallaghtdublin 9mullingarsandymountclonsillalismorekinsalekellsedenderrysandyfordmaynoothcabradooradoylebraydroghedadublin 6douglasheadford rdtraleedublin 5letterkennystepasideclonsillamountmellickballinasloekanturkthurlesdublin 11rathkealemountrathdunfanaghytraleetubbercurrynewportbraymurroefernscrosshavenrathdowneyrathdowneydublin 15letterkennydundalkswordsdublin 8douglasclogherheadkillarneyglanmirewiltonnewbridgetempleogueashtownashbournedrimnaghdublin 7tallaghtathytullamorestillorganrahoonclifdenskerriesgoreyratoathkinsaledublin 13rochestowndrumcondradroghedaclonsillaclontarfletterkennycastleknockdublin 12mullingarportlaoisedublin 8monkstownknocklyonmalahidemonasterevindublin 16dublin 3dublin 9drumcondradublin 4dublin 14mullingarmalahidekilcooleturners crosskilcooleartanefinglasswordsswordsclonmeldublin 3blackrockclontarfdroghedamaynoothdublin 15cashelportlaoisekillarneyshankillblackrockcastleknockbraycarrigtwohillballyconnellcourtownballinasloeheadforddungarvandunmore eastennis rdmohillkilmacthomasballinasloeclanenaasjohnswell rdstrandhillmullingarmullingarcarndonaghheadfordkilcooleskerriesblarneydublin rdarklowsandyfordtullamoreskerriesballincolligdundrumdublin 24rathnewdungarvanmurroestillorgancastleknocklucankillarneydublin 15clanecarburyglasnevinrenmoremonaleendublin 7ashbournekilmallockdundrumclonmelkilleaghlucancorballycabinteelyshankillmulgannonblackrockdublin 4celbridgemalahidetallaghtrosslare strandnewbridgebunclodyarklowballaghaderreentraleeclonmelcallandundalkcahirthurlesportarlingtonachillmullingardouglasdroghedaclonsillatempleoguedublin 13kilcullendouglasdublin 14dublin 9dublin 8swordscelbridgecarrigalinecarrigtwohillmaynoothbruffdublin 7maynoothcharlevilleadamstownleixlipportlaoisecarrigtwohilldundalkluskmaynoothlehenaghbegcarrigalinedun laoghairemidletonkillucanmalahideletterkennylaytowndublin 11tallaghtballinteerathymalahidedundalkdundalkdublin 12knocklyondalkeyennistempleoguecrumlindungarvanannacottykillorglinnew rossportlaoisebalbriggankilkeeletterkennydublin 4trimmoycullenlucanmoatemalahideblackrockmaynoothnavanbundorankillineydublin 13mallowathloneballyshannontuambaltinglassrathangankillarneykillorglintraleekilmallockdalkeykillarneykinsalemountmellickportlaoisesandymountroscrearoscreafernslistowelnaasathyblackrocknaasnewbridgedublin 5dublin 3mullingarcloneedonabateswordsnewbridgenewbridgedublin 12barnafernscelbridgebrayleixlipdroghedatuamclonmeldouglasknocklyonnenaghenniscorthyshankilldublin 15tramorefermoydublin 6corballycastletroydublin 24crumlincarrigalinesummerhillrathminestallaghtdelganymallowdublin 24mallowkinsalenavanroscreacastleknockluskcelbridgedingletramorenewcastleraheenclonsillabelturbettraleeglanmirekilmallocksandycovekillarneyfinglasmullingartallaghtblanchardstownwestportdublin 15monasterevinrathfarnhammullaghkellsfernsnenaghmungretblackrockblackrockwiltonmonasterevinenfieldknocknacarrabrayballyvolanetogherdroghedacarrickminescabinteelyathloneballintemplecarrigalinetramorewalkinstownloughreadublin 24balbriggandrumcondradublin 9templeoguegreystonesashbournegreystonessaggarttempleoguebalbriggandublin 9killarneytramoresantrylaytowndelganyletterkennydublin 7passage westdublin 3terenureclanenewbridgeportlaoisestepasidenavancelbridgerathfarnhamglasnevindublin 8mullingardublin 24dungarvanleopardstownballycullentullowdublin 10loughreatullowoughterardcarrigtwohillranelaghknocklyonfinglaslongwooddublin 11bundoranblackrocktraleekilworthrathfarnhampassage westnewbridgeknocklyonblackrockdublin 4clontarfdublin 8rathangancootehillballyhauniskenmarekinsalekillarneykilmallockcraughwellrathfarnhamcastlecomercelbridgecarrigalinecastlebarportlaoisedooradoylestradballyfethardskerriesenniskerrypiltownloughreamullingarclaregalwayclaneleopardstownlucandublin 7rathcooletemplemoreclonmelrathfarnhamrahenyclonmelnaasballyfermotcarrigalinetermonfeckintrimroscamdublin 22midletonkillaloenenaghballincolligkillarneybalbriggancorballyclontarfmoatedrumcondracastleconnelldroghedablackrockthurlesmodel farm rdportlaoisemallowcarburynavanrosslareloughreamulgannonlistoweltraleevirginiasandycoveknocknacarrawestportcarrickmacrosswestportcarrickmacrossdundalkcloughjordanbagenalstowntullamorekillorglinkilkeeenfieldcastletroytramorelucanlusknewbridgerialtotraleeportlaoisedrumshanboglanmireroscreaballincolligkilkeeportlaoiseathloneclontarfrathgarleopardstowngoreyrushkillarneyfernstramoredublin 17droghedanewcastlewestbettystownletterkennydublin 15enniscashelkinsalestepasidedublin 15rahenynewcastlecrumlinennisovensnewcastle westcelbridgeballyjamesduffbettystownenfieldrathmoreballincollignenaghlistowelbaltimoredunleerenniscorthycashelmohillgoreyballincolliglistowelbantrynewmarketmohillnenaghdouglasdundrumashbournesalthillballymotemalahidecastletroygoreydublin 15adamstownblackrockclonsillatullowballinaghdublin 16dublin 7dungarvannaasdundalkleopardstowncarrickmacrossthomastownardeeshannonblackrockballincolligmullingarnaasgrangeknocklyongoreynewbridgedublin 18leixlipnenaghdublin 8crumlinenniscroneleixlipdrimnaghfermoynewcastle westfoxwooddungarvanadamstowndungarvanclonskeaghadamstownclondalkinbuncranaashbournedublin 11dublin 11castleknocksantryschulledenderrygoreytraleeclaremorriskillineyrathmineskinsaledromodboyleclondalkinnew rossadamstownnewmarket on fergusballsbridgesandymountdublin 15ardeedublin 24portlaoiseballyfermotdublin 24dublin 16tallaghtportlawdublin 12newportdublin 11blackrockrathangandublin 16tallaghtdundrumfoxrockdublin 9blackrockathyballinaghraheenmalahidemalahideblackrockmonkstownswordsmullingarashtownnaastullowmidletonnavanballybracktallaghtnewbridgerathnewmallowheadford rdbundoranloughreamalahidebalbriggandublin 22suttondunboynenenaghelphinmaynoothtraleeathenrypiltowntullamorecoolaneykinvaradouglasratoathkinsaleballymoterathminescarrigalineadamstowndroghedakillucanardeearklowashbourneclonmelnaasdublin 14tullamorebalbriggandublin 16kilcooledoneraileathenrycourtownmayfieldwalkinstownnavanlongwoodmilltownclonskeaghballincollignenaghliffordmurroekilbeggandublin 15douglasoranmorecarrigalineoranmorekillineydundalknaasmullingarskerriesgoreydouglasathlonedublin 13swordsnew rossnew rossportmarnockrathfarnhamterenurebalbrigganartanecloynecharlevilleenniscorthyschullcraughwellcootehillmullingarkinvaraballinasloerochestownnavanglasnevinballinteerkillarneymalahideknocklyonnaasballincolligenniscorthytraleerushroscreamitchelstowncobhyoughalcastleknockswordsfermoyblanchardstowndublin 15dundrumbrayranelaghstepasideoughterardportarlingtongreystonescarndonaghcastleislandschullkillarneygoreyrochestowndundalkcork cityrathangansummerhillashbournewatervillecabinteelyrathdowneyglanmirecabinteelynewbridgerathcooleaughrimstillorganfinglasgoreyblackrockballyconnelldublin 11balbriggandublin 3castletroyballsbridgeashbournelucanmullingarovensblanchardstownletterkennysaggartswordsdublin 12glanmirenavandroghedamountmellickknocklyoncelbridgerathfarnhamashtownbrayportlaoiseabbeyleixdublin 15dublin 15skerriesdublin 24mullaghnavangreystonesknocklyondublin 24mallowennisdublin 7lucanportlaoisestepasideclonsillacarrigalinerathfarnhamclondalkinathloneknocknacarrastepasidecabinteelytempleoguefinglasbantrysandyfordstamullenstamullennaasswordscabrablackrockleixlipbantrydublin 15adamstownglenagearymalahidetullamorebalbriggantallaghtdinglelucannaasrooskeydublin 13mountmellickenniscloneebraybraycarrigtwohilldundalkkilcullencelbridgejohnswell rdashbournebraysandymountrushgoreyballyhaunisrushrathfarnhamrosslarecappoquinnew rossswinfordkenmarecastletownberedundrumballinafernskellscahirmullingarmullingarathenryrahenykillorglinmallowmullingarglanmiredublin 9droghedatullowdooradoyleathloneknocklyonsuttonnewcastlewestdouglasglanmiremountmellickdunleerbraytempleogueblessingtonnewbridgeennismullingarcastleknocklucanbalgriffindublin 3dublin 12dublin 7artanekilmallockportlaoiseballybunionkillaloeheadfordbirrdouglasdrumcondrarathfarnhamblackrockdouglascobhnavanmalahidedublin 15dublin 14dublin 13waterford cityedgeworthstowncarrigtwohilldublin 6kilcooleblackrockcharlestownnewcastlefinglasdundalknenaghchurchtowntullowdundalkdroghedanavandublin 18midletonglasnevindonerailecastleblayneynewportclaregalwaytemplemorekellskellscoolaneytemplemoreedgeworthstownloughreaathykilmallockkilmallockkilmallockgoreylucanmaynoothrochestowncrumlindublin 9knocknacarrapiltowngraiguecullendrumcondraballinasloefinglasblackrockmidletonashtowncelbridgesantryportmarnockdublin 15trimtullamorehowthdublin 11clondalkinashtownwatergrasshilldouglasmalahideballinteercrumlindublin 12dublin 4delvinabbeyfealebrufftuamdingleblackwaternavanrathanganadarewestportnenaghcarrickmacrossdunboynebalbrigganartanedublin 5sandyforddublin 6wdunboynedublin 11rushdublin 6wshankilldublin 22tullowdublin 14nenaghlucanswordsdublin 7dublin rdslanedublin 3dublin 13clontarfchurchtownclontarfletterkennyadamstownsandyfordlucandublin 12howthportlaoisedonabatenavandublin 11thomastowntraleeblackpoolathboymidletoncarrickmacrossletterkennykilmallocksandymountclonmelkillineyclonmelblackrockballinaghdublin 15leixlipdalkeytallaghtmalahiderochestownnewbridgetullamoreroscamglasnevindublin 12balgriffincobhbooterstownadamstownterenurebalbrigganstillorganenniscorthycarrigalineballinteercarrickmacrosstallaghtgreystonesswordsdublin 15swordsdublin 4dublin 24dublin 8balbrigganenniscorthyskerriesblanchardstowndublin 3dublin 9santryportarlingtonshankilldalkeynenaghlucandublin 15santrykillmonkstowntuamlucankilkeeclonskeaghcastleblayneydublin 22tullamoreclanedublin 12duleektrimsantrydrimnaghdrumcondracourtowncarrigtwohilldublin 24traleemulgannoncarrickminesswordstrimrathkealemullingarroscreaenniscorthyskerriestraleelaytownlaytownlaytownkillarneyballyhaunisrosslare strandennisathytrimdroghedamacroomsandycovemullingarballyshannonportmarnockcastletroy to numeric"
     ]
    }
   ],
   "source": [
    "# Load the data into a pandas dataframe\n",
    "df = pd.read_csv('PPR-cleaned-v2.csv')\n",
    "df['Date'] = pd.to_datetime(df['Date'], infer_datetime_format=True)\n",
    "df = df.set_index('Date')\n",
    "\n",
    "# Group the data by month and calculate the mean price\n",
    "df_monthly = df.resample('MS').mean()\n",
    "\n",
    "# Split the data into training and testing sets\n",
    "train = df_monthly.loc[:'2021-06-01', 'Price']\n",
    "test = df_monthly.loc['2021-07-01':, 'Price']\n",
    "\n",
    "# Fit the SARIMA model to the training data\n",
    "model = SARIMAX(train, order=(1, 1, 1), seasonal_order=(1, 1, 1, 12), enforce_invertibility=False)\n",
    "results = model.fit()\n",
    "\n",
    "# Generate predictions for the test data\n",
    "predictions = results.predict(start='2022-07-01', end='2028-04-01', dynamic=True)\n",
    "\n",
    "# Plot the actual and predicted values\n",
    "plt.plot(train.index, train, label='Training')\n",
    "plt.plot(test.index, test, label='Actual')\n",
    "plt.plot(predictions.index, predictions, label='Predicted')\n",
    "plt.legend()\n",
    "plt.show()"
   ]
  },
  {
   "attachments": {},
   "cell_type": "markdown",
   "id": "65e7c98f",
   "metadata": {},
   "source": [
    "## Linear Regression"
   ]
  },
  {
   "cell_type": "code",
   "execution_count": 13,
   "id": "f65a3b72",
   "metadata": {
    "ExecuteTime": {
     "end_time": "2023-04-15T16:24:16.265621Z",
     "start_time": "2023-04-15T16:24:16.265595Z"
    }
   },
   "outputs": [
    {
     "name": "stdout",
     "output_type": "stream",
     "text": [
      "Mean squared error: 25498862956.32\n",
      "R-squared: 0.26\n"
     ]
    }
   ],
   "source": [
    "# Load the data and select relevant columns\n",
    "df = pd.read_csv('PPR-cleaned-v2.csv')\n",
    "df = df[['Price', 'County', 'Description of Property', 'Province']]\n",
    "\n",
    "# Handle missing values and outliers\n",
    "df = df.dropna() # Drop rows with missing values\n",
    "df = df[df['Price'] > 0] # Remove rows with zero or negative prices\n",
    "df = df[df['Price'] < np.percentile(df['Price'], 99)] # Remove top 1% of prices as outliers\n",
    "\n",
    "# Encode categorical variables using one-hot encoding\n",
    "df = pd.get_dummies(df, columns=['County', 'Description of Property', 'Province'])\n",
    "\n",
    "# Split the data into training and test sets\n",
    "X = df.drop('Price', axis=1)\n",
    "y = df['Price']\n",
    "X_train, X_test, y_train, y_test = train_test_split(X, y, test_size=0.2, random_state=42)\n",
    "\n",
    "# Scale the numerical variables using standardization\n",
    "scaler = StandardScaler()\n",
    "X_train_scaled = scaler.fit_transform(X_train)\n",
    "X_test_scaled = scaler.transform(X_test)\n",
    "\n",
    "# Train the linear regression model on the training set\n",
    "lr = LinearRegression()\n",
    "lr.fit(X_train_scaled, y_train)\n",
    "\n",
    "# Evaluate the model's performance on the test set\n",
    "y_pred = lr.predict(X_test_scaled)\n",
    "mse = mean_squared_error(y_test, y_pred)\n",
    "r2 = r2_score(y_test, y_pred)\n",
    "print(f'Mean squared error: {mse:.2f}')\n",
    "print(f'R-squared: {r2:.2f}')"
   ]
  },
  {
   "attachments": {},
   "cell_type": "markdown",
   "id": "8f196edd",
   "metadata": {},
   "source": [
    "## Random Forest with CV"
   ]
  },
  {
   "cell_type": "code",
   "execution_count": null,
   "id": "dc827c6b",
   "metadata": {
    "ExecuteTime": {
     "end_time": "2023-04-15T16:00:18.376882Z",
     "start_time": "2023-04-15T15:43:00.251747Z"
    }
   },
   "outputs": [
    {
     "name": "stdout",
     "output_type": "stream",
     "text": [
      "Mean Squared Error: 429056525806.9717\n"
     ]
    },
    {
     "ename": "KeyboardInterrupt",
     "evalue": "",
     "output_type": "error",
     "traceback": [
      "\u001b[0;31m---------------------------------------------------------------------------\u001b[0m",
      "\u001b[0;31mKeyboardInterrupt\u001b[0m                         Traceback (most recent call last)",
      "Cell \u001b[0;32mIn [5], line 25\u001b[0m\n\u001b[1;32m     22\u001b[0m \u001b[38;5;28mprint\u001b[39m(\u001b[38;5;124m'\u001b[39m\u001b[38;5;124mMean Squared Error:\u001b[39m\u001b[38;5;124m'\u001b[39m, mse)\n\u001b[1;32m     24\u001b[0m \u001b[38;5;66;03m# Perform cross-validation to evaluate model performance\u001b[39;00m\n\u001b[0;32m---> 25\u001b[0m cv_scores \u001b[38;5;241m=\u001b[39m \u001b[43mcross_val_score\u001b[49m\u001b[43m(\u001b[49m\u001b[43mrf\u001b[49m\u001b[43m,\u001b[49m\u001b[43m \u001b[49m\u001b[43mX_train\u001b[49m\u001b[43m,\u001b[49m\u001b[43m \u001b[49m\u001b[43my_train\u001b[49m\u001b[43m,\u001b[49m\u001b[43m \u001b[49m\u001b[43mcv\u001b[49m\u001b[38;5;241;43m=\u001b[39;49m\u001b[38;5;241;43m5\u001b[39;49m\u001b[43m)\u001b[49m\n\u001b[1;32m     26\u001b[0m \u001b[38;5;28mprint\u001b[39m(\u001b[38;5;124m'\u001b[39m\u001b[38;5;124mCross-validation scores:\u001b[39m\u001b[38;5;124m'\u001b[39m, cv_scores)\n\u001b[1;32m     27\u001b[0m \u001b[38;5;28mprint\u001b[39m(\u001b[38;5;124m'\u001b[39m\u001b[38;5;124mMean Cross-validation score:\u001b[39m\u001b[38;5;124m'\u001b[39m, cv_scores\u001b[38;5;241m.\u001b[39mmean())\n",
      "File \u001b[0;32m~/opt/miniconda3/envs/SETU/lib/python3.11/site-packages/sklearn/model_selection/_validation.py:515\u001b[0m, in \u001b[0;36mcross_val_score\u001b[0;34m(estimator, X, y, groups, scoring, cv, n_jobs, verbose, fit_params, pre_dispatch, error_score)\u001b[0m\n\u001b[1;32m    512\u001b[0m \u001b[38;5;66;03m# To ensure multimetric format is not supported\u001b[39;00m\n\u001b[1;32m    513\u001b[0m scorer \u001b[38;5;241m=\u001b[39m check_scoring(estimator, scoring\u001b[38;5;241m=\u001b[39mscoring)\n\u001b[0;32m--> 515\u001b[0m cv_results \u001b[38;5;241m=\u001b[39m \u001b[43mcross_validate\u001b[49m\u001b[43m(\u001b[49m\n\u001b[1;32m    516\u001b[0m \u001b[43m    \u001b[49m\u001b[43mestimator\u001b[49m\u001b[38;5;241;43m=\u001b[39;49m\u001b[43mestimator\u001b[49m\u001b[43m,\u001b[49m\n\u001b[1;32m    517\u001b[0m \u001b[43m    \u001b[49m\u001b[43mX\u001b[49m\u001b[38;5;241;43m=\u001b[39;49m\u001b[43mX\u001b[49m\u001b[43m,\u001b[49m\n\u001b[1;32m    518\u001b[0m \u001b[43m    \u001b[49m\u001b[43my\u001b[49m\u001b[38;5;241;43m=\u001b[39;49m\u001b[43my\u001b[49m\u001b[43m,\u001b[49m\n\u001b[1;32m    519\u001b[0m \u001b[43m    \u001b[49m\u001b[43mgroups\u001b[49m\u001b[38;5;241;43m=\u001b[39;49m\u001b[43mgroups\u001b[49m\u001b[43m,\u001b[49m\n\u001b[1;32m    520\u001b[0m \u001b[43m    \u001b[49m\u001b[43mscoring\u001b[49m\u001b[38;5;241;43m=\u001b[39;49m\u001b[43m{\u001b[49m\u001b[38;5;124;43m\"\u001b[39;49m\u001b[38;5;124;43mscore\u001b[39;49m\u001b[38;5;124;43m\"\u001b[39;49m\u001b[43m:\u001b[49m\u001b[43m \u001b[49m\u001b[43mscorer\u001b[49m\u001b[43m}\u001b[49m\u001b[43m,\u001b[49m\n\u001b[1;32m    521\u001b[0m \u001b[43m    \u001b[49m\u001b[43mcv\u001b[49m\u001b[38;5;241;43m=\u001b[39;49m\u001b[43mcv\u001b[49m\u001b[43m,\u001b[49m\n\u001b[1;32m    522\u001b[0m \u001b[43m    \u001b[49m\u001b[43mn_jobs\u001b[49m\u001b[38;5;241;43m=\u001b[39;49m\u001b[43mn_jobs\u001b[49m\u001b[43m,\u001b[49m\n\u001b[1;32m    523\u001b[0m \u001b[43m    \u001b[49m\u001b[43mverbose\u001b[49m\u001b[38;5;241;43m=\u001b[39;49m\u001b[43mverbose\u001b[49m\u001b[43m,\u001b[49m\n\u001b[1;32m    524\u001b[0m \u001b[43m    \u001b[49m\u001b[43mfit_params\u001b[49m\u001b[38;5;241;43m=\u001b[39;49m\u001b[43mfit_params\u001b[49m\u001b[43m,\u001b[49m\n\u001b[1;32m    525\u001b[0m \u001b[43m    \u001b[49m\u001b[43mpre_dispatch\u001b[49m\u001b[38;5;241;43m=\u001b[39;49m\u001b[43mpre_dispatch\u001b[49m\u001b[43m,\u001b[49m\n\u001b[1;32m    526\u001b[0m \u001b[43m    \u001b[49m\u001b[43merror_score\u001b[49m\u001b[38;5;241;43m=\u001b[39;49m\u001b[43merror_score\u001b[49m\u001b[43m,\u001b[49m\n\u001b[1;32m    527\u001b[0m \u001b[43m\u001b[49m\u001b[43m)\u001b[49m\n\u001b[1;32m    528\u001b[0m \u001b[38;5;28;01mreturn\u001b[39;00m cv_results[\u001b[38;5;124m\"\u001b[39m\u001b[38;5;124mtest_score\u001b[39m\u001b[38;5;124m\"\u001b[39m]\n",
      "File \u001b[0;32m~/opt/miniconda3/envs/SETU/lib/python3.11/site-packages/sklearn/model_selection/_validation.py:266\u001b[0m, in \u001b[0;36mcross_validate\u001b[0;34m(estimator, X, y, groups, scoring, cv, n_jobs, verbose, fit_params, pre_dispatch, return_train_score, return_estimator, error_score)\u001b[0m\n\u001b[1;32m    263\u001b[0m \u001b[38;5;66;03m# We clone the estimator to make sure that all the folds are\u001b[39;00m\n\u001b[1;32m    264\u001b[0m \u001b[38;5;66;03m# independent, and that it is pickle-able.\u001b[39;00m\n\u001b[1;32m    265\u001b[0m parallel \u001b[38;5;241m=\u001b[39m Parallel(n_jobs\u001b[38;5;241m=\u001b[39mn_jobs, verbose\u001b[38;5;241m=\u001b[39mverbose, pre_dispatch\u001b[38;5;241m=\u001b[39mpre_dispatch)\n\u001b[0;32m--> 266\u001b[0m results \u001b[38;5;241m=\u001b[39m \u001b[43mparallel\u001b[49m\u001b[43m(\u001b[49m\n\u001b[1;32m    267\u001b[0m \u001b[43m    \u001b[49m\u001b[43mdelayed\u001b[49m\u001b[43m(\u001b[49m\u001b[43m_fit_and_score\u001b[49m\u001b[43m)\u001b[49m\u001b[43m(\u001b[49m\n\u001b[1;32m    268\u001b[0m \u001b[43m        \u001b[49m\u001b[43mclone\u001b[49m\u001b[43m(\u001b[49m\u001b[43mestimator\u001b[49m\u001b[43m)\u001b[49m\u001b[43m,\u001b[49m\n\u001b[1;32m    269\u001b[0m \u001b[43m        \u001b[49m\u001b[43mX\u001b[49m\u001b[43m,\u001b[49m\n\u001b[1;32m    270\u001b[0m \u001b[43m        \u001b[49m\u001b[43my\u001b[49m\u001b[43m,\u001b[49m\n\u001b[1;32m    271\u001b[0m \u001b[43m        \u001b[49m\u001b[43mscorers\u001b[49m\u001b[43m,\u001b[49m\n\u001b[1;32m    272\u001b[0m \u001b[43m        \u001b[49m\u001b[43mtrain\u001b[49m\u001b[43m,\u001b[49m\n\u001b[1;32m    273\u001b[0m \u001b[43m        \u001b[49m\u001b[43mtest\u001b[49m\u001b[43m,\u001b[49m\n\u001b[1;32m    274\u001b[0m \u001b[43m        \u001b[49m\u001b[43mverbose\u001b[49m\u001b[43m,\u001b[49m\n\u001b[1;32m    275\u001b[0m \u001b[43m        \u001b[49m\u001b[38;5;28;43;01mNone\u001b[39;49;00m\u001b[43m,\u001b[49m\n\u001b[1;32m    276\u001b[0m \u001b[43m        \u001b[49m\u001b[43mfit_params\u001b[49m\u001b[43m,\u001b[49m\n\u001b[1;32m    277\u001b[0m \u001b[43m        \u001b[49m\u001b[43mreturn_train_score\u001b[49m\u001b[38;5;241;43m=\u001b[39;49m\u001b[43mreturn_train_score\u001b[49m\u001b[43m,\u001b[49m\n\u001b[1;32m    278\u001b[0m \u001b[43m        \u001b[49m\u001b[43mreturn_times\u001b[49m\u001b[38;5;241;43m=\u001b[39;49m\u001b[38;5;28;43;01mTrue\u001b[39;49;00m\u001b[43m,\u001b[49m\n\u001b[1;32m    279\u001b[0m \u001b[43m        \u001b[49m\u001b[43mreturn_estimator\u001b[49m\u001b[38;5;241;43m=\u001b[39;49m\u001b[43mreturn_estimator\u001b[49m\u001b[43m,\u001b[49m\n\u001b[1;32m    280\u001b[0m \u001b[43m        \u001b[49m\u001b[43merror_score\u001b[49m\u001b[38;5;241;43m=\u001b[39;49m\u001b[43merror_score\u001b[49m\u001b[43m,\u001b[49m\n\u001b[1;32m    281\u001b[0m \u001b[43m    \u001b[49m\u001b[43m)\u001b[49m\n\u001b[1;32m    282\u001b[0m \u001b[43m    \u001b[49m\u001b[38;5;28;43;01mfor\u001b[39;49;00m\u001b[43m \u001b[49m\u001b[43mtrain\u001b[49m\u001b[43m,\u001b[49m\u001b[43m \u001b[49m\u001b[43mtest\u001b[49m\u001b[43m \u001b[49m\u001b[38;5;129;43;01min\u001b[39;49;00m\u001b[43m \u001b[49m\u001b[43mcv\u001b[49m\u001b[38;5;241;43m.\u001b[39;49m\u001b[43msplit\u001b[49m\u001b[43m(\u001b[49m\u001b[43mX\u001b[49m\u001b[43m,\u001b[49m\u001b[43m \u001b[49m\u001b[43my\u001b[49m\u001b[43m,\u001b[49m\u001b[43m \u001b[49m\u001b[43mgroups\u001b[49m\u001b[43m)\u001b[49m\n\u001b[1;32m    283\u001b[0m \u001b[43m\u001b[49m\u001b[43m)\u001b[49m\n\u001b[1;32m    285\u001b[0m _warn_or_raise_about_fit_failures(results, error_score)\n\u001b[1;32m    287\u001b[0m \u001b[38;5;66;03m# For callabe scoring, the return type is only know after calling. If the\u001b[39;00m\n\u001b[1;32m    288\u001b[0m \u001b[38;5;66;03m# return type is a dictionary, the error scores can now be inserted with\u001b[39;00m\n\u001b[1;32m    289\u001b[0m \u001b[38;5;66;03m# the correct key.\u001b[39;00m\n",
      "File \u001b[0;32m~/opt/miniconda3/envs/SETU/lib/python3.11/site-packages/sklearn/utils/parallel.py:63\u001b[0m, in \u001b[0;36mParallel.__call__\u001b[0;34m(self, iterable)\u001b[0m\n\u001b[1;32m     58\u001b[0m config \u001b[38;5;241m=\u001b[39m get_config()\n\u001b[1;32m     59\u001b[0m iterable_with_config \u001b[38;5;241m=\u001b[39m (\n\u001b[1;32m     60\u001b[0m     (_with_config(delayed_func, config), args, kwargs)\n\u001b[1;32m     61\u001b[0m     \u001b[38;5;28;01mfor\u001b[39;00m delayed_func, args, kwargs \u001b[38;5;129;01min\u001b[39;00m iterable\n\u001b[1;32m     62\u001b[0m )\n\u001b[0;32m---> 63\u001b[0m \u001b[38;5;28;01mreturn\u001b[39;00m \u001b[38;5;28;43msuper\u001b[39;49m\u001b[43m(\u001b[49m\u001b[43m)\u001b[49m\u001b[38;5;241;43m.\u001b[39;49m\u001b[38;5;21;43m__call__\u001b[39;49m\u001b[43m(\u001b[49m\u001b[43miterable_with_config\u001b[49m\u001b[43m)\u001b[49m\n",
      "File \u001b[0;32m~/opt/miniconda3/envs/SETU/lib/python3.11/site-packages/joblib/parallel.py:1088\u001b[0m, in \u001b[0;36mParallel.__call__\u001b[0;34m(self, iterable)\u001b[0m\n\u001b[1;32m   1085\u001b[0m \u001b[38;5;28;01mif\u001b[39;00m \u001b[38;5;28mself\u001b[39m\u001b[38;5;241m.\u001b[39mdispatch_one_batch(iterator):\n\u001b[1;32m   1086\u001b[0m     \u001b[38;5;28mself\u001b[39m\u001b[38;5;241m.\u001b[39m_iterating \u001b[38;5;241m=\u001b[39m \u001b[38;5;28mself\u001b[39m\u001b[38;5;241m.\u001b[39m_original_iterator \u001b[38;5;129;01mis\u001b[39;00m \u001b[38;5;129;01mnot\u001b[39;00m \u001b[38;5;28;01mNone\u001b[39;00m\n\u001b[0;32m-> 1088\u001b[0m \u001b[38;5;28;01mwhile\u001b[39;00m \u001b[38;5;28;43mself\u001b[39;49m\u001b[38;5;241;43m.\u001b[39;49m\u001b[43mdispatch_one_batch\u001b[49m\u001b[43m(\u001b[49m\u001b[43miterator\u001b[49m\u001b[43m)\u001b[49m:\n\u001b[1;32m   1089\u001b[0m     \u001b[38;5;28;01mpass\u001b[39;00m\n\u001b[1;32m   1091\u001b[0m \u001b[38;5;28;01mif\u001b[39;00m pre_dispatch \u001b[38;5;241m==\u001b[39m \u001b[38;5;124m\"\u001b[39m\u001b[38;5;124mall\u001b[39m\u001b[38;5;124m\"\u001b[39m \u001b[38;5;129;01mor\u001b[39;00m n_jobs \u001b[38;5;241m==\u001b[39m \u001b[38;5;241m1\u001b[39m:\n\u001b[1;32m   1092\u001b[0m     \u001b[38;5;66;03m# The iterable was consumed all at once by the above for loop.\u001b[39;00m\n\u001b[1;32m   1093\u001b[0m     \u001b[38;5;66;03m# No need to wait for async callbacks to trigger to\u001b[39;00m\n\u001b[1;32m   1094\u001b[0m     \u001b[38;5;66;03m# consumption.\u001b[39;00m\n",
      "File \u001b[0;32m~/opt/miniconda3/envs/SETU/lib/python3.11/site-packages/joblib/parallel.py:901\u001b[0m, in \u001b[0;36mParallel.dispatch_one_batch\u001b[0;34m(self, iterator)\u001b[0m\n\u001b[1;32m    899\u001b[0m     \u001b[38;5;28;01mreturn\u001b[39;00m \u001b[38;5;28;01mFalse\u001b[39;00m\n\u001b[1;32m    900\u001b[0m \u001b[38;5;28;01melse\u001b[39;00m:\n\u001b[0;32m--> 901\u001b[0m     \u001b[38;5;28;43mself\u001b[39;49m\u001b[38;5;241;43m.\u001b[39;49m\u001b[43m_dispatch\u001b[49m\u001b[43m(\u001b[49m\u001b[43mtasks\u001b[49m\u001b[43m)\u001b[49m\n\u001b[1;32m    902\u001b[0m     \u001b[38;5;28;01mreturn\u001b[39;00m \u001b[38;5;28;01mTrue\u001b[39;00m\n",
      "File \u001b[0;32m~/opt/miniconda3/envs/SETU/lib/python3.11/site-packages/joblib/parallel.py:819\u001b[0m, in \u001b[0;36mParallel._dispatch\u001b[0;34m(self, batch)\u001b[0m\n\u001b[1;32m    817\u001b[0m \u001b[38;5;28;01mwith\u001b[39;00m \u001b[38;5;28mself\u001b[39m\u001b[38;5;241m.\u001b[39m_lock:\n\u001b[1;32m    818\u001b[0m     job_idx \u001b[38;5;241m=\u001b[39m \u001b[38;5;28mlen\u001b[39m(\u001b[38;5;28mself\u001b[39m\u001b[38;5;241m.\u001b[39m_jobs)\n\u001b[0;32m--> 819\u001b[0m     job \u001b[38;5;241m=\u001b[39m \u001b[38;5;28;43mself\u001b[39;49m\u001b[38;5;241;43m.\u001b[39;49m\u001b[43m_backend\u001b[49m\u001b[38;5;241;43m.\u001b[39;49m\u001b[43mapply_async\u001b[49m\u001b[43m(\u001b[49m\u001b[43mbatch\u001b[49m\u001b[43m,\u001b[49m\u001b[43m \u001b[49m\u001b[43mcallback\u001b[49m\u001b[38;5;241;43m=\u001b[39;49m\u001b[43mcb\u001b[49m\u001b[43m)\u001b[49m\n\u001b[1;32m    820\u001b[0m     \u001b[38;5;66;03m# A job can complete so quickly than its callback is\u001b[39;00m\n\u001b[1;32m    821\u001b[0m     \u001b[38;5;66;03m# called before we get here, causing self._jobs to\u001b[39;00m\n\u001b[1;32m    822\u001b[0m     \u001b[38;5;66;03m# grow. To ensure correct results ordering, .insert is\u001b[39;00m\n\u001b[1;32m    823\u001b[0m     \u001b[38;5;66;03m# used (rather than .append) in the following line\u001b[39;00m\n\u001b[1;32m    824\u001b[0m     \u001b[38;5;28mself\u001b[39m\u001b[38;5;241m.\u001b[39m_jobs\u001b[38;5;241m.\u001b[39minsert(job_idx, job)\n",
      "File \u001b[0;32m~/opt/miniconda3/envs/SETU/lib/python3.11/site-packages/joblib/_parallel_backends.py:208\u001b[0m, in \u001b[0;36mSequentialBackend.apply_async\u001b[0;34m(self, func, callback)\u001b[0m\n\u001b[1;32m    206\u001b[0m \u001b[38;5;28;01mdef\u001b[39;00m \u001b[38;5;21mapply_async\u001b[39m(\u001b[38;5;28mself\u001b[39m, func, callback\u001b[38;5;241m=\u001b[39m\u001b[38;5;28;01mNone\u001b[39;00m):\n\u001b[1;32m    207\u001b[0m     \u001b[38;5;124;03m\"\"\"Schedule a func to be run\"\"\"\u001b[39;00m\n\u001b[0;32m--> 208\u001b[0m     result \u001b[38;5;241m=\u001b[39m \u001b[43mImmediateResult\u001b[49m\u001b[43m(\u001b[49m\u001b[43mfunc\u001b[49m\u001b[43m)\u001b[49m\n\u001b[1;32m    209\u001b[0m     \u001b[38;5;28;01mif\u001b[39;00m callback:\n\u001b[1;32m    210\u001b[0m         callback(result)\n",
      "File \u001b[0;32m~/opt/miniconda3/envs/SETU/lib/python3.11/site-packages/joblib/_parallel_backends.py:597\u001b[0m, in \u001b[0;36mImmediateResult.__init__\u001b[0;34m(self, batch)\u001b[0m\n\u001b[1;32m    594\u001b[0m \u001b[38;5;28;01mdef\u001b[39;00m \u001b[38;5;21m__init__\u001b[39m(\u001b[38;5;28mself\u001b[39m, batch):\n\u001b[1;32m    595\u001b[0m     \u001b[38;5;66;03m# Don't delay the application, to avoid keeping the input\u001b[39;00m\n\u001b[1;32m    596\u001b[0m     \u001b[38;5;66;03m# arguments in memory\u001b[39;00m\n\u001b[0;32m--> 597\u001b[0m     \u001b[38;5;28mself\u001b[39m\u001b[38;5;241m.\u001b[39mresults \u001b[38;5;241m=\u001b[39m \u001b[43mbatch\u001b[49m\u001b[43m(\u001b[49m\u001b[43m)\u001b[49m\n",
      "File \u001b[0;32m~/opt/miniconda3/envs/SETU/lib/python3.11/site-packages/joblib/parallel.py:288\u001b[0m, in \u001b[0;36mBatchedCalls.__call__\u001b[0;34m(self)\u001b[0m\n\u001b[1;32m    284\u001b[0m \u001b[38;5;28;01mdef\u001b[39;00m \u001b[38;5;21m__call__\u001b[39m(\u001b[38;5;28mself\u001b[39m):\n\u001b[1;32m    285\u001b[0m     \u001b[38;5;66;03m# Set the default nested backend to self._backend but do not set the\u001b[39;00m\n\u001b[1;32m    286\u001b[0m     \u001b[38;5;66;03m# change the default number of processes to -1\u001b[39;00m\n\u001b[1;32m    287\u001b[0m     \u001b[38;5;28;01mwith\u001b[39;00m parallel_backend(\u001b[38;5;28mself\u001b[39m\u001b[38;5;241m.\u001b[39m_backend, n_jobs\u001b[38;5;241m=\u001b[39m\u001b[38;5;28mself\u001b[39m\u001b[38;5;241m.\u001b[39m_n_jobs):\n\u001b[0;32m--> 288\u001b[0m         \u001b[38;5;28;01mreturn\u001b[39;00m \u001b[43m[\u001b[49m\u001b[43mfunc\u001b[49m\u001b[43m(\u001b[49m\u001b[38;5;241;43m*\u001b[39;49m\u001b[43margs\u001b[49m\u001b[43m,\u001b[49m\u001b[43m \u001b[49m\u001b[38;5;241;43m*\u001b[39;49m\u001b[38;5;241;43m*\u001b[39;49m\u001b[43mkwargs\u001b[49m\u001b[43m)\u001b[49m\n\u001b[1;32m    289\u001b[0m \u001b[43m                \u001b[49m\u001b[38;5;28;43;01mfor\u001b[39;49;00m\u001b[43m \u001b[49m\u001b[43mfunc\u001b[49m\u001b[43m,\u001b[49m\u001b[43m \u001b[49m\u001b[43margs\u001b[49m\u001b[43m,\u001b[49m\u001b[43m \u001b[49m\u001b[43mkwargs\u001b[49m\u001b[43m \u001b[49m\u001b[38;5;129;43;01min\u001b[39;49;00m\u001b[43m \u001b[49m\u001b[38;5;28;43mself\u001b[39;49m\u001b[38;5;241;43m.\u001b[39;49m\u001b[43mitems\u001b[49m\u001b[43m]\u001b[49m\n",
      "File \u001b[0;32m~/opt/miniconda3/envs/SETU/lib/python3.11/site-packages/joblib/parallel.py:288\u001b[0m, in \u001b[0;36m<listcomp>\u001b[0;34m(.0)\u001b[0m\n\u001b[1;32m    284\u001b[0m \u001b[38;5;28;01mdef\u001b[39;00m \u001b[38;5;21m__call__\u001b[39m(\u001b[38;5;28mself\u001b[39m):\n\u001b[1;32m    285\u001b[0m     \u001b[38;5;66;03m# Set the default nested backend to self._backend but do not set the\u001b[39;00m\n\u001b[1;32m    286\u001b[0m     \u001b[38;5;66;03m# change the default number of processes to -1\u001b[39;00m\n\u001b[1;32m    287\u001b[0m     \u001b[38;5;28;01mwith\u001b[39;00m parallel_backend(\u001b[38;5;28mself\u001b[39m\u001b[38;5;241m.\u001b[39m_backend, n_jobs\u001b[38;5;241m=\u001b[39m\u001b[38;5;28mself\u001b[39m\u001b[38;5;241m.\u001b[39m_n_jobs):\n\u001b[0;32m--> 288\u001b[0m         \u001b[38;5;28;01mreturn\u001b[39;00m [\u001b[43mfunc\u001b[49m\u001b[43m(\u001b[49m\u001b[38;5;241;43m*\u001b[39;49m\u001b[43margs\u001b[49m\u001b[43m,\u001b[49m\u001b[43m \u001b[49m\u001b[38;5;241;43m*\u001b[39;49m\u001b[38;5;241;43m*\u001b[39;49m\u001b[43mkwargs\u001b[49m\u001b[43m)\u001b[49m\n\u001b[1;32m    289\u001b[0m                 \u001b[38;5;28;01mfor\u001b[39;00m func, args, kwargs \u001b[38;5;129;01min\u001b[39;00m \u001b[38;5;28mself\u001b[39m\u001b[38;5;241m.\u001b[39mitems]\n",
      "File \u001b[0;32m~/opt/miniconda3/envs/SETU/lib/python3.11/site-packages/sklearn/utils/parallel.py:123\u001b[0m, in \u001b[0;36m_FuncWrapper.__call__\u001b[0;34m(self, *args, **kwargs)\u001b[0m\n\u001b[1;32m    121\u001b[0m     config \u001b[38;5;241m=\u001b[39m {}\n\u001b[1;32m    122\u001b[0m \u001b[38;5;28;01mwith\u001b[39;00m config_context(\u001b[38;5;241m*\u001b[39m\u001b[38;5;241m*\u001b[39mconfig):\n\u001b[0;32m--> 123\u001b[0m     \u001b[38;5;28;01mreturn\u001b[39;00m \u001b[38;5;28;43mself\u001b[39;49m\u001b[38;5;241;43m.\u001b[39;49m\u001b[43mfunction\u001b[49m\u001b[43m(\u001b[49m\u001b[38;5;241;43m*\u001b[39;49m\u001b[43margs\u001b[49m\u001b[43m,\u001b[49m\u001b[43m \u001b[49m\u001b[38;5;241;43m*\u001b[39;49m\u001b[38;5;241;43m*\u001b[39;49m\u001b[43mkwargs\u001b[49m\u001b[43m)\u001b[49m\n",
      "File \u001b[0;32m~/opt/miniconda3/envs/SETU/lib/python3.11/site-packages/sklearn/model_selection/_validation.py:686\u001b[0m, in \u001b[0;36m_fit_and_score\u001b[0;34m(estimator, X, y, scorer, train, test, verbose, parameters, fit_params, return_train_score, return_parameters, return_n_test_samples, return_times, return_estimator, split_progress, candidate_progress, error_score)\u001b[0m\n\u001b[1;32m    684\u001b[0m         estimator\u001b[38;5;241m.\u001b[39mfit(X_train, \u001b[38;5;241m*\u001b[39m\u001b[38;5;241m*\u001b[39mfit_params)\n\u001b[1;32m    685\u001b[0m     \u001b[38;5;28;01melse\u001b[39;00m:\n\u001b[0;32m--> 686\u001b[0m         \u001b[43mestimator\u001b[49m\u001b[38;5;241;43m.\u001b[39;49m\u001b[43mfit\u001b[49m\u001b[43m(\u001b[49m\u001b[43mX_train\u001b[49m\u001b[43m,\u001b[49m\u001b[43m \u001b[49m\u001b[43my_train\u001b[49m\u001b[43m,\u001b[49m\u001b[43m \u001b[49m\u001b[38;5;241;43m*\u001b[39;49m\u001b[38;5;241;43m*\u001b[39;49m\u001b[43mfit_params\u001b[49m\u001b[43m)\u001b[49m\n\u001b[1;32m    688\u001b[0m \u001b[38;5;28;01mexcept\u001b[39;00m \u001b[38;5;167;01mException\u001b[39;00m:\n\u001b[1;32m    689\u001b[0m     \u001b[38;5;66;03m# Note fit time as time until error\u001b[39;00m\n\u001b[1;32m    690\u001b[0m     fit_time \u001b[38;5;241m=\u001b[39m time\u001b[38;5;241m.\u001b[39mtime() \u001b[38;5;241m-\u001b[39m start_time\n",
      "File \u001b[0;32m~/opt/miniconda3/envs/SETU/lib/python3.11/site-packages/sklearn/ensemble/_forest.py:473\u001b[0m, in \u001b[0;36mBaseForest.fit\u001b[0;34m(self, X, y, sample_weight)\u001b[0m\n\u001b[1;32m    462\u001b[0m trees \u001b[38;5;241m=\u001b[39m [\n\u001b[1;32m    463\u001b[0m     \u001b[38;5;28mself\u001b[39m\u001b[38;5;241m.\u001b[39m_make_estimator(append\u001b[38;5;241m=\u001b[39m\u001b[38;5;28;01mFalse\u001b[39;00m, random_state\u001b[38;5;241m=\u001b[39mrandom_state)\n\u001b[1;32m    464\u001b[0m     \u001b[38;5;28;01mfor\u001b[39;00m i \u001b[38;5;129;01min\u001b[39;00m \u001b[38;5;28mrange\u001b[39m(n_more_estimators)\n\u001b[1;32m    465\u001b[0m ]\n\u001b[1;32m    467\u001b[0m \u001b[38;5;66;03m# Parallel loop: we prefer the threading backend as the Cython code\u001b[39;00m\n\u001b[1;32m    468\u001b[0m \u001b[38;5;66;03m# for fitting the trees is internally releasing the Python GIL\u001b[39;00m\n\u001b[1;32m    469\u001b[0m \u001b[38;5;66;03m# making threading more efficient than multiprocessing in\u001b[39;00m\n\u001b[1;32m    470\u001b[0m \u001b[38;5;66;03m# that case. However, for joblib 0.12+ we respect any\u001b[39;00m\n\u001b[1;32m    471\u001b[0m \u001b[38;5;66;03m# parallel_backend contexts set at a higher level,\u001b[39;00m\n\u001b[1;32m    472\u001b[0m \u001b[38;5;66;03m# since correctness does not rely on using threads.\u001b[39;00m\n\u001b[0;32m--> 473\u001b[0m trees \u001b[38;5;241m=\u001b[39m \u001b[43mParallel\u001b[49m\u001b[43m(\u001b[49m\n\u001b[1;32m    474\u001b[0m \u001b[43m    \u001b[49m\u001b[43mn_jobs\u001b[49m\u001b[38;5;241;43m=\u001b[39;49m\u001b[38;5;28;43mself\u001b[39;49m\u001b[38;5;241;43m.\u001b[39;49m\u001b[43mn_jobs\u001b[49m\u001b[43m,\u001b[49m\n\u001b[1;32m    475\u001b[0m \u001b[43m    \u001b[49m\u001b[43mverbose\u001b[49m\u001b[38;5;241;43m=\u001b[39;49m\u001b[38;5;28;43mself\u001b[39;49m\u001b[38;5;241;43m.\u001b[39;49m\u001b[43mverbose\u001b[49m\u001b[43m,\u001b[49m\n\u001b[1;32m    476\u001b[0m \u001b[43m    \u001b[49m\u001b[43mprefer\u001b[49m\u001b[38;5;241;43m=\u001b[39;49m\u001b[38;5;124;43m\"\u001b[39;49m\u001b[38;5;124;43mthreads\u001b[39;49m\u001b[38;5;124;43m\"\u001b[39;49m\u001b[43m,\u001b[49m\n\u001b[1;32m    477\u001b[0m \u001b[43m\u001b[49m\u001b[43m)\u001b[49m\u001b[43m(\u001b[49m\n\u001b[1;32m    478\u001b[0m \u001b[43m    \u001b[49m\u001b[43mdelayed\u001b[49m\u001b[43m(\u001b[49m\u001b[43m_parallel_build_trees\u001b[49m\u001b[43m)\u001b[49m\u001b[43m(\u001b[49m\n\u001b[1;32m    479\u001b[0m \u001b[43m        \u001b[49m\u001b[43mt\u001b[49m\u001b[43m,\u001b[49m\n\u001b[1;32m    480\u001b[0m \u001b[43m        \u001b[49m\u001b[38;5;28;43mself\u001b[39;49m\u001b[38;5;241;43m.\u001b[39;49m\u001b[43mbootstrap\u001b[49m\u001b[43m,\u001b[49m\n\u001b[1;32m    481\u001b[0m \u001b[43m        \u001b[49m\u001b[43mX\u001b[49m\u001b[43m,\u001b[49m\n\u001b[1;32m    482\u001b[0m \u001b[43m        \u001b[49m\u001b[43my\u001b[49m\u001b[43m,\u001b[49m\n\u001b[1;32m    483\u001b[0m \u001b[43m        \u001b[49m\u001b[43msample_weight\u001b[49m\u001b[43m,\u001b[49m\n\u001b[1;32m    484\u001b[0m \u001b[43m        \u001b[49m\u001b[43mi\u001b[49m\u001b[43m,\u001b[49m\n\u001b[1;32m    485\u001b[0m \u001b[43m        \u001b[49m\u001b[38;5;28;43mlen\u001b[39;49m\u001b[43m(\u001b[49m\u001b[43mtrees\u001b[49m\u001b[43m)\u001b[49m\u001b[43m,\u001b[49m\n\u001b[1;32m    486\u001b[0m \u001b[43m        \u001b[49m\u001b[43mverbose\u001b[49m\u001b[38;5;241;43m=\u001b[39;49m\u001b[38;5;28;43mself\u001b[39;49m\u001b[38;5;241;43m.\u001b[39;49m\u001b[43mverbose\u001b[49m\u001b[43m,\u001b[49m\n\u001b[1;32m    487\u001b[0m \u001b[43m        \u001b[49m\u001b[43mclass_weight\u001b[49m\u001b[38;5;241;43m=\u001b[39;49m\u001b[38;5;28;43mself\u001b[39;49m\u001b[38;5;241;43m.\u001b[39;49m\u001b[43mclass_weight\u001b[49m\u001b[43m,\u001b[49m\n\u001b[1;32m    488\u001b[0m \u001b[43m        \u001b[49m\u001b[43mn_samples_bootstrap\u001b[49m\u001b[38;5;241;43m=\u001b[39;49m\u001b[43mn_samples_bootstrap\u001b[49m\u001b[43m,\u001b[49m\n\u001b[1;32m    489\u001b[0m \u001b[43m    \u001b[49m\u001b[43m)\u001b[49m\n\u001b[1;32m    490\u001b[0m \u001b[43m    \u001b[49m\u001b[38;5;28;43;01mfor\u001b[39;49;00m\u001b[43m \u001b[49m\u001b[43mi\u001b[49m\u001b[43m,\u001b[49m\u001b[43m \u001b[49m\u001b[43mt\u001b[49m\u001b[43m \u001b[49m\u001b[38;5;129;43;01min\u001b[39;49;00m\u001b[43m \u001b[49m\u001b[38;5;28;43menumerate\u001b[39;49m\u001b[43m(\u001b[49m\u001b[43mtrees\u001b[49m\u001b[43m)\u001b[49m\n\u001b[1;32m    491\u001b[0m \u001b[43m\u001b[49m\u001b[43m)\u001b[49m\n\u001b[1;32m    493\u001b[0m \u001b[38;5;66;03m# Collect newly grown trees\u001b[39;00m\n\u001b[1;32m    494\u001b[0m \u001b[38;5;28mself\u001b[39m\u001b[38;5;241m.\u001b[39mestimators_\u001b[38;5;241m.\u001b[39mextend(trees)\n",
      "File \u001b[0;32m~/opt/miniconda3/envs/SETU/lib/python3.11/site-packages/sklearn/utils/parallel.py:63\u001b[0m, in \u001b[0;36mParallel.__call__\u001b[0;34m(self, iterable)\u001b[0m\n\u001b[1;32m     58\u001b[0m config \u001b[38;5;241m=\u001b[39m get_config()\n\u001b[1;32m     59\u001b[0m iterable_with_config \u001b[38;5;241m=\u001b[39m (\n\u001b[1;32m     60\u001b[0m     (_with_config(delayed_func, config), args, kwargs)\n\u001b[1;32m     61\u001b[0m     \u001b[38;5;28;01mfor\u001b[39;00m delayed_func, args, kwargs \u001b[38;5;129;01min\u001b[39;00m iterable\n\u001b[1;32m     62\u001b[0m )\n\u001b[0;32m---> 63\u001b[0m \u001b[38;5;28;01mreturn\u001b[39;00m \u001b[38;5;28;43msuper\u001b[39;49m\u001b[43m(\u001b[49m\u001b[43m)\u001b[49m\u001b[38;5;241;43m.\u001b[39;49m\u001b[38;5;21;43m__call__\u001b[39;49m\u001b[43m(\u001b[49m\u001b[43miterable_with_config\u001b[49m\u001b[43m)\u001b[49m\n",
      "File \u001b[0;32m~/opt/miniconda3/envs/SETU/lib/python3.11/site-packages/joblib/parallel.py:1088\u001b[0m, in \u001b[0;36mParallel.__call__\u001b[0;34m(self, iterable)\u001b[0m\n\u001b[1;32m   1085\u001b[0m \u001b[38;5;28;01mif\u001b[39;00m \u001b[38;5;28mself\u001b[39m\u001b[38;5;241m.\u001b[39mdispatch_one_batch(iterator):\n\u001b[1;32m   1086\u001b[0m     \u001b[38;5;28mself\u001b[39m\u001b[38;5;241m.\u001b[39m_iterating \u001b[38;5;241m=\u001b[39m \u001b[38;5;28mself\u001b[39m\u001b[38;5;241m.\u001b[39m_original_iterator \u001b[38;5;129;01mis\u001b[39;00m \u001b[38;5;129;01mnot\u001b[39;00m \u001b[38;5;28;01mNone\u001b[39;00m\n\u001b[0;32m-> 1088\u001b[0m \u001b[38;5;28;01mwhile\u001b[39;00m \u001b[38;5;28;43mself\u001b[39;49m\u001b[38;5;241;43m.\u001b[39;49m\u001b[43mdispatch_one_batch\u001b[49m\u001b[43m(\u001b[49m\u001b[43miterator\u001b[49m\u001b[43m)\u001b[49m:\n\u001b[1;32m   1089\u001b[0m     \u001b[38;5;28;01mpass\u001b[39;00m\n\u001b[1;32m   1091\u001b[0m \u001b[38;5;28;01mif\u001b[39;00m pre_dispatch \u001b[38;5;241m==\u001b[39m \u001b[38;5;124m\"\u001b[39m\u001b[38;5;124mall\u001b[39m\u001b[38;5;124m\"\u001b[39m \u001b[38;5;129;01mor\u001b[39;00m n_jobs \u001b[38;5;241m==\u001b[39m \u001b[38;5;241m1\u001b[39m:\n\u001b[1;32m   1092\u001b[0m     \u001b[38;5;66;03m# The iterable was consumed all at once by the above for loop.\u001b[39;00m\n\u001b[1;32m   1093\u001b[0m     \u001b[38;5;66;03m# No need to wait for async callbacks to trigger to\u001b[39;00m\n\u001b[1;32m   1094\u001b[0m     \u001b[38;5;66;03m# consumption.\u001b[39;00m\n",
      "File \u001b[0;32m~/opt/miniconda3/envs/SETU/lib/python3.11/site-packages/joblib/parallel.py:901\u001b[0m, in \u001b[0;36mParallel.dispatch_one_batch\u001b[0;34m(self, iterator)\u001b[0m\n\u001b[1;32m    899\u001b[0m     \u001b[38;5;28;01mreturn\u001b[39;00m \u001b[38;5;28;01mFalse\u001b[39;00m\n\u001b[1;32m    900\u001b[0m \u001b[38;5;28;01melse\u001b[39;00m:\n\u001b[0;32m--> 901\u001b[0m     \u001b[38;5;28;43mself\u001b[39;49m\u001b[38;5;241;43m.\u001b[39;49m\u001b[43m_dispatch\u001b[49m\u001b[43m(\u001b[49m\u001b[43mtasks\u001b[49m\u001b[43m)\u001b[49m\n\u001b[1;32m    902\u001b[0m     \u001b[38;5;28;01mreturn\u001b[39;00m \u001b[38;5;28;01mTrue\u001b[39;00m\n",
      "File \u001b[0;32m~/opt/miniconda3/envs/SETU/lib/python3.11/site-packages/joblib/parallel.py:819\u001b[0m, in \u001b[0;36mParallel._dispatch\u001b[0;34m(self, batch)\u001b[0m\n\u001b[1;32m    817\u001b[0m \u001b[38;5;28;01mwith\u001b[39;00m \u001b[38;5;28mself\u001b[39m\u001b[38;5;241m.\u001b[39m_lock:\n\u001b[1;32m    818\u001b[0m     job_idx \u001b[38;5;241m=\u001b[39m \u001b[38;5;28mlen\u001b[39m(\u001b[38;5;28mself\u001b[39m\u001b[38;5;241m.\u001b[39m_jobs)\n\u001b[0;32m--> 819\u001b[0m     job \u001b[38;5;241m=\u001b[39m \u001b[38;5;28;43mself\u001b[39;49m\u001b[38;5;241;43m.\u001b[39;49m\u001b[43m_backend\u001b[49m\u001b[38;5;241;43m.\u001b[39;49m\u001b[43mapply_async\u001b[49m\u001b[43m(\u001b[49m\u001b[43mbatch\u001b[49m\u001b[43m,\u001b[49m\u001b[43m \u001b[49m\u001b[43mcallback\u001b[49m\u001b[38;5;241;43m=\u001b[39;49m\u001b[43mcb\u001b[49m\u001b[43m)\u001b[49m\n\u001b[1;32m    820\u001b[0m     \u001b[38;5;66;03m# A job can complete so quickly than its callback is\u001b[39;00m\n\u001b[1;32m    821\u001b[0m     \u001b[38;5;66;03m# called before we get here, causing self._jobs to\u001b[39;00m\n\u001b[1;32m    822\u001b[0m     \u001b[38;5;66;03m# grow. To ensure correct results ordering, .insert is\u001b[39;00m\n\u001b[1;32m    823\u001b[0m     \u001b[38;5;66;03m# used (rather than .append) in the following line\u001b[39;00m\n\u001b[1;32m    824\u001b[0m     \u001b[38;5;28mself\u001b[39m\u001b[38;5;241m.\u001b[39m_jobs\u001b[38;5;241m.\u001b[39minsert(job_idx, job)\n",
      "File \u001b[0;32m~/opt/miniconda3/envs/SETU/lib/python3.11/site-packages/joblib/_parallel_backends.py:208\u001b[0m, in \u001b[0;36mSequentialBackend.apply_async\u001b[0;34m(self, func, callback)\u001b[0m\n\u001b[1;32m    206\u001b[0m \u001b[38;5;28;01mdef\u001b[39;00m \u001b[38;5;21mapply_async\u001b[39m(\u001b[38;5;28mself\u001b[39m, func, callback\u001b[38;5;241m=\u001b[39m\u001b[38;5;28;01mNone\u001b[39;00m):\n\u001b[1;32m    207\u001b[0m     \u001b[38;5;124;03m\"\"\"Schedule a func to be run\"\"\"\u001b[39;00m\n\u001b[0;32m--> 208\u001b[0m     result \u001b[38;5;241m=\u001b[39m \u001b[43mImmediateResult\u001b[49m\u001b[43m(\u001b[49m\u001b[43mfunc\u001b[49m\u001b[43m)\u001b[49m\n\u001b[1;32m    209\u001b[0m     \u001b[38;5;28;01mif\u001b[39;00m callback:\n\u001b[1;32m    210\u001b[0m         callback(result)\n",
      "File \u001b[0;32m~/opt/miniconda3/envs/SETU/lib/python3.11/site-packages/joblib/_parallel_backends.py:597\u001b[0m, in \u001b[0;36mImmediateResult.__init__\u001b[0;34m(self, batch)\u001b[0m\n\u001b[1;32m    594\u001b[0m \u001b[38;5;28;01mdef\u001b[39;00m \u001b[38;5;21m__init__\u001b[39m(\u001b[38;5;28mself\u001b[39m, batch):\n\u001b[1;32m    595\u001b[0m     \u001b[38;5;66;03m# Don't delay the application, to avoid keeping the input\u001b[39;00m\n\u001b[1;32m    596\u001b[0m     \u001b[38;5;66;03m# arguments in memory\u001b[39;00m\n\u001b[0;32m--> 597\u001b[0m     \u001b[38;5;28mself\u001b[39m\u001b[38;5;241m.\u001b[39mresults \u001b[38;5;241m=\u001b[39m \u001b[43mbatch\u001b[49m\u001b[43m(\u001b[49m\u001b[43m)\u001b[49m\n",
      "File \u001b[0;32m~/opt/miniconda3/envs/SETU/lib/python3.11/site-packages/joblib/parallel.py:288\u001b[0m, in \u001b[0;36mBatchedCalls.__call__\u001b[0;34m(self)\u001b[0m\n\u001b[1;32m    284\u001b[0m \u001b[38;5;28;01mdef\u001b[39;00m \u001b[38;5;21m__call__\u001b[39m(\u001b[38;5;28mself\u001b[39m):\n\u001b[1;32m    285\u001b[0m     \u001b[38;5;66;03m# Set the default nested backend to self._backend but do not set the\u001b[39;00m\n\u001b[1;32m    286\u001b[0m     \u001b[38;5;66;03m# change the default number of processes to -1\u001b[39;00m\n\u001b[1;32m    287\u001b[0m     \u001b[38;5;28;01mwith\u001b[39;00m parallel_backend(\u001b[38;5;28mself\u001b[39m\u001b[38;5;241m.\u001b[39m_backend, n_jobs\u001b[38;5;241m=\u001b[39m\u001b[38;5;28mself\u001b[39m\u001b[38;5;241m.\u001b[39m_n_jobs):\n\u001b[0;32m--> 288\u001b[0m         \u001b[38;5;28;01mreturn\u001b[39;00m \u001b[43m[\u001b[49m\u001b[43mfunc\u001b[49m\u001b[43m(\u001b[49m\u001b[38;5;241;43m*\u001b[39;49m\u001b[43margs\u001b[49m\u001b[43m,\u001b[49m\u001b[43m \u001b[49m\u001b[38;5;241;43m*\u001b[39;49m\u001b[38;5;241;43m*\u001b[39;49m\u001b[43mkwargs\u001b[49m\u001b[43m)\u001b[49m\n\u001b[1;32m    289\u001b[0m \u001b[43m                \u001b[49m\u001b[38;5;28;43;01mfor\u001b[39;49;00m\u001b[43m \u001b[49m\u001b[43mfunc\u001b[49m\u001b[43m,\u001b[49m\u001b[43m \u001b[49m\u001b[43margs\u001b[49m\u001b[43m,\u001b[49m\u001b[43m \u001b[49m\u001b[43mkwargs\u001b[49m\u001b[43m \u001b[49m\u001b[38;5;129;43;01min\u001b[39;49;00m\u001b[43m \u001b[49m\u001b[38;5;28;43mself\u001b[39;49m\u001b[38;5;241;43m.\u001b[39;49m\u001b[43mitems\u001b[49m\u001b[43m]\u001b[49m\n",
      "File \u001b[0;32m~/opt/miniconda3/envs/SETU/lib/python3.11/site-packages/joblib/parallel.py:288\u001b[0m, in \u001b[0;36m<listcomp>\u001b[0;34m(.0)\u001b[0m\n\u001b[1;32m    284\u001b[0m \u001b[38;5;28;01mdef\u001b[39;00m \u001b[38;5;21m__call__\u001b[39m(\u001b[38;5;28mself\u001b[39m):\n\u001b[1;32m    285\u001b[0m     \u001b[38;5;66;03m# Set the default nested backend to self._backend but do not set the\u001b[39;00m\n\u001b[1;32m    286\u001b[0m     \u001b[38;5;66;03m# change the default number of processes to -1\u001b[39;00m\n\u001b[1;32m    287\u001b[0m     \u001b[38;5;28;01mwith\u001b[39;00m parallel_backend(\u001b[38;5;28mself\u001b[39m\u001b[38;5;241m.\u001b[39m_backend, n_jobs\u001b[38;5;241m=\u001b[39m\u001b[38;5;28mself\u001b[39m\u001b[38;5;241m.\u001b[39m_n_jobs):\n\u001b[0;32m--> 288\u001b[0m         \u001b[38;5;28;01mreturn\u001b[39;00m [\u001b[43mfunc\u001b[49m\u001b[43m(\u001b[49m\u001b[38;5;241;43m*\u001b[39;49m\u001b[43margs\u001b[49m\u001b[43m,\u001b[49m\u001b[43m \u001b[49m\u001b[38;5;241;43m*\u001b[39;49m\u001b[38;5;241;43m*\u001b[39;49m\u001b[43mkwargs\u001b[49m\u001b[43m)\u001b[49m\n\u001b[1;32m    289\u001b[0m                 \u001b[38;5;28;01mfor\u001b[39;00m func, args, kwargs \u001b[38;5;129;01min\u001b[39;00m \u001b[38;5;28mself\u001b[39m\u001b[38;5;241m.\u001b[39mitems]\n",
      "File \u001b[0;32m~/opt/miniconda3/envs/SETU/lib/python3.11/site-packages/sklearn/utils/parallel.py:123\u001b[0m, in \u001b[0;36m_FuncWrapper.__call__\u001b[0;34m(self, *args, **kwargs)\u001b[0m\n\u001b[1;32m    121\u001b[0m     config \u001b[38;5;241m=\u001b[39m {}\n\u001b[1;32m    122\u001b[0m \u001b[38;5;28;01mwith\u001b[39;00m config_context(\u001b[38;5;241m*\u001b[39m\u001b[38;5;241m*\u001b[39mconfig):\n\u001b[0;32m--> 123\u001b[0m     \u001b[38;5;28;01mreturn\u001b[39;00m \u001b[38;5;28;43mself\u001b[39;49m\u001b[38;5;241;43m.\u001b[39;49m\u001b[43mfunction\u001b[49m\u001b[43m(\u001b[49m\u001b[38;5;241;43m*\u001b[39;49m\u001b[43margs\u001b[49m\u001b[43m,\u001b[49m\u001b[43m \u001b[49m\u001b[38;5;241;43m*\u001b[39;49m\u001b[38;5;241;43m*\u001b[39;49m\u001b[43mkwargs\u001b[49m\u001b[43m)\u001b[49m\n",
      "File \u001b[0;32m~/opt/miniconda3/envs/SETU/lib/python3.11/site-packages/sklearn/ensemble/_forest.py:184\u001b[0m, in \u001b[0;36m_parallel_build_trees\u001b[0;34m(tree, bootstrap, X, y, sample_weight, tree_idx, n_trees, verbose, class_weight, n_samples_bootstrap)\u001b[0m\n\u001b[1;32m    181\u001b[0m     \u001b[38;5;28;01melif\u001b[39;00m class_weight \u001b[38;5;241m==\u001b[39m \u001b[38;5;124m\"\u001b[39m\u001b[38;5;124mbalanced_subsample\u001b[39m\u001b[38;5;124m\"\u001b[39m:\n\u001b[1;32m    182\u001b[0m         curr_sample_weight \u001b[38;5;241m*\u001b[39m\u001b[38;5;241m=\u001b[39m compute_sample_weight(\u001b[38;5;124m\"\u001b[39m\u001b[38;5;124mbalanced\u001b[39m\u001b[38;5;124m\"\u001b[39m, y, indices\u001b[38;5;241m=\u001b[39mindices)\n\u001b[0;32m--> 184\u001b[0m     \u001b[43mtree\u001b[49m\u001b[38;5;241;43m.\u001b[39;49m\u001b[43mfit\u001b[49m\u001b[43m(\u001b[49m\u001b[43mX\u001b[49m\u001b[43m,\u001b[49m\u001b[43m \u001b[49m\u001b[43my\u001b[49m\u001b[43m,\u001b[49m\u001b[43m \u001b[49m\u001b[43msample_weight\u001b[49m\u001b[38;5;241;43m=\u001b[39;49m\u001b[43mcurr_sample_weight\u001b[49m\u001b[43m,\u001b[49m\u001b[43m \u001b[49m\u001b[43mcheck_input\u001b[49m\u001b[38;5;241;43m=\u001b[39;49m\u001b[38;5;28;43;01mFalse\u001b[39;49;00m\u001b[43m)\u001b[49m\n\u001b[1;32m    185\u001b[0m \u001b[38;5;28;01melse\u001b[39;00m:\n\u001b[1;32m    186\u001b[0m     tree\u001b[38;5;241m.\u001b[39mfit(X, y, sample_weight\u001b[38;5;241m=\u001b[39msample_weight, check_input\u001b[38;5;241m=\u001b[39m\u001b[38;5;28;01mFalse\u001b[39;00m)\n",
      "File \u001b[0;32m~/opt/miniconda3/envs/SETU/lib/python3.11/site-packages/sklearn/tree/_classes.py:1247\u001b[0m, in \u001b[0;36mDecisionTreeRegressor.fit\u001b[0;34m(self, X, y, sample_weight, check_input)\u001b[0m\n\u001b[1;32m   1218\u001b[0m \u001b[38;5;28;01mdef\u001b[39;00m \u001b[38;5;21mfit\u001b[39m(\u001b[38;5;28mself\u001b[39m, X, y, sample_weight\u001b[38;5;241m=\u001b[39m\u001b[38;5;28;01mNone\u001b[39;00m, check_input\u001b[38;5;241m=\u001b[39m\u001b[38;5;28;01mTrue\u001b[39;00m):\n\u001b[1;32m   1219\u001b[0m     \u001b[38;5;124;03m\"\"\"Build a decision tree regressor from the training set (X, y).\u001b[39;00m\n\u001b[1;32m   1220\u001b[0m \n\u001b[1;32m   1221\u001b[0m \u001b[38;5;124;03m    Parameters\u001b[39;00m\n\u001b[0;32m   (...)\u001b[0m\n\u001b[1;32m   1244\u001b[0m \u001b[38;5;124;03m        Fitted estimator.\u001b[39;00m\n\u001b[1;32m   1245\u001b[0m \u001b[38;5;124;03m    \"\"\"\u001b[39;00m\n\u001b[0;32m-> 1247\u001b[0m     \u001b[38;5;28;43msuper\u001b[39;49m\u001b[43m(\u001b[49m\u001b[43m)\u001b[49m\u001b[38;5;241;43m.\u001b[39;49m\u001b[43mfit\u001b[49m\u001b[43m(\u001b[49m\n\u001b[1;32m   1248\u001b[0m \u001b[43m        \u001b[49m\u001b[43mX\u001b[49m\u001b[43m,\u001b[49m\n\u001b[1;32m   1249\u001b[0m \u001b[43m        \u001b[49m\u001b[43my\u001b[49m\u001b[43m,\u001b[49m\n\u001b[1;32m   1250\u001b[0m \u001b[43m        \u001b[49m\u001b[43msample_weight\u001b[49m\u001b[38;5;241;43m=\u001b[39;49m\u001b[43msample_weight\u001b[49m\u001b[43m,\u001b[49m\n\u001b[1;32m   1251\u001b[0m \u001b[43m        \u001b[49m\u001b[43mcheck_input\u001b[49m\u001b[38;5;241;43m=\u001b[39;49m\u001b[43mcheck_input\u001b[49m\u001b[43m,\u001b[49m\n\u001b[1;32m   1252\u001b[0m \u001b[43m    \u001b[49m\u001b[43m)\u001b[49m\n\u001b[1;32m   1253\u001b[0m     \u001b[38;5;28;01mreturn\u001b[39;00m \u001b[38;5;28mself\u001b[39m\n",
      "File \u001b[0;32m~/opt/miniconda3/envs/SETU/lib/python3.11/site-packages/sklearn/tree/_classes.py:379\u001b[0m, in \u001b[0;36mBaseDecisionTree.fit\u001b[0;34m(self, X, y, sample_weight, check_input)\u001b[0m\n\u001b[1;32m    368\u001b[0m \u001b[38;5;28;01melse\u001b[39;00m:\n\u001b[1;32m    369\u001b[0m     builder \u001b[38;5;241m=\u001b[39m BestFirstTreeBuilder(\n\u001b[1;32m    370\u001b[0m         splitter,\n\u001b[1;32m    371\u001b[0m         min_samples_split,\n\u001b[0;32m   (...)\u001b[0m\n\u001b[1;32m    376\u001b[0m         \u001b[38;5;28mself\u001b[39m\u001b[38;5;241m.\u001b[39mmin_impurity_decrease,\n\u001b[1;32m    377\u001b[0m     )\n\u001b[0;32m--> 379\u001b[0m \u001b[43mbuilder\u001b[49m\u001b[38;5;241;43m.\u001b[39;49m\u001b[43mbuild\u001b[49m\u001b[43m(\u001b[49m\u001b[38;5;28;43mself\u001b[39;49m\u001b[38;5;241;43m.\u001b[39;49m\u001b[43mtree_\u001b[49m\u001b[43m,\u001b[49m\u001b[43m \u001b[49m\u001b[43mX\u001b[49m\u001b[43m,\u001b[49m\u001b[43m \u001b[49m\u001b[43my\u001b[49m\u001b[43m,\u001b[49m\u001b[43m \u001b[49m\u001b[43msample_weight\u001b[49m\u001b[43m)\u001b[49m\n\u001b[1;32m    381\u001b[0m \u001b[38;5;28;01mif\u001b[39;00m \u001b[38;5;28mself\u001b[39m\u001b[38;5;241m.\u001b[39mn_outputs_ \u001b[38;5;241m==\u001b[39m \u001b[38;5;241m1\u001b[39m \u001b[38;5;129;01mand\u001b[39;00m is_classifier(\u001b[38;5;28mself\u001b[39m):\n\u001b[1;32m    382\u001b[0m     \u001b[38;5;28mself\u001b[39m\u001b[38;5;241m.\u001b[39mn_classes_ \u001b[38;5;241m=\u001b[39m \u001b[38;5;28mself\u001b[39m\u001b[38;5;241m.\u001b[39mn_classes_[\u001b[38;5;241m0\u001b[39m]\n",
      "\u001b[0;31mKeyboardInterrupt\u001b[0m: "
     ]
    }
   ],
   "source": [
    "# Load the data into a pandas dataframe\n",
    "df = pd.read_csv('PPR-cleaned-v2.csv')\n",
    "df['Date'] = pd.to_datetime(df['Date'], infer_datetime_format=True)\n",
    "df = df.set_index('Date')\n",
    "\n",
    "# Select the relevant columns for modeling\n",
    "X = df[['County', 'Description of Property','Not Full Market Price', 'VAT Exclusive']].copy()\n",
    "\n",
    "# One-hot encode categorical variables\n",
    "X = pd.get_dummies(X, columns=['County', 'Description of Property','Not Full Market Price', 'VAT Exclusive'])\n",
    "\n",
    "# Split data into training and testing sets\n",
    "X_train, X_test, y_train, y_test = train_test_split(X, df['Price'], test_size=0.2, random_state=42)\n",
    "\n",
    "# Create and fit the random forest model with 1000 trees\n",
    "rf = RandomForestRegressor(n_estimators=1000, random_state=42)\n",
    "rf.fit(X_train, y_train)\n",
    "\n",
    "# Predict on the testing set and calculate mean squared error\n",
    "y_pred = rf.predict(X_test)\n",
    "mse = mean_squared_error(y_test, y_pred)\n",
    "print('Mean Squared Error:', mse)\n",
    "\n",
    "# Perform cross-validation to evaluate model performance\n",
    "cv_scores = cross_val_score(rf, X_train, y_train, cv=5)\n",
    "print('Cross-validation scores:', cv_scores)\n",
    "print('Mean Cross-validation score:', cv_scores.mean())\n",
    "\n",
    "# Plot feature importance\n",
    "importances = rf.feature_importances_\n",
    "features = X.columns\n",
    "indices = np.argsort(importances)[::-1]\n",
    "plt.figure(figsize=(10, 6))\n",
    "sns.barplot(x=importances[indices], y=features[indices])\n",
    "plt.title('Feature Importance')\n",
    "plt.show()\n"
   ]
  },
  {
   "attachments": {},
   "cell_type": "markdown",
   "id": "63fa2815",
   "metadata": {},
   "source": [
    "## KMeans"
   ]
  },
  {
   "cell_type": "code",
   "execution_count": 14,
   "id": "e4c4c0f2",
   "metadata": {
    "ExecuteTime": {
     "end_time": "2023-04-15T16:24:16.267433Z",
     "start_time": "2023-04-15T16:24:16.267409Z"
    }
   },
   "outputs": [
    {
     "name": "stderr",
     "output_type": "stream",
     "text": [
      "/var/folders/55/j0v2zlbn1575rkmztsycxlfw0000gn/T/ipykernel_33889/3266486803.py:2: UserWarning:\n",
      "\n",
      "The argument 'infer_datetime_format' is deprecated and will be removed in a future version. A strict version of it is now the default, see https://pandas.pydata.org/pdeps/0004-consistent-to-datetime-parsing.html. You can safely remove this argument.\n",
      "\n",
      "/Users/pratik/opt/miniconda3/envs/SETU/lib/python3.11/site-packages/sklearn/cluster/_kmeans.py:870: FutureWarning:\n",
      "\n",
      "The default value of `n_init` will change from 10 to 'auto' in 1.4. Set the value of `n_init` explicitly to suppress the warning\n",
      "\n"
     ]
    },
    {
     "data": {
      "image/png": "[encoded data removed]",
      "text/plain": [
       "<Figure size 640x480 with 1 Axes>"
      ]
     },
     "metadata": {},
     "output_type": "display_data"
    }
   ],
   "source": [
    "df = pd.read_csv('PPR-cleaned-v2.csv')\n",
    "df['Date'] = pd.to_datetime(df['Date'], infer_datetime_format=True)\n",
    "df = df.set_index('Date')\n",
    "\n",
    "# Select the relevant columns for clustering\n",
    "X = df[['Town', 'County', 'Description of Property', 'Province']].copy()\n",
    "\n",
    "# Use LabelEncoder to convert categorical columns to numerical values\n",
    "le = LabelEncoder()\n",
    "X['Town'] = le.fit_transform(X['Town'])\n",
    "X['County'] = le.fit_transform(X['County'])\n",
    "X['Description of Property'] = le.fit_transform(X['Description of Property'])\n",
    "X['Province'] = le.fit_transform(X['Province'])\n",
    "\n",
    "# Scale the data to have zero mean and unit variance\n",
    "scaler = StandardScaler()\n",
    "X_scaled = scaler.fit_transform(X)\n",
    "\n",
    "# Set the number of clusters and fit the K-means model\n",
    "kmeans = KMeans(n_clusters=26, random_state=42)\n",
    "kmeans.fit(X_scaled)\n",
    "\n",
    "# Get the cluster labels and add them to the original dataframe\n",
    "labels = kmeans.labels_\n",
    "df['Cluster'] = labels\n",
    "\n",
    "# Plot the clusters on a scatterplot\n",
    "plt.scatter(df['Price'], df['County'], c=labels)\n",
    "plt.xlabel('Price')\n",
    "plt.ylabel('Town')\n",
    "plt.show()"
   ]
  },
  {
   "attachments": {},
   "cell_type": "markdown",
   "id": "c54a4197",
   "metadata": {},
   "source": [
    "## Prophet"
   ]
  },
  {
   "cell_type": "code",
   "execution_count": null,
   "id": "5d36ae38",
   "metadata": {
    "ExecuteTime": {
     "end_time": "2023-04-15T16:30:15.297691Z",
     "start_time": "2023-04-15T16:30:15.273441Z"
    }
   },
   "outputs": [
    {
     "ename": "ModuleNotFoundError",
     "evalue": "No module named 'fbprophet'",
     "output_type": "error",
     "traceback": [
      "\u001b[0;31m---------------------------------------------------------------------------\u001b[0m",
      "\u001b[0;31mModuleNotFoundError\u001b[0m                       Traceback (most recent call last)",
      "Cell \u001b[0;32mIn [11], line 1\u001b[0m\n\u001b[0;32m----> 1\u001b[0m \u001b[38;5;28;01mfrom\u001b[39;00m \u001b[38;5;21;01mfbprophet\u001b[39;00m \u001b[38;5;28;01mimport\u001b[39;00m Prophet\n\u001b[1;32m      3\u001b[0m \u001b[38;5;66;03m# Prepare data\u001b[39;00m\n\u001b[1;32m      4\u001b[0m df \u001b[38;5;241m=\u001b[39m pd\u001b[38;5;241m.\u001b[39mread_csv(\u001b[38;5;124m'\u001b[39m\u001b[38;5;124mPPR-cleaned-v2.csv\u001b[39m\u001b[38;5;124m'\u001b[39m)\n",
      "\u001b[0;31mModuleNotFoundError\u001b[0m: No module named 'fbprophet'"
     ]
    }
   ],
   "source": [
    "from fbprophet import Prophet\n",
    "\n",
    "# Prepare data\n",
    "df = pd.read_csv('PPR-cleaned-v2.csv')\n",
    "df['Date'] = pd.to_datetime(df['Date'], infer_datetime_format=True)\n",
    "df = df.set_index('Date')\n",
    "df = df.resample('M').mean() # Resample to monthly data\n",
    "df = df.reset_index()\n",
    "df = df[['Date', 'Price']]\n",
    "\n",
    "# Prepare data for Prophet model\n",
    "df_prophet = df.rename(columns={'Date':'ds', 'Price':'y'})\n",
    "\n",
    "# Fit Prophet model\n",
    "m = Prophet()\n",
    "m.fit(df_prophet)\n",
    "\n",
    "# Make future predictions\n",
    "future = m.make_future_dataframe(periods=12, freq='M')\n",
    "forecast = m.predict(future)\n",
    "\n",
    "# Plot forecast\n",
    "m.plot(forecast)"
   ]
  },
  {
   "cell_type": "code",
   "execution_count": null,
   "id": "29ed2df4",
   "metadata": {},
   "outputs": [],
   "source": []
  }
 ],
 "metadata": {
  "kernelspec": {
   "display_name": "Python 3 (ipykernel)",
   "language": "python",
   "name": "python3"
  },
  "language_info": {
   "codemirror_mode": {
    "name": "ipython",
    "version": 3
   },
   "file_extension": ".py",
   "mimetype": "text/x-python",
   "name": "python",
   "nbconvert_exporter": "python",
   "pygments_lexer": "ipython3",
   "version": "3.11.0"
  }
 },
 "nbformat": 4,
 "nbformat_minor": 5
}
