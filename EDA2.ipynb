{
 "cells": [
  {
   "cell_type": "code",
   "execution_count": 1,
   "metadata": {},
   "outputs": [],
   "source": [
    "import numpy as np\n",
    "import matplotlib.pyplot as plt\n",
    "import plotly.express as px\n",
    "import pandas as pd\n",
    "import re"
   ]
  },
  {
   "cell_type": "code",
   "execution_count": 2,
   "metadata": {},
   "outputs": [
    {
     "name": "stderr",
     "output_type": "stream",
     "text": [
      "/var/folders/55/j0v2zlbn1575rkmztsycxlfw0000gn/T/ipykernel_5914/96290156.py:1: DtypeWarning: Columns (8) have mixed types. Specify dtype option on import or set low_memory=False.\n",
      "  df = pd.read_csv(\"PPR-ALL.csv\", encoding='unicode_escape')\n"
     ]
    }
   ],
   "source": [
    "df = pd.read_csv(\"PPR-ALL.csv\", encoding='unicode_escape')"
   ]
  },
  {
   "cell_type": "code",
   "execution_count": 3,
   "metadata": {},
   "outputs": [],
   "source": [
    "df.rename(columns = {\"Date of Sale (dd/mm/yyyy)\":\"Date\"},inplace=True)"
   ]
  },
  {
   "cell_type": "code",
   "execution_count": 4,
   "metadata": {},
   "outputs": [
    {
     "name": "stderr",
     "output_type": "stream",
     "text": [
      "/var/folders/55/j0v2zlbn1575rkmztsycxlfw0000gn/T/ipykernel_5914/1846559339.py:1: UserWarning: The argument 'infer_datetime_format' is deprecated and will be removed in a future version. A strict version of it is now the default, see https://pandas.pydata.org/pdeps/0004-consistent-to-datetime-parsing.html. You can safely remove this argument.\n",
      "  df['Date'] = pd.to_datetime(df['Date'], infer_datetime_format=True, format='mixed')\n"
     ]
    }
   ],
   "source": [
    "df['Date'] = pd.to_datetime(df['Date'], infer_datetime_format=True, format='mixed')"
   ]
  },
  {
   "cell_type": "code",
   "execution_count": 5,
   "metadata": {},
   "outputs": [
    {
     "data": {
      "text/html": [
       "<div>\n",
       "<style scoped>\n",
       "    .dataframe tbody tr th:only-of-type {\n",
       "        vertical-align: middle;\n",
       "    }\n",
       "\n",
       "    .dataframe tbody tr th {\n",
       "        vertical-align: top;\n",
       "    }\n",
       "\n",
       "    .dataframe thead th {\n",
       "        text-align: right;\n",
       "    }\n",
       "</style>\n",
       "<table border=\"1\" class=\"dataframe\">\n",
       "  <thead>\n",
       "    <tr style=\"text-align: right;\">\n",
       "      <th></th>\n",
       "      <th>Date</th>\n",
       "      <th>Address</th>\n",
       "      <th>County</th>\n",
       "      <th>Eircode</th>\n",
       "      <th>Price ()</th>\n",
       "      <th>Not Full Market Price</th>\n",
       "      <th>VAT Exclusive</th>\n",
       "      <th>Description of Property</th>\n",
       "      <th>Property Size Description</th>\n",
       "    </tr>\n",
       "  </thead>\n",
       "  <tbody>\n",
       "    <tr>\n",
       "      <th>0</th>\n",
       "      <td>2010-01-01</td>\n",
       "      <td>5 Braemor Drive, Churchtown, Co.Dublin</td>\n",
       "      <td>Dublin</td>\n",
       "      <td>NaN</td>\n",
       "      <td>343,000.00</td>\n",
       "      <td>No</td>\n",
       "      <td>No</td>\n",
       "      <td>Second-Hand Dwelling house /Apartment</td>\n",
       "      <td>NaN</td>\n",
       "    </tr>\n",
       "    <tr>\n",
       "      <th>1</th>\n",
       "      <td>2010-03-01</td>\n",
       "      <td>134 Ashewood Walk, Summerhill Lane, Portlaoise</td>\n",
       "      <td>Laois</td>\n",
       "      <td>NaN</td>\n",
       "      <td>185,000.00</td>\n",
       "      <td>No</td>\n",
       "      <td>Yes</td>\n",
       "      <td>New Dwelling house /Apartment</td>\n",
       "      <td>greater than or equal to 38 sq metres and less...</td>\n",
       "    </tr>\n",
       "    <tr>\n",
       "      <th>2</th>\n",
       "      <td>2010-04-01</td>\n",
       "      <td>1 Meadow Avenue, Dundrum, Dublin 14</td>\n",
       "      <td>Dublin</td>\n",
       "      <td>NaN</td>\n",
       "      <td>438,500.00</td>\n",
       "      <td>No</td>\n",
       "      <td>No</td>\n",
       "      <td>Second-Hand Dwelling house /Apartment</td>\n",
       "      <td>NaN</td>\n",
       "    </tr>\n",
       "    <tr>\n",
       "      <th>3</th>\n",
       "      <td>2010-04-01</td>\n",
       "      <td>1 The Haven, Mornington</td>\n",
       "      <td>Meath</td>\n",
       "      <td>NaN</td>\n",
       "      <td>400,000.00</td>\n",
       "      <td>No</td>\n",
       "      <td>No</td>\n",
       "      <td>Second-Hand Dwelling house /Apartment</td>\n",
       "      <td>NaN</td>\n",
       "    </tr>\n",
       "    <tr>\n",
       "      <th>4</th>\n",
       "      <td>2010-04-01</td>\n",
       "      <td>11 Melville Heights, Kilkenny</td>\n",
       "      <td>Kilkenny</td>\n",
       "      <td>NaN</td>\n",
       "      <td>160,000.00</td>\n",
       "      <td>No</td>\n",
       "      <td>No</td>\n",
       "      <td>Second-Hand Dwelling house /Apartment</td>\n",
       "      <td>NaN</td>\n",
       "    </tr>\n",
       "  </tbody>\n",
       "</table>\n",
       "</div>"
      ],
      "text/plain": [
       "        Date                                         Address    County   \n",
       "0 2010-01-01          5 Braemor Drive, Churchtown, Co.Dublin    Dublin  \\\n",
       "1 2010-03-01  134 Ashewood Walk, Summerhill Lane, Portlaoise     Laois   \n",
       "2 2010-04-01             1 Meadow Avenue, Dundrum, Dublin 14    Dublin   \n",
       "3 2010-04-01                         1 The Haven, Mornington     Meath   \n",
       "4 2010-04-01                   11 Melville Heights, Kilkenny  Kilkenny   \n",
       "\n",
       "  Eircode    Price () Not Full Market Price VAT Exclusive   \n",
       "0     NaN  343,000.00                    No            No  \\\n",
       "1     NaN  185,000.00                    No           Yes   \n",
       "2     NaN  438,500.00                    No            No   \n",
       "3     NaN  400,000.00                    No            No   \n",
       "4     NaN  160,000.00                    No            No   \n",
       "\n",
       "                 Description of Property   \n",
       "0  Second-Hand Dwelling house /Apartment  \\\n",
       "1          New Dwelling house /Apartment   \n",
       "2  Second-Hand Dwelling house /Apartment   \n",
       "3  Second-Hand Dwelling house /Apartment   \n",
       "4  Second-Hand Dwelling house /Apartment   \n",
       "\n",
       "                           Property Size Description  \n",
       "0                                                NaN  \n",
       "1  greater than or equal to 38 sq metres and less...  \n",
       "2                                                NaN  \n",
       "3                                                NaN  \n",
       "4                                                NaN  "
      ]
     },
     "execution_count": 5,
     "metadata": {},
     "output_type": "execute_result"
    }
   ],
   "source": [
    "df.head()"
   ]
  },
  {
   "cell_type": "code",
   "execution_count": 6,
   "metadata": {},
   "outputs": [],
   "source": [
    "# Removing the Euro symbol from the Price column\n",
    "\n",
    "def clean_price(string):\n",
    "    string = string.replace(\",\",\"\")\n",
    "    return float(string[1:])\n",
    "Price = df['Price ()'].apply(clean_price)\n",
    "\n",
    "df = df.drop('Price ()',axis=1)\n",
    "\n",
    "df['Price'] = Price"
   ]
  },
  {
   "cell_type": "code",
   "execution_count": 7,
   "metadata": {},
   "outputs": [],
   "source": [
    "replacement_dict = {\n",
    "    'Second-Hand Dwelling house /Apartment':'Second-Hand',\n",
    "    'New Dwelling house /Apartment':'New',\n",
    "    'Teach/Árasán Cónaithe Atháimhe':'Second-Hand',\n",
    "    'Teach/Árasán Cónaithe Nua':'New',\n",
    "    'Teach/?ras?n C?naithe Nua':'New'\n",
    "}\n",
    "\n",
    "df['Description of Property'] = df['Description of Property'].replace(replacement_dict)"
   ]
  },
  {
   "cell_type": "code",
   "execution_count": 8,
   "metadata": {},
   "outputs": [
    {
     "data": {
      "text/html": [
       "<div>\n",
       "<style scoped>\n",
       "    .dataframe tbody tr th:only-of-type {\n",
       "        vertical-align: middle;\n",
       "    }\n",
       "\n",
       "    .dataframe tbody tr th {\n",
       "        vertical-align: top;\n",
       "    }\n",
       "\n",
       "    .dataframe thead th {\n",
       "        text-align: right;\n",
       "    }\n",
       "</style>\n",
       "<table border=\"1\" class=\"dataframe\">\n",
       "  <thead>\n",
       "    <tr style=\"text-align: right;\">\n",
       "      <th></th>\n",
       "      <th>Date</th>\n",
       "      <th>Address</th>\n",
       "      <th>County</th>\n",
       "      <th>Eircode</th>\n",
       "      <th>Not Full Market Price</th>\n",
       "      <th>VAT Exclusive</th>\n",
       "      <th>Description of Property</th>\n",
       "      <th>Property Size Description</th>\n",
       "      <th>Price</th>\n",
       "    </tr>\n",
       "  </thead>\n",
       "  <tbody>\n",
       "    <tr>\n",
       "      <th>0</th>\n",
       "      <td>2010-01-01</td>\n",
       "      <td>5 Braemor Drive, Churchtown, Co.Dublin</td>\n",
       "      <td>Dublin</td>\n",
       "      <td>NaN</td>\n",
       "      <td>No</td>\n",
       "      <td>No</td>\n",
       "      <td>Second-Hand</td>\n",
       "      <td>NaN</td>\n",
       "      <td>343000.0</td>\n",
       "    </tr>\n",
       "    <tr>\n",
       "      <th>1</th>\n",
       "      <td>2010-03-01</td>\n",
       "      <td>134 Ashewood Walk, Summerhill Lane, Portlaoise</td>\n",
       "      <td>Laois</td>\n",
       "      <td>NaN</td>\n",
       "      <td>No</td>\n",
       "      <td>Yes</td>\n",
       "      <td>New</td>\n",
       "      <td>greater than or equal to 38 sq metres and less...</td>\n",
       "      <td>185000.0</td>\n",
       "    </tr>\n",
       "    <tr>\n",
       "      <th>2</th>\n",
       "      <td>2010-04-01</td>\n",
       "      <td>1 Meadow Avenue, Dundrum, Dublin 14</td>\n",
       "      <td>Dublin</td>\n",
       "      <td>NaN</td>\n",
       "      <td>No</td>\n",
       "      <td>No</td>\n",
       "      <td>Second-Hand</td>\n",
       "      <td>NaN</td>\n",
       "      <td>438500.0</td>\n",
       "    </tr>\n",
       "    <tr>\n",
       "      <th>3</th>\n",
       "      <td>2010-04-01</td>\n",
       "      <td>1 The Haven, Mornington</td>\n",
       "      <td>Meath</td>\n",
       "      <td>NaN</td>\n",
       "      <td>No</td>\n",
       "      <td>No</td>\n",
       "      <td>Second-Hand</td>\n",
       "      <td>NaN</td>\n",
       "      <td>400000.0</td>\n",
       "    </tr>\n",
       "    <tr>\n",
       "      <th>4</th>\n",
       "      <td>2010-04-01</td>\n",
       "      <td>11 Melville Heights, Kilkenny</td>\n",
       "      <td>Kilkenny</td>\n",
       "      <td>NaN</td>\n",
       "      <td>No</td>\n",
       "      <td>No</td>\n",
       "      <td>Second-Hand</td>\n",
       "      <td>NaN</td>\n",
       "      <td>160000.0</td>\n",
       "    </tr>\n",
       "  </tbody>\n",
       "</table>\n",
       "</div>"
      ],
      "text/plain": [
       "        Date                                         Address    County   \n",
       "0 2010-01-01          5 Braemor Drive, Churchtown, Co.Dublin    Dublin  \\\n",
       "1 2010-03-01  134 Ashewood Walk, Summerhill Lane, Portlaoise     Laois   \n",
       "2 2010-04-01             1 Meadow Avenue, Dundrum, Dublin 14    Dublin   \n",
       "3 2010-04-01                         1 The Haven, Mornington     Meath   \n",
       "4 2010-04-01                   11 Melville Heights, Kilkenny  Kilkenny   \n",
       "\n",
       "  Eircode Not Full Market Price VAT Exclusive Description of Property   \n",
       "0     NaN                    No            No             Second-Hand  \\\n",
       "1     NaN                    No           Yes                     New   \n",
       "2     NaN                    No            No             Second-Hand   \n",
       "3     NaN                    No            No             Second-Hand   \n",
       "4     NaN                    No            No             Second-Hand   \n",
       "\n",
       "                           Property Size Description     Price  \n",
       "0                                                NaN  343000.0  \n",
       "1  greater than or equal to 38 sq metres and less...  185000.0  \n",
       "2                                                NaN  438500.0  \n",
       "3                                                NaN  400000.0  \n",
       "4                                                NaN  160000.0  "
      ]
     },
     "execution_count": 8,
     "metadata": {},
     "output_type": "execute_result"
    }
   ],
   "source": [
    "df.head()"
   ]
  },
  {
   "cell_type": "code",
   "execution_count": 9,
   "metadata": {},
   "outputs": [],
   "source": [
    "Town = []\n",
    "for i in range(len(df)):\n",
    "    if df['Address'].loc[i].split(',')[-1][1:].split(\" \")[-1].split('.')[-1].lower() == df['County'].loc[i].lower():\n",
    "        if any(char.isdigit() for char in df['Address'].loc[i].split(',')[-2].strip()):\n",
    "            string = re.sub(r\"\\d+\",\"\", df['Address'].loc[i].split(',')[-2].strip())\n",
    "            Town.append(string.lower())\n",
    "        else:\n",
    "            Town.append(df['Address'].loc[i].split(',')[-2].strip().lower())\n",
    "    else:\n",
    "        Town.append(df['Address'].loc[i].split(',')[-1].strip().lower())\n",
    "\n",
    "Town = pd.Series(Town)\n",
    "Town = Town.str.capitalize()"
   ]
  },
  {
   "cell_type": "code",
   "execution_count": 10,
   "metadata": {},
   "outputs": [],
   "source": [
    "df['Town'] = Town"
   ]
  },
  {
   "cell_type": "code",
   "execution_count": 11,
   "metadata": {},
   "outputs": [
    {
     "data": {
      "text/html": [
       "<div>\n",
       "<style scoped>\n",
       "    .dataframe tbody tr th:only-of-type {\n",
       "        vertical-align: middle;\n",
       "    }\n",
       "\n",
       "    .dataframe tbody tr th {\n",
       "        vertical-align: top;\n",
       "    }\n",
       "\n",
       "    .dataframe thead th {\n",
       "        text-align: right;\n",
       "    }\n",
       "</style>\n",
       "<table border=\"1\" class=\"dataframe\">\n",
       "  <thead>\n",
       "    <tr style=\"text-align: right;\">\n",
       "      <th></th>\n",
       "      <th>Date</th>\n",
       "      <th>Address</th>\n",
       "      <th>County</th>\n",
       "      <th>Eircode</th>\n",
       "      <th>Not Full Market Price</th>\n",
       "      <th>VAT Exclusive</th>\n",
       "      <th>Description of Property</th>\n",
       "      <th>Property Size Description</th>\n",
       "      <th>Price</th>\n",
       "      <th>Town</th>\n",
       "    </tr>\n",
       "  </thead>\n",
       "  <tbody>\n",
       "    <tr>\n",
       "      <th>0</th>\n",
       "      <td>2010-01-01</td>\n",
       "      <td>5 Braemor Drive, Churchtown, Co.Dublin</td>\n",
       "      <td>Dublin</td>\n",
       "      <td>NaN</td>\n",
       "      <td>No</td>\n",
       "      <td>No</td>\n",
       "      <td>Second-Hand</td>\n",
       "      <td>NaN</td>\n",
       "      <td>343000.0</td>\n",
       "      <td>Churchtown</td>\n",
       "    </tr>\n",
       "    <tr>\n",
       "      <th>1</th>\n",
       "      <td>2010-03-01</td>\n",
       "      <td>134 Ashewood Walk, Summerhill Lane, Portlaoise</td>\n",
       "      <td>Laois</td>\n",
       "      <td>NaN</td>\n",
       "      <td>No</td>\n",
       "      <td>Yes</td>\n",
       "      <td>New</td>\n",
       "      <td>greater than or equal to 38 sq metres and less...</td>\n",
       "      <td>185000.0</td>\n",
       "      <td>Portlaoise</td>\n",
       "    </tr>\n",
       "    <tr>\n",
       "      <th>2</th>\n",
       "      <td>2010-04-01</td>\n",
       "      <td>1 Meadow Avenue, Dundrum, Dublin 14</td>\n",
       "      <td>Dublin</td>\n",
       "      <td>NaN</td>\n",
       "      <td>No</td>\n",
       "      <td>No</td>\n",
       "      <td>Second-Hand</td>\n",
       "      <td>NaN</td>\n",
       "      <td>438500.0</td>\n",
       "      <td>Dublin 14</td>\n",
       "    </tr>\n",
       "    <tr>\n",
       "      <th>3</th>\n",
       "      <td>2010-04-01</td>\n",
       "      <td>1 The Haven, Mornington</td>\n",
       "      <td>Meath</td>\n",
       "      <td>NaN</td>\n",
       "      <td>No</td>\n",
       "      <td>No</td>\n",
       "      <td>Second-Hand</td>\n",
       "      <td>NaN</td>\n",
       "      <td>400000.0</td>\n",
       "      <td>Mornington</td>\n",
       "    </tr>\n",
       "    <tr>\n",
       "      <th>4</th>\n",
       "      <td>2010-04-01</td>\n",
       "      <td>11 Melville Heights, Kilkenny</td>\n",
       "      <td>Kilkenny</td>\n",
       "      <td>NaN</td>\n",
       "      <td>No</td>\n",
       "      <td>No</td>\n",
       "      <td>Second-Hand</td>\n",
       "      <td>NaN</td>\n",
       "      <td>160000.0</td>\n",
       "      <td>melville heights</td>\n",
       "    </tr>\n",
       "  </tbody>\n",
       "</table>\n",
       "</div>"
      ],
      "text/plain": [
       "        Date                                         Address    County   \n",
       "0 2010-01-01          5 Braemor Drive, Churchtown, Co.Dublin    Dublin  \\\n",
       "1 2010-03-01  134 Ashewood Walk, Summerhill Lane, Portlaoise     Laois   \n",
       "2 2010-04-01             1 Meadow Avenue, Dundrum, Dublin 14    Dublin   \n",
       "3 2010-04-01                         1 The Haven, Mornington     Meath   \n",
       "4 2010-04-01                   11 Melville Heights, Kilkenny  Kilkenny   \n",
       "\n",
       "  Eircode Not Full Market Price VAT Exclusive Description of Property   \n",
       "0     NaN                    No            No             Second-Hand  \\\n",
       "1     NaN                    No           Yes                     New   \n",
       "2     NaN                    No            No             Second-Hand   \n",
       "3     NaN                    No            No             Second-Hand   \n",
       "4     NaN                    No            No             Second-Hand   \n",
       "\n",
       "                           Property Size Description     Price   \n",
       "0                                                NaN  343000.0  \\\n",
       "1  greater than or equal to 38 sq metres and less...  185000.0   \n",
       "2                                                NaN  438500.0   \n",
       "3                                                NaN  400000.0   \n",
       "4                                                NaN  160000.0   \n",
       "\n",
       "                Town  \n",
       "0         Churchtown  \n",
       "1         Portlaoise  \n",
       "2          Dublin 14  \n",
       "3         Mornington  \n",
       "4   melville heights  "
      ]
     },
     "execution_count": 11,
     "metadata": {},
     "output_type": "execute_result"
    }
   ],
   "source": [
    "df.head()"
   ]
  },
  {
   "cell_type": "code",
   "execution_count": 13,
   "metadata": {},
   "outputs": [],
   "source": [
    "df['year'] = pd.DatetimeIndex(df['Date']).year\n",
    "df['month'] = pd.DatetimeIndex(df['Date']).month"
   ]
  },
  {
   "cell_type": "code",
   "execution_count": 20,
   "metadata": {},
   "outputs": [
    {
     "data": {
      "text/plain": [
       "County   year\n",
       "Carlow   2010    157709.000\n",
       "         2011    127000.000\n",
       "         2012    100000.000\n",
       "         2013     90000.000\n",
       "         2014    110000.000\n",
       "                    ...    \n",
       "Wicklow  2020    315000.000\n",
       "         2021    371022.000\n",
       "         2022    383629.975\n",
       "         2023    396475.770\n",
       "         2024    400000.000\n",
       "Name: Price, Length: 390, dtype: float64"
      ]
     },
     "execution_count": 20,
     "metadata": {},
     "output_type": "execute_result"
    }
   ],
   "source": [
    "# Group the data by county and calculate the mean and median property prices\n",
    "county_stats = df.groupby(['County','year'])['Price'].agg('median')\n",
    "\n",
    "# Print the results\n",
    "county_stats"
   ]
  },
  {
   "cell_type": "code",
   "execution_count": 23,
   "metadata": {},
   "outputs": [
    {
     "data": {
      "text/plain": [
       "MultiIndex([( 'Carlow', 2010),\n",
       "            ( 'Carlow', 2011),\n",
       "            ( 'Carlow', 2012),\n",
       "            ( 'Carlow', 2013),\n",
       "            ( 'Carlow', 2014),\n",
       "            ( 'Carlow', 2015),\n",
       "            ( 'Carlow', 2016),\n",
       "            ( 'Carlow', 2017),\n",
       "            ( 'Carlow', 2018),\n",
       "            ( 'Carlow', 2019),\n",
       "            ...\n",
       "            ('Wicklow', 2015),\n",
       "            ('Wicklow', 2016),\n",
       "            ('Wicklow', 2017),\n",
       "            ('Wicklow', 2018),\n",
       "            ('Wicklow', 2019),\n",
       "            ('Wicklow', 2020),\n",
       "            ('Wicklow', 2021),\n",
       "            ('Wicklow', 2022),\n",
       "            ('Wicklow', 2023),\n",
       "            ('Wicklow', 2024)],\n",
       "           names=['County', 'year'], length=390)"
      ]
     },
     "execution_count": 23,
     "metadata": {},
     "output_type": "execute_result"
    }
   ],
   "source": [
    "county_stats.keys()"
   ]
  },
  {
   "cell_type": "code",
   "execution_count": 34,
   "metadata": {},
   "outputs": [
    {
     "data": {
      "text/plain": [
       "<bound method Series.keys of year\n",
       "2010    157709.00\n",
       "2011    127000.00\n",
       "2012    100000.00\n",
       "2013     90000.00\n",
       "2014    110000.00\n",
       "2015    118000.00\n",
       "2016    135000.00\n",
       "2017    137000.00\n",
       "2018    165000.00\n",
       "2019    168067.79\n",
       "2020    175000.00\n",
       "2021    190000.00\n",
       "2022    209500.00\n",
       "2023    229294.27\n",
       "2024    241455.50\n",
       "Name: Price, dtype: float64>"
      ]
     },
     "execution_count": 34,
     "metadata": {},
     "output_type": "execute_result"
    }
   ],
   "source": [
    "county_stats.get('Carlow').keys"
   ]
  },
  {
   "cell_type": "code",
   "execution_count": 16,
   "metadata": {},
   "outputs": [
    {
     "ename": "KeyError",
     "evalue": "'County'",
     "output_type": "error",
     "traceback": [
      "\u001b[0;31m---------------------------------------------------------------------------\u001b[0m",
      "\u001b[0;31mKeyError\u001b[0m                                  Traceback (most recent call last)",
      "File \u001b[0;32m~/opt/miniconda3/envs/SETU/lib/python3.11/site-packages/pandas/core/indexes/base.py:3652\u001b[0m, in \u001b[0;36mIndex.get_loc\u001b[0;34m(self, key)\u001b[0m\n\u001b[1;32m   3651\u001b[0m \u001b[38;5;28;01mtry\u001b[39;00m:\n\u001b[0;32m-> 3652\u001b[0m     \u001b[38;5;28;01mreturn\u001b[39;00m \u001b[38;5;28;43mself\u001b[39;49m\u001b[38;5;241;43m.\u001b[39;49m\u001b[43m_engine\u001b[49m\u001b[38;5;241;43m.\u001b[39;49m\u001b[43mget_loc\u001b[49m\u001b[43m(\u001b[49m\u001b[43mcasted_key\u001b[49m\u001b[43m)\u001b[49m\n\u001b[1;32m   3653\u001b[0m \u001b[38;5;28;01mexcept\u001b[39;00m \u001b[38;5;167;01mKeyError\u001b[39;00m \u001b[38;5;28;01mas\u001b[39;00m err:\n",
      "File \u001b[0;32m~/opt/miniconda3/envs/SETU/lib/python3.11/site-packages/pandas/_libs/index.pyx:147\u001b[0m, in \u001b[0;36mpandas._libs.index.IndexEngine.get_loc\u001b[0;34m()\u001b[0m\n",
      "File \u001b[0;32m~/opt/miniconda3/envs/SETU/lib/python3.11/site-packages/pandas/_libs/index.pyx:176\u001b[0m, in \u001b[0;36mpandas._libs.index.IndexEngine.get_loc\u001b[0;34m()\u001b[0m\n",
      "File \u001b[0;32mpandas/_libs/hashtable_class_helper.pxi:7080\u001b[0m, in \u001b[0;36mpandas._libs.hashtable.PyObjectHashTable.get_item\u001b[0;34m()\u001b[0m\n",
      "File \u001b[0;32mpandas/_libs/hashtable_class_helper.pxi:7088\u001b[0m, in \u001b[0;36mpandas._libs.hashtable.PyObjectHashTable.get_item\u001b[0;34m()\u001b[0m\n",
      "\u001b[0;31mKeyError\u001b[0m: 'County'",
      "\nThe above exception was the direct cause of the following exception:\n",
      "\u001b[0;31mKeyError\u001b[0m                                  Traceback (most recent call last)",
      "Cell \u001b[0;32mIn[16], line 1\u001b[0m\n\u001b[0;32m----> 1\u001b[0m county_stats[\u001b[43mcounty_stats\u001b[49m\u001b[43m[\u001b[49m\u001b[38;5;124;43m'\u001b[39;49m\u001b[38;5;124;43mCounty\u001b[39;49m\u001b[38;5;124;43m'\u001b[39;49m\u001b[43m]\u001b[49m\u001b[38;5;241m==\u001b[39m\u001b[38;5;124m'\u001b[39m\u001b[38;5;124mDublin\u001b[39m\u001b[38;5;124m'\u001b[39m]\n",
      "File \u001b[0;32m~/opt/miniconda3/envs/SETU/lib/python3.11/site-packages/pandas/core/frame.py:3761\u001b[0m, in \u001b[0;36mDataFrame.__getitem__\u001b[0;34m(self, key)\u001b[0m\n\u001b[1;32m   3759\u001b[0m \u001b[38;5;28;01mif\u001b[39;00m \u001b[38;5;28mself\u001b[39m\u001b[38;5;241m.\u001b[39mcolumns\u001b[38;5;241m.\u001b[39mnlevels \u001b[38;5;241m>\u001b[39m \u001b[38;5;241m1\u001b[39m:\n\u001b[1;32m   3760\u001b[0m     \u001b[38;5;28;01mreturn\u001b[39;00m \u001b[38;5;28mself\u001b[39m\u001b[38;5;241m.\u001b[39m_getitem_multilevel(key)\n\u001b[0;32m-> 3761\u001b[0m indexer \u001b[38;5;241m=\u001b[39m \u001b[38;5;28;43mself\u001b[39;49m\u001b[38;5;241;43m.\u001b[39;49m\u001b[43mcolumns\u001b[49m\u001b[38;5;241;43m.\u001b[39;49m\u001b[43mget_loc\u001b[49m\u001b[43m(\u001b[49m\u001b[43mkey\u001b[49m\u001b[43m)\u001b[49m\n\u001b[1;32m   3762\u001b[0m \u001b[38;5;28;01mif\u001b[39;00m is_integer(indexer):\n\u001b[1;32m   3763\u001b[0m     indexer \u001b[38;5;241m=\u001b[39m [indexer]\n",
      "File \u001b[0;32m~/opt/miniconda3/envs/SETU/lib/python3.11/site-packages/pandas/core/indexes/base.py:3654\u001b[0m, in \u001b[0;36mIndex.get_loc\u001b[0;34m(self, key)\u001b[0m\n\u001b[1;32m   3652\u001b[0m     \u001b[38;5;28;01mreturn\u001b[39;00m \u001b[38;5;28mself\u001b[39m\u001b[38;5;241m.\u001b[39m_engine\u001b[38;5;241m.\u001b[39mget_loc(casted_key)\n\u001b[1;32m   3653\u001b[0m \u001b[38;5;28;01mexcept\u001b[39;00m \u001b[38;5;167;01mKeyError\u001b[39;00m \u001b[38;5;28;01mas\u001b[39;00m err:\n\u001b[0;32m-> 3654\u001b[0m     \u001b[38;5;28;01mraise\u001b[39;00m \u001b[38;5;167;01mKeyError\u001b[39;00m(key) \u001b[38;5;28;01mfrom\u001b[39;00m \u001b[38;5;21;01merr\u001b[39;00m\n\u001b[1;32m   3655\u001b[0m \u001b[38;5;28;01mexcept\u001b[39;00m \u001b[38;5;167;01mTypeError\u001b[39;00m:\n\u001b[1;32m   3656\u001b[0m     \u001b[38;5;66;03m# If we have a listlike key, _check_indexing_error will raise\u001b[39;00m\n\u001b[1;32m   3657\u001b[0m     \u001b[38;5;66;03m#  InvalidIndexError. Otherwise we fall through and re-raise\u001b[39;00m\n\u001b[1;32m   3658\u001b[0m     \u001b[38;5;66;03m#  the TypeError.\u001b[39;00m\n\u001b[1;32m   3659\u001b[0m     \u001b[38;5;28mself\u001b[39m\u001b[38;5;241m.\u001b[39m_check_indexing_error(key)\n",
      "\u001b[0;31mKeyError\u001b[0m: 'County'"
     ]
    }
   ],
   "source": [
    "county_stats[county_stats['County']=='Dublin']"
   ]
  },
  {
   "cell_type": "code",
   "execution_count": null,
   "metadata": {},
   "outputs": [],
   "source": []
  }
 ],
 "metadata": {
  "kernelspec": {
   "display_name": "Python 3 (ipykernel)",
   "language": "python",
   "name": "python3"
  },
  "language_info": {
   "codemirror_mode": {
    "name": "ipython",
    "version": 3
   },
   "file_extension": ".py",
   "mimetype": "text/x-python",
   "name": "python",
   "nbconvert_exporter": "python",
   "pygments_lexer": "ipython3",
   "version": "3.11.0"
  }
 },
 "nbformat": 4,
 "nbformat_minor": 4
}
